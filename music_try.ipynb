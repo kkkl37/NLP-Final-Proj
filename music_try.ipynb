{
 "cells": [
  {
   "cell_type": "code",
   "execution_count": 1,
   "metadata": {},
   "outputs": [],
   "source": [
    "import pandas as pd\n",
    "import joblib\n",
    "import numpy as np\n",
    "import os\n",
    "import re\n",
    "import gensim\n",
    "import random\n",
    "from gensim.utils import simple_preprocess\n",
    "import nltk\n",
    "import gensim.corpora as corpora\n",
    "from pprint import pprint\n",
    "from nltk.corpus import stopwords\n",
    "from nltk.tokenize import word_tokenize\n",
    "from nltk.stem import WordNetLemmatizer\n",
    "from torchnlp.encoders.text import WhitespaceEncoder\n",
    "from sklearn.feature_extraction.text import CountVectorizer, TfidfVectorizer\n",
    "from sklearn.decomposition import LatentDirichletAllocation\n",
    "from sklearn.model_selection import train_test_split"
   ]
  },
  {
   "cell_type": "code",
   "execution_count": 2,
   "metadata": {},
   "outputs": [
    {
     "name": "stderr",
     "output_type": "stream",
     "text": [
      "/opt/miniconda3/lib/python3.10/site-packages/past/builtins/misc.py:45: DeprecationWarning: the imp module is deprecated in favour of importlib and slated for removal in Python 3.12; see the module's documentation for alternative uses\n",
      "  from imp import reload\n"
     ]
    }
   ],
   "source": [
    "# for visualization\n",
    "import pyLDAvis.gensim_models\n",
    "import pickle \n",
    "import pyLDAvis"
   ]
  },
  {
   "cell_type": "code",
   "execution_count": 3,
   "metadata": {},
   "outputs": [],
   "source": [
    "music = pd.read_csv('/Users/liuxiaoquan/Documents/703/Final_Project/tcc_ceds_music.csv')"
   ]
  },
  {
   "cell_type": "code",
   "execution_count": 4,
   "metadata": {},
   "outputs": [
    {
     "data": {
      "text/html": [
       "<div>\n",
       "<style scoped>\n",
       "    .dataframe tbody tr th:only-of-type {\n",
       "        vertical-align: middle;\n",
       "    }\n",
       "\n",
       "    .dataframe tbody tr th {\n",
       "        vertical-align: top;\n",
       "    }\n",
       "\n",
       "    .dataframe thead th {\n",
       "        text-align: right;\n",
       "    }\n",
       "</style>\n",
       "<table border=\"1\" class=\"dataframe\">\n",
       "  <thead>\n",
       "    <tr style=\"text-align: right;\">\n",
       "      <th></th>\n",
       "      <th>Unnamed: 0</th>\n",
       "      <th>artist_name</th>\n",
       "      <th>track_name</th>\n",
       "      <th>release_date</th>\n",
       "      <th>genre</th>\n",
       "      <th>lyrics</th>\n",
       "      <th>len</th>\n",
       "      <th>dating</th>\n",
       "      <th>violence</th>\n",
       "      <th>world/life</th>\n",
       "      <th>...</th>\n",
       "      <th>sadness</th>\n",
       "      <th>feelings</th>\n",
       "      <th>danceability</th>\n",
       "      <th>loudness</th>\n",
       "      <th>acousticness</th>\n",
       "      <th>instrumentalness</th>\n",
       "      <th>valence</th>\n",
       "      <th>energy</th>\n",
       "      <th>topic</th>\n",
       "      <th>age</th>\n",
       "    </tr>\n",
       "  </thead>\n",
       "  <tbody>\n",
       "    <tr>\n",
       "      <th>8499</th>\n",
       "      <td>24333</td>\n",
       "      <td>george jones</td>\n",
       "      <td>radio lover</td>\n",
       "      <td>1972</td>\n",
       "      <td>country</td>\n",
       "      <td>curly putman hellard jones speak kiss goodbye ...</td>\n",
       "      <td>125</td>\n",
       "      <td>0.000478</td>\n",
       "      <td>0.000478</td>\n",
       "      <td>0.032713</td>\n",
       "      <td>...</td>\n",
       "      <td>0.075688</td>\n",
       "      <td>0.022332</td>\n",
       "      <td>0.663165</td>\n",
       "      <td>0.507884</td>\n",
       "      <td>0.547188</td>\n",
       "      <td>0.000024</td>\n",
       "      <td>0.288953</td>\n",
       "      <td>0.294272</td>\n",
       "      <td>music</td>\n",
       "      <td>0.685714</td>\n",
       "    </tr>\n",
       "    <tr>\n",
       "      <th>15111</th>\n",
       "      <td>48277</td>\n",
       "      <td>sonic youth</td>\n",
       "      <td>self-obsessed and sexxee</td>\n",
       "      <td>1994</td>\n",
       "      <td>blues</td>\n",
       "      <td>remember arrive magic marker belly button alri...</td>\n",
       "      <td>73</td>\n",
       "      <td>0.050807</td>\n",
       "      <td>0.055624</td>\n",
       "      <td>0.101347</td>\n",
       "      <td>...</td>\n",
       "      <td>0.001032</td>\n",
       "      <td>0.001032</td>\n",
       "      <td>0.463880</td>\n",
       "      <td>0.624516</td>\n",
       "      <td>0.021987</td>\n",
       "      <td>0.000024</td>\n",
       "      <td>0.174567</td>\n",
       "      <td>0.658648</td>\n",
       "      <td>obscene</td>\n",
       "      <td>0.371429</td>\n",
       "    </tr>\n",
       "    <tr>\n",
       "      <th>6730</th>\n",
       "      <td>19300</td>\n",
       "      <td>rihanna</td>\n",
       "      <td>sex with me</td>\n",
       "      <td>2016</td>\n",
       "      <td>pop</td>\n",
       "      <td>amaze hard work vacation stay instagram pure t...</td>\n",
       "      <td>99</td>\n",
       "      <td>0.040663</td>\n",
       "      <td>0.001120</td>\n",
       "      <td>0.001120</td>\n",
       "      <td>...</td>\n",
       "      <td>0.001120</td>\n",
       "      <td>0.001120</td>\n",
       "      <td>0.603596</td>\n",
       "      <td>0.768377</td>\n",
       "      <td>0.327309</td>\n",
       "      <td>0.000000</td>\n",
       "      <td>0.377576</td>\n",
       "      <td>0.539525</td>\n",
       "      <td>obscene</td>\n",
       "      <td>0.057143</td>\n",
       "    </tr>\n",
       "  </tbody>\n",
       "</table>\n",
       "<p>3 rows × 31 columns</p>\n",
       "</div>"
      ],
      "text/plain": [
       "       Unnamed: 0   artist_name                track_name  release_date  \\\n",
       "8499        24333  george jones               radio lover          1972   \n",
       "15111       48277   sonic youth  self-obsessed and sexxee          1994   \n",
       "6730        19300       rihanna               sex with me          2016   \n",
       "\n",
       "         genre                                             lyrics  len  \\\n",
       "8499   country  curly putman hellard jones speak kiss goodbye ...  125   \n",
       "15111    blues  remember arrive magic marker belly button alri...   73   \n",
       "6730       pop  amaze hard work vacation stay instagram pure t...   99   \n",
       "\n",
       "         dating  violence  world/life  ...   sadness  feelings  danceability  \\\n",
       "8499   0.000478  0.000478    0.032713  ...  0.075688  0.022332      0.663165   \n",
       "15111  0.050807  0.055624    0.101347  ...  0.001032  0.001032      0.463880   \n",
       "6730   0.040663  0.001120    0.001120  ...  0.001120  0.001120      0.603596   \n",
       "\n",
       "       loudness  acousticness  instrumentalness   valence    energy    topic  \\\n",
       "8499   0.507884      0.547188          0.000024  0.288953  0.294272    music   \n",
       "15111  0.624516      0.021987          0.000024  0.174567  0.658648  obscene   \n",
       "6730   0.768377      0.327309          0.000000  0.377576  0.539525  obscene   \n",
       "\n",
       "            age  \n",
       "8499   0.685714  \n",
       "15111  0.371429  \n",
       "6730   0.057143  \n",
       "\n",
       "[3 rows x 31 columns]"
      ]
     },
     "execution_count": 4,
     "metadata": {},
     "output_type": "execute_result"
    }
   ],
   "source": [
    "music.sample(3)"
   ]
  },
  {
   "cell_type": "code",
   "execution_count": 5,
   "metadata": {},
   "outputs": [
    {
     "data": {
      "text/plain": [
       "(28372, 31)"
      ]
     },
     "execution_count": 5,
     "metadata": {},
     "output_type": "execute_result"
    }
   ],
   "source": [
    "music.shape"
   ]
  },
  {
   "cell_type": "code",
   "execution_count": 6,
   "metadata": {},
   "outputs": [],
   "source": [
    "music1 = music.loc[:,['genre','lyrics']]"
   ]
  },
  {
   "cell_type": "code",
   "execution_count": 7,
   "metadata": {},
   "outputs": [
    {
     "data": {
      "text/html": [
       "<div>\n",
       "<style scoped>\n",
       "    .dataframe tbody tr th:only-of-type {\n",
       "        vertical-align: middle;\n",
       "    }\n",
       "\n",
       "    .dataframe tbody tr th {\n",
       "        vertical-align: top;\n",
       "    }\n",
       "\n",
       "    .dataframe thead th {\n",
       "        text-align: right;\n",
       "    }\n",
       "</style>\n",
       "<table border=\"1\" class=\"dataframe\">\n",
       "  <thead>\n",
       "    <tr style=\"text-align: right;\">\n",
       "      <th></th>\n",
       "      <th>genre</th>\n",
       "      <th>lyrics</th>\n",
       "    </tr>\n",
       "  </thead>\n",
       "  <tbody>\n",
       "    <tr>\n",
       "      <th>3506</th>\n",
       "      <td>pop</td>\n",
       "      <td>good thing life go away know go away know foll...</td>\n",
       "    </tr>\n",
       "    <tr>\n",
       "      <th>2143</th>\n",
       "      <td>pop</td>\n",
       "      <td>alright come pray hurray hurray wear smoke cig...</td>\n",
       "    </tr>\n",
       "    <tr>\n",
       "      <th>7625</th>\n",
       "      <td>country</td>\n",
       "      <td>free burden power blood power blood evil victo...</td>\n",
       "    </tr>\n",
       "  </tbody>\n",
       "</table>\n",
       "</div>"
      ],
      "text/plain": [
       "        genre                                             lyrics\n",
       "3506      pop  good thing life go away know go away know foll...\n",
       "2143      pop  alright come pray hurray hurray wear smoke cig...\n",
       "7625  country  free burden power blood power blood evil victo..."
      ]
     },
     "execution_count": 7,
     "metadata": {},
     "output_type": "execute_result"
    }
   ],
   "source": [
    "music1.sample(3)"
   ]
  },
  {
   "cell_type": "markdown",
   "metadata": {},
   "source": [
    "> 7 genre in totall"
   ]
  },
  {
   "cell_type": "code",
   "execution_count": 8,
   "metadata": {},
   "outputs": [
    {
     "data": {
      "text/plain": [
       "array(['pop', 'country', 'blues', 'jazz', 'reggae', 'rock', 'hip hop'],\n",
       "      dtype=object)"
      ]
     },
     "execution_count": 8,
     "metadata": {},
     "output_type": "execute_result"
    }
   ],
   "source": [
    "music1['genre'].unique()"
   ]
  },
  {
   "cell_type": "code",
   "execution_count": 9,
   "metadata": {},
   "outputs": [],
   "source": [
    "# remove puntuation\n",
    "music1['final_lyrics'] = music1['lyrics'].map(lambda x : re.sub(r\"\"\"[!\"#\\$%&'\\(\\)\\*\\+,-\\./:;\\<=\\>?\\[\\]\\^_`\\{\\|\\}~“”’]\"\"\", '', x))\n",
    "#lower case\n",
    "music1['final_lyrics'] = music1['final_lyrics'].map(lambda x: x.lower())\n",
    "#remove double space\n",
    "music1['final_lyrics'] = music1[\"final_lyrics\"].str.replace(r\"\\s+\", \" \", regex=True).str.strip()"
   ]
  },
  {
   "cell_type": "code",
   "execution_count": 10,
   "metadata": {},
   "outputs": [],
   "source": [
    "lemmatizer = WordNetLemmatizer()\n",
    "music1['final_lyrics'] = music1['final_lyrics'].map(lambda x: ' '.join([lemmatizer.lemmatize(word, pos='v') for word in x.split()]))"
   ]
  },
  {
   "cell_type": "code",
   "execution_count": 11,
   "metadata": {},
   "outputs": [
    {
     "name": "stderr",
     "output_type": "stream",
     "text": [
      "[nltk_data] Downloading package stopwords to\n",
      "[nltk_data]     /Users/liuxiaoquan/nltk_data...\n",
      "[nltk_data]   Package stopwords is already up-to-date!\n"
     ]
    }
   ],
   "source": [
    "nltk.download('stopwords')\n",
    "stop_words = stopwords.words('english')\n",
    "#ADD 'im', 'dont','yeah' to stop words if make sense\n",
    "#stop_words.extend(['oh','ohh','im', 'dont','yeah'])\n",
    "rm_words = set(stop_words)\n",
    "music1[\"rm_ly\"] = music1[\"final_lyrics\"].str.split().apply(lambda x: \" \".join(word for word in x if word not in rm_words))"
   ]
  },
  {
   "cell_type": "code",
   "execution_count": 12,
   "metadata": {},
   "outputs": [],
   "source": [
    "music_clean = music1.loc[:,['genre','rm_ly']]"
   ]
  },
  {
   "cell_type": "code",
   "execution_count": 13,
   "metadata": {},
   "outputs": [
    {
     "data": {
      "text/html": [
       "<div>\n",
       "<style scoped>\n",
       "    .dataframe tbody tr th:only-of-type {\n",
       "        vertical-align: middle;\n",
       "    }\n",
       "\n",
       "    .dataframe tbody tr th {\n",
       "        vertical-align: top;\n",
       "    }\n",
       "\n",
       "    .dataframe thead th {\n",
       "        text-align: right;\n",
       "    }\n",
       "</style>\n",
       "<table border=\"1\" class=\"dataframe\">\n",
       "  <thead>\n",
       "    <tr style=\"text-align: right;\">\n",
       "      <th></th>\n",
       "      <th>genre</th>\n",
       "      <th>rm_ly</th>\n",
       "    </tr>\n",
       "  </thead>\n",
       "  <tbody>\n",
       "    <tr>\n",
       "      <th>892</th>\n",
       "      <td>pop</td>\n",
       "      <td>heart days brighter heart feel lighter wrong r...</td>\n",
       "    </tr>\n",
       "    <tr>\n",
       "      <th>20693</th>\n",
       "      <td>jazz</td>\n",
       "      <td>quick think good true worst best things foreve...</td>\n",
       "    </tr>\n",
       "    <tr>\n",
       "      <th>16564</th>\n",
       "      <td>blues</td>\n",
       "      <td>mouth push hear heart pound hero voice scream ...</td>\n",
       "    </tr>\n",
       "  </tbody>\n",
       "</table>\n",
       "</div>"
      ],
      "text/plain": [
       "       genre                                              rm_ly\n",
       "892      pop  heart days brighter heart feel lighter wrong r...\n",
       "20693   jazz  quick think good true worst best things foreve...\n",
       "16564  blues  mouth push hear heart pound hero voice scream ..."
      ]
     },
     "execution_count": 13,
     "metadata": {},
     "output_type": "execute_result"
    }
   ],
   "source": [
    "music_clean.sample(3)"
   ]
  },
  {
   "cell_type": "code",
   "execution_count": 14,
   "metadata": {},
   "outputs": [],
   "source": [
    "def sent_to_words(sentences):\n",
    "    for sentence in sentences:\n",
    "        yield(gensim.utils.simple_preprocess(str(sentence), deacc=True))  # deacc=True removes punctuations"
   ]
  },
  {
   "cell_type": "markdown",
   "metadata": {},
   "source": [
    "# Split train and test"
   ]
  },
  {
   "cell_type": "code",
   "execution_count": 15,
   "metadata": {},
   "outputs": [],
   "source": [
    "xtrain, xtest, ytrain, ytest = train_test_split(\n",
    "    music_clean[\"rm_ly\"].to_frame(), music_clean[\"genre\"], test_size=0.2, random_state=42)"
   ]
  },
  {
   "cell_type": "code",
   "execution_count": 16,
   "metadata": {},
   "outputs": [
    {
     "data": {
      "text/html": [
       "<div>\n",
       "<style scoped>\n",
       "    .dataframe tbody tr th:only-of-type {\n",
       "        vertical-align: middle;\n",
       "    }\n",
       "\n",
       "    .dataframe tbody tr th {\n",
       "        vertical-align: top;\n",
       "    }\n",
       "\n",
       "    .dataframe thead th {\n",
       "        text-align: right;\n",
       "    }\n",
       "</style>\n",
       "<table border=\"1\" class=\"dataframe\">\n",
       "  <thead>\n",
       "    <tr style=\"text-align: right;\">\n",
       "      <th></th>\n",
       "      <th>rm_ly</th>\n",
       "    </tr>\n",
       "  </thead>\n",
       "  <tbody>\n",
       "    <tr>\n",
       "      <th>12548</th>\n",
       "      <td>close nights morose beguine begin future look ...</td>\n",
       "    </tr>\n",
       "    <tr>\n",
       "      <th>8688</th>\n",
       "      <td>struttin stuff struttin stuff struttin stuff s...</td>\n",
       "    </tr>\n",
       "    <tr>\n",
       "      <th>17255</th>\n",
       "      <td>remember remember remember remember moon look ...</td>\n",
       "    </tr>\n",
       "    <tr>\n",
       "      <th>3737</th>\n",
       "      <td>russia wiser goodbye travel world learn return...</td>\n",
       "    </tr>\n",
       "    <tr>\n",
       "      <th>19343</th>\n",
       "      <td>good good good good good good good good good g...</td>\n",
       "    </tr>\n",
       "  </tbody>\n",
       "</table>\n",
       "</div>"
      ],
      "text/plain": [
       "                                                   rm_ly\n",
       "12548  close nights morose beguine begin future look ...\n",
       "8688   struttin stuff struttin stuff struttin stuff s...\n",
       "17255  remember remember remember remember moon look ...\n",
       "3737   russia wiser goodbye travel world learn return...\n",
       "19343  good good good good good good good good good g..."
      ]
     },
     "execution_count": 16,
     "metadata": {},
     "output_type": "execute_result"
    }
   ],
   "source": [
    "xtrain.head(5)"
   ]
  },
  {
   "cell_type": "code",
   "execution_count": 17,
   "metadata": {},
   "outputs": [
    {
     "data": {
      "text/plain": [
       "12548      blues\n",
       "8688     country\n",
       "17255       jazz\n",
       "3737         pop\n",
       "19343       jazz\n",
       "Name: genre, dtype: object"
      ]
     },
     "execution_count": 17,
     "metadata": {},
     "output_type": "execute_result"
    }
   ],
   "source": [
    "ytrain.head(5)"
   ]
  },
  {
   "cell_type": "code",
   "execution_count": 18,
   "metadata": {},
   "outputs": [
    {
     "name": "stdout",
     "output_type": "stream",
     "text": [
      "[['close', 'nights', 'morose', 'beguine', 'begin', 'future', 'look', 'allibied', 'moment', 'dear', 'dear', 'moment', 'blue', 'songs', 'whoop', 'songs', 'moment', 'need', 'skin', 'touch', 'arm', 'hold', 'tight', 'sweet', 'lips', 'kiss', 'goodnight', 'moment', 'babe', 'ridin', 'high', 'babe', 'care', 'go', 'moment']]\n"
     ]
    }
   ],
   "source": [
    "data_words = list(sent_to_words(xtrain['rm_ly']))\n",
    "print(data_words[:1])"
   ]
  },
  {
   "cell_type": "markdown",
   "metadata": {},
   "source": [
    "> For each document we create a dictionary reporting how many words and how many times those words appear. Save this to ‘id2word’"
   ]
  },
  {
   "cell_type": "code",
   "execution_count": 19,
   "metadata": {},
   "outputs": [
    {
     "name": "stdout",
     "output_type": "stream",
     "text": [
      "[[(0, 1), (1, 1), (2, 2), (3, 1), (4, 1), (5, 1), (6, 1), (7, 1), (8, 2), (9, 1), (10, 1), (11, 1), (12, 1), (13, 1), (14, 1), (15, 1), (16, 1), (17, 5), (18, 1), (19, 1), (20, 1), (21, 1), (22, 1), (23, 2), (24, 1), (25, 1), (26, 1), (27, 1)]]\n"
     ]
    }
   ],
   "source": [
    "#create dictionary\n",
    "id2word = corpora.Dictionary(data_words)\n",
    "# Create Corpus\n",
    "texts = data_words\n",
    "# Term Document Frequency\n",
    "corpus = [id2word.doc2bow(text) for text in texts]\n",
    "# View\n",
    "print(corpus[:1])"
   ]
  },
  {
   "cell_type": "code",
   "execution_count": 20,
   "metadata": {},
   "outputs": [
    {
     "name": "stdout",
     "output_type": "stream",
     "text": [
      "[(0,\n",
      "  '0.029*\"like\" + 0.015*\"bitch\" + 0.013*\"fuck\" + 0.012*\"shit\" + 0.011*\"nigga\" '\n",
      "  '+ 0.009*\"know\" + 0.008*\"niggas\" + 0.008*\"come\" + 0.007*\"time\" + '\n",
      "  '0.006*\"yeah\"'),\n",
      " (1,\n",
      "  '0.053*\"life\" + 0.025*\"dream\" + 0.024*\"come\" + 0.024*\"live\" + 0.021*\"want\" + '\n",
      "  '0.019*\"know\" + 0.017*\"mind\" + 0.017*\"time\" + 0.014*\"sweet\" + 0.012*\"love\"'),\n",
      " (2,\n",
      "  '0.035*\"time\" + 0.034*\"heart\" + 0.030*\"know\" + 0.025*\"go\" + 0.025*\"feel\" + '\n",
      "  '0.022*\"away\" + 0.021*\"long\" + 0.021*\"break\" + 0.018*\"baby\" + 0.017*\"leave\"'),\n",
      " (3,\n",
      "  '0.040*\"sing\" + 0.034*\"song\" + 0.029*\"play\" + 0.022*\"hear\" + 0.016*\"ready\" + '\n",
      "  '0.016*\"woman\" + 0.015*\"music\" + 0.011*\"fool\" + 0.010*\"summer\" + '\n",
      "  '0.009*\"come\"'),\n",
      " (4,\n",
      "  '0.029*\"yeah\" + 0.026*\"good\" + 0.025*\"right\" + 0.020*\"like\" + 0.019*\"know\" + '\n",
      "  '0.018*\"better\" + 0.017*\"money\" + 0.016*\"cause\" + 0.015*\"baby\" + '\n",
      "  '0.014*\"time\"'),\n",
      " (5,\n",
      "  '0.019*\"like\" + 0.016*\"world\" + 0.016*\"away\" + 0.012*\"believe\" + '\n",
      "  '0.012*\"know\" + 0.011*\"head\" + 0.010*\"come\" + 0.009*\"black\" + 0.008*\"yeah\" + '\n",
      "  '0.008*\"change\"'),\n",
      " (6,\n",
      "  '0.017*\"come\" + 0.016*\"fall\" + 0.015*\"hold\" + 0.013*\"night\" + 0.012*\"know\" + '\n",
      "  '0.010*\"home\" + 0.010*\"hand\" + 0.010*\"tonight\" + 0.009*\"gonna\" + '\n",
      "  '0.008*\"blue\"')]\n"
     ]
    }
   ],
   "source": [
    "#number of topics\n",
    "num_topics = 7\n",
    "# Build LDA model\n",
    "lda_model = gensim.models.ldamodel.LdaModel(corpus=corpus,id2word=id2word,num_topics=num_topics,random_state=42)\n",
    "# Print the Keyword in the 7 topics\n",
    "pprint(lda_model.print_topics())\n",
    "doc_lda = lda_model[corpus]"
   ]
  },
  {
   "cell_type": "code",
   "execution_count": 21,
   "metadata": {},
   "outputs": [
    {
     "data": {
      "text/html": [
       "\n",
       "<link rel=\"stylesheet\" type=\"text/css\" href=\"https://cdn.jsdelivr.net/gh/bmabey/pyLDAvis@3.3.1/pyLDAvis/js/ldavis.v1.0.0.css\">\n",
       "\n",
       "\n",
       "<div id=\"ldavis_el3080116568140801318193575\"></div>\n",
       "<script type=\"text/javascript\">\n",
       "\n",
       "var ldavis_el3080116568140801318193575_data = {\"mdsDat\": {\"x\": [-0.09202421862565262, -0.1076851149173926, 0.0326520359991861, 0.18853872977282102, 0.11454909033091752, -0.10606699354518663, -0.02996352901469283], \"y\": [-0.01239988937227266, -0.0856298840177196, -0.009478942710393658, -0.005058693022935211, -0.06617196007084769, -0.05041442507573667, 0.2291537942699053], \"topics\": [1, 2, 3, 4, 5, 6, 7], \"cluster\": [1, 1, 1, 1, 1, 1, 1], \"Freq\": [20.8025339780847, 19.312628396477955, 14.193048834610991, 13.898886977748298, 13.72111304319244, 11.10861048576153, 6.963178284124096]}, \"tinfo\": {\"Term\": [\"life\", \"sing\", \"heart\", \"song\", \"play\", \"dream\", \"good\", \"hear\", \"money\", \"live\", \"away\", \"bitch\", \"right\", \"baby\", \"break\", \"long\", \"time\", \"yeah\", \"fuck\", \"better\", \"world\", \"ready\", \"sweet\", \"woman\", \"shit\", \"fall\", \"music\", \"nigga\", \"mind\", \"go\", \"levee\", \"jerusalem\", \"vampire\", \"unfair\", \"honour\", \"creepin\", \"worm\", \"aaah\", \"broadway\", \"starlight\", \"tearin\", \"unlearn\", \"electricity\", \"beckon\", \"brightly\", \"fists\", \"unleash\", \"petals\", \"mucho\", \"hustlin\", \"nearer\", \"alligator\", \"alamo\", \"evenin\", \"ribbon\", \"mystic\", \"indigo\", \"hooker\", \"puddle\", \"ahah\", \"rejection\", \"neath\", \"blanket\", \"weary\", \"sinner\", \"shrine\", \"devil\", \"bloom\", \"sweeter\", \"badly\", \"shoo\", \"bawl\", \"fever\", \"weep\", \"daylight\", \"tonight\", \"fall\", \"oohooh\", \"thee\", \"goodnight\", \"cold\", \"blue\", \"bone\", \"silent\", \"blood\", \"hold\", \"rain\", \"death\", \"crawl\", \"sleep\", \"home\", \"heaven\", \"burn\", \"lord\", \"stand\", \"hide\", \"river\", \"bleed\", \"grave\", \"save\", \"soul\", \"hand\", \"fight\", \"night\", \"tear\", \"inside\", \"eye\", \"morning\", \"gonna\", \"come\", \"hell\", \"fear\", \"light\", \"remember\", \"know\", \"leave\", \"heart\", \"look\", \"time\", \"go\", \"away\", \"like\", \"tell\", \"runaway\", \"splendor\", \"flashback\", \"increase\", \"homeland\", \"fountain\", \"possession\", \"whoaohohoh\", \"jelly\", \"harsh\", \"jade\", \"oyster\", \"conversations\", \"cherokee\", \"unusual\", \"explosion\", \"survivor\", \"fighter\", \"lament\", \"labor\", \"fin\", \"superstitious\", \"freckle\", \"tobacco\", \"fascination\", \"lalalalala\", \"doobie\", \"bouquet\", \"fallout\", \"hangover\", \"hurt\", \"goodbyes\", \"cincinnati\", \"mambo\", \"lonely\", \"cloudy\", \"rendezvous\", \"lonesome\", \"goodbye\", \"september\", \"heart\", \"faceless\", \"long\", \"break\", \"miss\", \"yesterday\", \"apart\", \"feel\", \"disconnect\", \"go\", \"hearted\", \"time\", \"anymore\", \"nights\", \"kiss\", \"away\", \"leave\", \"baby\", \"memory\", \"sorry\", \"piece\", \"moment\", \"stay\", \"forever\", \"start\", \"walk\", \"know\", \"darling\", \"take\", \"arm\", \"need\", \"tear\", \"night\", \"cry\", \"true\", \"lose\", \"tell\", \"think\", \"like\", \"cause\", \"want\", \"look\", \"turn\", \"right\", \"come\", \"yeah\", \"cello\", \"hush\", \"badass\", \"peas\", \"superman\", \"domain\", \"firm\", \"superhero\", \"invitation\", \"speakin\", \"apartment\", \"byebye\", \"pattern\", \"hummin\", \"reconnect\", \"meditation\", \"passionate\", \"whassup\", \"zoom\", \"baggage\", \"healin\", \"mecca\", \"diggy\", \"triangle\", \"suburban\", \"adrenaline\", \"courageous\", \"unafraid\", \"yout\", \"accustom\", \"booty\", \"billion\", \"sisters\", \"irish\", \"bumpin\", \"mirage\", \"diggers\", \"babylon\", \"supersonic\", \"gimme\", \"celebrate\", \"hammer\", \"emergency\", \"replay\", \"ghetto\", \"leggo\", \"brothers\", \"shut\", \"nation\", \"believe\", \"black\", \"social\", \"world\", \"universe\", \"forth\", \"head\", \"people\", \"raindrops\", \"party\", \"paper\", \"race\", \"mouth\", \"change\", \"away\", \"million\", \"coast\", \"like\", \"brother\", \"hate\", \"reason\", \"days\", \"comin\", \"stand\", \"know\", \"live\", \"give\", \"yeah\", \"come\", \"cause\", \"go\", \"want\", \"look\", \"face\", \"tell\", \"think\", \"need\", \"place\", \"say\", \"hand\", \"feel\", \"life\", \"time\", \"major\", \"oohoohooh\", \"anticipation\", \"sauce\", \"beloved\", \"gravy\", \"msayin\", \"fabulous\", \"killa\", \"flea\", \"fireball\", \"thangs\", \"highly\", \"boyz\", \"gangster\", \"infrared\", \"mistreat\", \"buildin\", \"artists\", \"oxygen\", \"oohoohoohooh\", \"dynasty\", \"consciousness\", \"grail\", \"outchea\", \"hottest\", \"champ\", \"dot\", \"injure\", \"headaches\", \"skrt\", \"dude\", \"bruh\", \"hardcore\", \"halloween\", \"bitch\", \"wassup\", \"skate\", \"pussy\", \"niggas\", \"nigga\", \"block\", \"america\", \"hoe\", \"super\", \"blunt\", \"voodoo\", \"gang\", \"boom\", \"motherfuckin\", \"freak\", \"bust\", \"dope\", \"shit\", \"bang\", \"cop\", \"suck\", \"fresh\", \"fuck\", \"main\", \"lean\", \"smoke\", \"holy\", \"kick\", \"hood\", \"weed\", \"like\", \"dirty\", \"dead\", \"brain\", \"beat\", \"pull\", \"drop\", \"white\", \"kill\", \"blow\", \"street\", \"tryna\", \"game\", \"come\", \"know\", \"yeah\", \"time\", \"real\", \"cause\", \"high\", \"walk\", \"want\", \"wanna\", \"turn\", \"play\", \"cookin\", \"interest\", \"spiders\", \"landscape\", \"blah\", \"ashanti\", \"stave\", \"wastin\", \"woahohohoh\", \"manners\", \"eatin\", \"catchin\", \"tock\", \"random\", \"wavelength\", \"videos\", \"loser\", \"muthafuckin\", \"hunnid\", \"vans\", \"paintin\", \"bada\", \"puppet\", \"grande\", \"chevrolet\", \"looky\", \"excitations\", \"gorgeous\", \"homesick\", \"casket\", \"doin\", \"talkin\", \"somethin\", \"gucci\", \"money\", \"bumper\", \"pushin\", \"lookin\", \"nothin\", \"rockin\", \"kitchen\", \"sayin\", \"cadillac\", \"workin\", \"drinkin\", \"givin\", \"gettin\", \"shawty\", \"good\", \"bout\", \"whatcha\", \"sittin\", \"cept\", \"better\", \"goin\", \"thinkin\", \"gotta\", \"right\", \"havin\", \"yeah\", \"damn\", \"tryin\", \"runnin\", \"outta\", \"walkin\", \"waitin\", \"girl\", \"talk\", \"feelin\", \"cause\", \"wanna\", \"baby\", \"comin\", \"gonna\", \"like\", \"fuck\", \"know\", \"tell\", \"time\", \"stop\", \"little\", \"want\", \"think\", \"look\", \"come\", \"need\", \"shit\", \"feel\", \"puppy\", \"tonk\", \"dearest\", \"potions\", \"equally\", \"unconscious\", \"meck\", \"guru\", \"delicious\", \"loverman\", \"sweethearts\", \"neverending\", \"uncertain\", \"happiest\", \"honky\", \"donkey\", \"landslide\", \"lifestyles\", \"specialist\", \"hmmmm\", \"emerge\", \"hosanna\", \"herbalist\", \"voyage\", \"nothings\", \"futures\", \"nightingale\", \"yeahhh\", \"fantastic\", \"reconsider\", \"isolation\", \"inbetween\", \"pree\", \"fortyfive\", \"blueberry\", \"brokenhearted\", \"peach\", \"lover\", \"life\", \"yeahyeah\", \"dream\", \"hurry\", \"sweet\", \"alive\", \"love\", \"lifetime\", \"wonderful\", \"vibes\", \"imagination\", \"somebody\", \"live\", \"mind\", \"share\", \"search\", \"thrill\", \"belong\", \"true\", \"change\", \"want\", \"wait\", \"simple\", \"christmas\", \"things\", \"come\", \"everyday\", \"happiness\", \"satisfy\", \"world\", \"wanna\", \"know\", \"think\", \"time\", \"spend\", \"girl\", \"need\", \"promise\", \"wish\", \"like\", \"baby\", \"yeah\", \"hold\", \"feel\", \"tell\", \"look\", \"cause\", \"bambalam\", \"tambourine\", \"dynamite\", \"mississippi\", \"chiquitita\", \"complexion\", \"tequila\", \"uhoh\", \"jellyfish\", \"radical\", \"pearly\", \"shorter\", \"melancholy\", \"slate\", \"bluebirds\", \"finer\", \"harp\", \"rubadub\", \"hark\", \"wondrous\", \"cowboys\", \"jangle\", \"squat\", \"reckon\", \"magnolia\", \"sufferer\", \"ramblin\", \"maid\", \"woohoo\", \"percussion\", \"saviour\", \"dancer\", \"fiddle\", \"sing\", \"louisiana\", \"serenade\", \"song\", \"guitar\", \"songs\", \"draft\", \"ding\", \"music\", \"summer\", \"ohoh\", \"alabama\", \"feat\", \"ready\", \"woman\", \"rugged\", \"play\", \"funky\", \"bell\", \"singin\", \"bass\", \"tune\", \"spring\", \"radio\", \"reggae\", \"cheer\", \"hear\", \"band\", \"shoot\", \"ring\", \"fool\", \"listen\", \"call\", \"sound\", \"loud\", \"learn\", \"wish\", \"dance\", \"write\", \"breathe\", \"teach\", \"word\", \"blue\", \"come\", \"know\", \"game\", \"like\", \"bring\", \"go\", \"say\"], \"Freq\": [13254.0, 4982.0, 13975.0, 4517.0, 5756.0, 6278.0, 8165.0, 6780.0, 4122.0, 9900.0, 13704.0, 3555.0, 11220.0, 11822.0, 8925.0, 8916.0, 22926.0, 14666.0, 5034.0, 5871.0, 7938.0, 2620.0, 3956.0, 2644.0, 3999.0, 7092.0, 2221.0, 2998.0, 7078.0, 14206.0, 196.22735544064895, 237.77345732208087, 118.33698027154162, 91.43067501524139, 141.58922617725335, 96.56252295909034, 91.68486767756933, 132.39182907669309, 75.16819460232304, 102.31222795000326, 56.323694070557096, 56.079015709735515, 53.457942644254814, 49.57583877969597, 49.495691618184, 46.710052502472415, 49.135178752471276, 47.852057448011806, 46.23699605457693, 48.224603838968314, 370.33501038535263, 42.85813949313836, 88.80507630869879, 43.38158041578233, 42.39606606414556, 56.95262375317844, 37.64319948493022, 41.158270872147575, 49.51965411590776, 55.34874452676778, 141.81030050696992, 83.61920943688332, 69.835829393603, 225.4372070187506, 112.13760877960756, 84.94810493707773, 1302.0664245796388, 187.50642022086245, 186.63988691443706, 72.02944097361377, 59.48923312161289, 69.68594553863232, 345.80705148530257, 308.9013597282064, 271.94058360069346, 3385.072930222676, 5319.5662377563185, 136.42291565097267, 476.9345787550213, 215.7977010883815, 2119.984966123742, 2905.7750208797684, 939.0779485681074, 270.951614029148, 1457.8013708499004, 5102.802907256236, 1872.350171778714, 1084.9970432463801, 464.40808225118815, 1832.8503367608716, 3553.6819262984745, 966.9542246651586, 1878.9195106934308, 1501.5914936796066, 2825.5336224766857, 1685.8433357242748, 640.1169876670982, 582.6338781264765, 396.6071881930594, 1374.3920834479277, 1855.095978528876, 3458.242180533789, 1883.693330144383, 4333.395892207202, 2427.3305807265133, 2259.1238638562168, 2863.8605547179322, 1219.0190291441204, 3175.1526478155483, 5934.546470715833, 1295.003198323514, 1083.3426799711601, 1684.989707216125, 1687.8789481633623, 4267.957094018607, 2384.0040747237417, 2341.8546137784933, 1900.958675689027, 2520.7335988226305, 2093.5736236087064, 1997.2748325069658, 2094.4860406423336, 1694.0420249101467, 134.17603019712266, 102.31618047384745, 85.97318122675917, 72.06814775138456, 72.08200024982581, 59.21540496841163, 92.20951408857869, 52.28694637366283, 41.17732119985071, 42.821104793662556, 38.548826953580274, 45.686325619901915, 35.271225060130526, 40.30863042172436, 32.377994176982945, 31.206697719694116, 33.55846554565177, 30.48256148361006, 28.907730699857105, 28.452049597479018, 29.608116164089196, 27.24926493677645, 58.38805444589373, 26.471542133899405, 50.255694948075465, 30.303546713963925, 27.187446371410267, 55.93372636370891, 27.636758190220775, 25.91812395918586, 2791.2272043152484, 113.43625626460174, 58.20751437611893, 77.8224857725457, 2738.0037329068277, 95.1477135927923, 74.09413458046723, 469.54365855593926, 1240.239764265707, 187.8736758164508, 10672.678454711331, 67.47620398130675, 6584.79068983649, 6552.3811127026, 1873.2291859714353, 1099.1837800179271, 1244.734093449672, 8013.004078676169, 146.77723712251378, 8058.919421177208, 101.12986674347367, 11246.623785763704, 637.6339513532722, 754.8373476544365, 2032.8336332771923, 6956.719281578778, 5350.2058879775, 5678.089284595898, 812.1922562356041, 576.4528505099546, 818.0820224197043, 765.4115046627766, 2890.057186547747, 1262.7920199862704, 2398.153996253562, 2622.501868986771, 9411.29570111303, 796.9998971843652, 2192.990664464714, 1123.0229083464376, 3136.214965295262, 1870.7163788067417, 2972.4747175339653, 1315.6575542978305, 1625.111775572556, 1944.3841226694228, 2630.251355041686, 2646.0115324874896, 4370.2711443508715, 2853.4774943275447, 2510.041878758461, 2015.104949706549, 1768.935486235624, 2171.2570789223, 2246.809317227583, 1990.2071706463125, 215.9682686079162, 134.03019442817802, 209.64012374086244, 167.88227819002853, 79.20275826620502, 70.76695963842346, 78.6955074610311, 61.823271598681856, 55.43770647039016, 52.89290938033379, 64.22925663387026, 52.427711511395415, 48.33880737145816, 47.925533669183466, 76.25041795072609, 46.61410707804234, 51.95385848239822, 50.5818118023993, 95.56438724090856, 44.446149135005214, 47.0549903332833, 55.62456009853592, 79.82463219579995, 46.91078748602392, 42.41862354171362, 44.33065302152019, 45.99217200524449, 48.850378962972265, 49.30961197278063, 38.279116607664825, 224.6875610929147, 109.8657688182206, 226.36895841127958, 59.625852822367605, 99.12748701042808, 83.36540110887258, 82.20165573386846, 349.6345522796495, 148.90802053531002, 492.9335671259795, 218.87295119355792, 261.4701298720422, 144.66003536873438, 135.7242280084812, 364.8155127995165, 289.92960053376163, 381.42738731642294, 494.1464852235156, 307.42818736689793, 2871.3867691527284, 2184.2663026947, 109.41030630592608, 3738.2017284121716, 169.32505396843587, 204.22918126723155, 2456.2043119564332, 1836.5692018798961, 156.54051296934375, 1117.9165606528618, 369.76357405223104, 479.6309258000385, 550.1195819598047, 1912.0345886608604, 3630.600343764849, 437.78970809516863, 381.96993133706434, 4500.973674386119, 418.5990306768444, 686.5917000391139, 690.6614459754672, 987.4460963243531, 651.9532875128617, 1130.8948984304766, 2827.3012698033453, 1631.1036914620965, 952.5849051413908, 1962.5442005311363, 2267.0497427981104, 1626.6770322691889, 1623.3907345730104, 1486.5977913142526, 1185.9254115504386, 894.1055892792479, 1186.306184243513, 1076.5095140382894, 908.8607757086861, 734.1486115283826, 798.7577372946616, 788.9823794087032, 823.5712251784489, 801.2908050802898, 822.114060366286, 152.20324762883396, 258.2649604816736, 91.13862035377286, 100.37512632417248, 86.57807449113993, 238.63926972418784, 102.14333669343115, 79.182395127354, 157.27290549912553, 75.62778540185283, 69.19342792987545, 65.38608176453184, 60.090145977161086, 68.58479541881839, 112.1125647817725, 66.21796513009399, 51.93872218765814, 50.89311489859344, 86.46750354612476, 56.373052846719744, 56.76762879003534, 51.01715793528466, 51.203199205224756, 57.62399477158159, 51.28094481674385, 51.54517078859841, 80.19742575797768, 55.00206294247605, 73.64102111474257, 45.95110260210054, 115.38593045615625, 153.79653369861703, 77.58952818931195, 93.093550587219, 83.17789152711244, 3335.687663617472, 81.80836193107757, 64.53747969952185, 591.1895519607242, 1893.4578442101358, 2627.333199810877, 575.9387982334418, 393.9634521313654, 383.2132951219788, 175.9284193751628, 167.75091960377137, 127.31151914817109, 285.3490140833263, 260.838030198525, 118.88674495534016, 395.8533504161037, 518.5312683738915, 287.04877292110115, 2655.071790828557, 664.8833969806063, 237.21150742768862, 500.98292758265717, 360.07948499782253, 2918.162620870706, 176.79799133299397, 347.2013628747913, 929.973658402484, 578.2666160058263, 757.4314110160057, 331.01526677075964, 331.577169419134, 6695.493045794731, 528.6057584051949, 1179.1636848734836, 598.2841350652143, 1040.5586543103134, 831.1555931904768, 693.2515105675473, 719.6128479899648, 952.5503559553063, 803.4649561662787, 553.6507826569192, 516.5891582494131, 779.7888827096136, 1834.9850544398857, 2032.8571759927556, 1449.7879223000991, 1644.9347029093121, 814.4175737652382, 1177.4579916624864, 665.2492524203341, 761.060373381789, 873.8669537978631, 743.4635463662905, 683.6652890558921, 663.049702266475, 278.63811071122655, 85.33006671497675, 63.82244944561254, 57.634395032846314, 64.95298957298401, 58.37363274321321, 55.63183616547366, 113.40741243257919, 61.46225465764455, 52.79619242285087, 99.67438486121384, 161.03359087885434, 44.50997509374966, 43.84067450531286, 42.30847127071334, 38.58932172171799, 124.23465225397675, 40.36595843210023, 62.98064911177188, 39.965704116030935, 50.89003559104097, 40.852779516784786, 36.36048603664363, 51.77130178069963, 39.106200301684794, 50.57928384614155, 34.26468095725966, 39.01513131237337, 33.76009071416012, 39.21959649633043, 1050.2630168949643, 921.0797180583784, 859.2400255904245, 162.23154281253565, 3742.084747873386, 175.43764965157177, 75.91788372490068, 1395.7324988230575, 1265.2508790714937, 361.13689469677126, 546.6879966493045, 483.1554954707576, 212.6061578732007, 227.10349241298874, 242.5720324717035, 331.1385095330664, 1132.6905797554482, 156.62150654568893, 5849.295636919113, 1828.322098889525, 220.90714944804373, 382.3750289356698, 117.65140072417265, 3995.624176825358, 969.7855099809993, 411.9050780623186, 2221.384105903066, 5738.818457554417, 247.1189929598162, 6563.76284490494, 1205.085395330163, 654.9208304905978, 548.7745575629266, 456.53686925871165, 506.9597444472766, 403.748643566283, 2208.2027070935833, 1449.7821607164892, 583.1669262279388, 3549.1552056695796, 2410.428668404183, 3471.1363644332946, 899.1235403705083, 2358.728068893059, 4460.384183064993, 1672.7922905555297, 4275.331366276247, 2189.8757330576495, 3204.0719098493405, 1194.4417909437248, 1466.4625632901173, 2017.447156236524, 1812.6583903549426, 1486.9124575303715, 1680.227765503412, 1411.460414081966, 1181.7799306695438, 1236.344297204138, 328.9411202234313, 269.95010574769486, 93.84918169293013, 106.08594977771583, 84.92806878886034, 79.02640122085246, 76.06507909752708, 67.34624624641881, 81.50019236536663, 66.66069967504444, 54.002409353823445, 53.906719541692226, 47.99635289985424, 47.41695523487993, 282.6148299804895, 50.46933581745999, 43.89485391052652, 52.913174710821956, 49.83089504991261, 69.30395260621242, 41.2712084578112, 54.797635507039914, 42.191377451689654, 34.24700676644665, 31.247993087592697, 31.292442908914705, 74.8634105204561, 36.83076196740557, 30.968237572992038, 29.25284242589711, 46.39593068912334, 46.65987526482802, 44.928036422244325, 53.57592077572718, 102.10763360861137, 83.50096871172741, 76.17826808568205, 859.4901038501317, 9613.866222095246, 111.40810270053896, 4484.08746801447, 243.13753963602392, 2627.6782284896663, 1238.9454909263925, 2233.1935642835083, 267.08230398532544, 318.5841603128579, 83.70042528779176, 111.49562516706929, 1243.331951049685, 4404.441215244964, 3181.5353701605113, 636.820953208128, 567.6114195835789, 473.03764119812024, 627.9618504501505, 1662.1451810409983, 2082.251148703202, 3845.3755190701872, 1282.8328926657864, 396.4278118470352, 246.00812765431448, 1653.8354173511968, 4427.094028881154, 361.08281553229284, 320.83775216308567, 269.13073381558934, 1884.515628032953, 1622.9849708741838, 3449.82178335548, 1831.515340286337, 3051.0058736853525, 661.293425921241, 1114.4875651403254, 1363.5147818727883, 588.9731970792128, 801.9606826617579, 1588.1638332108732, 1135.2891988501651, 1196.8787266438626, 898.7150572461366, 918.538991626337, 854.4300929443161, 801.5085860521423, 830.3709644874731, 127.06798311468212, 95.96067133913421, 64.12304226993713, 112.96378954212997, 82.74348684270728, 56.066834197769886, 53.25678445841208, 104.69272854556098, 52.374454937774715, 71.66637239383888, 46.4404486104804, 45.983505348965394, 41.190800609155424, 46.1243886330946, 40.23991426741386, 53.28055886674191, 36.71575236174458, 56.568253234520185, 33.126783278791514, 37.286241504175386, 42.34498097328165, 34.39015327096839, 32.0516720705336, 29.816351070886217, 31.550603000539876, 44.005999859359946, 31.323774547029895, 100.08034001080414, 34.881509930213035, 26.41510415615869, 169.0227444883519, 178.06811193336281, 112.38495119279236, 4538.956576743084, 67.22362107853459, 50.85036637798472, 3935.8369072273226, 588.1083487781059, 735.1342760828105, 170.72002326342783, 111.57182843152141, 1755.645924099585, 1164.5781231072322, 355.8371322775085, 92.12586227524744, 160.9913740568511, 1851.4356516767089, 1810.1376012552391, 98.0182092264427, 3350.5194933376324, 349.1662459466251, 257.13232160483767, 241.2170334019387, 272.67724498878096, 385.02499971487475, 419.2878250807518, 578.2861884541729, 180.95402446649538, 218.18547450865842, 2557.112405936689, 496.87525503189187, 1041.7655757676698, 683.4242546969977, 1238.7889937985583, 835.0268672612553, 852.6163964275976, 849.6399324959644, 440.03281450915557, 749.3303142643543, 943.1612888795535, 675.0690483600818, 590.1007995147254, 507.0806322872885, 427.34460643179654, 678.7771761241227, 675.181197706988, 1078.5777589694253, 1017.698848538615, 551.1119697398243, 855.8487827157704, 543.6560913088649, 611.0107599391607, 517.4550601511934], \"Total\": [13254.0, 4982.0, 13975.0, 4517.0, 5756.0, 6278.0, 8165.0, 6780.0, 4122.0, 9900.0, 13704.0, 3555.0, 11220.0, 11822.0, 8925.0, 8916.0, 22926.0, 14666.0, 5034.0, 5871.0, 7938.0, 2620.0, 3956.0, 2644.0, 3999.0, 7092.0, 2221.0, 2998.0, 7078.0, 14206.0, 197.1114171448715, 239.4173737413874, 119.46250060289934, 92.31769191846975, 142.99548135704566, 97.54842157018166, 92.70541927935592, 133.93038121121535, 76.05987673467365, 103.85742498476145, 57.236882164998406, 56.997465273910464, 54.35688272240067, 50.45548508546091, 50.38151422630675, 47.600207999216664, 50.086108420432645, 48.77832766894813, 47.13448384781654, 49.177324637275845, 377.8012170068238, 43.770687896527406, 90.78268754224797, 44.35721677856688, 43.35037888021178, 58.23936812871461, 38.52320671972582, 42.15114902657319, 50.71993167383065, 56.70748316034733, 145.73289034360383, 85.91464469268438, 71.70548855694572, 235.33116735375182, 115.9924896080485, 87.59050002062125, 1444.8791308099844, 200.49753556331015, 199.94960372818878, 74.402339001279, 61.09744877032296, 72.06118220303472, 382.3690163701438, 343.6140430330216, 301.1379278133345, 4367.400066061062, 7092.349968621891, 146.19551566485606, 558.8131200234192, 239.08699937437584, 2804.501440045598, 4104.302220722393, 1218.651366799318, 311.3780326091212, 1995.2003449613842, 8109.110201952314, 2662.891837942988, 1478.8666192761077, 574.3505606729278, 2741.812533804834, 5898.772440493751, 1356.1116717489554, 2916.1360627187423, 2257.0439398957956, 4773.153402962473, 2650.8001130402286, 850.7108495152579, 767.0552699195235, 486.95832987475063, 2138.402019698232, 3069.1522351187486, 6579.911399614478, 3171.3878842832937, 9353.542888656195, 4605.877272256232, 4301.407733976523, 6114.488142914893, 2042.03503069894, 8016.721346323342, 19469.290138535405, 2345.3633413129255, 1821.042286579702, 3671.2106404842452, 3857.404714003136, 27282.263239098076, 10180.847452866958, 13975.759411328281, 8115.737197718881, 22926.748422202858, 14206.09209324746, 13704.785093170807, 24565.62070416569, 9269.895725141267, 135.13574222997863, 103.20477784540522, 87.06393471196473, 72.98727521518865, 73.11228640742921, 60.11226497612624, 93.68650757615062, 53.18402746149962, 42.09056938128106, 43.7774782365636, 39.42535124348845, 46.743940608575905, 36.205355696509194, 41.39552053979208, 33.30314345971022, 32.110640540613886, 34.53302352892586, 31.42115477102511, 29.799456021769224, 29.33775473881421, 30.53721246758113, 28.126532939220567, 60.317025647396406, 27.358627822808046, 51.953504160963384, 31.336444104392992, 28.1262713108, 57.88287729186826, 28.62798174104493, 26.86381925851257, 3098.305339935384, 119.94831622113946, 60.94302894410808, 82.00391935560073, 3170.980624173564, 101.40329069427759, 78.6868694343681, 528.8680001135755, 1461.705180023668, 206.6289274079844, 13975.759411328281, 71.55804960697672, 8916.592246636354, 8925.689930460756, 2454.8734037432678, 1406.3407508958592, 1675.4149283123456, 13459.570049072352, 167.1961221379013, 14206.09209324746, 112.4788379351003, 22926.748422202858, 892.8066435286256, 1090.760772295976, 3364.4341282903747, 13704.785093170807, 10180.847452866958, 11822.110487483507, 1237.7031850530682, 846.6538073177405, 1298.8478093203844, 1199.9848563955331, 5915.40073943841, 2196.860975867374, 4862.06305240743, 5569.343069830672, 27282.263239098076, 1295.3985873271022, 4756.763366195708, 2025.1974631191713, 8438.679490089105, 4605.877272256232, 9353.542888656195, 2736.0286812948216, 3914.5921375855187, 5269.348441030036, 9269.895725141267, 9559.152539982098, 24565.62070416569, 11632.232426159226, 12042.585300432782, 8115.737197718881, 5279.935920235485, 11220.041558279401, 19469.290138535405, 14666.678767985302, 217.33228581036786, 134.91776813571386, 211.42419865670078, 169.49561402656647, 80.10296267617547, 71.72996701735902, 79.78972566353225, 62.707516149271825, 56.32678035086187, 53.782390487320775, 65.33146777880937, 53.330491989080215, 49.2230146924613, 48.81131710214784, 77.68017907250336, 47.49876129156614, 52.95399420328665, 51.56144979682576, 97.46528829951633, 45.351532935024146, 48.01533072950772, 56.76553910106256, 81.47342002373227, 47.88458507436191, 43.331273557322035, 45.288085288333555, 46.9888230485557, 49.924878343435545, 50.41134936913246, 39.16180030445631, 231.12392090177963, 112.55359025109898, 234.72192843790512, 61.067404432615646, 102.52939706795294, 85.95935681415797, 84.82887270552627, 374.9743032254332, 156.97567525817362, 547.071994911606, 235.99915554878254, 288.1555993871249, 155.83778429258135, 145.89699383282198, 418.5222708786617, 337.6087562273792, 464.3725321319064, 624.530076668593, 373.57389609868295, 4617.647250625077, 3546.8878759723148, 119.57181823277115, 7938.771500351793, 199.9791872171365, 250.7115474348232, 5458.820029420645, 3881.874792446524, 185.72933097696398, 2228.702431301017, 569.4228372324271, 821.6261632403682, 991.9663919293733, 5382.453882198826, 13704.785093170807, 752.0677628546684, 637.6670901558934, 24565.62070416569, 762.9568850680685, 1716.785589924019, 1771.1123608806668, 3249.4753262712698, 1715.430334418126, 4773.153402962473, 27282.263239098076, 9900.336346213393, 3603.9154007911393, 14666.678767985302, 19469.290138535405, 11632.232426159226, 14206.09209324746, 12042.585300432782, 8115.737197718881, 4320.609850971882, 9269.895725141267, 9559.152539982098, 8438.679490089105, 3908.2858218184124, 5923.970358364421, 6579.911399614478, 13459.570049072352, 13254.596437695087, 22926.748422202858, 153.1457699538117, 260.10332134272153, 92.09342127463763, 101.43595408552882, 87.50781727268306, 241.26742117049, 103.30464391816653, 80.11371001038856, 159.15439874934813, 76.58366261773631, 70.17427398373422, 66.3130986395159, 60.96105879551851, 69.60453976285608, 113.94434324963977, 67.31463487737464, 52.816603346799894, 51.76618136160111, 87.97664538027043, 57.3635692361874, 57.77764676496568, 51.93646443114009, 52.13768695645068, 58.68370551567913, 52.225906754599144, 52.498359832083466, 81.70885971634297, 56.06031286532485, 75.06349138390166, 46.85161843886528, 117.74427385868464, 157.88313804608296, 79.21309686663056, 95.29796042257284, 85.10394355008857, 3555.811154516831, 83.81692439929475, 65.91178523123223, 632.3749084210151, 2121.5342256390927, 2998.763150116546, 631.6250286905316, 431.62773874246136, 422.3568735750185, 189.84691417456068, 180.75074504691955, 135.06320946201788, 323.02191275672635, 295.16860327069685, 125.78931528011233, 466.3694687059506, 633.7963467524291, 336.8865542014847, 3999.0537012924583, 858.5295768505065, 274.1335852349471, 643.9225660784559, 447.72719423238385, 5034.86581725074, 198.5041267977195, 442.8196316769797, 1463.6343770119715, 833.280836591895, 1209.2123457407702, 439.86749757995887, 443.76212578885577, 24565.62070416569, 832.5344698066117, 2825.785235753038, 1113.45124694902, 2639.978158525432, 1904.5171530866771, 1474.6791156250254, 1667.4027154512821, 2786.0165315385084, 2232.626770182204, 1155.4179480646685, 1022.1067372241224, 2490.929227442344, 19469.290138535405, 27282.263239098076, 14666.678767985302, 22926.748422202858, 3301.1934686844593, 11632.232426159226, 2678.045163965011, 5569.343069830672, 12042.585300432782, 6907.370894189242, 5279.935920235485, 5756.366386771728, 279.79308653856265, 86.23777692797499, 64.74202793536988, 58.526496676415604, 65.9669671551041, 59.28735159578935, 56.51324924120874, 115.21694690510273, 62.46904809905971, 53.6767236754755, 101.56933288171138, 164.1690519008462, 45.39513360006088, 44.767275899158236, 43.20885875883216, 39.46437535363282, 127.06501492096321, 41.29121749785345, 64.42559368979825, 40.88766505524751, 52.082427888785595, 41.823825980644216, 37.23725756299948, 53.02439137451274, 40.05317511966287, 51.85159322535091, 35.14453994688788, 40.0528804778003, 34.669606097856445, 40.304872209188744, 1091.8868445808773, 959.6231941585418, 897.5091933754582, 167.23999953682545, 4122.841674691408, 182.7302937116792, 78.58632256941387, 1536.6941508017221, 1394.280682783329, 395.2189547271932, 616.977368179123, 543.697312080393, 231.29773746540536, 248.70791912464185, 266.68008886425076, 370.3421283732573, 1351.9684702452125, 168.7968649858443, 8165.917152217591, 2350.925596576948, 247.75719889204453, 455.13677036907575, 126.40015825637725, 5871.279771956668, 1255.5683781091504, 511.41437915296086, 3446.537190263491, 11220.041558279401, 290.33407146106435, 14666.678767985302, 1943.2623241179008, 942.7806665201111, 767.6565682051464, 610.3673753927654, 705.0253841203803, 549.1693514980834, 5462.103378597813, 3147.153010663337, 912.5485906715496, 11632.232426159226, 6907.370894189242, 11822.110487483507, 1715.430334418126, 8016.721346323342, 24565.62070416569, 5034.86581725074, 27282.263239098076, 9269.895725141267, 22926.748422202858, 3688.7818447424443, 5777.547324100174, 12042.585300432782, 9559.152539982098, 8115.737197718881, 19469.290138535405, 8438.679490089105, 3999.0537012924583, 13459.570049072352, 331.38094653091946, 272.09395613443263, 94.72185486954118, 107.29640297856872, 85.9114702656301, 79.97180932159867, 77.07657153983911, 68.25024609580146, 82.61114949475063, 67.58222094714493, 54.881242680087325, 54.84847328314891, 48.877999142855906, 48.28981349509388, 287.9371054015811, 51.50017228836586, 44.794223728741926, 54.054598713262116, 50.982149764974096, 70.93146633046852, 42.24661314168249, 56.20732798045463, 43.34177872654672, 35.18627717255908, 32.12725073508681, 32.1825864864838, 77.00085934340234, 37.88431755035405, 31.88893032709989, 30.14284545421262, 47.8428854420176, 48.134879806515, 46.348786273526294, 55.46757431746924, 107.43355223224651, 87.73978179706668, 80.03336455986569, 1021.6080251923595, 13254.596437695087, 120.70374088482626, 6278.071645111533, 286.1229537488291, 3956.235907777174, 1752.2015143783299, 3413.806881425947, 325.15646301300194, 395.65907726969476, 90.71042432673306, 127.66622829276945, 2180.23956609109, 9900.336346213393, 7078.377253204726, 1119.4472968029577, 975.5859935257139, 779.9289739002339, 1117.1192151927357, 3914.5921375855187, 5382.453882198826, 12042.585300432782, 3033.9442489648172, 669.9859127454706, 357.1521008174726, 4567.070609760329, 19469.290138535405, 620.8502981587743, 534.7741186712824, 419.3762175347556, 7938.771500351793, 6907.370894189242, 27282.263239098076, 9559.152539982098, 22926.748422202858, 1858.3703316783249, 5462.103378597813, 8438.679490089105, 1561.6364824999214, 3261.383002264006, 24565.62070416569, 11822.110487483507, 14666.678767985302, 8109.110201952314, 13459.570049072352, 9269.895725141267, 8115.737197718881, 11632.232426159226, 127.94198301549427, 96.83622517559097, 64.99979080866717, 114.59021533368619, 83.94546163310402, 56.97966664746435, 54.1393263507045, 106.47798700158438, 53.29358517954142, 72.98821671923749, 47.322357439920715, 46.87008320330412, 42.07514319864349, 47.12673649699008, 41.13966320797635, 54.531107462293555, 37.62351411089532, 58.023462914801755, 34.01813970515626, 38.29139474435131, 43.539784961886085, 35.3762584651558, 32.985365838373994, 30.69502190358439, 32.48880200072278, 45.349096944593704, 32.30247750351463, 103.35093050802857, 36.0251406201227, 27.287134136892274, 175.45787464602336, 184.95055879837565, 116.63991541225548, 4982.4577108288195, 70.0029977885744, 52.6597573341135, 4517.871541055052, 642.5657474628996, 837.5680742738027, 184.0805657051222, 120.62983825972967, 2221.724192826671, 1443.3632092555367, 409.8853143432688, 99.45586663944613, 181.57660825442625, 2620.318561841452, 2644.032285387171, 107.57150406190202, 5756.366386771728, 461.4401549395677, 325.3112448344607, 302.775795796257, 355.8074265656656, 542.6986533306988, 600.6949006242385, 898.5975915290937, 224.40519943902595, 286.939513126479, 6780.923518277976, 828.5483879221233, 2298.823235813242, 1371.235354915455, 3182.257344542094, 2016.3426737772545, 2225.11310176727, 2302.2930080506408, 872.2054853036329, 2044.4489276537597, 3261.383002264006, 2159.4073814286885, 1803.3581199231414, 1353.621366065619, 1047.269085280116, 3726.583423996538, 4104.302220722393, 19469.290138535405, 27282.263239098076, 2490.929227442344, 24565.62070416569, 3743.4766484889324, 14206.09209324746, 5923.970358364421], \"Category\": [\"Default\", \"Default\", \"Default\", \"Default\", \"Default\", \"Default\", \"Default\", \"Default\", \"Default\", \"Default\", \"Default\", \"Default\", \"Default\", \"Default\", \"Default\", \"Default\", \"Default\", \"Default\", \"Default\", \"Default\", \"Default\", \"Default\", \"Default\", \"Default\", \"Default\", \"Default\", \"Default\", \"Default\", \"Default\", \"Default\", \"Topic1\", \"Topic1\", \"Topic1\", \"Topic1\", \"Topic1\", \"Topic1\", \"Topic1\", \"Topic1\", \"Topic1\", \"Topic1\", \"Topic1\", \"Topic1\", \"Topic1\", \"Topic1\", \"Topic1\", \"Topic1\", \"Topic1\", \"Topic1\", \"Topic1\", \"Topic1\", \"Topic1\", \"Topic1\", \"Topic1\", \"Topic1\", \"Topic1\", \"Topic1\", \"Topic1\", \"Topic1\", \"Topic1\", \"Topic1\", \"Topic1\", \"Topic1\", \"Topic1\", \"Topic1\", \"Topic1\", \"Topic1\", \"Topic1\", \"Topic1\", \"Topic1\", \"Topic1\", \"Topic1\", \"Topic1\", \"Topic1\", \"Topic1\", \"Topic1\", \"Topic1\", \"Topic1\", \"Topic1\", \"Topic1\", \"Topic1\", \"Topic1\", \"Topic1\", \"Topic1\", \"Topic1\", \"Topic1\", \"Topic1\", \"Topic1\", \"Topic1\", \"Topic1\", \"Topic1\", \"Topic1\", \"Topic1\", \"Topic1\", \"Topic1\", \"Topic1\", \"Topic1\", \"Topic1\", \"Topic1\", \"Topic1\", \"Topic1\", \"Topic1\", \"Topic1\", \"Topic1\", \"Topic1\", \"Topic1\", \"Topic1\", \"Topic1\", \"Topic1\", \"Topic1\", \"Topic1\", \"Topic1\", \"Topic1\", \"Topic1\", \"Topic1\", \"Topic1\", \"Topic1\", \"Topic1\", \"Topic1\", \"Topic1\", \"Topic1\", \"Topic1\", \"Topic1\", \"Topic1\", \"Topic2\", \"Topic2\", \"Topic2\", \"Topic2\", \"Topic2\", \"Topic2\", \"Topic2\", \"Topic2\", \"Topic2\", \"Topic2\", \"Topic2\", \"Topic2\", \"Topic2\", \"Topic2\", \"Topic2\", \"Topic2\", \"Topic2\", \"Topic2\", \"Topic2\", \"Topic2\", \"Topic2\", \"Topic2\", \"Topic2\", \"Topic2\", \"Topic2\", \"Topic2\", \"Topic2\", \"Topic2\", \"Topic2\", \"Topic2\", \"Topic2\", \"Topic2\", \"Topic2\", \"Topic2\", \"Topic2\", \"Topic2\", \"Topic2\", \"Topic2\", \"Topic2\", \"Topic2\", \"Topic2\", \"Topic2\", \"Topic2\", \"Topic2\", \"Topic2\", \"Topic2\", \"Topic2\", \"Topic2\", \"Topic2\", \"Topic2\", \"Topic2\", \"Topic2\", \"Topic2\", \"Topic2\", \"Topic2\", \"Topic2\", \"Topic2\", \"Topic2\", \"Topic2\", \"Topic2\", \"Topic2\", \"Topic2\", \"Topic2\", \"Topic2\", \"Topic2\", \"Topic2\", \"Topic2\", \"Topic2\", \"Topic2\", \"Topic2\", \"Topic2\", \"Topic2\", \"Topic2\", \"Topic2\", \"Topic2\", \"Topic2\", \"Topic2\", \"Topic2\", \"Topic2\", \"Topic2\", \"Topic2\", \"Topic2\", \"Topic2\", \"Topic2\", \"Topic2\", \"Topic2\", \"Topic3\", \"Topic3\", \"Topic3\", \"Topic3\", \"Topic3\", \"Topic3\", \"Topic3\", \"Topic3\", \"Topic3\", \"Topic3\", \"Topic3\", \"Topic3\", \"Topic3\", \"Topic3\", \"Topic3\", \"Topic3\", \"Topic3\", \"Topic3\", \"Topic3\", \"Topic3\", \"Topic3\", \"Topic3\", \"Topic3\", \"Topic3\", \"Topic3\", \"Topic3\", \"Topic3\", \"Topic3\", \"Topic3\", \"Topic3\", \"Topic3\", \"Topic3\", \"Topic3\", \"Topic3\", \"Topic3\", \"Topic3\", \"Topic3\", \"Topic3\", \"Topic3\", \"Topic3\", \"Topic3\", \"Topic3\", \"Topic3\", \"Topic3\", \"Topic3\", \"Topic3\", \"Topic3\", \"Topic3\", \"Topic3\", \"Topic3\", \"Topic3\", \"Topic3\", \"Topic3\", \"Topic3\", \"Topic3\", \"Topic3\", \"Topic3\", \"Topic3\", \"Topic3\", \"Topic3\", \"Topic3\", \"Topic3\", \"Topic3\", \"Topic3\", \"Topic3\", \"Topic3\", \"Topic3\", \"Topic3\", \"Topic3\", \"Topic3\", \"Topic3\", \"Topic3\", \"Topic3\", \"Topic3\", \"Topic3\", \"Topic3\", \"Topic3\", \"Topic3\", \"Topic3\", \"Topic3\", \"Topic3\", \"Topic3\", \"Topic3\", \"Topic3\", \"Topic3\", \"Topic3\", \"Topic3\", \"Topic3\", \"Topic3\", \"Topic3\", \"Topic3\", \"Topic3\", \"Topic4\", \"Topic4\", \"Topic4\", \"Topic4\", \"Topic4\", \"Topic4\", \"Topic4\", \"Topic4\", \"Topic4\", \"Topic4\", \"Topic4\", \"Topic4\", \"Topic4\", \"Topic4\", \"Topic4\", \"Topic4\", \"Topic4\", \"Topic4\", \"Topic4\", \"Topic4\", \"Topic4\", \"Topic4\", \"Topic4\", \"Topic4\", \"Topic4\", \"Topic4\", \"Topic4\", \"Topic4\", \"Topic4\", \"Topic4\", \"Topic4\", \"Topic4\", \"Topic4\", \"Topic4\", \"Topic4\", \"Topic4\", \"Topic4\", \"Topic4\", \"Topic4\", \"Topic4\", \"Topic4\", \"Topic4\", \"Topic4\", \"Topic4\", \"Topic4\", \"Topic4\", \"Topic4\", \"Topic4\", \"Topic4\", \"Topic4\", \"Topic4\", \"Topic4\", \"Topic4\", \"Topic4\", \"Topic4\", \"Topic4\", \"Topic4\", \"Topic4\", \"Topic4\", \"Topic4\", \"Topic4\", \"Topic4\", \"Topic4\", \"Topic4\", \"Topic4\", \"Topic4\", \"Topic4\", \"Topic4\", \"Topic4\", \"Topic4\", \"Topic4\", \"Topic4\", \"Topic4\", \"Topic4\", \"Topic4\", \"Topic4\", \"Topic4\", \"Topic4\", \"Topic4\", \"Topic4\", \"Topic4\", \"Topic4\", \"Topic4\", \"Topic4\", \"Topic4\", \"Topic4\", \"Topic4\", \"Topic4\", \"Topic4\", \"Topic4\", \"Topic4\", \"Topic5\", \"Topic5\", \"Topic5\", \"Topic5\", \"Topic5\", \"Topic5\", \"Topic5\", \"Topic5\", \"Topic5\", \"Topic5\", \"Topic5\", \"Topic5\", \"Topic5\", \"Topic5\", \"Topic5\", \"Topic5\", \"Topic5\", \"Topic5\", \"Topic5\", \"Topic5\", \"Topic5\", \"Topic5\", \"Topic5\", \"Topic5\", \"Topic5\", \"Topic5\", \"Topic5\", \"Topic5\", \"Topic5\", \"Topic5\", \"Topic5\", \"Topic5\", \"Topic5\", \"Topic5\", \"Topic5\", \"Topic5\", \"Topic5\", \"Topic5\", \"Topic5\", \"Topic5\", \"Topic5\", \"Topic5\", \"Topic5\", \"Topic5\", \"Topic5\", \"Topic5\", \"Topic5\", \"Topic5\", \"Topic5\", \"Topic5\", \"Topic5\", \"Topic5\", \"Topic5\", \"Topic5\", \"Topic5\", \"Topic5\", \"Topic5\", \"Topic5\", \"Topic5\", \"Topic5\", \"Topic5\", \"Topic5\", \"Topic5\", \"Topic5\", \"Topic5\", \"Topic5\", \"Topic5\", \"Topic5\", \"Topic5\", \"Topic5\", \"Topic5\", \"Topic5\", \"Topic5\", \"Topic5\", \"Topic5\", \"Topic5\", \"Topic5\", \"Topic5\", \"Topic5\", \"Topic5\", \"Topic5\", \"Topic5\", \"Topic5\", \"Topic5\", \"Topic5\", \"Topic5\", \"Topic5\", \"Topic5\", \"Topic6\", \"Topic6\", \"Topic6\", \"Topic6\", \"Topic6\", \"Topic6\", \"Topic6\", \"Topic6\", \"Topic6\", \"Topic6\", \"Topic6\", \"Topic6\", \"Topic6\", \"Topic6\", \"Topic6\", \"Topic6\", \"Topic6\", \"Topic6\", \"Topic6\", \"Topic6\", \"Topic6\", \"Topic6\", \"Topic6\", \"Topic6\", \"Topic6\", \"Topic6\", \"Topic6\", \"Topic6\", \"Topic6\", \"Topic6\", \"Topic6\", \"Topic6\", \"Topic6\", \"Topic6\", \"Topic6\", \"Topic6\", \"Topic6\", \"Topic6\", \"Topic6\", \"Topic6\", \"Topic6\", \"Topic6\", \"Topic6\", \"Topic6\", \"Topic6\", \"Topic6\", \"Topic6\", \"Topic6\", \"Topic6\", \"Topic6\", \"Topic6\", \"Topic6\", \"Topic6\", \"Topic6\", \"Topic6\", \"Topic6\", \"Topic6\", \"Topic6\", \"Topic6\", \"Topic6\", \"Topic6\", \"Topic6\", \"Topic6\", \"Topic6\", \"Topic6\", \"Topic6\", \"Topic6\", \"Topic6\", \"Topic6\", \"Topic6\", \"Topic6\", \"Topic6\", \"Topic6\", \"Topic6\", \"Topic6\", \"Topic6\", \"Topic6\", \"Topic6\", \"Topic6\", \"Topic6\", \"Topic6\", \"Topic6\", \"Topic6\", \"Topic6\", \"Topic6\", \"Topic7\", \"Topic7\", \"Topic7\", \"Topic7\", \"Topic7\", \"Topic7\", \"Topic7\", \"Topic7\", \"Topic7\", \"Topic7\", \"Topic7\", \"Topic7\", \"Topic7\", \"Topic7\", \"Topic7\", \"Topic7\", \"Topic7\", \"Topic7\", \"Topic7\", \"Topic7\", \"Topic7\", \"Topic7\", \"Topic7\", \"Topic7\", \"Topic7\", \"Topic7\", \"Topic7\", \"Topic7\", \"Topic7\", \"Topic7\", \"Topic7\", \"Topic7\", \"Topic7\", \"Topic7\", \"Topic7\", \"Topic7\", \"Topic7\", \"Topic7\", \"Topic7\", \"Topic7\", \"Topic7\", \"Topic7\", \"Topic7\", \"Topic7\", \"Topic7\", \"Topic7\", \"Topic7\", \"Topic7\", \"Topic7\", \"Topic7\", \"Topic7\", \"Topic7\", \"Topic7\", \"Topic7\", \"Topic7\", \"Topic7\", \"Topic7\", \"Topic7\", \"Topic7\", \"Topic7\", \"Topic7\", \"Topic7\", \"Topic7\", \"Topic7\", \"Topic7\", \"Topic7\", \"Topic7\", \"Topic7\", \"Topic7\", \"Topic7\", \"Topic7\", \"Topic7\", \"Topic7\", \"Topic7\", \"Topic7\", \"Topic7\", \"Topic7\", \"Topic7\", \"Topic7\", \"Topic7\", \"Topic7\", \"Topic7\", \"Topic7\"], \"logprob\": [30.0, 29.0, 28.0, 27.0, 26.0, 25.0, 24.0, 23.0, 22.0, 21.0, 20.0, 19.0, 18.0, 17.0, 16.0, 15.0, 14.0, 13.0, 12.0, 11.0, 10.0, 9.0, 8.0, 7.0, 6.0, 5.0, 4.0, 3.0, 2.0, 1.0, -7.4637, -7.2716, -7.9694, -8.2274, -7.79, -8.1728, -8.2246, -7.8572, -8.4232, -8.1149, -8.7118, -8.7162, -8.7641, -8.8395, -8.8411, -8.899, -8.8484, -8.8748, -8.9092, -8.8671, -6.8285, -8.9851, -8.2565, -8.9729, -8.9959, -8.7007, -9.1148, -9.0255, -8.8406, -8.7293, -7.7885, -8.3167, -8.4968, -7.3249, -8.0232, -8.3009, -5.5712, -7.5091, -7.5138, -8.4659, -8.6572, -8.499, -6.8971, -7.0099, -7.1374, -4.6158, -4.1638, -7.8272, -6.5756, -7.3686, -5.0838, -4.7685, -5.8981, -7.141, -5.4583, -4.2054, -5.208, -5.7536, -6.6022, -5.2293, -4.5672, -5.8688, -5.2045, -5.4287, -4.7965, -5.3129, -6.2813, -6.3754, -6.76, -5.5172, -5.2173, -4.5944, -5.202, -4.3689, -4.9484, -5.0202, -4.783, -5.6372, -4.6798, -4.0544, -5.5767, -5.7552, -5.3134, -5.3117, -4.3841, -4.9664, -4.9843, -5.1928, -4.9107, -5.0963, -5.1434, -5.0959, -5.3081, -7.7695, -8.0406, -8.2146, -8.391, -8.3908, -8.5875, -8.1446, -8.7119, -8.9508, -8.9116, -9.0167, -8.8468, -9.1056, -8.9721, -9.1912, -9.228, -9.1554, -9.2515, -9.3045, -9.3204, -9.2806, -9.3636, -8.6015, -9.3926, -8.7515, -9.2574, -9.3659, -8.6445, -9.3495, -9.4137, -4.7344, -7.9374, -8.6046, -8.3142, -4.7537, -8.1132, -8.3633, -6.5169, -5.5456, -7.4329, -3.3932, -8.4569, -3.8761, -3.8811, -5.1332, -5.6663, -5.542, -3.6798, -7.6797, -3.6741, -8.0522, -3.3408, -6.2109, -6.0421, -5.0515, -3.8212, -4.0838, -4.0243, -5.9689, -6.3117, -5.9617, -6.0282, -4.6996, -5.5276, -4.8862, -4.7968, -3.519, -5.9878, -4.9756, -5.6449, -4.6179, -5.1346, -4.6715, -5.4865, -5.2753, -5.0959, -4.7938, -4.7878, -4.2861, -4.7123, -4.8406, -5.0602, -5.1905, -4.9856, -4.9514, -5.0726, -6.9855, -7.4626, -7.0152, -7.2374, -7.9886, -8.1012, -7.995, -8.2364, -8.3454, -8.3924, -8.1982, -8.4012, -8.4824, -8.491, -8.0266, -8.5187, -8.4103, -8.437, -7.8008, -8.5664, -8.5093, -8.342, -7.9808, -8.5124, -8.613, -8.569, -8.5322, -8.4719, -8.4625, -8.7157, -6.9459, -7.6614, -6.9385, -8.2725, -7.7642, -7.9374, -7.9515, -6.5037, -7.3573, -6.1603, -6.9721, -6.7943, -7.3862, -7.45, -6.4612, -6.691, -6.4167, -6.1578, -6.6324, -4.3981, -4.6716, -7.6655, -4.1343, -7.2288, -7.0414, -4.5543, -4.845, -7.3073, -5.3414, -6.4478, -6.1876, -6.0505, -4.8047, -4.1635, -6.2789, -6.4153, -3.9486, -6.3237, -5.8289, -5.823, -5.4655, -5.8807, -5.3299, -4.4136, -4.9636, -5.5015, -4.7786, -4.6344, -4.9663, -4.9684, -5.0564, -5.2824, -5.5648, -5.282, -5.3792, -5.5484, -5.7619, -5.6776, -5.6899, -5.647, -5.6744, -5.6488, -7.3145, -6.7857, -7.8273, -7.7308, -7.8786, -6.8647, -7.7133, -7.9679, -7.2817, -8.0139, -8.1028, -8.1594, -8.2438, -8.1116, -7.6202, -8.1467, -8.3896, -8.41, -7.8799, -8.3077, -8.3007, -8.4075, -8.4039, -8.2858, -8.4024, -8.3972, -7.9552, -8.3323, -8.0405, -8.5121, -7.5914, -7.3041, -7.9883, -7.8061, -7.9187, -4.2273, -7.9353, -8.1724, -5.9576, -4.7935, -4.466, -5.9837, -6.3634, -6.3911, -7.1696, -7.2172, -7.4931, -6.686, -6.7758, -7.5615, -6.3586, -6.0887, -6.68, -4.4555, -5.8401, -6.8707, -6.1231, -6.4534, -4.361, -7.1647, -6.4898, -5.5045, -5.9797, -5.7098, -6.5375, -6.5358, -3.5305, -6.0694, -5.2671, -5.9456, -5.3922, -5.6169, -5.7983, -5.761, -5.4805, -5.6508, -6.0232, -6.0924, -5.6807, -4.8249, -4.7225, -5.0605, -4.9342, -5.6372, -5.2686, -5.8395, -5.705, -5.5668, -5.7284, -5.8122, -5.8428, -6.6969, -7.8803, -8.1707, -8.2727, -8.1532, -8.26, -8.3081, -7.5958, -8.2084, -8.3604, -7.7249, -7.2452, -8.5311, -8.5463, -8.5818, -8.6738, -7.5046, -8.6288, -8.184, -8.6388, -8.3972, -8.6168, -8.7333, -8.38, -8.6605, -8.4033, -8.7927, -8.6629, -8.8075, -8.6576, -5.37, -5.5013, -5.5708, -7.2378, -4.0994, -7.1595, -7.9972, -5.0856, -5.1838, -6.4376, -6.0229, -6.1465, -6.9674, -6.9014, -6.8355, -6.5243, -5.2945, -7.273, -3.6527, -4.8157, -6.9291, -6.3804, -7.5591, -4.0339, -5.4497, -6.306, -4.6209, -3.6718, -6.8169, -3.5375, -5.2325, -5.8423, -6.0191, -6.2031, -6.0984, -6.326, -4.6269, -5.0476, -5.9583, -4.1524, -4.5393, -4.1746, -5.5254, -4.5609, -3.9238, -4.9046, -3.9662, -4.6352, -4.2546, -5.2414, -5.0362, -4.7172, -4.8243, -5.0224, -4.9001, -5.0744, -5.252, -5.2069, -6.3197, -6.5174, -7.5739, -7.4514, -7.6738, -7.7458, -7.784, -7.9058, -7.715, -7.916, -8.1266, -8.1283, -8.2445, -8.2566, -6.4715, -8.1942, -8.3338, -8.147, -8.207, -7.8771, -8.3954, -8.112, -8.3734, -8.582, -8.6736, -8.6722, -7.7999, -8.5093, -8.6826, -8.7396, -8.2784, -8.2727, -8.3105, -8.1345, -7.4896, -7.6907, -7.7825, -5.3593, -2.9446, -7.4024, -3.7073, -6.622, -4.2417, -4.9936, -4.4044, -6.528, -6.3517, -7.6884, -7.4016, -4.9901, -3.7252, -4.0505, -5.6591, -5.7742, -5.9564, -5.6731, -4.6997, -4.4744, -3.861, -4.9588, -6.1331, -6.6102, -4.7048, -3.7201, -6.2265, -6.3447, -6.5204, -4.5742, -4.7236, -3.9695, -4.6027, -4.0924, -5.6214, -5.0995, -4.8978, -5.7372, -5.4285, -4.7453, -5.081, -5.0281, -5.3146, -5.2928, -5.3652, -5.4291, -5.3937, -6.8038, -7.0846, -7.4877, -6.9215, -7.2328, -7.622, -7.6734, -6.9975, -7.6901, -7.3765, -7.8103, -7.8202, -7.9303, -7.8172, -7.9537, -7.6729, -8.0453, -7.6131, -8.1482, -8.0299, -7.9027, -8.1107, -8.1812, -8.2535, -8.1969, -7.8642, -8.2041, -7.0425, -8.0966, -8.3746, -6.5185, -6.4664, -6.9266, -3.2281, -7.4405, -7.7196, -3.3706, -5.2716, -5.0485, -6.5085, -6.9338, -4.1779, -4.5884, -5.774, -7.1254, -6.5672, -4.1248, -4.1474, -7.0634, -3.5316, -5.793, -6.0989, -6.1628, -6.0402, -5.6952, -5.61, -5.2884, -6.4503, -6.2632, -3.8019, -5.4402, -4.6998, -5.1214, -4.5266, -4.9211, -4.9002, -4.9037, -5.5617, -5.0293, -4.7993, -5.1337, -5.2682, -5.4198, -5.5909, -5.1282, -5.1335, -4.6651, -4.7232, -5.3366, -4.8964, -5.3502, -5.2334, -5.3996], \"loglift\": [30.0, 29.0, 28.0, 27.0, 26.0, 25.0, 24.0, 23.0, 22.0, 21.0, 20.0, 19.0, 18.0, 17.0, 16.0, 15.0, 14.0, 13.0, 12.0, 11.0, 10.0, 9.0, 8.0, 7.0, 6.0, 5.0, 4.0, 3.0, 2.0, 1.0, 1.5656, 1.5632, 1.5606, 1.5604, 1.5602, 1.5599, 1.559, 1.5585, 1.5583, 1.5551, 1.554, 1.5539, 1.5534, 1.5525, 1.5524, 1.5512, 1.5509, 1.5509, 1.5509, 1.5505, 1.5501, 1.549, 1.5481, 1.5479, 1.5478, 1.5478, 1.547, 1.5463, 1.5461, 1.5458, 1.5428, 1.543, 1.5437, 1.5271, 1.5363, 1.5395, 1.466, 1.5031, 1.5012, 1.5377, 1.5434, 1.5366, 1.4696, 1.4636, 1.4681, 1.3153, 1.2825, 1.5009, 1.4117, 1.4676, 1.2903, 1.2248, 1.3095, 1.431, 1.2563, 1.1069, 1.2179, 1.2604, 1.3576, 1.1673, 1.0633, 1.2319, 1.1305, 1.1626, 1.0458, 1.1175, 1.2857, 1.2951, 1.3649, 1.128, 1.0666, 0.9268, 1.0492, 0.8007, 0.9296, 0.9261, 0.8116, 1.0542, 0.6439, 0.382, 0.9762, 1.0507, 0.7913, 0.7436, -0.285, 0.1184, -0.2163, 0.1186, -0.6377, -0.3447, -0.3559, -0.8919, -0.1296, 1.6373, 1.6358, 1.6318, 1.6317, 1.6302, 1.6294, 1.6285, 1.6274, 1.6225, 1.6223, 1.6219, 1.6215, 1.6183, 1.6178, 1.6162, 1.6159, 1.6158, 1.6141, 1.614, 1.6138, 1.6135, 1.6127, 1.6119, 1.6114, 1.6112, 1.6109, 1.6105, 1.6102, 1.6092, 1.6086, 1.54, 1.5886, 1.5985, 1.5921, 1.4976, 1.5807, 1.5843, 1.5254, 1.4801, 1.5493, 1.3748, 1.5857, 1.3413, 1.3353, 1.374, 1.398, 1.3473, 1.1258, 1.5142, 1.0775, 1.5381, 0.9322, 1.3078, 1.2763, 1.1406, 0.9664, 1.001, 0.9111, 1.2231, 1.26, 1.1821, 1.1948, 0.9281, 1.0907, 0.9376, 0.8913, 0.5801, 1.1587, 0.8701, 1.0548, 0.6546, 0.7434, 0.4981, 0.9122, 0.7653, 0.6474, 0.3847, 0.36, -0.0821, 0.2392, 0.0763, 0.2513, 0.5509, 0.002, -0.5149, -0.3529, 1.9461, 1.9458, 1.9439, 1.9429, 1.9411, 1.9389, 1.9386, 1.9382, 1.9365, 1.9357, 1.9354, 1.9353, 1.9343, 1.9341, 1.9338, 1.9336, 1.9334, 1.9332, 1.9327, 1.9323, 1.9322, 1.9321, 1.932, 1.9319, 1.9311, 1.9311, 1.931, 1.9307, 1.9303, 1.9296, 1.9242, 1.9282, 1.9162, 1.9285, 1.9187, 1.9218, 1.921, 1.8824, 1.8997, 1.8482, 1.8771, 1.8552, 1.878, 1.8801, 1.8151, 1.8002, 1.7557, 1.7183, 1.7575, 1.4773, 1.4676, 1.8636, 1.1993, 1.786, 1.7474, 1.1538, 1.204, 1.7814, 1.2625, 1.5207, 1.4141, 1.3629, 0.9174, 0.6241, 1.4113, 1.4399, 0.2554, 1.3521, 1.0359, 1.0107, 0.7613, 0.985, 0.5124, -0.3145, 0.1491, 0.6218, -0.0589, -0.1979, -0.0148, -0.2167, -0.1395, 0.0291, 0.3771, -0.1035, -0.2314, -0.276, 0.2803, -0.0513, -0.1686, -0.8414, -0.8535, -1.3758, 1.9672, 1.9663, 1.9629, 1.9628, 1.9627, 1.9624, 1.9621, 1.9617, 1.9615, 1.9608, 1.9593, 1.9593, 1.959, 1.9586, 1.9572, 1.9569, 1.9566, 1.9564, 1.9561, 1.9559, 1.9557, 1.9555, 1.9553, 1.9551, 1.9551, 1.955, 1.9547, 1.9543, 1.9542, 1.954, 1.9531, 1.9471, 1.9527, 1.95, 1.9505, 1.9095, 1.9491, 1.9523, 1.906, 1.8596, 1.8411, 1.8811, 1.8821, 1.8761, 1.8972, 1.8987, 1.9143, 1.8494, 1.8497, 1.9169, 1.8094, 1.7726, 1.8133, 1.5638, 1.7178, 1.8287, 1.7224, 1.7555, 1.4279, 1.8576, 1.7301, 1.5198, 1.608, 1.5056, 1.6891, 1.6819, 0.6734, 1.5191, 1.0994, 1.3522, 1.0423, 1.1442, 1.2186, 1.1331, 0.9001, 0.9514, 1.2377, 1.291, 0.812, -0.3884, -0.6234, -0.3408, -0.6612, 0.5738, -0.3171, 0.5807, -0.017, -0.6499, -0.2557, -0.0708, -0.1879, 1.9821, 1.9757, 1.9719, 1.9709, 1.9707, 1.9707, 1.9705, 1.9704, 1.97, 1.9697, 1.9674, 1.967, 1.9665, 1.9653, 1.9652, 1.9638, 1.9637, 1.9636, 1.9636, 1.9634, 1.9631, 1.9627, 1.9624, 1.9623, 1.9623, 1.9614, 1.9609, 1.96, 1.9597, 1.9589, 1.9474, 1.9452, 1.9427, 1.9558, 1.8893, 1.9455, 1.9517, 1.89, 1.8891, 1.8961, 1.8653, 1.8682, 1.902, 1.8954, 1.8915, 1.8743, 1.8093, 1.9114, 1.6526, 1.7348, 1.8715, 1.812, 1.9145, 1.6014, 1.728, 1.7698, 1.547, 1.3158, 1.8251, 1.1822, 1.5084, 1.6219, 1.6506, 1.6958, 1.6564, 1.6786, 1.0806, 1.2111, 1.5385, 0.7992, 0.9334, 0.7607, 1.3402, 0.7628, 0.2801, 0.8843, 0.1329, 0.5433, 0.0184, 0.8586, 0.6151, 0.1996, 0.3235, 0.2891, -0.4637, 0.198, 0.7672, -0.4013, 2.1901, 2.1895, 2.1882, 2.1861, 2.1859, 2.1856, 2.1842, 2.1841, 2.1839, 2.1837, 2.1813, 2.1801, 2.1792, 2.1792, 2.1788, 2.1772, 2.1772, 2.1761, 2.1746, 2.1742, 2.1741, 2.172, 2.1705, 2.1704, 2.1697, 2.1694, 2.1693, 2.1692, 2.1682, 2.1675, 2.1667, 2.1663, 2.1663, 2.1628, 2.1466, 2.1479, 2.1481, 2.0247, 1.8763, 2.1173, 1.8609, 2.0347, 1.7883, 1.8508, 1.7731, 2.0007, 1.9808, 2.117, 2.062, 1.6358, 1.3875, 1.3978, 1.6333, 1.6558, 1.6974, 1.6214, 1.3408, 1.2478, 1.0559, 1.3367, 1.6727, 1.8247, 1.1817, 0.7164, 1.6555, 1.6865, 1.7539, 0.7594, 0.7491, 0.1295, 0.5451, 0.1806, 1.1642, 0.608, 0.3747, 1.2223, 0.7946, -0.5413, -0.1456, -0.3084, -0.0023, -0.4872, -0.1866, -0.1176, -0.4422, 2.6577, 2.6555, 2.651, 2.6502, 2.6501, 2.6484, 2.6481, 2.6476, 2.6471, 2.6463, 2.6457, 2.6454, 2.6433, 2.643, 2.6424, 2.6413, 2.6401, 2.6391, 2.638, 2.6379, 2.6367, 2.6363, 2.6358, 2.6355, 2.6352, 2.6345, 2.6338, 2.6324, 2.6323, 2.6321, 2.6272, 2.6266, 2.6274, 2.5713, 2.624, 2.6296, 2.5266, 2.576, 2.5341, 2.5892, 2.5865, 2.4291, 2.4499, 2.5231, 2.588, 2.5442, 2.3172, 2.2856, 2.5715, 2.1233, 2.3857, 2.4293, 2.4372, 2.3984, 2.3213, 2.305, 2.2238, 2.4493, 2.3906, 1.6893, 2.1532, 1.8731, 1.9682, 1.7211, 1.783, 1.7053, 1.6677, 1.9804, 1.6608, 1.4239, 1.5018, 1.5474, 1.6827, 1.7682, 0.9616, 0.8597, -0.2287, -0.6242, 1.1561, -0.6925, 0.7351, -0.4818, 0.2267]}, \"token.table\": {\"Topic\": [1, 4, 3, 3, 1, 1, 2, 3, 5, 7, 1, 7, 1, 2, 3, 4, 5, 6, 7, 1, 1, 3, 4, 6, 7, 4, 1, 2, 3, 4, 5, 6, 7, 1, 2, 3, 4, 5, 6, 7, 3, 1, 2, 3, 4, 5, 6, 7, 4, 5, 1, 2, 3, 4, 5, 6, 7, 1, 2, 3, 4, 5, 6, 7, 1, 3, 4, 5, 6, 7, 5, 3, 5, 1, 3, 3, 7, 1, 2, 3, 4, 5, 6, 7, 1, 2, 3, 4, 5, 6, 7, 1, 2, 3, 4, 5, 6, 7, 1, 2, 1, 2, 3, 4, 5, 6, 7, 1, 1, 2, 3, 4, 5, 6, 7, 1, 3, 4, 5, 6, 7, 1, 2, 3, 4, 5, 6, 7, 4, 1, 2, 3, 4, 5, 6, 7, 1, 3, 1, 2, 3, 4, 5, 6, 7, 1, 2, 3, 4, 5, 6, 7, 5, 1, 5, 1, 2, 3, 4, 5, 6, 7, 1, 2, 3, 4, 5, 6, 7, 1, 2, 3, 4, 5, 6, 7, 1, 2, 3, 4, 6, 1, 2, 3, 4, 5, 6, 7, 1, 2, 3, 4, 5, 6, 7, 3, 4, 6, 7, 7, 3, 4, 5, 1, 2, 3, 4, 5, 6, 7, 1, 2, 3, 4, 5, 6, 3, 4, 6, 1, 2, 1, 2, 3, 4, 5, 6, 7, 4, 1, 2, 3, 4, 5, 6, 7, 1, 2, 3, 4, 5, 6, 7, 1, 2, 3, 4, 5, 6, 7, 1, 1, 2, 3, 4, 5, 6, 7, 1, 6, 7, 1, 2, 3, 4, 5, 6, 7, 1, 2, 3, 4, 5, 6, 7, 3, 4, 4, 3, 5, 1, 2, 3, 6, 1, 2, 3, 4, 5, 6, 7, 1, 2, 3, 4, 5, 6, 7, 3, 1, 2, 3, 4, 5, 6, 1, 2, 3, 4, 5, 6, 7, 5, 3, 4, 5, 7, 1, 2, 3, 4, 5, 6, 7, 1, 3, 4, 6, 7, 3, 1, 4, 5, 4, 1, 2, 3, 4, 5, 6, 7, 1, 2, 3, 4, 5, 6, 7, 2, 5, 7, 1, 2, 4, 6, 7, 2, 3, 2, 4, 1, 2, 3, 4, 5, 6, 7, 1, 2, 3, 4, 5, 6, 7, 1, 2, 3, 4, 5, 6, 7, 1, 2, 3, 4, 5, 6, 7, 7, 4, 2, 5, 1, 2, 3, 4, 5, 6, 3, 7, 1, 2, 3, 4, 5, 6, 7, 1, 1, 2, 3, 4, 5, 6, 7, 1, 2, 3, 4, 5, 6, 7, 1, 2, 3, 4, 5, 6, 7, 3, 4, 7, 1, 2, 3, 4, 5, 6, 7, 1, 2, 3, 5, 6, 7, 1, 2, 3, 4, 5, 6, 7, 1, 2, 3, 4, 5, 6, 7, 6, 1, 2, 3, 4, 5, 6, 7, 6, 1, 2, 3, 4, 5, 6, 7, 3, 5, 2, 3, 1, 2, 3, 6, 7, 1, 2, 3, 4, 5, 6, 7, 2, 6, 1, 2, 3, 4, 5, 6, 7, 3, 6, 2, 1, 2, 3, 4, 5, 6, 7, 4, 4, 7, 1, 2, 3, 4, 5, 6, 7, 1, 2, 3, 4, 5, 6, 1, 2, 3, 4, 5, 6, 7, 3, 4, 7, 4, 3, 5, 6, 1, 6, 2, 3, 4, 6, 1, 1, 2, 3, 4, 5, 6, 7, 5, 2, 1, 2, 3, 4, 5, 6, 7, 4, 1, 2, 3, 4, 5, 6, 7, 1, 2, 1, 2, 3, 4, 5, 6, 7, 2, 6, 2, 4, 1, 2, 3, 4, 5, 6, 7, 1, 3, 4, 7, 1, 2, 3, 4, 5, 6, 7, 1, 2, 3, 4, 5, 6, 7, 1, 4, 5, 7, 1, 2, 7, 1, 2, 3, 4, 5, 6, 7, 2, 2, 7, 4, 3, 1, 2, 4, 1, 2, 3, 4, 5, 6, 7, 1, 2, 3, 4, 5, 6, 7, 1, 2, 3, 4, 5, 6, 3, 6, 2, 1, 2, 3, 4, 5, 6, 7, 2, 4, 1, 2, 3, 4, 5, 6, 7, 1, 2, 3, 4, 5, 6, 7, 1, 3, 4, 5, 7, 6, 1, 2, 3, 4, 5, 6, 7, 1, 2, 3, 4, 5, 6, 7, 3, 4, 1, 2, 3, 4, 5, 6, 7, 1, 2, 3, 4, 5, 6, 7, 2, 3, 4, 5, 6, 7, 1, 2, 3, 4, 5, 6, 7, 1, 2, 3, 4, 5, 6, 7, 1, 2, 3, 5, 6, 7, 1, 2, 3, 4, 5, 6, 7, 1, 2, 3, 4, 5, 6, 7, 1, 2, 3, 4, 5, 6, 7, 1, 2, 3, 4, 5, 6, 7, 1, 2, 3, 4, 5, 6, 7, 1, 2, 6, 7, 1, 2, 3, 4, 5, 1, 2, 3, 4, 5, 6, 7, 4, 5, 1, 2, 3, 4, 5, 6, 7, 4, 6, 4, 5, 6, 1, 2, 3, 4, 5, 6, 7, 6, 4, 7, 1, 3, 4, 6, 7, 1, 2, 3, 4, 5, 6, 7, 2, 6, 1, 2, 3, 4, 5, 6, 7, 4, 6, 7, 7, 2, 1, 2, 3, 4, 5, 6, 7, 1, 2, 3, 4, 5, 6, 1, 2, 3, 4, 5, 6, 7, 4, 3, 1, 2, 3, 4, 5, 6, 7, 1, 2, 3, 4, 5, 6, 7, 1, 2, 3, 1, 2, 3, 4, 5, 6, 7, 1, 2, 3, 4, 5, 6, 7, 6, 1, 2, 3, 4, 5, 6, 7, 1, 2, 3, 4, 5, 6, 7, 4, 3, 6, 2, 3, 4, 5, 6, 1, 2, 3, 4, 5, 6, 7, 1, 2, 3, 4, 5, 6, 7, 1, 2, 3, 4, 5, 6, 7, 2, 5, 1, 5, 6, 1, 4, 1, 2, 3, 4, 5, 6, 7, 1, 6, 4, 3, 5, 6, 1, 2, 3, 4, 5, 6, 7, 1, 2, 3, 4, 5, 6, 7, 3, 1, 1, 4, 5, 6, 1, 6, 2, 1, 4, 4, 1, 2, 3, 4, 5, 6, 7, 5, 3, 3, 3, 6, 2, 7, 2, 7, 1, 4, 1, 2, 3, 4, 5, 6, 7, 1, 2, 3, 4, 5, 6, 7, 4, 6, 1, 2, 3, 4, 5, 6, 7, 1, 2, 3, 4, 5, 6, 7, 1, 2, 3, 4, 5, 6, 7, 2, 2, 2, 5, 6, 1, 2, 3, 4, 5, 6, 7, 1, 2, 3, 4, 5, 6, 7, 1, 2, 3, 4, 5, 6, 7, 3, 5, 6, 1, 1, 2, 3, 4, 5, 6, 7, 6, 1, 2, 3, 4, 5, 6, 7, 1, 2, 3, 4, 5, 6, 7, 1, 2, 3, 4, 5, 6, 7, 1, 2, 3, 4, 5, 6, 7, 1, 2, 3, 4, 5, 6, 7, 1, 2, 3, 4, 5, 6, 7, 1, 2, 3, 4, 5, 6, 7, 1, 2, 3, 4, 6, 7, 1, 2, 3, 4, 5, 6, 7, 1, 2, 3, 4, 5, 6, 7, 1, 2, 3, 4, 5, 6, 7, 1, 5, 1, 2, 3, 4, 5, 6, 7, 1, 2, 3, 4, 5, 6, 7, 4, 5, 1, 2, 3, 4, 5, 6, 7, 5, 7, 1, 2, 3, 4, 5, 6, 7, 1, 2, 3, 4, 5, 6, 7, 6, 7, 1, 7, 1, 2, 3, 4, 5, 6, 7, 4, 2, 7, 5, 3, 6, 3, 7, 1, 2, 3, 4, 5, 6, 7, 1, 2, 3, 4, 5, 6, 7, 1, 2, 3, 4, 5, 6, 7, 1, 3, 4, 1, 2, 3, 4, 5, 6, 7, 1, 7, 4, 1, 2, 3, 4, 5, 6, 7, 1, 2, 3, 4, 5, 6, 7, 1, 2, 3, 4, 5, 6, 7, 3, 4, 5, 7, 1, 2, 3, 4, 5, 6, 7, 4, 1, 1, 2, 3, 4, 5, 6, 7, 5, 1, 3, 1, 2, 3, 4, 5, 6, 7, 1, 2, 4, 5, 1, 3, 1, 2, 3, 4, 5, 6, 7, 6, 1, 2, 3, 4, 5, 6, 7, 1, 2, 3, 4, 5, 6, 7, 1, 2, 3, 4, 5, 6, 7, 3, 6, 1, 2, 3, 4, 5, 6, 7, 1, 2, 3, 4, 5, 6, 7, 6, 1, 2, 3, 4, 6, 7, 1, 2, 5, 4, 5, 4, 4, 1, 2, 3, 4, 5, 6, 7, 4, 2, 5, 1, 2, 3, 4, 5, 6, 7, 1, 2, 3, 4, 5, 6, 7, 3, 3, 4, 6, 7, 3, 4, 1, 2, 3, 4, 5, 6, 7, 7, 1, 1, 2, 3, 4, 5, 6, 7, 1, 2, 3, 4, 5, 6, 7, 1, 2, 3, 4, 5, 6, 7, 2, 6, 6, 6, 1, 2, 3, 4, 5, 6, 7, 1, 1, 2, 3, 4, 5, 6, 7, 5, 1, 4, 6, 2, 3, 4, 5, 1, 2, 3, 4, 5, 6, 1, 2, 3, 4, 5, 6, 7, 7, 1, 2, 3, 4, 5, 6, 7, 1, 2, 3, 4, 5, 6, 7, 1, 2, 3, 7, 5, 1, 2, 3, 4, 5, 6, 7, 1, 2, 3, 4, 5, 6, 7, 1, 2, 3, 4, 5, 6, 7, 7, 3, 6, 3, 4, 6, 7, 1, 3, 1, 2, 3, 4, 5, 6, 7, 2, 4, 1, 2, 3, 4, 1, 1, 2, 3, 4, 5, 6, 7, 1, 2, 3, 4, 5, 6, 7, 1, 2, 3, 4, 5, 6, 7, 1, 2, 3, 4, 5, 6, 7, 7, 1, 3, 4, 7, 2, 1, 2, 3, 4, 5, 6, 7, 1, 2, 3, 4, 5, 6, 7, 4, 1, 2, 3, 4, 5, 6, 7, 2, 7, 1, 2, 3, 4, 5, 6, 7, 1, 2, 3, 4, 5, 6, 7, 1, 2, 3, 4, 5, 6, 7, 1, 2, 3, 4, 6, 3, 7, 1, 2, 3, 4, 5, 6, 7, 2, 3, 4, 5, 1, 2, 3, 4, 5, 6, 7, 1, 3, 1, 2, 3, 4, 5, 6, 7, 7, 1, 4, 5, 1, 2, 3, 4, 5, 6, 7, 1, 2, 3, 4, 5, 6, 7, 1, 2, 3, 4, 5, 6, 7, 1, 2, 3, 4, 5, 6, 7, 1, 2, 3, 4, 5, 6, 7, 1, 4, 5, 1, 2, 3, 5, 1, 2, 3, 4, 5, 6, 7, 4, 4, 5, 7, 1, 2, 3, 4, 5, 6, 7, 1, 2, 3, 4, 5, 6, 7, 1, 2, 3, 4, 7, 1, 2, 3, 4, 5, 6, 7, 1, 2, 3, 4, 5, 6, 7, 1, 2, 3, 4, 5, 6, 7, 1, 2, 3, 4, 5, 6, 7, 1, 2, 3, 4, 5, 6, 7, 1, 2, 3, 4, 5, 6, 7, 1, 2, 3, 4, 5, 6, 7, 3, 6, 1, 2, 3, 4, 5, 6, 7, 5, 2, 1, 2, 3, 4, 5, 6, 7, 7, 1, 2, 3, 4, 5, 6, 7, 1, 1, 2, 3, 4, 5, 6, 7, 5, 1, 2, 3, 4, 5, 6, 7, 1, 2, 3, 4, 5, 6, 7, 1, 2, 3, 4, 5, 6, 7, 3, 1, 2, 3, 4, 5, 6, 7, 7, 1, 2, 3, 4, 5, 6, 7, 1, 2, 3, 4, 5, 6, 7, 3, 3, 2, 3, 6, 2, 2, 1, 2, 3, 4, 5, 6, 7, 1, 2, 3, 4, 5, 7, 6, 1, 2, 3, 4, 5, 6, 7, 1, 2, 3, 4, 5, 6, 7, 1, 2, 3, 4, 5, 6, 7, 7, 1, 2, 3, 4, 5, 6, 7, 1, 2, 3, 4, 5, 6, 7, 1, 1, 2, 3, 4, 5, 6, 7, 7, 4, 1, 3, 5, 6, 7, 1, 2, 3, 4, 5, 6, 7, 1, 2, 3, 4, 5, 6, 7, 1, 2, 3, 4, 5, 6, 7, 1, 2, 3, 5, 6, 7, 1, 2, 3, 4, 5, 6, 7, 2, 5, 1, 2, 3, 4, 5, 6, 7, 1, 6, 3, 1, 2, 3, 4, 5, 6, 7, 1, 2, 3, 4, 5, 6, 7, 1, 2, 3, 4, 5, 6, 7, 1, 2, 3, 4, 5, 6, 7, 1, 2, 3, 4, 5, 6, 7, 5, 7, 3, 6, 6, 1, 3, 4, 5, 6, 7, 1, 1, 2, 1, 5, 3, 4, 5, 6, 7, 5, 4, 5, 6, 1, 2, 3, 4, 5, 6, 7, 1, 2, 3, 4, 5, 6, 7, 1, 2, 3, 4, 5, 6, 7, 1, 2, 3, 4, 5, 6, 7, 1, 2, 3, 4, 5, 6, 7, 1, 2, 3, 4, 5, 6, 7, 4, 5, 1, 5, 5, 1, 3, 4, 6, 7, 1, 2, 3, 4, 5, 6, 7, 1, 2, 3, 4, 5, 6, 7, 3, 1, 2, 3, 5, 1, 2, 3, 4, 5, 6, 7, 2, 1, 2, 3, 4, 5, 6, 7, 5, 1, 2, 3, 4, 5, 6, 7, 1, 2, 3, 4, 5, 6, 7, 7, 7, 1, 2, 3, 4, 5, 6, 7, 1, 2, 3, 4, 5, 6, 7, 1, 2, 3, 4, 5, 6, 7, 1, 1, 2, 3, 4, 5, 6, 7, 1, 2, 3, 4, 5, 6, 7, 6, 2, 3, 5, 6, 1, 2, 3, 4, 5, 6, 7, 3, 3, 5], \"Freq\": [0.985586681724059, 0.007466565770636811, 0.9703333274919922, 0.9715579654089422, 0.9698896324578679, 0.040218844148239744, 0.010054711037059936, 0.010054711037059936, 0.010054711037059936, 0.925033415409514, 0.9803631332084286, 0.01101531610346549, 0.1809152642539917, 0.02396984573712193, 0.053646797602130036, 0.02396984573712193, 0.0034242636767317044, 0.7071104492450969, 0.006848527353463409, 0.9823926025940171, 0.004633622495687973, 0.048653036204723714, 0.9128236316505306, 0.0023168112478439864, 0.030118546221971822, 0.9881270425237338, 0.16688943914116683, 0.7146004172621775, 0.03696209054804366, 0.03808215389798438, 0.010080570149466454, 0.002240126699881434, 0.03136177379834008, 0.1742851845626881, 0.7430995026731051, 0.017309145042184778, 0.004178069492941153, 0.003581202422520988, 0.05371803633781482, 0.004178069492941153, 0.9796198091964308, 0.260221538688047, 0.5545138291208287, 0.005925348129519096, 0.010863138237451676, 0.001975116043173032, 0.1634408525725684, 0.002962674064759548, 0.9775321578615942, 0.9782862354087548, 0.14571552829348047, 0.5076329145406828, 0.2649439575531435, 0.009631672375933611, 0.010434311740594745, 0.05465244401192632, 0.007004852637042626, 0.09042378694834469, 0.48028649419335934, 0.015141120546074555, 0.016494516796003007, 0.29360239896885354, 0.09600654647929954, 0.008035790233950183, 0.005333698823616741, 0.9333972941329296, 0.010667397647233482, 0.005333698823616741, 0.03733589176531719, 0.010667397647233482, 0.9803024720639982, 0.9932637859537862, 0.004729827552160886, 0.9677115123862208, 0.026880875344061687, 0.9701987375606353, 0.9926374205456844, 0.03138018295491969, 0.0048277204546030295, 0.02051781193206287, 0.17259100625205828, 0.14241775341078936, 0.03017325284126893, 0.5998442664844263, 0.001164782235771625, 0.01164782235771625, 0.027954773658519, 0.7745801867881306, 0.05008563613817987, 0.00232956447154325, 0.1316203926421936, 0.0028105090713036207, 0.0028105090713036207, 0.05339967235476879, 0.09274679935301948, 0.07869425399650137, 0.0028105090713036207, 0.7672689764658884, 0.971396775073336, 0.027754193573523885, 0.08636435088059596, 0.23371405479529697, 0.11250093075235527, 0.3943214441521948, 0.07500062050157018, 0.020075923669612222, 0.07803094860264373, 0.9909725357968631, 0.07384713069060005, 0.17411464244939132, 0.6217451971047294, 0.004114649510619944, 0.01277706953297772, 0.10806368977891326, 0.004980891512855722, 0.09529335518596904, 0.06455356319049516, 0.009221937598642165, 0.0030739791995473883, 0.03996172959411605, 0.7900126542836788, 0.1423303778483193, 0.16470936807604247, 0.059080534201189146, 0.010741915309307118, 0.009846755700198192, 0.5621602345204058, 0.05191925732831773, 0.9941968924776098, 0.035086047335698374, 0.06523279674549746, 0.0882260801936493, 0.022993283448151845, 0.6806011900652946, 0.09469826368275872, 0.013114687596353276, 0.017769313227042723, 0.9773122274873498, 0.0008436893495283623, 0.0028122978317612077, 0.007030744579403019, 0.9381825566755388, 0.04977767162217338, 0.0008436893495283623, 0.0005624595663522415, 0.08232569232822268, 0.0045109968399026125, 0.6157510686467066, 0.12997309644969401, 0.03806153583667829, 0.005638746049878265, 0.12377047579482792, 0.9853416460267072, 0.9762153694052124, 0.013945933848645892, 0.7600495334073725, 0.05866591595768741, 0.07952490829819849, 0.05605854191512353, 0.011733183191537482, 0.019555305319229138, 0.014340557234101367, 0.007916089092235417, 0.0094993069106825, 0.03483079200583584, 0.9119334634255201, 0.02216504945825917, 0.011082524729129585, 0.0015832178184470836, 0.7307536827978138, 0.005513230803001338, 0.052125091228376295, 0.11477544126248242, 0.048115468826193504, 0.01503608400818547, 0.03358058761828088, 0.9376673856454267, 0.004987592476837376, 0.009975184953674752, 0.019950369907349504, 0.02493796238418688, 0.1366103838193739, 0.2727728647409794, 0.0962991230202144, 0.3596660269080566, 0.0756955897228662, 0.013884989830821612, 0.04523819267461235, 0.7080375283593319, 0.05214040986541535, 0.016080687154754268, 0.023877383957059368, 0.016567980704898337, 0.018760801680546644, 0.1644615731736232, 0.01861615815957069, 0.01861615815957069, 0.9494240661381053, 0.009308079079785345, 0.9722977020444984, 0.01106496130613922, 0.9294567497156945, 0.04979232587762649, 0.770523896810785, 0.05415822916880918, 0.03200258996338724, 0.09600776989016171, 0.033643748423048125, 0.0032823169193217684, 0.009846950757965305, 0.006775788406485142, 0.016939471016212855, 0.04404262464215342, 0.884240387046311, 0.04404262464215342, 0.003387894203242571, 0.973503733936817, 0.017306733047765633, 0.008653366523882816, 0.017276266260186173, 0.9674709105704257, 0.004679008138758831, 0.01786530380253372, 0.0893265190126686, 0.05189445390259794, 0.7775660797864675, 0.05189445390259794, 0.006805830020012845, 0.9913146503817746, 0.07095056942678789, 0.06286759316297662, 0.12034653548341238, 0.5370688673065717, 0.15716898290744152, 0.039516772845299586, 0.011675410158838514, 0.11640556731129528, 0.7340609018514019, 0.032714557896918406, 0.05747454863396966, 0.03831636575597978, 0.011875832661210105, 0.00907492873167942, 0.18912231028391582, 0.17139209369479871, 0.09012860099467863, 0.033982915129141124, 0.004432554147279277, 0.1359316605165645, 0.37455082544509893, 0.9725789459185133, 0.242021010165967, 0.22332181512003135, 0.10498262361503867, 0.11727066607379638, 0.0769338310461352, 0.09055753029388831, 0.14531945864269982, 0.9860652320227797, 0.9573764406467704, 0.03419201573738466, 0.09699106390972272, 0.011796210475506818, 0.549179132137484, 0.07339864295870908, 0.15204004612875455, 0.007864140317004545, 0.10878727438522953, 0.05598953038982638, 0.006460330429595352, 0.8204619645586096, 0.07967740863167601, 0.01722754781225427, 0.0021534434765317838, 0.015074104335722488, 0.012624175036151902, 0.9846856528198483, 0.9851991910268767, 0.03283527803806354, 0.95769560944352, 0.009753300307981277, 0.009753300307981277, 0.9655767304901464, 0.009753300307981277, 0.6443457916871649, 0.12002183453459697, 0.12036475406183868, 0.05589588294039802, 0.021603930216227456, 0.027090642652094744, 0.010973424871734581, 0.012622351076953945, 0.006311175538476973, 0.02997808380776562, 0.8188750261173872, 0.10255660250025081, 0.0031555877692384863, 0.02524470215390789, 0.975051946092066, 0.0043234318284223056, 0.0043234318284223056, 0.034587454627378444, 0.034587454627378444, 0.9208909794539512, 0.0043234318284223056, 0.306501273781692, 0.08673716398807414, 0.04089679752805568, 0.09887137863925549, 0.06112048861335794, 0.022470767872558067, 0.3833512999058406, 0.9676249510873959, 0.01218256411207118, 0.00609128205603559, 0.9806964110217301, 0.00609128205603559, 0.1207850693251586, 0.24526676354781318, 0.1398699699587424, 0.10118436056634283, 0.3051005060747245, 0.07135345732375918, 0.01633392396567981, 0.025423819784642244, 0.9279694221394419, 0.004237303297440374, 0.02966112308208262, 0.012711909892321122, 0.9938698210189979, 0.015822764999577, 0.04746829499873101, 0.9335431349750432, 0.9790859923602486, 0.03920145060561166, 0.1410137488609443, 0.3552283107010876, 0.012076276252913545, 0.052578248916531276, 0.3868124178240923, 0.01300522058006074, 0.027880440420464885, 0.01045516515767433, 0.04182066063069732, 0.045305715683255435, 0.03833560557813921, 0.07318615610372033, 0.7597420014576681, 0.966288126792593, 0.9737055772353527, 0.9887371918063147, 0.01399963765733333, 0.002799927531466666, 0.02239942025173333, 0.6887821727407999, 0.2715929705522666, 0.9517085219573319, 0.032817535239908, 0.9368532258624331, 0.04930806451907543, 0.03136432835997622, 0.009409298507992865, 0.5990586716755457, 0.16936737314387157, 0.17877667165186445, 0.0015682164179988108, 0.010977514925991676, 0.7559275847494417, 0.08557670770748396, 0.042431784238294135, 0.03565696154478498, 0.041718645007398435, 0.01996789846507959, 0.01854162000328819, 0.30483905462238214, 0.11541252834650255, 0.11643978716578605, 0.0942509966692622, 0.08628974081981498, 0.22738373964840533, 0.05542061330034546, 0.028564261116800643, 0.02156893186370661, 0.3800795560847759, 0.026815428803527133, 0.5240667498776281, 0.015156546715037076, 0.0034976646265470175, 0.9828067325573245, 0.9781791824136548, 0.9667078068059027, 0.9971654534128264, 0.007295713140314032, 0.003647856570157016, 0.06566141826282629, 0.8645420071272127, 0.05106999198219822, 0.003647856570157016, 0.9789562073616123, 0.9646349892808616, 0.8078689771911469, 0.05223290800804829, 0.04875071414084507, 0.05571510187525151, 0.0174109693360161, 0.00522329080080483, 0.012187678535211268, 0.9943779554671001, 0.4601559949306453, 0.48098910987190563, 0.012426770315839508, 0.008406344625420843, 0.002923945956668119, 0.027777486588347132, 0.0073098648916702985, 0.03705109655366923, 0.018010949713589207, 0.06432482040567573, 0.2253941707014878, 0.6200912687107141, 0.016981752587098393, 0.018010949713589207, 0.2648874894655395, 0.06436951230019229, 0.13290683474931791, 0.12271885438525869, 0.06761114241602932, 0.0351948412576591, 0.31258576116999853, 0.021627401539027577, 0.010813700769513789, 0.9624193684867272, 0.19453471886206966, 0.6152546465597997, 0.006175705360700624, 0.000771963170087578, 0.001543926340175156, 0.17291975009961746, 0.0077196317008757795, 0.9032405913631838, 0.029886637214222994, 0.013282949872987997, 0.029886637214222994, 0.006641474936493998, 0.019924424809481995, 0.09755421050196228, 0.31297360277758873, 0.3037413431086333, 0.011078711602746505, 0.024927101106179635, 0.1914155171363424, 0.05816323591441915, 0.4427088032635373, 0.012385937741186097, 0.08882486780107743, 0.4172291599102402, 0.008493214451099037, 0.015924777095810694, 0.014155357418498394, 0.9923792152240328, 0.7336699509324904, 0.008114322037963029, 0.10616237999668295, 0.12374341107893617, 0.006085741528472271, 0.014876257069598884, 0.006761935031635856, 0.9926020942876547, 0.9011134372673181, 0.006920994141838081, 0.03460497070919041, 0.026299777738984707, 0.024223479496433283, 0.002076298242551424, 0.004844695899286657, 0.9666520063829402, 0.023576878204461957, 0.012273941608302578, 0.9819153286642063, 0.008289822936236448, 0.008289822936236448, 0.016579645872472897, 0.04144911468118224, 0.9284601688584821, 0.06366102776778876, 0.008408060271217384, 0.0348333925521863, 0.6354091262105708, 0.2330233846594532, 0.010810363205850921, 0.014413817607801228, 0.8792069942791867, 0.11961999922165806, 0.003663383270759533, 0.011905995629968481, 0.007326766541519066, 0.007326766541519066, 0.9616381085743774, 0.006410920723829182, 0.0018316916353797665, 0.9898234023001522, 0.9708705384524557, 0.9599566078861107, 0.0029683583020114275, 0.0029683583020114275, 0.032651941322125705, 0.8519188326772797, 0.04452537453017141, 0.0029683583020114275, 0.06530388264425141, 0.9810862121324212, 0.07062125189697993, 0.9289410826448898, 0.10672066804489248, 0.10512782225317767, 0.025963386404951456, 0.023574117717379234, 0.0046192527959729585, 0.7142320530049222, 0.019751287817263683, 0.003749811259846377, 0.003749811259846377, 0.003749811259846377, 0.06374679141738841, 0.9112041361426697, 0.014999245039385508, 0.05085852183389207, 0.00949359074232652, 0.13562272489037885, 0.4699327417451627, 0.2583612909161717, 0.05085852183389207, 0.024412090480268194, 0.019001395824323933, 0.9754049856486287, 0.9846185534410388, 0.9819690377195063, 0.00984549146507253, 0.984549146507253, 0.00984549146507253, 0.9750375177081027, 0.9704919980803735, 0.01283385803435868, 0.9304547074910043, 0.05133543213743472, 0.9893905870448739, 0.9694025712807419, 0.11596998537896643, 0.07570262934460308, 0.03865666179298881, 0.12724484506858816, 0.05637429844810868, 0.5814606211362067, 0.0064427769654981345, 0.9674333495724353, 0.9654120714531018, 0.46839570754890314, 0.2657622293180753, 0.04890025019452585, 0.05347953783816038, 0.042358410703619384, 0.10712262166359342, 0.014064954905448908, 0.9860983842809908, 0.23260605207710072, 0.3258799217159779, 0.20691523438500303, 0.06874029598696409, 0.06040813889763511, 0.07915549234862532, 0.026153715308171524, 0.04192400458756366, 0.9363027691222551, 0.7501039885985386, 0.17568224996123666, 0.020585560589358388, 0.015227674956511684, 0.007754834468593913, 0.01720163282124468, 0.013535711072454831, 0.9780640582097141, 0.9721241723073898, 0.9623989913190264, 0.01924797982638053, 0.5947143611003676, 0.070838552707246, 0.1345383365370176, 0.04228347719734839, 0.008237041012470466, 0.13508747260451562, 0.014277537754948806, 0.011014634644995615, 0.005507317322497807, 0.09913171180496053, 0.886678088922147, 0.10795292826609586, 0.595338481896921, 0.061220380517042663, 0.04108600779845217, 0.091830570775564, 0.06827855545529395, 0.034325019173390425, 0.050408274660912404, 0.11615819813166771, 0.015341648809842906, 0.1358831751728943, 0.6388700897241725, 0.020820809099072513, 0.021916641156918437, 0.9048850330097415, 0.0026152746618778658, 0.0052305493237557316, 0.08630406384196958, 0.017146788840948165, 0.017146788840948165, 0.9602201750930972, 0.5940616754376508, 0.05991067852078219, 0.20275034888875237, 0.0444600298496331, 0.06148727532396067, 0.01986511972004883, 0.017342564834963266, 0.954770765702869, 0.9824079402089682, 0.9719223112541358, 0.9832663180240894, 0.9901024141020052, 0.9873906433512529, 0.9877798457480176, 0.992378758108637, 0.21242782302299063, 0.23631024099598955, 0.034880899934248456, 0.027024841390498804, 0.060334529615997334, 0.03959453506049825, 0.3893462614282328, 0.19573382418076118, 0.5749112091634916, 0.05143702821494422, 0.014111043138613017, 0.009103898799105172, 0.12836497306738293, 0.026856501457360255, 0.08775024614978806, 0.0039886475522630934, 0.8136841006616711, 0.039886475522630936, 0.023931885313578562, 0.023931885313578562, 0.018028551136498046, 0.9735417613708945, 0.9814968712862844, 0.03001911775838633, 0.010721113485137974, 0.03859600854649671, 0.8491121880229276, 0.04717289933460709, 0.01715378157622076, 0.00857689078811038, 0.9615858769140679, 0.016579066843346, 0.03350254394468286, 0.006700508788936573, 0.06700508788936572, 0.8040610546723888, 0.049137064452201534, 0.02010152636680972, 0.017868023437164194, 0.006355680798951941, 0.006554295823919189, 0.07249448411304557, 0.57955864285443, 0.33228293677020615, 0.0025819953245742257, 0.0003972300499344963, 0.002167128259851951, 0.02167128259851951, 0.21021144120563923, 0.008668513039407804, 0.7563277626883309, 0.9632538395575984, 0.05740829503487366, 0.11361222024384088, 0.08270006137890891, 0.31313615473567447, 0.13769961676196968, 0.07426947259756382, 0.22120259135814954, 0.015478826056502212, 0.02476612169040354, 0.03405341732430486, 0.8822930852206261, 0.009287295633901326, 0.0030957652113004423, 0.030957652113004424, 0.008776214522638546, 0.9829360265355173, 0.005917297759576452, 0.009615608859311736, 0.01923121771862347, 0.10577169745242909, 0.8380372952000151, 0.010355271079258791, 0.011834595519152905, 0.002389359108418679, 0.002389359108418679, 0.8721160745728179, 0.1146892372040966, 0.002389359108418679, 0.004778718216837358, 0.002389359108418679, 0.01462330383278459, 0.9011610986953504, 0.027418694686471106, 0.031074520644667255, 0.01462330383278459, 0.010967477874588443, 0.059867047057601604, 0.2068800097097548, 0.06920410944273213, 0.034602054721366064, 0.40423987737976863, 0.20395073523598833, 0.021237239934806685, 0.2150438936024609, 0.29773173914250395, 0.26443462013309066, 0.01692603549645176, 0.06270957413439505, 0.11848224847516232, 0.024417887273569753, 0.010800823599438068, 0.002700205899859517, 0.051303912097330824, 0.8937681528535001, 0.03510267669817372, 0.002700205899859517, 0.14740155042323955, 0.5672918313566798, 0.11424676042832749, 0.029142426874508676, 0.07250410550904332, 0.026397125792127423, 0.043009716957306286, 0.02150420516376911, 0.05415873893097405, 0.0493800266723587, 0.0692913277499227, 0.7725584818094828, 0.027079369465487026, 0.007168068387923037, 0.39604719471210387, 0.15255613201036317, 0.06561285808458792, 0.027193161715665715, 0.29425994718924503, 0.05438632343133143, 0.009854402640080695, 0.09319222639839515, 0.07874192059680432, 0.03208457728827797, 0.00930697661797376, 0.7162698189280069, 0.045677661559265954, 0.024492043731509896, 0.09646268066021148, 0.8483242838202995, 0.006841324869518544, 0.0013682649739037089, 0.00615719238256669, 0.028733564451977885, 0.011630252278181525, 0.025010772093450075, 0.9420724155199529, 0.016673848062300052, 0.008336924031150026, 0.9034368266163024, 0.08365155802002801, 0.0083651558020028, 0.0041825779010014, 0.9737127401265467, 0.04555296848196703, 0.08791432770723573, 0.07572818327256939, 0.10039061843796555, 0.6444149235569985, 0.032496385159110235, 0.013346729618920274, 0.9883493124765876, 0.9806807518585657, 0.815264829953954, 0.00616069141023139, 0.04928553128185112, 0.09446393495688132, 0.004107127606820927, 0.00616069141023139, 0.02464276564092556, 0.9906020416702356, 0.008289556834060548, 0.011958861549503949, 0.9686677855098198, 0.011958861549503949, 0.03735026352519002, 0.010893826861513755, 0.02178765372302751, 0.006225043920865004, 0.004668782940648752, 0.003112521960432502, 0.9150814563671554, 0.9816814419387365, 0.9752779546713921, 0.011750336803269784, 0.020822083668550383, 0.9057606395819418, 0.045114514615192496, 0.010411041834275192, 0.017351736390458655, 0.5255389913308873, 0.056231760206023225, 0.11991042919608737, 0.05380011652143844, 0.09756970284396463, 0.1033448565948535, 0.04361760859223964, 0.9678445104845305, 0.9732901537251759, 0.1495958708674434, 0.12528654185148383, 0.054228503189448225, 0.03365907094517476, 0.0056098451575291265, 0.6002534318556165, 0.031789122559331716, 0.9758865728879909, 0.010493404009548289, 0.9700706824658629, 0.9834275419075019, 0.982240223332137, 0.13804868900984257, 0.14212607644895184, 0.40016645295258163, 0.08271271662193098, 0.15727065836564344, 0.06407323118600287, 0.016309549756437097, 0.041331697446364904, 0.010332924361591226, 0.020665848723182452, 0.06199754616954736, 0.850744105771011, 0.013777232482121636, 0.1998600419358009, 0.09837290790057293, 0.44991408157133544, 0.10899791471292532, 0.10020480562684059, 0.014105612492260925, 0.028394414757148614, 0.9818230731991356, 0.9788540302840454, 0.18375078212302612, 0.15956528592063746, 0.08096242326287427, 0.05692439959830504, 0.09910154541466577, 0.04261956342981906, 0.377087279204316, 0.16757586697590496, 0.7636794313551809, 0.009874239813268525, 0.006654379004594006, 0.013451862934017992, 0.024327837221096365, 0.014453597407827841, 0.08890561267862625, 0.897946688054125, 0.008890561267862624, 0.7130681197905152, 0.05088076552796851, 0.06636621590604588, 0.011798438383297047, 0.016960255175989505, 0.08848828787472784, 0.052355570325880646, 0.5521532536937598, 0.017054926755019607, 0.06608784117570099, 0.11043065073875197, 0.2345052428815196, 0.014496687741766668, 0.005542851195381373, 0.9690419090777904, 0.6360343775850794, 0.16447864094133727, 0.07846687457751869, 0.02640712125204956, 0.05055077496820916, 0.0362154805742394, 0.008299380964929862, 0.16541916692103548, 0.08438991359854181, 0.16392554013168076, 0.24831545373022257, 0.18819697545869501, 0.051903530930076595, 0.0978325547027343, 0.9842348736306863, 0.014098115430759835, 0.9727699647224286, 0.002367665977673218, 0.026044325754405403, 0.9068160694488426, 0.06155931541950368, 0.002367665977673218, 0.6292922247833583, 0.17424846435800223, 0.020717439499040605, 0.02786988884989986, 0.0332958849091724, 0.11086296493831847, 0.003699542767685822, 0.2640166320154396, 0.00120007560007018, 0.02640166320154396, 0.693643696840564, 0.00240015120014036, 0.008400529200491261, 0.00480030240028072, 0.6024982377015574, 0.17308686007126903, 0.027971921559019973, 0.030684350316258272, 0.06408112938975484, 0.04594176207572371, 0.055943843118039946, 0.9847866006921077, 0.9806860771372351, 0.01389192266283731, 0.0034729806657093276, 0.9828535283957397, 0.9930383719289699, 0.006993227971330774, 0.002273411892221522, 0.002273411892221522, 0.054561885413316524, 0.7524993363253237, 0.18414636326994327, 0.004546823784443044, 0.002273411892221522, 0.972689972796531, 0.9785200965099344, 0.990507135200462, 0.9833785042011878, 0.9778722459794112, 0.015521781682212878, 0.073395020304574, 0.010485002900653429, 0.006990001933768953, 0.0034950009668844764, 0.0034950009668844764, 0.8492852349529277, 0.04893001353638267, 0.03743982186159199, 0.900815024273304, 0.021624724695919514, 0.01678336842071365, 0.010650983805452895, 0.009682712550411723, 0.003227570850137241, 0.9931975739860248, 0.9760596037714616, 0.09399510082244387, 0.01566585013707398, 0.01566585013707398, 0.8694546826076058, 0.02077495579130232, 0.9764229221912091, 0.9864733241201585, 0.9864184016784379, 0.9804702962473245, 0.9858321087349563, 0.5251769047970772, 0.3424460295555975, 0.04277669344075353, 0.036267196612812774, 0.00883431712363388, 0.03068762790314927, 0.013948921774158757, 0.9856469290829613, 0.9764449460345985, 0.9825208809424106, 0.020901749356483392, 0.961480470398236, 0.989211225009474, 0.9610965510524139, 0.9740899351728403, 0.9757271878935627, 0.9940799043977552, 0.004176806320998971, 0.07029369183948295, 0.047965107372823654, 0.09096830708638969, 0.6260273496763363, 0.14637627594809977, 0.0066158768790101595, 0.011577784538267778, 0.3463726754941769, 0.043790120632424434, 0.12813994316209446, 0.34206545051393844, 0.04666160395258342, 0.03732928316206673, 0.055993924743100096, 0.9864634671345711, 0.006283206797035485, 0.14891062832446697, 0.6042620905861105, 0.018130834985613742, 0.009511257697371144, 0.02199478342517077, 0.15634129840053818, 0.04042284521382736, 0.03403690489000758, 0.0032416099895245317, 0.03079529490048305, 0.03889931987429438, 0.8865803321349593, 0.0032416099895245317, 0.004862414984286798, 0.15643863423631035, 0.3449493877220986, 0.10362043556374166, 0.07451727821050116, 0.1566952111903062, 0.12645578446936992, 0.03731361988110683, 0.9544015978481017, 0.9573517626971071, 0.9731721269950296, 0.9910041313539314, 0.9822695056944961, 0.07226418548521533, 0.0880719760601062, 0.027099069556955752, 0.7836147613553038, 0.013549534778477876, 0.013549534778477876, 0.002258255796412979, 0.11934756437277114, 0.2538581389732304, 0.0958693549879637, 0.05624987665110115, 0.01907604512515604, 0.08902154391739486, 0.3663578922754327, 0.23416518232268163, 0.5254965291217897, 0.051960311010360145, 0.0464597865933844, 0.06463116189946498, 0.06816721331037796, 0.009134799478191858, 0.8589824601725828, 0.06516418663378215, 0.07405021208384335, 0.9943614775796846, 0.07295582363035391, 0.067599191285209, 0.06043186631635314, 0.01991761886082051, 0.031234447759013982, 0.7253332868482135, 0.022558212270398986, 0.980490120390009, 0.07073517711096614, 0.10148960194182097, 0.003075442483085484, 0.003075442483085484, 0.003075442483085484, 0.8211431429838242, 0.003075442483085484, 0.4589766605649581, 0.10868349410410581, 0.08389603053650273, 0.16261665659185756, 0.058291397840297354, 0.09588117775600312, 0.031597206305955576, 0.08524107838418722, 0.1778908846890631, 0.18322354050010825, 0.2725353485110475, 0.18155454135313992, 0.06464318647282202, 0.03484544560499726, 0.08282322353826674, 0.1101003330867977, 0.11902738712086237, 0.060505588453105046, 0.17854108068129357, 0.03471632124358486, 0.4141161176913337, 0.13656313929421307, 0.3056660380146772, 0.05313673480776098, 0.059713920223705336, 0.2537408899940638, 0.10506188282837431, 0.08602266188748275, 0.13524793028997756, 0.1758526113777826, 0.16474187774679117, 0.030706027489285418, 0.023332540625082013, 0.44483337191714795, 0.02525166734316235, 0.07190204767000821, 0.8634552917565022, 0.007568636596842969, 0.006937916880439389, 0.003153598582017904, 0.03058990624557367, 0.01608335276829131, 0.07941490124375158, 0.8886905615372201, 0.0018908309819940855, 0.005672492945982256, 0.0018908309819940855, 0.022689971783929026, 0.08837456936502404, 0.738510836635385, 0.024785253590952173, 0.02276654515368005, 0.040822770620391816, 0.034318043433626086, 0.05046771093180307, 0.2342362688301835, 0.24828305191626499, 0.1461358310534443, 0.06863208928901221, 0.18322426709651912, 0.09882035118453823, 0.02070052244264641, 0.011062708861832252, 0.013014951602155591, 0.01952242740323339, 0.030585136265065642, 0.9084436218304603, 0.011713456441940032, 0.005856728220970016, 0.019285810479418155, 0.9835763344503259, 0.6654722016928679, 0.04430573912735472, 0.070446125212494, 0.01107643478183868, 0.10278931477546295, 0.0319001321716954, 0.07443364173395593, 0.3028837469871358, 0.3689260677587669, 0.1028590168339772, 0.05655348158030481, 0.049152187011070284, 0.09185196337203869, 0.0275176336548463, 0.01573997375472735, 0.9758783727930957, 0.08254935472566456, 0.05617942196607727, 0.2063733868141614, 0.03095600802212421, 0.10777276866961762, 0.0114651881563423, 0.5044682788790612, 0.028570205036653896, 0.9571018687279055, 0.09549456408144266, 0.1860093502813377, 0.014646405533963599, 0.0020504967747549036, 0.029292811067927197, 0.6541084711468143, 0.018454470972794134, 0.046005903282866564, 0.05187899731897719, 0.004894245030092188, 0.003915396024073751, 0.0391539602407375, 0.8408312961698379, 0.012725037078239689, 0.9913849983178227, 0.984954754542445, 0.019351543233997636, 0.9675771616998817, 0.010075357284828886, 0.03022607185448666, 0.05037678642414443, 0.8916691197073564, 0.010075357284828886, 0.005037678642414443, 0.01511303592724333, 0.9925184355130587, 0.9511740489105383, 0.03658361726578993, 0.9873926046685169, 0.9865140168985337, 0.9860324412680622, 0.9894994884497188, 0.9744470697683056, 0.2633910972653935, 0.6560538987101212, 0.009695377813450068, 0.004039740755604195, 0.016966911173537616, 0.039589459404921104, 0.008887429662329228, 0.050527361863991, 0.19280177553364986, 0.58239432885337, 0.01994501126210171, 0.07978004504840684, 0.031912018019362734, 0.04254935735915032, 0.14791525833494848, 0.21827036688394974, 0.04337152274004697, 0.05340207034442266, 0.07784270042269018, 0.4495380630580764, 0.009606721649261218, 0.011633404867860698, 0.9655726040324379, 0.011633404867860698, 0.03625441534552862, 0.7629721341817427, 0.03788382727117035, 0.05825147634169205, 0.05906618230451292, 0.039920592178222525, 0.005702941739746075, 0.008726748589205496, 0.9861225905802211, 0.9845388893822273, 0.0700008833880753, 0.6375080451414, 0.051667318691198436, 0.010000126198296471, 0.006666750798864314, 0.19250242931720707, 0.03166706629460549, 0.008731841491995827, 0.003395716135776155, 0.022314706035100447, 0.03468481481542787, 0.9076264128624552, 0.011157353017550223, 0.012370108780327422, 0.5969535202257354, 0.14201519349094607, 0.04750163368490266, 0.03281040677204616, 0.1067562489000905, 0.03525894459085558, 0.038686897537188764, 0.0317992032239992, 0.9460262959139762, 0.0079498008059998, 0.0079498008059998, 0.11593134700493749, 0.02016197339216304, 0.5544542682844836, 0.2167412139657527, 0.06552641352452988, 0.01411338137451413, 0.01411338137451413, 0.9873709073601762, 0.9759309160681708, 0.014403227953910344, 0.009002017471193965, 0.05626260919496228, 0.1003724948038127, 0.014853328827470043, 0.014853328827470043, 0.7903771339708301, 0.968729003984429, 0.9787194097646202, 0.01717051596078281, 0.016061079381239865, 0.008030539690619933, 0.8217918950067731, 0.026768465635399773, 0.01070738625415991, 0.005353693127079955, 0.11242755566867904, 0.9793510008553443, 0.002646894596906336, 0.010587578387625344, 0.005293789193812672, 0.9777145712522815, 0.011639459181574779, 0.07216768935415148, 0.37162212449034326, 0.10771827524289605, 0.07003465420082682, 0.16720625563006197, 0.1616366638408253, 0.04965231829127992, 0.9845305943381729, 0.0006669416355614049, 0.0013338832711228099, 0.013005361893447396, 0.8760278383099054, 0.10704413250760549, 0.0010004124533421073, 0.0010004124533421073, 0.00047135699623170545, 0.0018854279849268218, 0.01791156585680481, 0.8922787938666185, 0.0857869733141704, 0.0009427139924634109, 0.00047135699623170545, 0.46324692702857895, 0.31774056476550583, 0.00972893384712686, 0.03528074911595455, 0.08862951823371612, 0.06307770296488843, 0.022130651718189672, 0.0129868680496185, 0.9740151037213876, 0.13385153161740507, 0.6921774408982249, 0.030254113310783336, 0.027503739373439397, 0.023836574123647477, 0.07059293105849446, 0.021086200186303538, 0.025102549602947482, 0.014344314058827133, 0.009323804138237636, 0.015778745464709847, 0.9072778642208161, 0.01936482397941663, 0.00860658843529628, 0.9649129412167311, 0.002439706827755543, 0.08538973897144402, 0.004879413655511086, 0.036595602416333146, 0.004879413655511086, 0.8685356306809734, 0.9302610916724106, 0.05472124068661239, 0.006840155085826549, 0.9919135160140838, 0.0038446260310623405, 0.9865406985485394, 0.9765268459510051, 0.014745217983200016, 0.034405508627466705, 0.03932058128853338, 0.11632338631191123, 0.748729402035823, 0.0180219330905778, 0.03112879352008892, 0.9762293515842245, 0.9840847690868532, 0.9792170232329229, 0.029854791357904278, 0.022830134567809156, 0.649780753083799, 0.1756164197523781, 0.09834519506133174, 0.019317806172761593, 0.0035123283950475623, 0.013012055621562317, 0.006730373597359819, 0.5016371787898851, 0.04666392360836141, 0.40023288325633055, 0.019742429218922136, 0.012114672475247674, 0.9819844712822922, 0.9751536004021183, 0.03748436688246403, 0.9496039610224222, 0.9720563912818683, 0.9911760901002898, 0.005899857679168392, 0.0726453105980452, 0.07547899292633774, 0.4732249488248547, 0.06465947858194804, 0.15070037836828526, 0.07135727317609404, 0.09222347941170277, 0.9528299992796948, 0.9840435761916535, 0.032336352033404354, 0.6297889515077324, 0.07622140122159597, 0.1347348001391848, 0.036185917751666775, 0.03772574403897174, 0.05312400691202144, 0.16324292262308415, 0.352328376883992, 0.18780612101151062, 0.05987279607178949, 0.05987279607178949, 0.09467066045539364, 0.08213319461130096, 0.04673086838568314, 0.06914083872677282, 0.07261525273314332, 0.11517682431118186, 0.0851231431560771, 0.02901135695319362, 0.5821380667673762, 0.9819983942214968, 0.010673895589364095, 0.9879175541529788, 0.9708992104870565, 0.14664104134747732, 0.38805445876231986, 0.037780879648476685, 0.015368493416329499, 0.017289555093370688, 0.37716844259241983, 0.01792990898571775, 0.9858057444071419, 0.08611106480936806, 0.1113143032901587, 0.20530138012477384, 0.43633106619868817, 0.1002878864548128, 0.048831274556531884, 0.012076551772045521, 0.966773665839751, 0.0030176750065704066, 0.0030176750065704066, 0.9928150771616638, 0.012724860603023105, 0.012724860603023105, 0.012724860603023105, 0.967089405829756, 0.0015813404148132832, 0.0015813404148132832, 0.03004546788145238, 0.9345721851546503, 0.03004546788145238, 0.0015813404148132832, 0.17161089350406944, 0.10832176965859702, 0.58420729703513, 0.034078758993715916, 0.03773005460018548, 0.041381350206655045, 0.02312487217430723, 0.9864605992082415, 0.0033385355450319715, 0.002225690363354648, 0.005564225908386619, 0.004451380726709296, 0.33607924486655183, 0.004451380726709296, 0.6432245150094932, 0.7029951323317997, 0.14082434541903038, 0.023658490030397106, 0.027789337496021995, 0.04881910641193053, 0.021405300503692617, 0.034548906076135456, 0.10229940473083689, 0.04845761276723853, 0.8453161338284944, 0.9596787118457736, 0.9828607865064968, 0.027477575073696907, 0.008777558704097623, 0.03816329871346792, 0.03968983066200664, 0.1541797268024104, 0.024424511176619472, 0.7064026591862913, 0.010299305485282314, 0.29898277982275423, 0.12995300156429743, 0.24657749014764127, 0.24627456939807416, 0.05361697267338146, 0.01454019597922209, 0.05815554240092613, 0.4409658117973137, 0.39015028931106754, 0.011856955246790766, 0.018632358244956918, 0.0700124976477169, 0.010163104497249227, 0.9773571784451722, 0.9783705561371691, 0.9620856811295863, 0.004456224733205052, 0.16488031512858695, 0.022281123666025263, 0.8065766767101145, 0.9743853955356093, 0.02058560694793541, 0.4375999214892409, 0.2714260176535753, 0.04744122371595443, 0.04795970703525448, 0.015813741238651476, 0.13350945471976247, 0.046145015417704306, 0.9404364480623114, 0.05083440259796278, 0.02741660328233667, 0.03427075410292084, 0.9321645115994468, 0.006854150820584167, 0.9688496637147458, 0.12825264438866046, 0.19349304445294085, 0.05187146562487866, 0.04857379512982624, 0.5114954316515097, 0.05240622300245473, 0.013903691816977787, 0.08167817406290949, 0.04010981762017877, 0.21221739868130948, 0.03281712350741899, 0.09626356228842904, 0.03792200938635083, 0.4980910079014927, 0.752312022780334, 0.02468523824747971, 0.016456825498319807, 0.007052925213565631, 0.004701950142377087, 0.0023509750711885437, 0.19277995583746058, 0.01518145809616243, 0.0025302430160270718, 0.007590729048081215, 0.053135103336568505, 0.9134177287857729, 0.0050604860320541435, 0.0050604860320541435, 0.9823612231433938, 0.009296142214619869, 0.018592284429239738, 0.06507299550233908, 0.9110219370327471, 0.9915955452551866, 0.049501302501517824, 0.05601463177803332, 0.07034395618636743, 0.06252796105454883, 0.7151635545614022, 0.04429063908030542, 0.0026053317106062013, 0.13353165405799156, 0.11207120965581435, 0.03338291351449789, 0.002384493822464135, 0.06199683938406751, 0.6414288382428524, 0.011922469112320675, 0.9858437365875412, 0.6425358690008611, 0.10895986715953468, 0.13795347988009754, 0.018705556593911533, 0.04956972497386556, 0.023381945742389415, 0.018705556593911533, 0.028496868607848044, 0.9631941589452638, 0.23970410283957852, 0.21387682978714503, 0.13487575927381917, 0.05908199717876935, 0.1887247795596118, 0.07630017921372499, 0.08727255011835358, 0.003678517358026359, 0.025749621506184515, 0.023910362827171332, 0.04414220829631631, 0.8883619419633657, 0.012874810753092257, 0.0018392586790131795, 0.20705504316434797, 0.11377777124377537, 0.054326323206487344, 0.011275274627761523, 0.008200199729281108, 0.5822141807789587, 0.023575574221683188, 0.03871674745813383, 0.909843565266145, 0.019358373729066916, 0.009679186864533458, 0.024197967161333645, 0.01898983304566408, 0.9684814853288681, 0.1179153323045938, 0.20903172544905266, 0.04019840874020243, 0.026798939160134955, 0.013399469580067477, 0.5690308081668656, 0.024119045244121458, 0.011848561287958307, 0.023697122575916614, 0.035545683863874925, 0.9301120611047271, 0.0012502957883221335, 0.008502011360590507, 0.027506507343086937, 0.6639070635990529, 0.29556992435935237, 0.0027506507343086936, 0.0005001183153288534, 0.9656704361223384, 0.01636729552749726, 0.07917094153418668, 0.02479529487609143, 0.1418116864843124, 0.15355682616246097, 0.13311158301901715, 0.014790175891001907, 0.453275390541882, 0.9814362778164903, 0.9704248746152679, 0.011416763230767858, 0.011416763230767858, 0.046434913358686575, 0.009607223453521361, 0.790994731006592, 0.046434913358686575, 0.09447103062629338, 0.008006019544601135, 0.0016012039089202267, 0.8703247230680254, 0.01605765171712224, 0.04817295515136672, 0.025692242747395587, 0.006423060686848897, 0.01926918206054669, 0.01605765171712224, 0.06119531652835812, 0.046269629570221994, 0.046269629570221994, 0.02238853043720419, 0.09104669044463037, 0.5910572035421906, 0.14179402610229322, 0.030507032637656886, 0.008028166483593916, 0.031109145123926426, 0.0016056332967187834, 0.005619716538515742, 0.011841545563301028, 0.9109961917258197, 0.009908321740548743, 0.01321109565406499, 0.03633051304867872, 0.029724965221646228, 0.08917489566493869, 0.02642219130812998, 0.7959685131574157, 0.9655797576072419, 0.008621247835778946, 0.017242495671557893, 0.025562162171768623, 0.004260360361961437, 0.9628414418032848, 0.004260360361961437, 0.041745693244236624, 0.013182850498179986, 0.03515426799514663, 0.01977427574726998, 0.8393081483841257, 0.013182850498179986, 0.03515426799514663, 0.9861665826826947, 0.9766929314798078, 0.016985964025735788, 0.976091353215981, 0.6685358599102806, 0.12145250482821791, 0.02626000104393901, 0.05872028011214139, 0.04413139064328639, 0.06127333576919102, 0.019695000782954258, 0.0847206118874767, 0.007515538151308418, 0.17012445451598146, 0.6354045891560753, 0.08608707336953278, 0.007515538151308418, 0.008198768892336455, 0.025089523972612698, 0.016726349315075134, 0.9115860376715947, 0.008363174657537567, 0.041815873287687835, 0.04082120212118084, 0.24355121714996658, 0.030730567888978832, 0.033482559043215745, 0.06421312693219458, 0.5701208341194133, 0.01697061211779428, 0.005570973575429809, 0.005570973575429809, 0.010027752435773656, 0.011141947150859617, 0.9570932602588412, 0.0011141947150859618, 0.008913557720687694, 0.03585759323342079, 0.01040312890105418, 0.0334228183842379, 0.003984177025935644, 0.016600737608065182, 0.028553268685872112, 0.8712067096712607, 0.009551462437171147, 0.06805416986484442, 0.011939328046463934, 0.00358179841393918, 0.01074539524181754, 0.0179089920696959, 0.8775406114150991, 0.04488257144958304, 0.6803252935515745, 0.050788172956107124, 0.056693774462631207, 0.11693090982917687, 0.02598464662870597, 0.023622406026096335, 0.6044014300672929, 0.0847139470714265, 0.10100509073900851, 0.0322564644618124, 0.050828368242855894, 0.05701900283653706, 0.06972609489725104, 0.1372544671312529, 0.1203148335296109, 0.14898190577854348, 0.07774857473574134, 0.0881729646444441, 0.05863719323645297, 0.36919714259988906, 0.9854526643343378, 0.9807354187788908, 0.07425861123997278, 0.20286591621354882, 0.03712930561998639, 0.08878746996083701, 0.2200853043271657, 0.35568798572189864, 0.021524235142021095, 0.9885386979828524, 0.9883263365266877, 0.13983804409311235, 0.07657797652718057, 0.006658954480624398, 0.02330634068218539, 0.006658954480624398, 0.048277419984526886, 0.6975254818454056, 0.9701271817568367, 0.5920614238473949, 0.08065946503228841, 0.23695027260134596, 0.016131893006457683, 0.014455852174617922, 0.04483409225171356, 0.014874862382577863, 0.9821156264462172, 0.08700010580705105, 0.49320627358228936, 0.08967386792405262, 0.11312070495006636, 0.13307108382307808, 0.05491496040303222, 0.029000035269017014, 0.9909180723440958, 0.21537002413144196, 0.48855523527462114, 0.09973965010796763, 0.060012840319200865, 0.045981669202317284, 0.08435607695572178, 0.005916758904709944, 0.08837605847161768, 0.2502181042003163, 0.10355722189005508, 0.1076236049485651, 0.3236840914573973, 0.09894865442374373, 0.02738031259396744, 0.1454019303416577, 0.1133788861592688, 0.10039657095019222, 0.47948017505522833, 0.08827974342172075, 0.02769560577936337, 0.045870847072070585, 0.9692768421504869, 0.015529817600431157, 0.007764908800215579, 0.11026170496306122, 0.778043861781601, 0.07454312448206955, 0.004658945280129347, 0.007764908800215579, 0.970250853148366, 0.09353155126465418, 0.0277130522265642, 0.01662783133593852, 0.0055426104453128395, 0.03256283636621293, 0.01662783133593852, 0.8071426460986822, 0.0052674019187929425, 0.010534803837585885, 0.031604411512757655, 0.9270627377075579, 0.010534803837585885, 0.010534803837585885, 0.0052674019187929425, 0.9887172034116672, 0.9862306881128191, 0.04459289624642347, 0.949191648673871, 0.006370413749489067, 0.9599476785263606, 0.9845648172544352, 0.14003209437307468, 0.030584627110364686, 0.0070774343726463735, 0.012891041178748753, 0.018451882471542332, 0.664267768975524, 0.12663552216770832, 0.9352356619531367, 0.020005040897393297, 0.020005040897393297, 0.005001260224348324, 0.005001260224348324, 0.015003780673044973, 0.9839427345837585, 0.15283501491086976, 0.4610277685000514, 0.11877824405040084, 0.07273853529458175, 0.07799420981008622, 0.0830396573449705, 0.03363631689922855, 0.06259625742139482, 0.14012664732403615, 0.0807078648986512, 0.09310001738308978, 0.46073387442143404, 0.08801605738947395, 0.0749884099058334, 0.0031262270631449143, 0.004168302750859886, 0.01979943806658446, 0.0072945298140048, 0.9597517083854887, 0.005210378438574858, 0.002084151375429943, 0.9913645417913115, 0.1327261560125412, 0.08211834113006146, 0.2644974475933375, 0.02578133965711232, 0.038194577269796026, 0.04965295045073484, 0.4077271123550726, 0.5269354471555668, 0.406220116039582, 0.012809720388207022, 0.008901670100279457, 0.013461062102861618, 0.028007693730147557, 0.003473822478157837, 0.9783901198281064, 0.18274207717414045, 0.28371408675796306, 0.12794102923762135, 0.05620343695851663, 0.23624861216727722, 0.09212617113737659, 0.020927959251347845, 0.9789556607460508, 0.9801985027625685, 0.8535948475583564, 0.001789507017942047, 0.001789507017942047, 0.010737042107652282, 0.1324235193277115, 0.08517494762806262, 0.25880922389812344, 0.15020569170398704, 0.017516698740989742, 0.058899899516578, 0.3621577464699629, 0.06700137268428576, 0.1491764038742571, 0.27680278026036764, 0.11266689128511563, 0.0623486232181327, 0.18966116425247412, 0.19164878814701192, 0.017888615050840086, 0.009776807621798469, 0.08212518402310715, 0.0332411459141148, 0.023464338292316325, 0.8056089480361939, 0.04106259201155357, 0.0019553615243596938, 0.19488954133846983, 0.12949897154727272, 0.015386016421458145, 0.006410840175607561, 0.6064654806124752, 0.04615804926437443, 0.10995889838258086, 0.4905623681510856, 0.03585331791768404, 0.07175025301045042, 0.13974942896381953, 0.13307600117622143, 0.019060705510982878, 0.9503400597571126, 0.9912956837280824, 0.7750606651093715, 0.10692860579204624, 0.006869075318546868, 0.03365846906087965, 0.048083527229828074, 0.024270732792198935, 0.005266291077552599, 0.0036752010746829416, 0.9923042901643943, 0.9815267257095743, 0.044449075123142064, 0.41511348893739, 0.029377262294030676, 0.03142089793187629, 0.014305449464919285, 0.42456530376242596, 0.04087271275691225, 0.007424844662796952, 0.13364720393034513, 0.04030629959804059, 0.11349405413132484, 0.6947533220188576, 0.00848553675748223, 0.0021213841893705575, 0.004891857002703256, 0.00782697120432521, 0.008805342604865861, 0.5058180140795167, 0.46374804385626867, 0.008805342604865861, 0.0009783714005406512, 0.040538151080677334, 0.05712194015913624, 0.03869550784973745, 0.04975136723537672, 0.09213216154699394, 0.011055859385639272, 0.7094176439118534, 0.19583571005798942, 0.3350419449638136, 0.13295615905290964, 0.1295470267695017, 0.06628868328848771, 0.09109959046217883, 0.04943241810941512, 0.009391612559177327, 0.9861193187136192, 0.9814745999564933, 0.9820369254418583, 0.9878481013516821, 0.9857265504467609, 0.8450879431593076, 0.05000520373723714, 0.005000520373723714, 0.09500988710075056, 0.005000520373723714, 0.9824998310167481, 0.97831517650931, 0.9608702565484021, 0.9877576595540991, 0.978290150487975, 0.011024091303972573, 0.011024091303972573, 0.011024091303972573, 0.9260236695336961, 0.033072273911917714, 0.9882330494408783, 0.9403004749099688, 0.05182758523125812, 0.9662858003777612, 0.14205930123701427, 0.32828553139690536, 0.03658603813760693, 0.018787424989581934, 0.041859701292577295, 0.42288186423918633, 0.00988811841556944, 0.09286752776875967, 0.09833032351986318, 0.01638838725331053, 0.030955842589586557, 0.7356564944819394, 0.020030251087379537, 0.007283727668138013, 0.22605897755159804, 0.4709711660983651, 0.06050982957497104, 0.13664089111736785, 0.024598951488934814, 0.06302359104099357, 0.018494102214308656, 0.08794009605392271, 0.022694218336496184, 0.04822521396505439, 0.0496436026110854, 0.7191230435377228, 0.07091943230155058, 0.0014183886460310115, 0.03778572252715772, 0.19037634146824675, 0.06471347881087931, 0.10756625225164056, 0.3489026486224142, 0.23496638950795778, 0.015635471390548022, 0.08901743049820664, 0.20842700611053977, 0.12347846935712058, 0.0725757782233513, 0.16748895271910708, 0.3192836009940341, 0.01968015954111471, 0.9783227025768791, 0.011930764665571697, 0.008679278759431456, 0.9807584998157546, 0.9720228954534685, 0.9560994513819671, 0.004249330895030965, 0.00849866179006193, 0.004249330895030965, 0.02549598537018579, 0.01577421684546967, 0.0022534595493528104, 0.130700653862463, 0.7481485703851329, 0.0901383819741124, 0.009013838197411242, 0.0022534595493528104, 0.8992647601725197, 0.049474113019200114, 0.0029102419423058887, 0.0058204838846117775, 0.0029102419423058887, 0.008730725826917666, 0.034922903307670665, 0.9891110548861967, 0.004036209662007565, 0.08476040290215886, 0.01614483864803026, 0.8920023353036718, 0.1109510007904298, 0.02698808127334779, 0.28547392635807883, 0.43180930037356463, 0.02698808127334779, 0.010195497369931387, 0.10795232509339116, 0.977737160609795, 0.10884952787009806, 0.2906742321714168, 0.019316958467087825, 0.033421404331945605, 0.01257135392302541, 0.24590794746991168, 0.2891411402295844, 0.9764835843707722, 0.10665527859040728, 0.013615567479626462, 0.008698834778650239, 0.013993777687393863, 0.06278289448938869, 0.10968096025254649, 0.6845604760589971, 0.08845999500762826, 0.007582285286368136, 0.01769199900152565, 0.0025274284287893785, 0.007582285286368136, 0.8062496687838118, 0.06824056757731323, 0.9662745441117208, 0.9715437441054683, 0.28927300890634816, 0.2565352472304906, 0.07647755801327387, 0.09552986193938771, 0.034347815528768616, 0.06574386566053368, 0.18220442768776476, 0.032166245562895567, 0.008041561390723892, 0.012062342086085837, 0.012062342086085837, 0.9127172178471616, 0.02010390347680973, 0.004020780695361946, 0.1834036916083905, 0.0590771506623181, 0.47085370826384876, 0.01624936553398515, 0.01864268293821552, 0.23744227931443415, 0.014359904425382224, 0.9923907438762536, 0.18132837642582975, 0.16136561938812372, 0.10314091136148114, 0.08484171741025061, 0.10147734827500564, 0.04048003510423722, 0.32716740700684876, 0.0771135727380058, 0.13568170623221182, 0.13384079866021698, 0.09886355479231514, 0.4475450852805218, 0.08161356902510429, 0.025363615436373263, 0.9766574242975697, 0.04142373685643204, 0.008284747371286406, 0.024854242113859223, 0.9196069582127913, 0.1336802619708213, 0.7814606803507054, 0.02773154370671293, 0.0035553261162452475, 0.006399587009241445, 0.039108587278697725, 0.007821717455739544, 0.9720033407795141, 0.9849660497077337, 0.010260063017788893], \"Term\": [\"aaah\", \"aaah\", \"accustom\", \"adrenaline\", \"ahah\", \"alabama\", \"alabama\", \"alabama\", \"alabama\", \"alabama\", \"alamo\", \"alamo\", \"alive\", \"alive\", \"alive\", \"alive\", \"alive\", \"alive\", \"alive\", \"alligator\", \"america\", \"america\", \"america\", \"america\", \"america\", \"anticipation\", \"anymore\", \"anymore\", \"anymore\", \"anymore\", \"anymore\", \"anymore\", \"anymore\", \"apart\", \"apart\", \"apart\", \"apart\", \"apart\", \"apart\", \"apart\", \"apartment\", \"arm\", \"arm\", \"arm\", \"arm\", \"arm\", \"arm\", \"arm\", \"artists\", \"ashanti\", \"away\", \"away\", \"away\", \"away\", \"away\", \"away\", \"away\", \"baby\", \"baby\", \"baby\", \"baby\", \"baby\", \"baby\", \"baby\", \"babylon\", \"babylon\", \"babylon\", \"babylon\", \"babylon\", \"babylon\", \"bada\", \"badass\", \"badass\", \"badly\", \"badly\", \"baggage\", \"bambalam\", \"band\", \"band\", \"band\", \"band\", \"band\", \"band\", \"band\", \"bang\", \"bang\", \"bang\", \"bang\", \"bang\", \"bang\", \"bang\", \"bass\", \"bass\", \"bass\", \"bass\", \"bass\", \"bass\", \"bass\", \"bawl\", \"bawl\", \"beat\", \"beat\", \"beat\", \"beat\", \"beat\", \"beat\", \"beat\", \"beckon\", \"believe\", \"believe\", \"believe\", \"believe\", \"believe\", \"believe\", \"believe\", \"bell\", \"bell\", \"bell\", \"bell\", \"bell\", \"bell\", \"belong\", \"belong\", \"belong\", \"belong\", \"belong\", \"belong\", \"belong\", \"beloved\", \"better\", \"better\", \"better\", \"better\", \"better\", \"better\", \"better\", \"billion\", \"billion\", \"bitch\", \"bitch\", \"bitch\", \"bitch\", \"bitch\", \"bitch\", \"bitch\", \"black\", \"black\", \"black\", \"black\", \"black\", \"black\", \"black\", \"blah\", \"blanket\", \"blanket\", \"bleed\", \"bleed\", \"bleed\", \"bleed\", \"bleed\", \"bleed\", \"bleed\", \"block\", \"block\", \"block\", \"block\", \"block\", \"block\", \"block\", \"blood\", \"blood\", \"blood\", \"blood\", \"blood\", \"blood\", \"blood\", \"bloom\", \"bloom\", \"bloom\", \"bloom\", \"bloom\", \"blow\", \"blow\", \"blow\", \"blow\", \"blow\", \"blow\", \"blow\", \"blue\", \"blue\", \"blue\", \"blue\", \"blue\", \"blue\", \"blue\", \"blueberry\", \"blueberry\", \"blueberry\", \"blueberry\", \"bluebirds\", \"blunt\", \"blunt\", \"blunt\", \"bone\", \"bone\", \"bone\", \"bone\", \"bone\", \"bone\", \"bone\", \"boom\", \"boom\", \"boom\", \"boom\", \"boom\", \"boom\", \"booty\", \"booty\", \"booty\", \"bouquet\", \"bouquet\", \"bout\", \"bout\", \"bout\", \"bout\", \"bout\", \"bout\", \"bout\", \"boyz\", \"brain\", \"brain\", \"brain\", \"brain\", \"brain\", \"brain\", \"brain\", \"break\", \"break\", \"break\", \"break\", \"break\", \"break\", \"break\", \"breathe\", \"breathe\", \"breathe\", \"breathe\", \"breathe\", \"breathe\", \"breathe\", \"brightly\", \"bring\", \"bring\", \"bring\", \"bring\", \"bring\", \"bring\", \"bring\", \"broadway\", \"brokenhearted\", \"brokenhearted\", \"brother\", \"brother\", \"brother\", \"brother\", \"brother\", \"brother\", \"brother\", \"brothers\", \"brothers\", \"brothers\", \"brothers\", \"brothers\", \"brothers\", \"brothers\", \"bruh\", \"bruh\", \"buildin\", \"bumper\", \"bumper\", \"bumpin\", \"bumpin\", \"bumpin\", \"bumpin\", \"burn\", \"burn\", \"burn\", \"burn\", \"burn\", \"burn\", \"burn\", \"bust\", \"bust\", \"bust\", \"bust\", \"bust\", \"bust\", \"bust\", \"byebye\", \"cadillac\", \"cadillac\", \"cadillac\", \"cadillac\", \"cadillac\", \"cadillac\", \"call\", \"call\", \"call\", \"call\", \"call\", \"call\", \"call\", \"casket\", \"catchin\", \"catchin\", \"catchin\", \"catchin\", \"cause\", \"cause\", \"cause\", \"cause\", \"cause\", \"cause\", \"cause\", \"celebrate\", \"celebrate\", \"celebrate\", \"celebrate\", \"celebrate\", \"cello\", \"cept\", \"cept\", \"cept\", \"champ\", \"change\", \"change\", \"change\", \"change\", \"change\", \"change\", \"change\", \"cheer\", \"cheer\", \"cheer\", \"cheer\", \"cheer\", \"cheer\", \"cheer\", \"cherokee\", \"chevrolet\", \"chiquitita\", \"christmas\", \"christmas\", \"christmas\", \"christmas\", \"christmas\", \"cincinnati\", \"cincinnati\", \"cloudy\", \"cloudy\", \"coast\", \"coast\", \"coast\", \"coast\", \"coast\", \"coast\", \"coast\", \"cold\", \"cold\", \"cold\", \"cold\", \"cold\", \"cold\", \"cold\", \"come\", \"come\", \"come\", \"come\", \"come\", \"come\", \"come\", \"comin\", \"comin\", \"comin\", \"comin\", \"comin\", \"comin\", \"comin\", \"complexion\", \"consciousness\", \"conversations\", \"cookin\", \"cop\", \"cop\", \"cop\", \"cop\", \"cop\", \"cop\", \"courageous\", \"cowboys\", \"crawl\", \"crawl\", \"crawl\", \"crawl\", \"crawl\", \"crawl\", \"crawl\", \"creepin\", \"cry\", \"cry\", \"cry\", \"cry\", \"cry\", \"cry\", \"cry\", \"damn\", \"damn\", \"damn\", \"damn\", \"damn\", \"damn\", \"damn\", \"dance\", \"dance\", \"dance\", \"dance\", \"dance\", \"dance\", \"dance\", \"dancer\", \"dancer\", \"dancer\", \"darling\", \"darling\", \"darling\", \"darling\", \"darling\", \"darling\", \"darling\", \"daylight\", \"daylight\", \"daylight\", \"daylight\", \"daylight\", \"daylight\", \"days\", \"days\", \"days\", \"days\", \"days\", \"days\", \"days\", \"dead\", \"dead\", \"dead\", \"dead\", \"dead\", \"dead\", \"dead\", \"dearest\", \"death\", \"death\", \"death\", \"death\", \"death\", \"death\", \"death\", \"delicious\", \"devil\", \"devil\", \"devil\", \"devil\", \"devil\", \"devil\", \"devil\", \"diggers\", \"diggers\", \"diggy\", \"diggy\", \"ding\", \"ding\", \"ding\", \"ding\", \"ding\", \"dirty\", \"dirty\", \"dirty\", \"dirty\", \"dirty\", \"dirty\", \"dirty\", \"disconnect\", \"disconnect\", \"doin\", \"doin\", \"doin\", \"doin\", \"doin\", \"doin\", \"doin\", \"domain\", \"donkey\", \"doobie\", \"dope\", \"dope\", \"dope\", \"dope\", \"dope\", \"dope\", \"dope\", \"dot\", \"draft\", \"draft\", \"dream\", \"dream\", \"dream\", \"dream\", \"dream\", \"dream\", \"dream\", \"drinkin\", \"drinkin\", \"drinkin\", \"drinkin\", \"drinkin\", \"drinkin\", \"drop\", \"drop\", \"drop\", \"drop\", \"drop\", \"drop\", \"drop\", \"dude\", \"dude\", \"dynamite\", \"dynasty\", \"eatin\", \"eatin\", \"eatin\", \"electricity\", \"emerge\", \"emergency\", \"emergency\", \"emergency\", \"equally\", \"evenin\", \"everyday\", \"everyday\", \"everyday\", \"everyday\", \"everyday\", \"everyday\", \"everyday\", \"excitations\", \"explosion\", \"eye\", \"eye\", \"eye\", \"eye\", \"eye\", \"eye\", \"eye\", \"fabulous\", \"face\", \"face\", \"face\", \"face\", \"face\", \"face\", \"face\", \"faceless\", \"faceless\", \"fall\", \"fall\", \"fall\", \"fall\", \"fall\", \"fall\", \"fall\", \"fallout\", \"fantastic\", \"fascination\", \"fascination\", \"fear\", \"fear\", \"fear\", \"fear\", \"fear\", \"fear\", \"fear\", \"feat\", \"feat\", \"feat\", \"feat\", \"feel\", \"feel\", \"feel\", \"feel\", \"feel\", \"feel\", \"feel\", \"feelin\", \"feelin\", \"feelin\", \"feelin\", \"feelin\", \"feelin\", \"feelin\", \"fever\", \"fever\", \"fever\", \"fever\", \"fiddle\", \"fiddle\", \"fiddle\", \"fight\", \"fight\", \"fight\", \"fight\", \"fight\", \"fight\", \"fight\", \"fighter\", \"fin\", \"finer\", \"fireball\", \"firm\", \"fists\", \"flashback\", \"flea\", \"fool\", \"fool\", \"fool\", \"fool\", \"fool\", \"fool\", \"fool\", \"forever\", \"forever\", \"forever\", \"forever\", \"forever\", \"forever\", \"forever\", \"forth\", \"forth\", \"forth\", \"forth\", \"forth\", \"forth\", \"fortyfive\", \"fortyfive\", \"fountain\", \"freak\", \"freak\", \"freak\", \"freak\", \"freak\", \"freak\", \"freak\", \"freckle\", \"freckle\", \"fresh\", \"fresh\", \"fresh\", \"fresh\", \"fresh\", \"fresh\", \"fresh\", \"fuck\", \"fuck\", \"fuck\", \"fuck\", \"fuck\", \"fuck\", \"fuck\", \"funky\", \"funky\", \"funky\", \"funky\", \"funky\", \"futures\", \"game\", \"game\", \"game\", \"game\", \"game\", \"game\", \"game\", \"gang\", \"gang\", \"gang\", \"gang\", \"gang\", \"gang\", \"gang\", \"gangster\", \"gangster\", \"gettin\", \"gettin\", \"gettin\", \"gettin\", \"gettin\", \"gettin\", \"gettin\", \"ghetto\", \"ghetto\", \"ghetto\", \"ghetto\", \"ghetto\", \"ghetto\", \"ghetto\", \"gimme\", \"gimme\", \"gimme\", \"gimme\", \"gimme\", \"gimme\", \"girl\", \"girl\", \"girl\", \"girl\", \"girl\", \"girl\", \"girl\", \"give\", \"give\", \"give\", \"give\", \"give\", \"give\", \"give\", \"givin\", \"givin\", \"givin\", \"givin\", \"givin\", \"givin\", \"go\", \"go\", \"go\", \"go\", \"go\", \"go\", \"go\", \"goin\", \"goin\", \"goin\", \"goin\", \"goin\", \"goin\", \"goin\", \"gonna\", \"gonna\", \"gonna\", \"gonna\", \"gonna\", \"gonna\", \"gonna\", \"good\", \"good\", \"good\", \"good\", \"good\", \"good\", \"good\", \"goodbye\", \"goodbye\", \"goodbye\", \"goodbye\", \"goodbye\", \"goodbye\", \"goodbye\", \"goodbyes\", \"goodbyes\", \"goodbyes\", \"goodbyes\", \"goodnight\", \"goodnight\", \"goodnight\", \"goodnight\", \"gorgeous\", \"gotta\", \"gotta\", \"gotta\", \"gotta\", \"gotta\", \"gotta\", \"gotta\", \"grail\", \"grande\", \"grave\", \"grave\", \"grave\", \"grave\", \"grave\", \"grave\", \"grave\", \"gravy\", \"gravy\", \"gucci\", \"gucci\", \"gucci\", \"guitar\", \"guitar\", \"guitar\", \"guitar\", \"guitar\", \"guitar\", \"guitar\", \"guru\", \"halloween\", \"halloween\", \"hammer\", \"hammer\", \"hammer\", \"hammer\", \"hammer\", \"hand\", \"hand\", \"hand\", \"hand\", \"hand\", \"hand\", \"hand\", \"hangover\", \"happiest\", \"happiness\", \"happiness\", \"happiness\", \"happiness\", \"happiness\", \"happiness\", \"happiness\", \"hardcore\", \"hardcore\", \"hark\", \"harp\", \"harsh\", \"hate\", \"hate\", \"hate\", \"hate\", \"hate\", \"hate\", \"hate\", \"havin\", \"havin\", \"havin\", \"havin\", \"havin\", \"havin\", \"head\", \"head\", \"head\", \"head\", \"head\", \"head\", \"head\", \"headaches\", \"healin\", \"hear\", \"hear\", \"hear\", \"hear\", \"hear\", \"hear\", \"hear\", \"heart\", \"heart\", \"heart\", \"heart\", \"heart\", \"heart\", \"heart\", \"hearted\", \"hearted\", \"hearted\", \"heaven\", \"heaven\", \"heaven\", \"heaven\", \"heaven\", \"heaven\", \"heaven\", \"hell\", \"hell\", \"hell\", \"hell\", \"hell\", \"hell\", \"hell\", \"herbalist\", \"hide\", \"hide\", \"hide\", \"hide\", \"hide\", \"hide\", \"hide\", \"high\", \"high\", \"high\", \"high\", \"high\", \"high\", \"high\", \"highly\", \"hmmmm\", \"hmmmm\", \"hoe\", \"hoe\", \"hoe\", \"hoe\", \"hoe\", \"hold\", \"hold\", \"hold\", \"hold\", \"hold\", \"hold\", \"hold\", \"holy\", \"holy\", \"holy\", \"holy\", \"holy\", \"holy\", \"holy\", \"home\", \"home\", \"home\", \"home\", \"home\", \"home\", \"home\", \"homeland\", \"homesick\", \"honky\", \"honky\", \"honky\", \"honour\", \"honour\", \"hood\", \"hood\", \"hood\", \"hood\", \"hood\", \"hood\", \"hood\", \"hooker\", \"hosanna\", \"hottest\", \"hummin\", \"hunnid\", \"hunnid\", \"hurry\", \"hurry\", \"hurry\", \"hurry\", \"hurry\", \"hurry\", \"hurry\", \"hurt\", \"hurt\", \"hurt\", \"hurt\", \"hurt\", \"hurt\", \"hurt\", \"hush\", \"hustlin\", \"imagination\", \"imagination\", \"imagination\", \"imagination\", \"inbetween\", \"inbetween\", \"increase\", \"indigo\", \"infrared\", \"injure\", \"inside\", \"inside\", \"inside\", \"inside\", \"inside\", \"inside\", \"inside\", \"interest\", \"invitation\", \"irish\", \"isolation\", \"isolation\", \"jade\", \"jangle\", \"jelly\", \"jellyfish\", \"jerusalem\", \"jerusalem\", \"kick\", \"kick\", \"kick\", \"kick\", \"kick\", \"kick\", \"kick\", \"kill\", \"kill\", \"kill\", \"kill\", \"kill\", \"kill\", \"kill\", \"killa\", \"killa\", \"kiss\", \"kiss\", \"kiss\", \"kiss\", \"kiss\", \"kiss\", \"kiss\", \"kitchen\", \"kitchen\", \"kitchen\", \"kitchen\", \"kitchen\", \"kitchen\", \"kitchen\", \"know\", \"know\", \"know\", \"know\", \"know\", \"know\", \"know\", \"labor\", \"lalalalala\", \"lament\", \"landscape\", \"landslide\", \"lean\", \"lean\", \"lean\", \"lean\", \"lean\", \"lean\", \"lean\", \"learn\", \"learn\", \"learn\", \"learn\", \"learn\", \"learn\", \"learn\", \"leave\", \"leave\", \"leave\", \"leave\", \"leave\", \"leave\", \"leave\", \"leggo\", \"leggo\", \"leggo\", \"levee\", \"life\", \"life\", \"life\", \"life\", \"life\", \"life\", \"life\", \"lifestyles\", \"lifetime\", \"lifetime\", \"lifetime\", \"lifetime\", \"lifetime\", \"lifetime\", \"lifetime\", \"light\", \"light\", \"light\", \"light\", \"light\", \"light\", \"light\", \"like\", \"like\", \"like\", \"like\", \"like\", \"like\", \"like\", \"listen\", \"listen\", \"listen\", \"listen\", \"listen\", \"listen\", \"listen\", \"little\", \"little\", \"little\", \"little\", \"little\", \"little\", \"little\", \"live\", \"live\", \"live\", \"live\", \"live\", \"live\", \"live\", \"lonely\", \"lonely\", \"lonely\", \"lonely\", \"lonely\", \"lonely\", \"lonely\", \"lonesome\", \"lonesome\", \"lonesome\", \"lonesome\", \"lonesome\", \"lonesome\", \"long\", \"long\", \"long\", \"long\", \"long\", \"long\", \"long\", \"look\", \"look\", \"look\", \"look\", \"look\", \"look\", \"look\", \"lookin\", \"lookin\", \"lookin\", \"lookin\", \"lookin\", \"lookin\", \"lookin\", \"looky\", \"looky\", \"lord\", \"lord\", \"lord\", \"lord\", \"lord\", \"lord\", \"lord\", \"lose\", \"lose\", \"lose\", \"lose\", \"lose\", \"lose\", \"lose\", \"loser\", \"loser\", \"loud\", \"loud\", \"loud\", \"loud\", \"loud\", \"loud\", \"loud\", \"louisiana\", \"louisiana\", \"love\", \"love\", \"love\", \"love\", \"love\", \"love\", \"love\", \"lover\", \"lover\", \"lover\", \"lover\", \"lover\", \"lover\", \"lover\", \"loverman\", \"magnolia\", \"maid\", \"maid\", \"main\", \"main\", \"main\", \"main\", \"main\", \"main\", \"main\", \"major\", \"mambo\", \"mambo\", \"manners\", \"mecca\", \"meck\", \"meditation\", \"melancholy\", \"memory\", \"memory\", \"memory\", \"memory\", \"memory\", \"memory\", \"memory\", \"million\", \"million\", \"million\", \"million\", \"million\", \"million\", \"million\", \"mind\", \"mind\", \"mind\", \"mind\", \"mind\", \"mind\", \"mind\", \"mirage\", \"mirage\", \"mirage\", \"miss\", \"miss\", \"miss\", \"miss\", \"miss\", \"miss\", \"miss\", \"mississippi\", \"mississippi\", \"mistreat\", \"moment\", \"moment\", \"moment\", \"moment\", \"moment\", \"moment\", \"moment\", \"money\", \"money\", \"money\", \"money\", \"money\", \"money\", \"money\", \"morning\", \"morning\", \"morning\", \"morning\", \"morning\", \"morning\", \"morning\", \"motherfuckin\", \"motherfuckin\", \"motherfuckin\", \"motherfuckin\", \"mouth\", \"mouth\", \"mouth\", \"mouth\", \"mouth\", \"mouth\", \"mouth\", \"msayin\", \"mucho\", \"music\", \"music\", \"music\", \"music\", \"music\", \"music\", \"music\", \"muthafuckin\", \"mystic\", \"mystic\", \"nation\", \"nation\", \"nation\", \"nation\", \"nation\", \"nation\", \"nation\", \"nearer\", \"nearer\", \"nearer\", \"nearer\", \"neath\", \"neath\", \"need\", \"need\", \"need\", \"need\", \"need\", \"need\", \"need\", \"neverending\", \"nigga\", \"nigga\", \"nigga\", \"nigga\", \"nigga\", \"nigga\", \"nigga\", \"niggas\", \"niggas\", \"niggas\", \"niggas\", \"niggas\", \"niggas\", \"niggas\", \"night\", \"night\", \"night\", \"night\", \"night\", \"night\", \"night\", \"nightingale\", \"nightingale\", \"nights\", \"nights\", \"nights\", \"nights\", \"nights\", \"nights\", \"nights\", \"nothin\", \"nothin\", \"nothin\", \"nothin\", \"nothin\", \"nothin\", \"nothin\", \"nothings\", \"ohoh\", \"ohoh\", \"ohoh\", \"ohoh\", \"ohoh\", \"ohoh\", \"oohooh\", \"oohooh\", \"oohooh\", \"oohoohooh\", \"oohoohooh\", \"oohoohoohooh\", \"outchea\", \"outta\", \"outta\", \"outta\", \"outta\", \"outta\", \"outta\", \"outta\", \"oxygen\", \"oyster\", \"paintin\", \"paper\", \"paper\", \"paper\", \"paper\", \"paper\", \"paper\", \"paper\", \"party\", \"party\", \"party\", \"party\", \"party\", \"party\", \"party\", \"passionate\", \"pattern\", \"peach\", \"peach\", \"pearly\", \"peas\", \"peas\", \"people\", \"people\", \"people\", \"people\", \"people\", \"people\", \"people\", \"percussion\", \"petals\", \"piece\", \"piece\", \"piece\", \"piece\", \"piece\", \"piece\", \"piece\", \"place\", \"place\", \"place\", \"place\", \"place\", \"place\", \"place\", \"play\", \"play\", \"play\", \"play\", \"play\", \"play\", \"play\", \"possession\", \"possession\", \"potions\", \"pree\", \"promise\", \"promise\", \"promise\", \"promise\", \"promise\", \"promise\", \"promise\", \"puddle\", \"pull\", \"pull\", \"pull\", \"pull\", \"pull\", \"pull\", \"pull\", \"puppet\", \"puppy\", \"puppy\", \"puppy\", \"pushin\", \"pushin\", \"pushin\", \"pushin\", \"pussy\", \"pussy\", \"pussy\", \"pussy\", \"pussy\", \"pussy\", \"race\", \"race\", \"race\", \"race\", \"race\", \"race\", \"race\", \"radical\", \"radio\", \"radio\", \"radio\", \"radio\", \"radio\", \"radio\", \"radio\", \"rain\", \"rain\", \"rain\", \"rain\", \"rain\", \"rain\", \"rain\", \"raindrops\", \"raindrops\", \"raindrops\", \"ramblin\", \"random\", \"ready\", \"ready\", \"ready\", \"ready\", \"ready\", \"ready\", \"ready\", \"real\", \"real\", \"real\", \"real\", \"real\", \"real\", \"real\", \"reason\", \"reason\", \"reason\", \"reason\", \"reason\", \"reason\", \"reason\", \"reckon\", \"reconnect\", \"reconsider\", \"reggae\", \"reggae\", \"reggae\", \"reggae\", \"rejection\", \"rejection\", \"remember\", \"remember\", \"remember\", \"remember\", \"remember\", \"remember\", \"remember\", \"rendezvous\", \"rendezvous\", \"replay\", \"replay\", \"replay\", \"replay\", \"ribbon\", \"right\", \"right\", \"right\", \"right\", \"right\", \"right\", \"right\", \"ring\", \"ring\", \"ring\", \"ring\", \"ring\", \"ring\", \"ring\", \"river\", \"river\", \"river\", \"river\", \"river\", \"river\", \"river\", \"rockin\", \"rockin\", \"rockin\", \"rockin\", \"rockin\", \"rockin\", \"rockin\", \"rubadub\", \"rugged\", \"rugged\", \"rugged\", \"rugged\", \"runaway\", \"runnin\", \"runnin\", \"runnin\", \"runnin\", \"runnin\", \"runnin\", \"runnin\", \"satisfy\", \"satisfy\", \"satisfy\", \"satisfy\", \"satisfy\", \"satisfy\", \"satisfy\", \"sauce\", \"save\", \"save\", \"save\", \"save\", \"save\", \"save\", \"save\", \"saviour\", \"saviour\", \"say\", \"say\", \"say\", \"say\", \"say\", \"say\", \"say\", \"sayin\", \"sayin\", \"sayin\", \"sayin\", \"sayin\", \"sayin\", \"sayin\", \"search\", \"search\", \"search\", \"search\", \"search\", \"search\", \"search\", \"september\", \"september\", \"september\", \"september\", \"september\", \"serenade\", \"serenade\", \"share\", \"share\", \"share\", \"share\", \"share\", \"share\", \"share\", \"shawty\", \"shawty\", \"shawty\", \"shawty\", \"shit\", \"shit\", \"shit\", \"shit\", \"shit\", \"shit\", \"shit\", \"shoo\", \"shoo\", \"shoot\", \"shoot\", \"shoot\", \"shoot\", \"shoot\", \"shoot\", \"shoot\", \"shorter\", \"shrine\", \"shrine\", \"shrine\", \"shut\", \"shut\", \"shut\", \"shut\", \"shut\", \"shut\", \"shut\", \"silent\", \"silent\", \"silent\", \"silent\", \"silent\", \"silent\", \"silent\", \"simple\", \"simple\", \"simple\", \"simple\", \"simple\", \"simple\", \"simple\", \"sing\", \"sing\", \"sing\", \"sing\", \"sing\", \"sing\", \"sing\", \"singin\", \"singin\", \"singin\", \"singin\", \"singin\", \"singin\", \"singin\", \"sinner\", \"sinner\", \"sinner\", \"sisters\", \"sisters\", \"sisters\", \"sisters\", \"sittin\", \"sittin\", \"sittin\", \"sittin\", \"sittin\", \"sittin\", \"sittin\", \"skate\", \"skrt\", \"skrt\", \"slate\", \"sleep\", \"sleep\", \"sleep\", \"sleep\", \"sleep\", \"sleep\", \"sleep\", \"smoke\", \"smoke\", \"smoke\", \"smoke\", \"smoke\", \"smoke\", \"smoke\", \"social\", \"social\", \"social\", \"social\", \"social\", \"somebody\", \"somebody\", \"somebody\", \"somebody\", \"somebody\", \"somebody\", \"somebody\", \"somethin\", \"somethin\", \"somethin\", \"somethin\", \"somethin\", \"somethin\", \"somethin\", \"song\", \"song\", \"song\", \"song\", \"song\", \"song\", \"song\", \"songs\", \"songs\", \"songs\", \"songs\", \"songs\", \"songs\", \"songs\", \"sorry\", \"sorry\", \"sorry\", \"sorry\", \"sorry\", \"sorry\", \"sorry\", \"soul\", \"soul\", \"soul\", \"soul\", \"soul\", \"soul\", \"soul\", \"sound\", \"sound\", \"sound\", \"sound\", \"sound\", \"sound\", \"sound\", \"speakin\", \"specialist\", \"spend\", \"spend\", \"spend\", \"spend\", \"spend\", \"spend\", \"spend\", \"spiders\", \"splendor\", \"spring\", \"spring\", \"spring\", \"spring\", \"spring\", \"spring\", \"spring\", \"squat\", \"stand\", \"stand\", \"stand\", \"stand\", \"stand\", \"stand\", \"stand\", \"starlight\", \"start\", \"start\", \"start\", \"start\", \"start\", \"start\", \"start\", \"stave\", \"stay\", \"stay\", \"stay\", \"stay\", \"stay\", \"stay\", \"stay\", \"stop\", \"stop\", \"stop\", \"stop\", \"stop\", \"stop\", \"stop\", \"street\", \"street\", \"street\", \"street\", \"street\", \"street\", \"street\", \"suburban\", \"suck\", \"suck\", \"suck\", \"suck\", \"suck\", \"suck\", \"suck\", \"sufferer\", \"summer\", \"summer\", \"summer\", \"summer\", \"summer\", \"summer\", \"summer\", \"super\", \"super\", \"super\", \"super\", \"super\", \"super\", \"super\", \"superhero\", \"superman\", \"supersonic\", \"supersonic\", \"supersonic\", \"superstitious\", \"survivor\", \"sweet\", \"sweet\", \"sweet\", \"sweet\", \"sweet\", \"sweet\", \"sweet\", \"sweeter\", \"sweeter\", \"sweeter\", \"sweeter\", \"sweeter\", \"sweeter\", \"sweethearts\", \"take\", \"take\", \"take\", \"take\", \"take\", \"take\", \"take\", \"talk\", \"talk\", \"talk\", \"talk\", \"talk\", \"talk\", \"talk\", \"talkin\", \"talkin\", \"talkin\", \"talkin\", \"talkin\", \"talkin\", \"talkin\", \"tambourine\", \"teach\", \"teach\", \"teach\", \"teach\", \"teach\", \"teach\", \"teach\", \"tear\", \"tear\", \"tear\", \"tear\", \"tear\", \"tear\", \"tear\", \"tearin\", \"tell\", \"tell\", \"tell\", \"tell\", \"tell\", \"tell\", \"tell\", \"tequila\", \"thangs\", \"thee\", \"thee\", \"thee\", \"thee\", \"thee\", \"things\", \"things\", \"things\", \"things\", \"things\", \"things\", \"things\", \"think\", \"think\", \"think\", \"think\", \"think\", \"think\", \"think\", \"thinkin\", \"thinkin\", \"thinkin\", \"thinkin\", \"thinkin\", \"thinkin\", \"thinkin\", \"thrill\", \"thrill\", \"thrill\", \"thrill\", \"thrill\", \"thrill\", \"time\", \"time\", \"time\", \"time\", \"time\", \"time\", \"time\", \"tobacco\", \"tock\", \"tonight\", \"tonight\", \"tonight\", \"tonight\", \"tonight\", \"tonight\", \"tonight\", \"tonk\", \"tonk\", \"triangle\", \"true\", \"true\", \"true\", \"true\", \"true\", \"true\", \"true\", \"tryin\", \"tryin\", \"tryin\", \"tryin\", \"tryin\", \"tryin\", \"tryin\", \"tryna\", \"tryna\", \"tryna\", \"tryna\", \"tryna\", \"tryna\", \"tryna\", \"tune\", \"tune\", \"tune\", \"tune\", \"tune\", \"tune\", \"tune\", \"turn\", \"turn\", \"turn\", \"turn\", \"turn\", \"turn\", \"turn\", \"uhoh\", \"uhoh\", \"unafraid\", \"uncertain\", \"unconscious\", \"unfair\", \"universe\", \"universe\", \"universe\", \"universe\", \"universe\", \"unlearn\", \"unleash\", \"unusual\", \"vampire\", \"vans\", \"vibes\", \"vibes\", \"vibes\", \"vibes\", \"vibes\", \"videos\", \"voodoo\", \"voodoo\", \"voyage\", \"wait\", \"wait\", \"wait\", \"wait\", \"wait\", \"wait\", \"wait\", \"waitin\", \"waitin\", \"waitin\", \"waitin\", \"waitin\", \"waitin\", \"waitin\", \"walk\", \"walk\", \"walk\", \"walk\", \"walk\", \"walk\", \"walk\", \"walkin\", \"walkin\", \"walkin\", \"walkin\", \"walkin\", \"walkin\", \"walkin\", \"wanna\", \"wanna\", \"wanna\", \"wanna\", \"wanna\", \"wanna\", \"wanna\", \"want\", \"want\", \"want\", \"want\", \"want\", \"want\", \"want\", \"wassup\", \"wassup\", \"wastin\", \"wastin\", \"wavelength\", \"weary\", \"weary\", \"weary\", \"weary\", \"weary\", \"weed\", \"weed\", \"weed\", \"weed\", \"weed\", \"weed\", \"weed\", \"weep\", \"weep\", \"weep\", \"weep\", \"weep\", \"weep\", \"weep\", \"whassup\", \"whatcha\", \"whatcha\", \"whatcha\", \"whatcha\", \"white\", \"white\", \"white\", \"white\", \"white\", \"white\", \"white\", \"whoaohohoh\", \"wish\", \"wish\", \"wish\", \"wish\", \"wish\", \"wish\", \"wish\", \"woahohohoh\", \"woman\", \"woman\", \"woman\", \"woman\", \"woman\", \"woman\", \"woman\", \"wonderful\", \"wonderful\", \"wonderful\", \"wonderful\", \"wonderful\", \"wonderful\", \"wonderful\", \"wondrous\", \"woohoo\", \"word\", \"word\", \"word\", \"word\", \"word\", \"word\", \"word\", \"workin\", \"workin\", \"workin\", \"workin\", \"workin\", \"workin\", \"workin\", \"world\", \"world\", \"world\", \"world\", \"world\", \"world\", \"world\", \"worm\", \"write\", \"write\", \"write\", \"write\", \"write\", \"write\", \"write\", \"yeah\", \"yeah\", \"yeah\", \"yeah\", \"yeah\", \"yeah\", \"yeah\", \"yeahhh\", \"yeahyeah\", \"yeahyeah\", \"yeahyeah\", \"yeahyeah\", \"yesterday\", \"yesterday\", \"yesterday\", \"yesterday\", \"yesterday\", \"yesterday\", \"yesterday\", \"yout\", \"zoom\", \"zoom\"]}, \"R\": 30, \"lambda.step\": 0.01, \"plot.opts\": {\"xlab\": \"PC1\", \"ylab\": \"PC2\"}, \"topic.order\": [7, 3, 6, 1, 5, 2, 4]};\n",
       "\n",
       "function LDAvis_load_lib(url, callback){\n",
       "  var s = document.createElement('script');\n",
       "  s.src = url;\n",
       "  s.async = true;\n",
       "  s.onreadystatechange = s.onload = callback;\n",
       "  s.onerror = function(){console.warn(\"failed to load library \" + url);};\n",
       "  document.getElementsByTagName(\"head\")[0].appendChild(s);\n",
       "}\n",
       "\n",
       "if(typeof(LDAvis) !== \"undefined\"){\n",
       "   // already loaded: just create the visualization\n",
       "   !function(LDAvis){\n",
       "       new LDAvis(\"#\" + \"ldavis_el3080116568140801318193575\", ldavis_el3080116568140801318193575_data);\n",
       "   }(LDAvis);\n",
       "}else if(typeof define === \"function\" && define.amd){\n",
       "   // require.js is available: use it to load d3/LDAvis\n",
       "   require.config({paths: {d3: \"https://d3js.org/d3.v5\"}});\n",
       "   require([\"d3\"], function(d3){\n",
       "      window.d3 = d3;\n",
       "      LDAvis_load_lib(\"https://cdn.jsdelivr.net/gh/bmabey/pyLDAvis@3.3.1/pyLDAvis/js/ldavis.v3.0.0.js\", function(){\n",
       "        new LDAvis(\"#\" + \"ldavis_el3080116568140801318193575\", ldavis_el3080116568140801318193575_data);\n",
       "      });\n",
       "    });\n",
       "}else{\n",
       "    // require.js not available: dynamically load d3 & LDAvis\n",
       "    LDAvis_load_lib(\"https://d3js.org/d3.v5.js\", function(){\n",
       "         LDAvis_load_lib(\"https://cdn.jsdelivr.net/gh/bmabey/pyLDAvis@3.3.1/pyLDAvis/js/ldavis.v3.0.0.js\", function(){\n",
       "                 new LDAvis(\"#\" + \"ldavis_el3080116568140801318193575\", ldavis_el3080116568140801318193575_data);\n",
       "            })\n",
       "         });\n",
       "}\n",
       "</script>"
      ],
      "text/plain": [
       "PreparedData(topic_coordinates=              x         y  topics  cluster       Freq\n",
       "topic                                                \n",
       "6     -0.092024 -0.012400       1        1  20.802534\n",
       "2     -0.107685 -0.085630       2        1  19.312628\n",
       "5      0.032652 -0.009479       3        1  14.193049\n",
       "0      0.188539 -0.005059       4        1  13.898887\n",
       "4      0.114549 -0.066172       5        1  13.721113\n",
       "1     -0.106067 -0.050414       6        1  11.108610\n",
       "3     -0.029964  0.229154       7        1   6.963178, topic_info=      Term          Freq         Total Category  logprob  loglift\n",
       "284   life  13254.000000  13254.000000  Default  30.0000  30.0000\n",
       "351   sing   4982.000000   4982.000000  Default  29.0000  29.0000\n",
       "64   heart  13975.000000  13975.000000  Default  28.0000  28.0000\n",
       "225   song   4517.000000   4517.000000  Default  27.0000  27.0000\n",
       "218   play   5756.000000   5756.000000  Default  26.0000  26.0000\n",
       "..     ...           ...           ...      ...      ...      ...\n",
       "466   game    551.111970   2490.929227   Topic7  -5.3366   1.1561\n",
       "37    like    855.848783  24565.620704   Topic7  -4.8964  -0.6925\n",
       "800  bring    543.656091   3743.476648   Topic7  -5.3502   0.7351\n",
       "10      go    611.010760  14206.092093   Topic7  -5.2334  -0.4818\n",
       "75     say    517.455060   5923.970358   Topic7  -5.3996   0.2267\n",
       "\n",
       "[648 rows x 6 columns], token_table=      Topic      Freq        Term\n",
       "term                             \n",
       "4410      1  0.985587        aaah\n",
       "4410      4  0.007467        aaah\n",
       "3603      3  0.970333    accustom\n",
       "7300      3  0.971558  adrenaline\n",
       "4716      1  0.969890        ahah\n",
       "...     ...       ...         ...\n",
       "84        6  0.039109   yesterday\n",
       "84        7  0.007822   yesterday\n",
       "2981      3  0.972003        yout\n",
       "9095      3  0.984966        zoom\n",
       "9095      5  0.010260        zoom\n",
       "\n",
       "[2176 rows x 3 columns], R=30, lambda_step=0.01, plot_opts={'xlab': 'PC1', 'ylab': 'PC2'}, topic_order=[7, 3, 6, 1, 5, 2, 4])"
      ]
     },
     "execution_count": 21,
     "metadata": {},
     "output_type": "execute_result"
    }
   ],
   "source": [
    "# Visualize the topics ----注意！这里的topic数根上面对应的不一样 ！！！ 以上面的为准\n",
    "pyLDAvis.enable_notebook()\n",
    "vis_filepath = os.path.join('/Users/liuxiaoquan/Documents/703/Final_Project/LDA'+str(num_topics))\n",
    "\n",
    "if not os.path.isfile(vis_filepath):\n",
    "    LDAvis_prepared = pyLDAvis.gensim_models.prepare(lda_model, corpus, id2word)\n",
    "    with open(vis_filepath, 'wb') as f:\n",
    "        pickle.dump(LDAvis_prepared, f)\n",
    "\n",
    "# load the pre-prepared pyLDAvis data from disk\n",
    "with open(vis_filepath, 'rb') as f:\n",
    "    LDAvis_prepared = pickle.load(f)\n",
    "\n",
    "pyLDAvis.save_html(LDAvis_prepared, '/Users/liuxiaoquan/Documents/703/Final_Project/LDA'+str(num_topics)+'.html')\n",
    "\n",
    "LDAvis_prepared\n"
   ]
  },
  {
   "cell_type": "markdown",
   "metadata": {},
   "source": [
    "# Genre Mapping --- manually mapping based on percentage of overlap words"
   ]
  },
  {
   "cell_type": "code",
   "execution_count": 22,
   "metadata": {},
   "outputs": [
    {
     "data": {
      "text/plain": [
       "['like bitch fuck shit nigga know niggas come time yeah dead cause beat kill smoke want pull real blow game walk kick wanna white drop turn high bang play brain',\n",
       " 'life dream come live want know mind time sweet love change world think true things wanna like need wait somebody alive yeah baby girl feel hold lover tell cause wish',\n",
       " 'time heart know go feel away long break baby leave like need night stay cause hurt lonely think tell walk want start come take right kiss look yeah lose miss',\n",
       " 'sing song play hear ready woman music fool summer come shoot know wish like call sound listen learn songs ring word blue dance go write guitar radio game bring say',\n",
       " 'yeah good right like know better money cause baby time wanna gonna gotta girl tell want bout think come fuck look little talk need lookin nothin feel damn stop shit',\n",
       " 'like world away believe know head come black yeah change people live cause go want tell look stand party think days give need face feel time life say hand place',\n",
       " 'come fall hold night know home hand tonight gonna blue eye stand time tear leave heart inside cold like go away look fight burn rain soul sleep tell remember hide']"
      ]
     },
     "execution_count": 22,
     "metadata": {},
     "output_type": "execute_result"
    }
   ],
   "source": [
    "# top 30 words in each topic\n",
    "top_words = 30\n",
    "topic_summaries = []\n",
    "topic_word = lda_model.show_topics(formatted=False, num_words=top_words)\n",
    "for topic, words in topic_word:\n",
    "    topic_summaries.append(' '.join([i[0] for i in words]))\n",
    "\n",
    "topic_summaries\n"
   ]
  },
  {
   "cell_type": "code",
   "execution_count": 23,
   "metadata": {},
   "outputs": [],
   "source": [
    "genre0 = topic_summaries[0].split()\n",
    "genre1 = topic_summaries[1].split()\n",
    "genre2 = topic_summaries[2].split()\n",
    "genre3 = topic_summaries[3].split()\n",
    "genre4 = topic_summaries[4].split()\n",
    "genre5 = topic_summaries[5].split()\n",
    "genre6 = topic_summaries[6].split()\n"
   ]
  },
  {
   "cell_type": "code",
   "execution_count": 24,
   "metadata": {},
   "outputs": [],
   "source": [
    "# pop', 'country', 'blues', 'jazz', 'reggae', 'rock', 'hip hop'\n",
    "pop = music_clean[music_clean['genre'] == 'pop']\n",
    "country = music_clean[music_clean['genre'] == 'country']\n",
    "blues = music_clean[music_clean['genre'] == 'blues']\n",
    "jazz = music_clean[music_clean['genre'] == 'jazz']\n",
    "reggae = music_clean[music_clean['genre'] == 'reggae']\n",
    "rock = music_clean[music_clean['genre'] == 'rock']\n",
    "hiphop = music_clean[music_clean['genre'] == 'hip hop']"
   ]
  },
  {
   "cell_type": "code",
   "execution_count": 25,
   "metadata": {},
   "outputs": [],
   "source": [
    "# put top words in each genre into a list\n",
    "def top_words(df):\n",
    "    count = df['rm_ly'].str.split(expand=True).stack().value_counts()\n",
    "    return list(count.index)\n",
    "\n",
    "pop_words = top_words(pop)[:30]\n",
    "country_words = top_words(country)[:30]\n",
    "blues_words = top_words(blues)[:30]\n",
    "jazz_words = top_words(jazz)[:30]\n",
    "reggae_words = top_words(reggae)[:30]\n",
    "rock_words = top_words(rock)[:30]\n",
    "hiphop_words = top_words(hiphop)[:30]\n"
   ]
  },
  {
   "cell_type": "code",
   "execution_count": 26,
   "metadata": {},
   "outputs": [],
   "source": [
    "# compare top words in genre and top words in topic\n",
    "def compare_words(genre, topic):\n",
    "    compare = set(genre).intersection(set(topic))\n",
    "    return len(compare)"
   ]
  },
  {
   "cell_type": "code",
   "execution_count": 27,
   "metadata": {},
   "outputs": [
    {
     "data": {
      "text/plain": [
       "18"
      ]
     },
     "execution_count": 27,
     "metadata": {},
     "output_type": "execute_result"
    }
   ],
   "source": [
    "compare_words(pop_words, genre0)\n",
    "compare_words(pop_words, genre1)"
   ]
  },
  {
   "cell_type": "code",
   "execution_count": 28,
   "metadata": {},
   "outputs": [
    {
     "name": "stdout",
     "output_type": "stream",
     "text": [
      "[8, 7, 7, 7, 8, 7, 15]\n",
      "[18, 16, 16, 18, 17, 17, 15]\n",
      "[21, 20, 21, 20, 20, 21, 17]\n",
      "[4, 5, 6, 5, 5, 5, 5]\n",
      "[18, 15, 16, 15, 17, 15, 18]\n",
      "[17, 16, 17, 16, 19, 17, 15]\n",
      "[14, 15, 14, 13, 13, 15, 8]\n"
     ]
    }
   ],
   "source": [
    "for i in range(7):\n",
    "    number = []\n",
    "    for j in [pop_words, country_words, blues_words, jazz_words, reggae_words, rock_words, hiphop_words]:\n",
    "        number.append(compare_words(j, topic_summaries[i].split()))\n",
    "    print(number)"
   ]
  },
  {
   "cell_type": "markdown",
   "metadata": {},
   "source": [
    "## Mapping --- 0 & 1 & 5 overlap\n",
    "> 0 ---> hiphop\n",
    "\n",
    "> 1 ---> pop/jazz ---> jazz\n",
    "\n",
    "> 2 ---> pop/blues/rock ---> rock\n",
    "\n",
    "> 3 ---> blues\n",
    "\n",
    "> 4 ---> pop/hiphop --->pop\n",
    "\n",
    "> 5 ---> reggae\n",
    "\n",
    "> 6 ---> country/rock ---> country"
   ]
  },
  {
   "cell_type": "code",
   "execution_count": 29,
   "metadata": {},
   "outputs": [],
   "source": [
    "# generate topic distribution for each document\n",
    "def format_topics_sentences(ldamodel=lda_model, corpus=corpus, texts=data_words):\n",
    "    # Init output\n",
    "    sent_topics_df = pd.DataFrame()\n",
    "\n",
    "    # Get main topic in each document\n",
    "    for i, row in enumerate(ldamodel[corpus]):\n",
    "        row = sorted(row, key=lambda x: (x[1]), reverse=True)\n",
    "        # Get the Dominant topic, Perc Contribution and Keywords for each document\n",
    "        for j, (topic_num, prop_topic) in enumerate(row):\n",
    "            if j == 0:  # => dominant topic\n",
    "                wp = ldamodel.show_topic(topic_num)\n",
    "                topic_keywords = \", \".join([word for word, prop in wp])\n",
    "                sent_topics_df = sent_topics_df.append(pd.Series([int(topic_num), round(prop_topic,4), topic_keywords]), ignore_index=True)\n",
    "            else:\n",
    "                break\n",
    "    sent_topics_df.columns = ['Dominant_Topic', 'Perc_Contribution', 'Topic_Keywords']\n",
    "\n",
    "    # Add original text to the end of the output\n",
    "    contents = pd.Series(texts)\n",
    "    sent_topics_df = pd.concat([sent_topics_df, contents], axis=1)\n",
    "    sent_topics_df.columns = ['Dominant_Topic', 'Perc_Contribution', 'Topic_Keywords'] + ['Text']\n",
    "    return(sent_topics_df)"
   ]
  },
  {
   "cell_type": "code",
   "execution_count": 30,
   "metadata": {},
   "outputs": [
    {
     "name": "stderr",
     "output_type": "stream",
     "text": [
      "/var/folders/sg/9df1z7l9473gcyg7yjh1kzcc0000gn/T/ipykernel_3080/1692897747.py:14: FutureWarning: The frame.append method is deprecated and will be removed from pandas in a future version. Use pandas.concat instead.\n",
      "  sent_topics_df = sent_topics_df.append(pd.Series([int(topic_num), round(prop_topic,4), topic_keywords]), ignore_index=True)\n",
      "/var/folders/sg/9df1z7l9473gcyg7yjh1kzcc0000gn/T/ipykernel_3080/1692897747.py:14: FutureWarning: The frame.append method is deprecated and will be removed from pandas in a future version. Use pandas.concat instead.\n",
      "  sent_topics_df = sent_topics_df.append(pd.Series([int(topic_num), round(prop_topic,4), topic_keywords]), ignore_index=True)\n"
     ]
    },
    {
     "data": {
      "text/html": [
       "<div>\n",
       "<style scoped>\n",
       "    .dataframe tbody tr th:only-of-type {\n",
       "        vertical-align: middle;\n",
       "    }\n",
       "\n",
       "    .dataframe tbody tr th {\n",
       "        vertical-align: top;\n",
       "    }\n",
       "\n",
       "    .dataframe thead th {\n",
       "        text-align: right;\n",
       "    }\n",
       "</style>\n",
       "<table border=\"1\" class=\"dataframe\">\n",
       "  <thead>\n",
       "    <tr style=\"text-align: right;\">\n",
       "      <th></th>\n",
       "      <th>Dominant_Topic</th>\n",
       "      <th>Perc_Contribution</th>\n",
       "      <th>Topic_Keywords</th>\n",
       "      <th>Text</th>\n",
       "    </tr>\n",
       "  </thead>\n",
       "  <tbody>\n",
       "    <tr>\n",
       "      <th>0</th>\n",
       "      <td>2</td>\n",
       "      <td>0.5253</td>\n",
       "      <td>time, heart, know, go, feel, away, long, break...</td>\n",
       "      <td>[close, nights, morose, beguine, begin, future...</td>\n",
       "    </tr>\n",
       "    <tr>\n",
       "      <th>1</th>\n",
       "      <td>4</td>\n",
       "      <td>0.9081</td>\n",
       "      <td>yeah, good, right, like, know, better, money, ...</td>\n",
       "      <td>[struttin, stuff, struttin, stuff, struttin, s...</td>\n",
       "    </tr>\n",
       "    <tr>\n",
       "      <th>2</th>\n",
       "      <td>6</td>\n",
       "      <td>0.7330</td>\n",
       "      <td>come, fall, hold, night, know, home, hand, ton...</td>\n",
       "      <td>[remember, remember, remember, remember, moon,...</td>\n",
       "    </tr>\n",
       "    <tr>\n",
       "      <th>3</th>\n",
       "      <td>1</td>\n",
       "      <td>0.6510</td>\n",
       "      <td>life, dream, come, live, want, know, mind, tim...</td>\n",
       "      <td>[russia, wiser, goodbye, travel, world, learn,...</td>\n",
       "    </tr>\n",
       "    <tr>\n",
       "      <th>4</th>\n",
       "      <td>4</td>\n",
       "      <td>0.9286</td>\n",
       "      <td>yeah, good, right, like, know, better, money, ...</td>\n",
       "      <td>[good, good, good, good, good, good, good, goo...</td>\n",
       "    </tr>\n",
       "    <tr>\n",
       "      <th>5</th>\n",
       "      <td>2</td>\n",
       "      <td>0.5304</td>\n",
       "      <td>time, heart, know, go, feel, away, long, break...</td>\n",
       "      <td>[sorry, presume, respect, heart, mean, underst...</td>\n",
       "    </tr>\n",
       "    <tr>\n",
       "      <th>6</th>\n",
       "      <td>6</td>\n",
       "      <td>0.6268</td>\n",
       "      <td>come, fall, hold, night, know, home, hand, ton...</td>\n",
       "      <td>[speak, caress, mind, speak, reach, time]</td>\n",
       "    </tr>\n",
       "    <tr>\n",
       "      <th>7</th>\n",
       "      <td>5</td>\n",
       "      <td>0.5517</td>\n",
       "      <td>like, world, away, believe, know, head, come, ...</td>\n",
       "      <td>[skull, ohehoh, like, hungry, tick, clock, foo...</td>\n",
       "    </tr>\n",
       "    <tr>\n",
       "      <th>8</th>\n",
       "      <td>0</td>\n",
       "      <td>0.8950</td>\n",
       "      <td>like, bitch, fuck, shit, nigga, know, niggas, ...</td>\n",
       "      <td>[pray, waaaaay, yeah, yeah, remember, syrup, s...</td>\n",
       "    </tr>\n",
       "    <tr>\n",
       "      <th>9</th>\n",
       "      <td>6</td>\n",
       "      <td>0.6445</td>\n",
       "      <td>come, fall, hold, night, know, home, hand, ton...</td>\n",
       "      <td>[dimenticar, mean, forget, darling, forget, me...</td>\n",
       "    </tr>\n",
       "  </tbody>\n",
       "</table>\n",
       "</div>"
      ],
      "text/plain": [
       "   Dominant_Topic  Perc_Contribution  \\\n",
       "0               2             0.5253   \n",
       "1               4             0.9081   \n",
       "2               6             0.7330   \n",
       "3               1             0.6510   \n",
       "4               4             0.9286   \n",
       "5               2             0.5304   \n",
       "6               6             0.6268   \n",
       "7               5             0.5517   \n",
       "8               0             0.8950   \n",
       "9               6             0.6445   \n",
       "\n",
       "                                      Topic_Keywords  \\\n",
       "0  time, heart, know, go, feel, away, long, break...   \n",
       "1  yeah, good, right, like, know, better, money, ...   \n",
       "2  come, fall, hold, night, know, home, hand, ton...   \n",
       "3  life, dream, come, live, want, know, mind, tim...   \n",
       "4  yeah, good, right, like, know, better, money, ...   \n",
       "5  time, heart, know, go, feel, away, long, break...   \n",
       "6  come, fall, hold, night, know, home, hand, ton...   \n",
       "7  like, world, away, believe, know, head, come, ...   \n",
       "8  like, bitch, fuck, shit, nigga, know, niggas, ...   \n",
       "9  come, fall, hold, night, know, home, hand, ton...   \n",
       "\n",
       "                                                Text  \n",
       "0  [close, nights, morose, beguine, begin, future...  \n",
       "1  [struttin, stuff, struttin, stuff, struttin, s...  \n",
       "2  [remember, remember, remember, remember, moon,...  \n",
       "3  [russia, wiser, goodbye, travel, world, learn,...  \n",
       "4  [good, good, good, good, good, good, good, goo...  \n",
       "5  [sorry, presume, respect, heart, mean, underst...  \n",
       "6          [speak, caress, mind, speak, reach, time]  \n",
       "7  [skull, ohehoh, like, hungry, tick, clock, foo...  \n",
       "8  [pray, waaaaay, yeah, yeah, remember, syrup, s...  \n",
       "9  [dimenticar, mean, forget, darling, forget, me...  "
      ]
     },
     "execution_count": 30,
     "metadata": {},
     "output_type": "execute_result"
    }
   ],
   "source": [
    "dominate = format_topics_sentences(ldamodel=lda_model, corpus=corpus, texts=data_words)\n",
    "dominate.head(10)"
   ]
  },
  {
   "cell_type": "code",
   "execution_count": 31,
   "metadata": {},
   "outputs": [
    {
     "data": {
      "text/html": [
       "<div>\n",
       "<style scoped>\n",
       "    .dataframe tbody tr th:only-of-type {\n",
       "        vertical-align: middle;\n",
       "    }\n",
       "\n",
       "    .dataframe tbody tr th {\n",
       "        vertical-align: top;\n",
       "    }\n",
       "\n",
       "    .dataframe thead th {\n",
       "        text-align: right;\n",
       "    }\n",
       "</style>\n",
       "<table border=\"1\" class=\"dataframe\">\n",
       "  <thead>\n",
       "    <tr style=\"text-align: right;\">\n",
       "      <th></th>\n",
       "      <th>rm_ly</th>\n",
       "      <th>genre</th>\n",
       "    </tr>\n",
       "  </thead>\n",
       "  <tbody>\n",
       "    <tr>\n",
       "      <th>12548</th>\n",
       "      <td>close nights morose beguine begin future look ...</td>\n",
       "      <td>blues</td>\n",
       "    </tr>\n",
       "    <tr>\n",
       "      <th>8688</th>\n",
       "      <td>struttin stuff struttin stuff struttin stuff s...</td>\n",
       "      <td>country</td>\n",
       "    </tr>\n",
       "    <tr>\n",
       "      <th>17255</th>\n",
       "      <td>remember remember remember remember moon look ...</td>\n",
       "      <td>jazz</td>\n",
       "    </tr>\n",
       "    <tr>\n",
       "      <th>3737</th>\n",
       "      <td>russia wiser goodbye travel world learn return...</td>\n",
       "      <td>pop</td>\n",
       "    </tr>\n",
       "    <tr>\n",
       "      <th>19343</th>\n",
       "      <td>good good good good good good good good good g...</td>\n",
       "      <td>jazz</td>\n",
       "    </tr>\n",
       "  </tbody>\n",
       "</table>\n",
       "</div>"
      ],
      "text/plain": [
       "                                                   rm_ly    genre\n",
       "12548  close nights morose beguine begin future look ...    blues\n",
       "8688   struttin stuff struttin stuff struttin stuff s...  country\n",
       "17255  remember remember remember remember moon look ...     jazz\n",
       "3737   russia wiser goodbye travel world learn return...      pop\n",
       "19343  good good good good good good good good good g...     jazz"
      ]
     },
     "execution_count": 31,
     "metadata": {},
     "output_type": "execute_result"
    }
   ],
   "source": [
    "# concate xtrain and ytrain\n",
    "music_train = pd.concat([xtrain, ytrain], axis=1)\n",
    "music_train.head(5)"
   ]
  },
  {
   "cell_type": "code",
   "execution_count": 32,
   "metadata": {},
   "outputs": [
    {
     "data": {
      "text/html": [
       "<div>\n",
       "<style scoped>\n",
       "    .dataframe tbody tr th:only-of-type {\n",
       "        vertical-align: middle;\n",
       "    }\n",
       "\n",
       "    .dataframe tbody tr th {\n",
       "        vertical-align: top;\n",
       "    }\n",
       "\n",
       "    .dataframe thead th {\n",
       "        text-align: right;\n",
       "    }\n",
       "</style>\n",
       "<table border=\"1\" class=\"dataframe\">\n",
       "  <thead>\n",
       "    <tr style=\"text-align: right;\">\n",
       "      <th></th>\n",
       "      <th>rm_ly</th>\n",
       "      <th>genre</th>\n",
       "      <th>lable</th>\n",
       "    </tr>\n",
       "  </thead>\n",
       "  <tbody>\n",
       "    <tr>\n",
       "      <th>12548</th>\n",
       "      <td>close nights morose beguine begin future look ...</td>\n",
       "      <td>blues</td>\n",
       "      <td>3</td>\n",
       "    </tr>\n",
       "    <tr>\n",
       "      <th>8688</th>\n",
       "      <td>struttin stuff struttin stuff struttin stuff s...</td>\n",
       "      <td>country</td>\n",
       "      <td>6</td>\n",
       "    </tr>\n",
       "    <tr>\n",
       "      <th>17255</th>\n",
       "      <td>remember remember remember remember moon look ...</td>\n",
       "      <td>jazz</td>\n",
       "      <td>1</td>\n",
       "    </tr>\n",
       "    <tr>\n",
       "      <th>3737</th>\n",
       "      <td>russia wiser goodbye travel world learn return...</td>\n",
       "      <td>pop</td>\n",
       "      <td>4</td>\n",
       "    </tr>\n",
       "    <tr>\n",
       "      <th>19343</th>\n",
       "      <td>good good good good good good good good good g...</td>\n",
       "      <td>jazz</td>\n",
       "      <td>1</td>\n",
       "    </tr>\n",
       "  </tbody>\n",
       "</table>\n",
       "</div>"
      ],
      "text/plain": [
       "                                                   rm_ly    genre  lable\n",
       "12548  close nights morose beguine begin future look ...    blues      3\n",
       "8688   struttin stuff struttin stuff struttin stuff s...  country      6\n",
       "17255  remember remember remember remember moon look ...     jazz      1\n",
       "3737   russia wiser goodbye travel world learn return...      pop      4\n",
       "19343  good good good good good good good good good g...     jazz      1"
      ]
     },
     "execution_count": 32,
     "metadata": {},
     "output_type": "execute_result"
    }
   ],
   "source": [
    "music_train['lable'] = music_train['genre'].map({'pop':4, 'country':6, 'blues':3, 'jazz':1, 'reggae':5, 'rock':2, 'hip hop':0})\n",
    "music_train.head(5)"
   ]
  },
  {
   "cell_type": "code",
   "execution_count": 33,
   "metadata": {},
   "outputs": [],
   "source": [
    "# reset index from 0\n",
    "music_train = music_train.reset_index(drop=True)"
   ]
  },
  {
   "cell_type": "code",
   "execution_count": 34,
   "metadata": {},
   "outputs": [
    {
     "data": {
      "text/html": [
       "<div>\n",
       "<style scoped>\n",
       "    .dataframe tbody tr th:only-of-type {\n",
       "        vertical-align: middle;\n",
       "    }\n",
       "\n",
       "    .dataframe tbody tr th {\n",
       "        vertical-align: top;\n",
       "    }\n",
       "\n",
       "    .dataframe thead th {\n",
       "        text-align: right;\n",
       "    }\n",
       "</style>\n",
       "<table border=\"1\" class=\"dataframe\">\n",
       "  <thead>\n",
       "    <tr style=\"text-align: right;\">\n",
       "      <th></th>\n",
       "      <th>rm_ly</th>\n",
       "      <th>genre</th>\n",
       "      <th>lable</th>\n",
       "    </tr>\n",
       "  </thead>\n",
       "  <tbody>\n",
       "    <tr>\n",
       "      <th>0</th>\n",
       "      <td>close nights morose beguine begin future look ...</td>\n",
       "      <td>blues</td>\n",
       "      <td>3</td>\n",
       "    </tr>\n",
       "    <tr>\n",
       "      <th>1</th>\n",
       "      <td>struttin stuff struttin stuff struttin stuff s...</td>\n",
       "      <td>country</td>\n",
       "      <td>6</td>\n",
       "    </tr>\n",
       "    <tr>\n",
       "      <th>2</th>\n",
       "      <td>remember remember remember remember moon look ...</td>\n",
       "      <td>jazz</td>\n",
       "      <td>1</td>\n",
       "    </tr>\n",
       "    <tr>\n",
       "      <th>3</th>\n",
       "      <td>russia wiser goodbye travel world learn return...</td>\n",
       "      <td>pop</td>\n",
       "      <td>4</td>\n",
       "    </tr>\n",
       "    <tr>\n",
       "      <th>4</th>\n",
       "      <td>good good good good good good good good good g...</td>\n",
       "      <td>jazz</td>\n",
       "      <td>1</td>\n",
       "    </tr>\n",
       "  </tbody>\n",
       "</table>\n",
       "</div>"
      ],
      "text/plain": [
       "                                               rm_ly    genre  lable\n",
       "0  close nights morose beguine begin future look ...    blues      3\n",
       "1  struttin stuff struttin stuff struttin stuff s...  country      6\n",
       "2  remember remember remember remember moon look ...     jazz      1\n",
       "3  russia wiser goodbye travel world learn return...      pop      4\n",
       "4  good good good good good good good good good g...     jazz      1"
      ]
     },
     "execution_count": 34,
     "metadata": {},
     "output_type": "execute_result"
    }
   ],
   "source": [
    "music_train.head(5)"
   ]
  },
  {
   "cell_type": "code",
   "execution_count": 35,
   "metadata": {},
   "outputs": [
    {
     "data": {
      "text/html": [
       "<div>\n",
       "<style scoped>\n",
       "    .dataframe tbody tr th:only-of-type {\n",
       "        vertical-align: middle;\n",
       "    }\n",
       "\n",
       "    .dataframe tbody tr th {\n",
       "        vertical-align: top;\n",
       "    }\n",
       "\n",
       "    .dataframe thead th {\n",
       "        text-align: right;\n",
       "    }\n",
       "</style>\n",
       "<table border=\"1\" class=\"dataframe\">\n",
       "  <thead>\n",
       "    <tr style=\"text-align: right;\">\n",
       "      <th></th>\n",
       "      <th>rm_ly</th>\n",
       "      <th>genre</th>\n",
       "      <th>lable</th>\n",
       "      <th>Dominant_Topic</th>\n",
       "      <th>Perc_Contribution</th>\n",
       "      <th>Topic_Keywords</th>\n",
       "      <th>Text</th>\n",
       "    </tr>\n",
       "  </thead>\n",
       "  <tbody>\n",
       "    <tr>\n",
       "      <th>18382</th>\n",
       "      <td>humanoid escapee android seek freedom beneath ...</td>\n",
       "      <td>rock</td>\n",
       "      <td>2</td>\n",
       "      <td>5</td>\n",
       "      <td>0.4120</td>\n",
       "      <td>like, world, away, believe, know, head, come, ...</td>\n",
       "      <td>[humanoid, escapee, android, seek, freedom, be...</td>\n",
       "    </tr>\n",
       "    <tr>\n",
       "      <th>14038</th>\n",
       "      <td>goddamn roll kinda stuff save souls horny thro...</td>\n",
       "      <td>blues</td>\n",
       "      <td>3</td>\n",
       "      <td>4</td>\n",
       "      <td>0.6208</td>\n",
       "      <td>yeah, good, right, like, know, better, money, ...</td>\n",
       "      <td>[goddamn, roll, kinda, stuff, save, souls, hor...</td>\n",
       "    </tr>\n",
       "    <tr>\n",
       "      <th>4924</th>\n",
       "      <td>streets go fuck walk spitter walk say walk say...</td>\n",
       "      <td>hip hop</td>\n",
       "      <td>0</td>\n",
       "      <td>0</td>\n",
       "      <td>0.3462</td>\n",
       "      <td>like, bitch, fuck, shit, nigga, know, niggas, ...</td>\n",
       "      <td>[streets, go, fuck, walk, spitter, walk, say, ...</td>\n",
       "    </tr>\n",
       "    <tr>\n",
       "      <th>7261</th>\n",
       "      <td>know crazy cross eye dumb dirty smelly lovely ...</td>\n",
       "      <td>blues</td>\n",
       "      <td>3</td>\n",
       "      <td>6</td>\n",
       "      <td>0.3561</td>\n",
       "      <td>come, fall, hold, night, know, home, hand, ton...</td>\n",
       "      <td>[know, crazy, cross, eye, dumb, dirty, smelly,...</td>\n",
       "    </tr>\n",
       "    <tr>\n",
       "      <th>8101</th>\n",
       "      <td>shame waste youth spade spade things things ye...</td>\n",
       "      <td>jazz</td>\n",
       "      <td>1</td>\n",
       "      <td>1</td>\n",
       "      <td>0.2554</td>\n",
       "      <td>life, dream, come, live, want, know, mind, tim...</td>\n",
       "      <td>[shame, waste, youth, spade, spade, things, th...</td>\n",
       "    </tr>\n",
       "    <tr>\n",
       "      <th>16206</th>\n",
       "      <td>trouble disturb care worry trouble days feel s...</td>\n",
       "      <td>pop</td>\n",
       "      <td>4</td>\n",
       "      <td>6</td>\n",
       "      <td>0.6930</td>\n",
       "      <td>come, fall, hold, night, know, home, hand, ton...</td>\n",
       "      <td>[trouble, disturb, care, worry, trouble, days,...</td>\n",
       "    </tr>\n",
       "    <tr>\n",
       "      <th>9023</th>\n",
       "      <td>captive slave boat row swamp throw lake alliga...</td>\n",
       "      <td>blues</td>\n",
       "      <td>3</td>\n",
       "      <td>6</td>\n",
       "      <td>0.9699</td>\n",
       "      <td>come, fall, hold, night, know, home, hand, ton...</td>\n",
       "      <td>[captive, slave, boat, row, swamp, throw, lake...</td>\n",
       "    </tr>\n",
       "    <tr>\n",
       "      <th>1826</th>\n",
       "      <td>sadder lonelier lonely misery like time equal ...</td>\n",
       "      <td>blues</td>\n",
       "      <td>3</td>\n",
       "      <td>6</td>\n",
       "      <td>0.3785</td>\n",
       "      <td>come, fall, hold, night, know, home, hand, ton...</td>\n",
       "      <td>[sadder, lonelier, lonely, misery, like, time,...</td>\n",
       "    </tr>\n",
       "    <tr>\n",
       "      <th>15419</th>\n",
       "      <td>wanna lose want walk away good tell forever ca...</td>\n",
       "      <td>pop</td>\n",
       "      <td>4</td>\n",
       "      <td>2</td>\n",
       "      <td>0.8870</td>\n",
       "      <td>time, heart, know, go, feel, away, long, break...</td>\n",
       "      <td>[wanna, lose, want, walk, away, good, tell, fo...</td>\n",
       "    </tr>\n",
       "    <tr>\n",
       "      <th>13132</th>\n",
       "      <td>hear news baby disease yeah want baby somethin...</td>\n",
       "      <td>rock</td>\n",
       "      <td>2</td>\n",
       "      <td>4</td>\n",
       "      <td>0.8742</td>\n",
       "      <td>yeah, good, right, like, know, better, money, ...</td>\n",
       "      <td>[hear, news, baby, disease, yeah, want, baby, ...</td>\n",
       "    </tr>\n",
       "  </tbody>\n",
       "</table>\n",
       "</div>"
      ],
      "text/plain": [
       "                                                   rm_ly    genre  lable  \\\n",
       "18382  humanoid escapee android seek freedom beneath ...     rock      2   \n",
       "14038  goddamn roll kinda stuff save souls horny thro...    blues      3   \n",
       "4924   streets go fuck walk spitter walk say walk say...  hip hop      0   \n",
       "7261   know crazy cross eye dumb dirty smelly lovely ...    blues      3   \n",
       "8101   shame waste youth spade spade things things ye...     jazz      1   \n",
       "16206  trouble disturb care worry trouble days feel s...      pop      4   \n",
       "9023   captive slave boat row swamp throw lake alliga...    blues      3   \n",
       "1826   sadder lonelier lonely misery like time equal ...    blues      3   \n",
       "15419  wanna lose want walk away good tell forever ca...      pop      4   \n",
       "13132  hear news baby disease yeah want baby somethin...     rock      2   \n",
       "\n",
       "       Dominant_Topic  Perc_Contribution  \\\n",
       "18382               5             0.4120   \n",
       "14038               4             0.6208   \n",
       "4924                0             0.3462   \n",
       "7261                6             0.3561   \n",
       "8101                1             0.2554   \n",
       "16206               6             0.6930   \n",
       "9023                6             0.9699   \n",
       "1826                6             0.3785   \n",
       "15419               2             0.8870   \n",
       "13132               4             0.8742   \n",
       "\n",
       "                                          Topic_Keywords  \\\n",
       "18382  like, world, away, believe, know, head, come, ...   \n",
       "14038  yeah, good, right, like, know, better, money, ...   \n",
       "4924   like, bitch, fuck, shit, nigga, know, niggas, ...   \n",
       "7261   come, fall, hold, night, know, home, hand, ton...   \n",
       "8101   life, dream, come, live, want, know, mind, tim...   \n",
       "16206  come, fall, hold, night, know, home, hand, ton...   \n",
       "9023   come, fall, hold, night, know, home, hand, ton...   \n",
       "1826   come, fall, hold, night, know, home, hand, ton...   \n",
       "15419  time, heart, know, go, feel, away, long, break...   \n",
       "13132  yeah, good, right, like, know, better, money, ...   \n",
       "\n",
       "                                                    Text  \n",
       "18382  [humanoid, escapee, android, seek, freedom, be...  \n",
       "14038  [goddamn, roll, kinda, stuff, save, souls, hor...  \n",
       "4924   [streets, go, fuck, walk, spitter, walk, say, ...  \n",
       "7261   [know, crazy, cross, eye, dumb, dirty, smelly,...  \n",
       "8101   [shame, waste, youth, spade, spade, things, th...  \n",
       "16206  [trouble, disturb, care, worry, trouble, days,...  \n",
       "9023   [captive, slave, boat, row, swamp, throw, lake...  \n",
       "1826   [sadder, lonelier, lonely, misery, like, time,...  \n",
       "15419  [wanna, lose, want, walk, away, good, tell, fo...  \n",
       "13132  [hear, news, baby, disease, yeah, want, baby, ...  "
      ]
     },
     "execution_count": 35,
     "metadata": {},
     "output_type": "execute_result"
    }
   ],
   "source": [
    "#join music_train and dominate based on index\n",
    "music_join = music_train.join(dominate)\n",
    "music_join.sample(10)"
   ]
  },
  {
   "cell_type": "code",
   "execution_count": 36,
   "metadata": {},
   "outputs": [],
   "source": [
    "#subset music_join based on genre\n",
    "music_join_pop = music_join[music_join['genre'] == 'pop'].loc[:,['genre','lable', 'Dominant_Topic']]\n",
    "music_join_country = music_join[music_join['genre'] == 'country'].loc[:,['genre','lable', 'Dominant_Topic']]\n",
    "music_join_blues = music_join[music_join['genre'] == 'blues'].loc[:,['genre','lable', 'Dominant_Topic']]\n",
    "music_join_jazz = music_join[music_join['genre'] == 'jazz'].loc[:,['genre','lable', 'Dominant_Topic']]\n",
    "music_join_reggae = music_join[music_join['genre'] == 'reggae'].loc[:,['genre','lable', 'Dominant_Topic']]\n",
    "music_join_rock = music_join[music_join['genre'] == 'rock'].loc[:,['genre','lable', 'Dominant_Topic']]"
   ]
  },
  {
   "cell_type": "code",
   "execution_count": 37,
   "metadata": {},
   "outputs": [
    {
     "name": "stdout",
     "output_type": "stream",
     "text": [
      "pop correct:  0.11091424521615875\n",
      "country correct:  0.25404905136510875\n",
      "blues correct:  0.07041870581837956\n",
      "jazz correct:  0.14418754014129737\n",
      "reggae correct:  0.2344931921331316\n",
      "rock correct:  0.23846153846153847\n"
     ]
    }
   ],
   "source": [
    "# calculate the percentage when dominant topic is the same as label\n",
    "def percentage(df):\n",
    "    count = 0\n",
    "    for i in range(len(df)):\n",
    "        if df.iloc[i,1] == df.iloc[i,2]:\n",
    "            count += 1\n",
    "    return count/len(df)\n",
    "\n",
    "print(\"pop correct: \" , percentage(music_join_pop))\n",
    "print(\"country correct: \" ,percentage(music_join_country))\n",
    "print(\"blues correct: \" ,percentage(music_join_blues))\n",
    "print(\"jazz correct: \" ,percentage(music_join_jazz))\n",
    "print(\"reggae correct: \" ,percentage(music_join_reggae))\n",
    "print(\"rock correct: \" ,percentage(music_join_rock))\n"
   ]
  },
  {
   "cell_type": "markdown",
   "metadata": {},
   "source": [
    "## Find top words based on train data\n",
    "\n",
    "> Almost the same, no obvious difference"
   ]
  },
  {
   "cell_type": "code",
   "execution_count": 38,
   "metadata": {},
   "outputs": [],
   "source": [
    "popnew = music_train[music_train['genre'] == 'pop']\n",
    "countrynew = music_train[music_train['genre'] == 'country']\n",
    "bluesnew = music_train[music_train['genre'] == 'blues']\n",
    "jazznew = music_train[music_train['genre'] == 'jazz']\n",
    "reggaenew = music_train[music_train['genre'] == 'reggae']\n",
    "rocknew = music_train[music_train['genre'] == 'rock']\n",
    "hiphopnew = music_train[music_train['genre'] == 'hip hop']"
   ]
  },
  {
   "cell_type": "code",
   "execution_count": 39,
   "metadata": {},
   "outputs": [],
   "source": [
    "pop_words_new = top_words(popnew)[:30]\n",
    "country_words_new = top_words(countrynew)[:30]\n",
    "blues_words_new = top_words(bluesnew)[:30]\n",
    "jazz_words_new = top_words(jazznew)[:30]\n",
    "reggae_words_new = top_words(reggaenew)[:30]\n",
    "rock_words_new = top_words(rocknew)[:30]\n",
    "hiphop_words_new = top_words(hiphopnew)[:30]\n"
   ]
  },
  {
   "cell_type": "code",
   "execution_count": 40,
   "metadata": {},
   "outputs": [
    {
     "name": "stdout",
     "output_type": "stream",
     "text": [
      "[8, 7, 7, 7, 8, 7, 14]\n",
      "[18, 17, 15, 18, 17, 16, 15]\n",
      "[21, 20, 20, 20, 20, 20, 17]\n",
      "[4, 5, 6, 5, 4, 5, 5]\n",
      "[18, 15, 15, 15, 17, 14, 18]\n",
      "[17, 16, 17, 16, 19, 18, 15]\n",
      "[14, 15, 15, 13, 14, 16, 8]\n"
     ]
    }
   ],
   "source": [
    "for i in range(7):\n",
    "    number = []\n",
    "    for j in [pop_words_new, country_words_new, blues_words_new, jazz_words_new, reggae_words_new, rock_words_new, hiphop_words_new]:\n",
    "        number.append(compare_words(j, topic_summaries[i].split()))\n",
    "    print(number)"
   ]
  },
  {
   "cell_type": "markdown",
   "metadata": {},
   "source": [
    "## Synthetic data"
   ]
  },
  {
   "cell_type": "markdown",
   "metadata": {},
   "source": [
    "### try to use toppic keyword instead"
   ]
  },
  {
   "cell_type": "code",
   "execution_count": 67,
   "metadata": {},
   "outputs": [
    {
     "name": "stdout",
     "output_type": "stream",
     "text": [
      "[(0,\n",
      "  '0.029*\"like\" + 0.015*\"bitch\" + 0.013*\"fuck\" + 0.012*\"shit\" + 0.011*\"nigga\" '\n",
      "  '+ 0.009*\"know\" + 0.008*\"niggas\" + 0.008*\"come\" + 0.007*\"time\" + '\n",
      "  '0.006*\"yeah\" + 0.005*\"dead\" + 0.005*\"cause\" + 0.005*\"beat\" + 0.004*\"kill\" + '\n",
      "  '0.004*\"smoke\" + 0.004*\"want\" + 0.004*\"pull\" + 0.004*\"real\" + 0.004*\"blow\" + '\n",
      "  '0.003*\"game\" + 0.003*\"walk\" + 0.003*\"kick\" + 0.003*\"wanna\" + 0.003*\"white\" '\n",
      "  '+ 0.003*\"drop\" + 0.003*\"turn\" + 0.003*\"high\" + 0.003*\"bang\" + 0.003*\"play\" '\n",
      "  '+ 0.003*\"brain\" + 0.003*\"light\" + 0.003*\"think\" + 0.003*\"head\" + '\n",
      "  '0.003*\"pussy\" + 0.003*\"need\" + 0.003*\"drink\" + 0.003*\"holy\" + 0.003*\"block\" '\n",
      "  '+ 0.002*\"get\" + 0.002*\"look\" + 0.002*\"street\" + 0.002*\"feel\" + '\n",
      "  '0.002*\"start\" + 0.002*\"right\" + 0.002*\"open\" + 0.002*\"dirty\" + 0.002*\"tell\" '\n",
      "  '+ 0.002*\"bust\" + 0.002*\"tryna\" + 0.002*\"break\" + 0.002*\"suck\" + '\n",
      "  '0.002*\"lyric\" + 0.002*\"catch\" + 0.002*\"step\" + 0.002*\"leave\" + 0.002*\"flow\" '\n",
      "  '+ 0.002*\"house\" + 0.002*\"throw\" + 0.002*\"black\" + 0.002*\"hard\" + '\n",
      "  '0.002*\"grind\" + 0.002*\"bring\" + 0.002*\"damn\" + 0.002*\"everybody\" + '\n",
      "  '0.002*\"rhyme\" + 0.002*\"commercial\" + 0.002*\"go\" + 0.002*\"watch\" + '\n",
      "  '0.002*\"style\" + 0.002*\"city\" + 0.002*\"stop\" + 0.002*\"freak\" + '\n",
      "  '0.002*\"america\" + 0.002*\"young\" + 0.002*\"check\" + 0.002*\"hear\" + '\n",
      "  '0.002*\"hoe\" + 0.002*\"point\" + 0.002*\"ride\" + 0.002*\"shake\" + 0.002*\"mind\" + '\n",
      "  '0.002*\"try\" + 0.002*\"green\" + 0.002*\"roll\" + 0.002*\"streets\" + '\n",
      "  '0.002*\"fresh\" + 0.002*\"word\" + 0.002*\"stay\" + 0.002*\"hand\" + 0.002*\"shoot\" '\n",
      "  '+ 0.002*\"work\" + 0.002*\"door\" + 0.002*\"club\" + 0.002*\"say\" + 0.002*\"lean\" + '\n",
      "  '0.002*\"take\" + 0.002*\"gotta\" + 0.002*\"little\" + 0.002*\"outside\" + '\n",
      "  '0.001*\"best\"'),\n",
      " (1,\n",
      "  '0.053*\"life\" + 0.025*\"dream\" + 0.024*\"come\" + 0.024*\"live\" + 0.021*\"want\" + '\n",
      "  '0.019*\"know\" + 0.017*\"mind\" + 0.017*\"time\" + 0.014*\"sweet\" + 0.012*\"love\" + '\n",
      "  '0.011*\"change\" + 0.010*\"world\" + 0.010*\"think\" + 0.009*\"true\" + '\n",
      "  '0.009*\"things\" + 0.009*\"wanna\" + 0.009*\"like\" + 0.007*\"need\" + 0.007*\"wait\" '\n",
      "  '+ 0.007*\"somebody\" + 0.007*\"alive\" + 0.007*\"yeah\" + 0.006*\"baby\" + '\n",
      "  '0.006*\"girl\" + 0.005*\"feel\" + 0.005*\"hold\" + 0.005*\"lover\" + 0.005*\"tell\" + '\n",
      "  '0.005*\"cause\" + 0.004*\"wish\" + 0.004*\"look\" + 0.004*\"away\" + 0.004*\"make\" + '\n",
      "  '0.004*\"leave\" + 0.004*\"hand\" + 0.004*\"spend\" + 0.004*\"eye\" + 0.003*\"share\" '\n",
      "  '+ 0.003*\"belong\" + 0.003*\"days\" + 0.003*\"little\" + 0.003*\"night\" + '\n",
      "  '0.003*\"promise\" + 0.003*\"right\" + 0.003*\"mean\" + 0.003*\"search\" + '\n",
      "  '0.003*\"better\" + 0.003*\"kiss\" + 0.003*\"remember\" + 0.003*\"thing\" + '\n",
      "  '0.003*\"smile\" + 0.003*\"today\" + 0.003*\"stay\" + 0.003*\"believe\" + '\n",
      "  '0.003*\"hard\" + 0.003*\"lose\" + 0.003*\"tomorrow\" + 0.003*\"turn\" + '\n",
      "  '0.003*\"thrill\" + 0.003*\"free\" + 0.002*\"work\" + 0.002*\"say\" + 0.002*\"livin\" '\n",
      "  '+ 0.002*\"gonna\" + 0.002*\"give\" + 0.002*\"best\" + 0.002*\"friends\" + '\n",
      "  '0.002*\"beautiful\" + 0.002*\"simple\" + 0.002*\"take\" + 0.002*\"go\" + '\n",
      "  '0.002*\"lady\" + 0.002*\"good\" + 0.002*\"care\" + 0.002*\"place\" + 0.002*\"stop\" + '\n",
      "  '0.002*\"everyday\" + 0.002*\"rest\" + 0.002*\"pass\" + 0.002*\"understand\" + '\n",
      "  '0.002*\"light\" + 0.002*\"walk\" + 0.002*\"sure\" + 0.002*\"plan\" + 0.002*\"face\" + '\n",
      "  '0.002*\"heart\" + 0.002*\"bring\" + 0.002*\"road\" + 0.002*\"arm\" + 0.002*\"hop\" + '\n",
      "  '0.002*\"puppy\" + 0.002*\"kind\" + 0.002*\"watch\" + 0.002*\"shout\" + 0.002*\"step\" '\n",
      "  '+ 0.002*\"happiness\" + 0.002*\"wonderful\" + 0.002*\"maybe\" + 0.002*\"happen\" + '\n",
      "  '0.002*\"near\"'),\n",
      " (2,\n",
      "  '0.035*\"time\" + 0.034*\"heart\" + 0.030*\"know\" + 0.025*\"go\" + 0.025*\"feel\" + '\n",
      "  '0.022*\"away\" + 0.021*\"long\" + 0.021*\"break\" + 0.018*\"baby\" + 0.017*\"leave\" '\n",
      "  '+ 0.014*\"like\" + 0.010*\"need\" + 0.009*\"night\" + 0.009*\"stay\" + '\n",
      "  '0.009*\"cause\" + 0.009*\"hurt\" + 0.009*\"lonely\" + 0.008*\"think\" + '\n",
      "  '0.008*\"tell\" + 0.008*\"walk\" + 0.008*\"want\" + 0.008*\"start\" + 0.007*\"come\" + '\n",
      "  '0.007*\"take\" + 0.007*\"right\" + 0.006*\"kiss\" + 0.006*\"look\" + 0.006*\"yeah\" + '\n",
      "  '0.006*\"lose\" + 0.006*\"miss\" + 0.006*\"tear\" + 0.006*\"turn\" + 0.006*\"little\" '\n",
      "  '+ 0.005*\"live\" + 0.005*\"eye\" + 0.005*\"true\" + 0.005*\"mind\" + 0.005*\"inside\" '\n",
      "  '+ 0.004*\"hold\" + 0.004*\"face\" + 0.004*\"place\" + 0.004*\"cry\" + 0.004*\"wanna\" '\n",
      "  '+ 0.004*\"pain\" + 0.004*\"say\" + 0.004*\"forever\" + 0.004*\"fall\" + '\n",
      "  '0.004*\"apart\" + 0.004*\"hard\" + 0.004*\"goodbye\" + 0.004*\"try\" + '\n",
      "  '0.004*\"gonna\" + 0.004*\"wrong\" + 0.004*\"forget\" + 0.004*\"things\" + '\n",
      "  '0.004*\"girl\" + 0.004*\"arm\" + 0.003*\"yesterday\" + 0.003*\"hear\" + '\n",
      "  '0.003*\"give\" + 0.003*\"remember\" + 0.003*\"home\" + 0.003*\"days\" + '\n",
      "  '0.003*\"wait\" + 0.003*\"real\" + 0.003*\"word\" + 0.003*\"wish\" + 0.003*\"fade\" + '\n",
      "  '0.003*\"stop\" + 0.003*\"life\" + 0.003*\"care\" + 0.003*\"close\" + 0.003*\"bring\" '\n",
      "  '+ 0.003*\"strong\" + 0.003*\"late\" + 0.003*\"mean\" + 0.003*\"tomorrow\" + '\n",
      "  '0.003*\"piece\" + 0.003*\"memory\" + 0.003*\"make\" + 0.003*\"believe\" + '\n",
      "  '0.003*\"darling\" + 0.002*\"keep\" + 0.002*\"reason\" + 0.002*\"moment\" + '\n",
      "  '0.002*\"change\" + 0.002*\"wonder\" + 0.002*\"nights\" + 0.002*\"fool\" + '\n",
      "  '0.002*\"help\" + 0.002*\"touch\" + 0.002*\"whoa\" + 0.002*\"open\" + 0.002*\"today\" '\n",
      "  '+ 0.002*\"run\" + 0.002*\"dream\" + 0.002*\"wind\" + 0.002*\"hearts\" + '\n",
      "  '0.002*\"good\" + 0.002*\"anymore\"'),\n",
      " (3,\n",
      "  '0.040*\"sing\" + 0.034*\"song\" + 0.029*\"play\" + 0.022*\"hear\" + 0.016*\"ready\" + '\n",
      "  '0.016*\"woman\" + 0.015*\"music\" + 0.011*\"fool\" + 0.010*\"summer\" + '\n",
      "  '0.009*\"come\" + 0.009*\"shoot\" + 0.009*\"know\" + 0.008*\"wish\" + 0.007*\"like\" + '\n",
      "  '0.007*\"call\" + 0.007*\"sound\" + 0.007*\"listen\" + 0.007*\"learn\" + '\n",
      "  '0.006*\"songs\" + 0.006*\"ring\" + 0.006*\"word\" + 0.006*\"blue\" + 0.006*\"dance\" '\n",
      "  '+ 0.005*\"go\" + 0.005*\"write\" + 0.005*\"guitar\" + 0.005*\"radio\" + '\n",
      "  '0.005*\"game\" + 0.005*\"bring\" + 0.005*\"say\" + 0.004*\"breathe\" + '\n",
      "  '0.004*\"sweet\" + 0.004*\"band\" + 0.004*\"little\" + 0.004*\"feel\" + 0.004*\"long\" '\n",
      "  '+ 0.004*\"loud\" + 0.004*\"black\" + 0.004*\"time\" + 0.004*\"teach\" + '\n",
      "  '0.004*\"spring\" + 0.004*\"need\" + 0.003*\"dear\" + 0.003*\"tune\" + 0.003*\"yeah\" '\n",
      "  '+ 0.003*\"voice\" + 0.003*\"people\" + 0.003*\"ohoh\" + 0.003*\"roll\" + '\n",
      "  '0.003*\"funky\" + 0.003*\"home\" + 0.003*\"place\" + 0.003*\"country\" + '\n",
      "  '0.003*\"blind\" + 0.003*\"things\" + 0.003*\"life\" + 0.003*\"hand\" + '\n",
      "  '0.002*\"rhythm\" + 0.002*\"bass\" + 0.002*\"tail\" + 0.002*\"high\" + 0.002*\"turn\" '\n",
      "  '+ 0.002*\"thing\" + 0.002*\"bell\" + 0.002*\"live\" + 0.002*\"singin\" + '\n",
      "  '0.002*\"everybody\" + 0.002*\"year\" + 0.002*\"want\" + 0.002*\"talk\" + '\n",
      "  '0.002*\"free\" + 0.002*\"drum\" + 0.002*\"cheer\" + 0.002*\"swing\" + 0.002*\"soul\" '\n",
      "  '+ 0.002*\"night\" + 0.002*\"beat\" + 0.002*\"heart\" + 0.002*\"rest\" + '\n",
      "  '0.002*\"good\" + 0.002*\"years\" + 0.002*\"tell\" + 0.002*\"children\" + '\n",
      "  '0.002*\"root\" + 0.002*\"best\" + 0.002*\"cause\" + 0.002*\"days\" + 0.002*\"string\" '\n",
      "  '+ 0.002*\"reggae\" + 0.002*\"white\" + 0.002*\"lesson\" + 0.002*\"bird\" + '\n",
      "  '0.002*\"dancer\" + 0.002*\"remember\" + 0.002*\"road\" + 0.001*\"think\" + '\n",
      "  '0.001*\"draft\" + 0.001*\"make\" + 0.001*\"saviour\" + 0.001*\"mama\"'),\n",
      " (4,\n",
      "  '0.029*\"yeah\" + 0.026*\"good\" + 0.025*\"right\" + 0.020*\"like\" + 0.019*\"know\" + '\n",
      "  '0.018*\"better\" + 0.017*\"money\" + 0.016*\"cause\" + 0.015*\"baby\" + '\n",
      "  '0.014*\"time\" + 0.011*\"wanna\" + 0.010*\"gonna\" + 0.010*\"gotta\" + 0.010*\"girl\" '\n",
      "  '+ 0.010*\"tell\" + 0.009*\"want\" + 0.008*\"bout\" + 0.008*\"think\" + 0.007*\"come\" '\n",
      "  '+ 0.007*\"fuck\" + 0.007*\"look\" + 0.006*\"little\" + 0.006*\"talk\" + '\n",
      "  '0.006*\"need\" + 0.006*\"lookin\" + 0.006*\"nothin\" + 0.005*\"feel\" + '\n",
      "  '0.005*\"damn\" + 0.005*\"stop\" + 0.005*\"shit\" + 0.005*\"gettin\" + 0.005*\"say\" + '\n",
      "  '0.005*\"thing\" + 0.005*\"watch\" + 0.005*\"doin\" + 0.005*\"go\" + 0.004*\"goin\" + '\n",
      "  '0.004*\"talkin\" + 0.004*\"roll\" + 0.004*\"comin\" + 0.004*\"party\" + 0.004*\"get\" '\n",
      "  '+ 0.004*\"somethin\" + 0.004*\"night\" + 0.004*\"real\" + 0.004*\"line\" + '\n",
      "  '0.003*\"check\" + 0.003*\"hear\" + 0.003*\"crazy\" + 0.003*\"leave\" + '\n",
      "  '0.003*\"tryin\" + 0.003*\"work\" + 0.003*\"start\" + 0.003*\"hand\" + '\n",
      "  '0.003*\"everybody\" + 0.003*\"drink\" + 0.003*\"alright\" + 0.003*\"people\" + '\n",
      "  '0.003*\"feelin\" + 0.002*\"hard\" + 0.002*\"mind\" + 0.002*\"hell\" + '\n",
      "  '0.002*\"runnin\" + 0.002*\"tire\" + 0.002*\"minute\" + 0.002*\"head\" + '\n",
      "  '0.002*\"kitchen\" + 0.002*\"sure\" + 0.002*\"walkin\" + 0.002*\"high\" + '\n",
      "  '0.002*\"girls\" + 0.002*\"livin\" + 0.002*\"round\" + 0.002*\"play\" + '\n",
      "  '0.002*\"sayin\" + 0.002*\"cash\" + 0.002*\"ball\" + 0.002*\"tryna\" + '\n",
      "  '0.002*\"friends\" + 0.002*\"funny\" + 0.002*\"waste\" + 0.002*\"outta\" + '\n",
      "  '0.002*\"body\" + 0.002*\"fine\" + 0.002*\"pretty\" + 0.002*\"school\" + '\n",
      "  '0.002*\"life\" + 0.002*\"thinkin\" + 0.002*\"spend\" + 0.002*\"ready\" + '\n",
      "  '0.002*\"waitin\" + 0.002*\"mama\" + 0.002*\"mean\" + 0.002*\"lovin\" + '\n",
      "  '0.002*\"sittin\" + 0.002*\"drop\" + 0.002*\"home\" + 0.002*\"take\" + 0.002*\"catch\" '\n",
      "  '+ 0.002*\"long\"'),\n",
      " (5,\n",
      "  '0.019*\"like\" + 0.016*\"world\" + 0.016*\"away\" + 0.012*\"believe\" + '\n",
      "  '0.012*\"know\" + 0.011*\"head\" + 0.010*\"come\" + 0.009*\"black\" + 0.008*\"yeah\" + '\n",
      "  '0.008*\"change\" + 0.008*\"people\" + 0.007*\"live\" + 0.007*\"cause\" + 0.007*\"go\" '\n",
      "  '+ 0.006*\"want\" + 0.005*\"tell\" + 0.005*\"look\" + 0.005*\"stand\" + '\n",
      "  '0.005*\"party\" + 0.005*\"think\" + 0.004*\"days\" + 0.004*\"give\" + 0.004*\"need\" '\n",
      "  '+ 0.004*\"face\" + 0.004*\"feel\" + 0.004*\"time\" + 0.003*\"life\" + 0.003*\"say\" + '\n",
      "  '0.003*\"hand\" + 0.003*\"place\" + 0.003*\"turn\" + 0.003*\"reason\" + 0.003*\"hate\" '\n",
      "  '+ 0.003*\"things\" + 0.003*\"comin\" + 0.003*\"fight\" + 0.003*\"stay\" + '\n",
      "  '0.002*\"right\" + 0.002*\"grow\" + 0.002*\"truth\" + 0.002*\"take\" + 0.002*\"mouth\" '\n",
      "  '+ 0.002*\"hear\" + 0.002*\"lose\" + 0.002*\"get\" + 0.002*\"work\" + 0.002*\"leave\" '\n",
      "  '+ 0.002*\"gonna\" + 0.002*\"better\" + 0.002*\"hard\" + 0.002*\"stick\" + '\n",
      "  '0.002*\"shut\" + 0.002*\"gimme\" + 0.002*\"land\" + 0.002*\"try\" + 0.002*\"race\" + '\n",
      "  '0.002*\"white\" + 0.002*\"free\" + 0.002*\"run\" + 0.002*\"everybody\" + '\n",
      "  '0.002*\"follow\" + 0.002*\"pass\" + 0.002*\"wanna\" + 0.002*\"high\" + '\n",
      "  '0.002*\"touch\" + 0.002*\"million\" + 0.002*\"start\" + 0.002*\"strong\" + '\n",
      "  '0.002*\"thing\" + 0.002*\"real\" + 0.002*\"ways\" + 0.002*\"see\" + 0.002*\"brother\" '\n",
      "  '+ 0.002*\"play\" + 0.002*\"wall\" + 0.002*\"watch\" + 0.002*\"hang\" + 0.002*\"mean\" '\n",
      "  '+ 0.002*\"bring\" + 0.002*\"kid\" + 0.002*\"pull\" + 0.002*\"push\" + 0.002*\"stop\" '\n",
      "  '+ 0.002*\"coast\" + 0.002*\"brothers\" + 0.002*\"different\" + 0.002*\"girl\" + '\n",
      "  '0.002*\"steal\" + 0.002*\"wrong\" + 0.002*\"soon\" + 0.002*\"future\" + '\n",
      "  '0.002*\"paper\" + 0.002*\"fuck\" + 0.002*\"ghetto\" + 0.002*\"state\" + '\n",
      "  '0.002*\"best\" + 0.002*\"cover\" + 0.002*\"kill\" + 0.002*\"round\" + 0.002*\"bear\"'),\n",
      " (6,\n",
      "  '0.017*\"come\" + 0.016*\"fall\" + 0.015*\"hold\" + 0.013*\"night\" + 0.012*\"know\" + '\n",
      "  '0.010*\"home\" + 0.010*\"hand\" + 0.010*\"tonight\" + 0.009*\"gonna\" + '\n",
      "  '0.008*\"blue\" + 0.008*\"eye\" + 0.008*\"stand\" + 0.007*\"time\" + 0.007*\"tear\" + '\n",
      "  '0.007*\"leave\" + 0.007*\"heart\" + 0.007*\"inside\" + 0.006*\"cold\" + '\n",
      "  '0.006*\"like\" + 0.006*\"go\" + 0.006*\"away\" + 0.006*\"look\" + 0.006*\"fight\" + '\n",
      "  '0.005*\"burn\" + 0.005*\"rain\" + 0.005*\"soul\" + 0.005*\"sleep\" + 0.005*\"tell\" + '\n",
      "  '0.005*\"remember\" + 0.005*\"hide\" + 0.005*\"light\" + 0.005*\"lose\" + '\n",
      "  '0.004*\"lord\" + 0.004*\"blood\" + 0.004*\"world\" + 0.004*\"feel\" + 0.004*\"right\" '\n",
      "  '+ 0.004*\"think\" + 0.004*\"say\" + 0.004*\"cause\" + 0.004*\"save\" + 0.004*\"live\" '\n",
      "  '+ 0.004*\"devil\" + 0.004*\"hell\" + 0.004*\"stay\" + 0.004*\"cry\" + 0.004*\"walk\" '\n",
      "  '+ 0.004*\"dead\" + 0.004*\"hear\" + 0.004*\"morning\" + 0.003*\"yeah\" + '\n",
      "  '0.003*\"head\" + 0.003*\"deep\" + 0.003*\"death\" + 0.003*\"fear\" + 0.003*\"word\" + '\n",
      "  '0.003*\"want\" + 0.003*\"baby\" + 0.003*\"forget\" + 0.003*\"pain\" + 0.003*\"begin\" '\n",
      "  '+ 0.003*\"mind\" + 0.003*\"break\" + 0.003*\"turn\" + 0.003*\"lie\" + 0.003*\"face\" '\n",
      "  '+ 0.003*\"heaven\" + 0.003*\"life\" + 0.003*\"kill\" + 0.003*\"dark\" + '\n",
      "  '0.003*\"door\" + 0.003*\"bone\" + 0.003*\"free\" + 0.003*\"bring\" + 0.003*\"die\" + '\n",
      "  '0.003*\"wall\" + 0.003*\"wind\" + 0.003*\"today\" + 0.003*\"close\" + 0.002*\"water\" '\n",
      "  '+ 0.002*\"till\" + 0.002*\"watch\" + 0.002*\"star\" + 0.002*\"little\" + '\n",
      "  '0.002*\"long\" + 0.002*\"give\" + 0.002*\"moon\" + 0.002*\"good\" + 0.002*\"take\" + '\n",
      "  '0.002*\"smile\" + 0.002*\"breath\" + 0.002*\"touch\" + 0.002*\"thank\" + '\n",
      "  '0.002*\"body\" + 0.002*\"help\" + 0.002*\"cross\" + 0.002*\"call\" + 0.002*\"years\" '\n",
      "  '+ 0.002*\"fool\" + 0.002*\"dream\"')]\n"
     ]
    }
   ],
   "source": [
    "pprint(lda_model.print_topics(num_words=100))"
   ]
  },
  {
   "cell_type": "code",
   "execution_count": 68,
   "metadata": {},
   "outputs": [],
   "source": [
    "#get the top 100 words in each topic and their frequency\n",
    "top_words = []\n",
    "for i in range(7):\n",
    "    top_words.append(lda_model.show_topic(i, topn=100))\n",
    "    top_words[i] = pd.DataFrame(top_words[i])\n",
    "    top_words[i].columns = ['word', 'freq']"
   ]
  },
  {
   "cell_type": "code",
   "execution_count": 69,
   "metadata": {},
   "outputs": [
    {
     "data": {
      "text/html": [
       "<div>\n",
       "<style scoped>\n",
       "    .dataframe tbody tr th:only-of-type {\n",
       "        vertical-align: middle;\n",
       "    }\n",
       "\n",
       "    .dataframe tbody tr th {\n",
       "        vertical-align: top;\n",
       "    }\n",
       "\n",
       "    .dataframe thead th {\n",
       "        text-align: right;\n",
       "    }\n",
       "</style>\n",
       "<table border=\"1\" class=\"dataframe\">\n",
       "  <thead>\n",
       "    <tr style=\"text-align: right;\">\n",
       "      <th></th>\n",
       "      <th>word</th>\n",
       "      <th>freq</th>\n",
       "    </tr>\n",
       "  </thead>\n",
       "  <tbody>\n",
       "    <tr>\n",
       "      <th>0</th>\n",
       "      <td>like</td>\n",
       "      <td>0.029290</td>\n",
       "    </tr>\n",
       "    <tr>\n",
       "      <th>1</th>\n",
       "      <td>bitch</td>\n",
       "      <td>0.014592</td>\n",
       "    </tr>\n",
       "    <tr>\n",
       "      <th>2</th>\n",
       "      <td>fuck</td>\n",
       "      <td>0.012766</td>\n",
       "    </tr>\n",
       "    <tr>\n",
       "      <th>3</th>\n",
       "      <td>shit</td>\n",
       "      <td>0.011615</td>\n",
       "    </tr>\n",
       "    <tr>\n",
       "      <th>4</th>\n",
       "      <td>nigga</td>\n",
       "      <td>0.011494</td>\n",
       "    </tr>\n",
       "    <tr>\n",
       "      <th>...</th>\n",
       "      <td>...</td>\n",
       "      <td>...</td>\n",
       "    </tr>\n",
       "    <tr>\n",
       "      <th>95</th>\n",
       "      <td>take</td>\n",
       "      <td>0.001515</td>\n",
       "    </tr>\n",
       "    <tr>\n",
       "      <th>96</th>\n",
       "      <td>gotta</td>\n",
       "      <td>0.001514</td>\n",
       "    </tr>\n",
       "    <tr>\n",
       "      <th>97</th>\n",
       "      <td>little</td>\n",
       "      <td>0.001510</td>\n",
       "    </tr>\n",
       "    <tr>\n",
       "      <th>98</th>\n",
       "      <td>outside</td>\n",
       "      <td>0.001504</td>\n",
       "    </tr>\n",
       "    <tr>\n",
       "      <th>99</th>\n",
       "      <td>best</td>\n",
       "      <td>0.001464</td>\n",
       "    </tr>\n",
       "  </tbody>\n",
       "</table>\n",
       "<p>100 rows × 2 columns</p>\n",
       "</div>"
      ],
      "text/plain": [
       "       word      freq\n",
       "0      like  0.029290\n",
       "1     bitch  0.014592\n",
       "2      fuck  0.012766\n",
       "3      shit  0.011615\n",
       "4     nigga  0.011494\n",
       "..      ...       ...\n",
       "95     take  0.001515\n",
       "96    gotta  0.001514\n",
       "97   little  0.001510\n",
       "98  outside  0.001504\n",
       "99     best  0.001464\n",
       "\n",
       "[100 rows x 2 columns]"
      ]
     },
     "execution_count": 69,
     "metadata": {},
     "output_type": "execute_result"
    }
   ],
   "source": [
    "top_words[0]"
   ]
  },
  {
   "cell_type": "markdown",
   "metadata": {},
   "source": [
    "> Sample from each topic based on the frequency of each word"
   ]
  },
  {
   "cell_type": "code",
   "execution_count": 70,
   "metadata": {},
   "outputs": [],
   "source": [
    "def sample_from_topic_new(topic, n):\n",
    "    df = top_words[topic]\n",
    "    #choose n words from column word based on the frequency in column freq\n",
    "    # put the result into a list\n",
    "    sentence = random.choices(df['word'], weights=df['freq'], k=n)\n",
    "    # join the list into a string\n",
    "    sentence = ' '.join(sentence)\n",
    "    return sentence\n"
   ]
  },
  {
   "cell_type": "code",
   "execution_count": 71,
   "metadata": {},
   "outputs": [
    {
     "data": {
      "text/plain": [
       "'inside inside think good head rain hold home deep light head tell smile face gonna'"
      ]
     },
     "execution_count": 71,
     "metadata": {},
     "output_type": "execute_result"
    }
   ],
   "source": [
    "sample_from_topic_new(0,15)\n",
    "sample_from_topic_new(1,15)\n",
    "sample_from_topic_new(2,15)\n",
    "sample_from_topic_new(3,15)\n",
    "sample_from_topic_new(4,15)\n",
    "sample_from_topic_new(5,15)\n",
    "sample_from_topic_new(6,15)\n"
   ]
  },
  {
   "cell_type": "code",
   "execution_count": 72,
   "metadata": {},
   "outputs": [],
   "source": [
    "genre = ['pop', 'country', 'blues', 'jazz', 'reggae', 'rock', 'hiphop']\n",
    "genre_mapper = {0:'hiphop',1:'jazz',2:'rock',3:'blues',4:'pop',5:'reggae',6:'country'}"
   ]
  },
  {
   "cell_type": "code",
   "execution_count": 73,
   "metadata": {},
   "outputs": [
    {
     "data": {
      "text/plain": [
       "0         35\n",
       "1         66\n",
       "2         74\n",
       "3         25\n",
       "4         11\n",
       "        ... \n",
       "22692     74\n",
       "22693     82\n",
       "22694     51\n",
       "22695     92\n",
       "22696    127\n",
       "Name: Text, Length: 22697, dtype: int64"
      ]
     },
     "execution_count": 73,
     "metadata": {},
     "output_type": "execute_result"
    }
   ],
   "source": [
    "lyric_length_distribution = music_join['Text'].apply(len)\n",
    "lyric_length_distribution"
   ]
  },
  {
   "cell_type": "code",
   "execution_count": 74,
   "metadata": {},
   "outputs": [],
   "source": [
    "# generate synthetic data based on topic distribution\n",
    "def generate_data(n_samples_per_genre):\n",
    "    lyric_length_distribution = music_join['Text'].apply(len)  \n",
    "    synthetic_data = []\n",
    "    for idx in range(7):\n",
    "        for _ in range(n_samples_per_genre):\n",
    "            synthetic_data.append((sample_from_topic_new(idx, np.random.choice(lyric_length_distribution)), genre_mapper[idx], idx))\n",
    "    return synthetic_data\n",
    "        "
   ]
  },
  {
   "cell_type": "markdown",
   "metadata": {},
   "source": [
    "> For each topic, generate 2000 data"
   ]
  },
  {
   "cell_type": "code",
   "execution_count": 75,
   "metadata": {},
   "outputs": [],
   "source": [
    "#synthetic_df = pd.DataFrame(generate_data(2000), columns=['Text', 'genre', 'lable'])"
   ]
  },
  {
   "cell_type": "code",
   "execution_count": 76,
   "metadata": {},
   "outputs": [
    {
     "data": {
      "text/plain": [
       "(14000, 3)"
      ]
     },
     "execution_count": 76,
     "metadata": {},
     "output_type": "execute_result"
    }
   ],
   "source": [
    "#synthetic_df.shape"
   ]
  },
  {
   "cell_type": "code",
   "execution_count": 77,
   "metadata": {},
   "outputs": [],
   "source": [
    "#synthetic_df.to_csv('synthetic_data_new.csv', index=False)"
   ]
  },
  {
   "cell_type": "code",
   "execution_count": 78,
   "metadata": {},
   "outputs": [
    {
     "data": {
      "text/html": [
       "<div>\n",
       "<style scoped>\n",
       "    .dataframe tbody tr th:only-of-type {\n",
       "        vertical-align: middle;\n",
       "    }\n",
       "\n",
       "    .dataframe tbody tr th {\n",
       "        vertical-align: top;\n",
       "    }\n",
       "\n",
       "    .dataframe thead th {\n",
       "        text-align: right;\n",
       "    }\n",
       "</style>\n",
       "<table border=\"1\" class=\"dataframe\">\n",
       "  <thead>\n",
       "    <tr style=\"text-align: right;\">\n",
       "      <th></th>\n",
       "      <th>Text</th>\n",
       "      <th>genre</th>\n",
       "      <th>lable</th>\n",
       "    </tr>\n",
       "  </thead>\n",
       "  <tbody>\n",
       "    <tr>\n",
       "      <th>0</th>\n",
       "      <td>white cause kick high little like nigga like b...</td>\n",
       "      <td>hiphop</td>\n",
       "      <td>0</td>\n",
       "    </tr>\n",
       "    <tr>\n",
       "      <th>1</th>\n",
       "      <td>head roll tell feel bring dirty kill stop high...</td>\n",
       "      <td>hiphop</td>\n",
       "      <td>0</td>\n",
       "    </tr>\n",
       "    <tr>\n",
       "      <th>2</th>\n",
       "      <td>catch hard know walk black bitch brain right b...</td>\n",
       "      <td>hiphop</td>\n",
       "      <td>0</td>\n",
       "    </tr>\n",
       "    <tr>\n",
       "      <th>3</th>\n",
       "      <td>drink green best cause want pull dead fuck ban...</td>\n",
       "      <td>hiphop</td>\n",
       "      <td>0</td>\n",
       "    </tr>\n",
       "    <tr>\n",
       "      <th>4</th>\n",
       "      <td>little game nigga know white start turn step s...</td>\n",
       "      <td>hiphop</td>\n",
       "      <td>0</td>\n",
       "    </tr>\n",
       "  </tbody>\n",
       "</table>\n",
       "</div>"
      ],
      "text/plain": [
       "                                                Text   genre  lable\n",
       "0  white cause kick high little like nigga like b...  hiphop      0\n",
       "1  head roll tell feel bring dirty kill stop high...  hiphop      0\n",
       "2  catch hard know walk black bitch brain right b...  hiphop      0\n",
       "3  drink green best cause want pull dead fuck ban...  hiphop      0\n",
       "4  little game nigga know white start turn step s...  hiphop      0"
      ]
     },
     "execution_count": 78,
     "metadata": {},
     "output_type": "execute_result"
    }
   ],
   "source": [
    "#synthetic_df.head()"
   ]
  },
  {
   "cell_type": "code",
   "execution_count": 79,
   "metadata": {},
   "outputs": [
    {
     "data": {
      "text/html": [
       "<div>\n",
       "<style scoped>\n",
       "    .dataframe tbody tr th:only-of-type {\n",
       "        vertical-align: middle;\n",
       "    }\n",
       "\n",
       "    .dataframe tbody tr th {\n",
       "        vertical-align: top;\n",
       "    }\n",
       "\n",
       "    .dataframe thead th {\n",
       "        text-align: right;\n",
       "    }\n",
       "</style>\n",
       "<table border=\"1\" class=\"dataframe\">\n",
       "  <thead>\n",
       "    <tr style=\"text-align: right;\">\n",
       "      <th></th>\n",
       "      <th>Text</th>\n",
       "      <th>genre</th>\n",
       "      <th>lable</th>\n",
       "    </tr>\n",
       "  </thead>\n",
       "  <tbody>\n",
       "    <tr>\n",
       "      <th>0</th>\n",
       "      <td>white cause kick high little like nigga like b...</td>\n",
       "      <td>hiphop</td>\n",
       "      <td>0</td>\n",
       "    </tr>\n",
       "    <tr>\n",
       "      <th>1</th>\n",
       "      <td>head roll tell feel bring dirty kill stop high...</td>\n",
       "      <td>hiphop</td>\n",
       "      <td>0</td>\n",
       "    </tr>\n",
       "    <tr>\n",
       "      <th>2</th>\n",
       "      <td>catch hard know walk black bitch brain right b...</td>\n",
       "      <td>hiphop</td>\n",
       "      <td>0</td>\n",
       "    </tr>\n",
       "    <tr>\n",
       "      <th>3</th>\n",
       "      <td>drink green best cause want pull dead fuck ban...</td>\n",
       "      <td>hiphop</td>\n",
       "      <td>0</td>\n",
       "    </tr>\n",
       "    <tr>\n",
       "      <th>4</th>\n",
       "      <td>little game nigga know white start turn step s...</td>\n",
       "      <td>hiphop</td>\n",
       "      <td>0</td>\n",
       "    </tr>\n",
       "  </tbody>\n",
       "</table>\n",
       "</div>"
      ],
      "text/plain": [
       "                                                Text   genre  lable\n",
       "0  white cause kick high little like nigga like b...  hiphop      0\n",
       "1  head roll tell feel bring dirty kill stop high...  hiphop      0\n",
       "2  catch hard know walk black bitch brain right b...  hiphop      0\n",
       "3  drink green best cause want pull dead fuck ban...  hiphop      0\n",
       "4  little game nigga know white start turn step s...  hiphop      0"
      ]
     },
     "execution_count": 79,
     "metadata": {},
     "output_type": "execute_result"
    }
   ],
   "source": [
    "syn = pd.read_csv('synthetic_data_new.csv')\n",
    "syn.head()"
   ]
  },
  {
   "cell_type": "code",
   "execution_count": 80,
   "metadata": {},
   "outputs": [],
   "source": [
    "def sent_to_words(sentences):\n",
    "    for sentence in sentences:\n",
    "        yield(gensim.utils.simple_preprocess(str(sentence), deacc=True))  # deacc=True removes punctuations"
   ]
  },
  {
   "cell_type": "code",
   "execution_count": 81,
   "metadata": {},
   "outputs": [],
   "source": [
    "# split train and test data\n",
    "syn_train, syn_test = train_test_split(syn, test_size=0.2, random_state=42)"
   ]
  },
  {
   "cell_type": "code",
   "execution_count": 83,
   "metadata": {},
   "outputs": [
    {
     "data": {
      "text/html": [
       "<div>\n",
       "<style scoped>\n",
       "    .dataframe tbody tr th:only-of-type {\n",
       "        vertical-align: middle;\n",
       "    }\n",
       "\n",
       "    .dataframe tbody tr th {\n",
       "        vertical-align: top;\n",
       "    }\n",
       "\n",
       "    .dataframe thead th {\n",
       "        text-align: right;\n",
       "    }\n",
       "</style>\n",
       "<table border=\"1\" class=\"dataframe\">\n",
       "  <thead>\n",
       "    <tr style=\"text-align: right;\">\n",
       "      <th></th>\n",
       "      <th>Text</th>\n",
       "      <th>genre</th>\n",
       "      <th>lable</th>\n",
       "    </tr>\n",
       "  </thead>\n",
       "  <tbody>\n",
       "    <tr>\n",
       "      <th>11756</th>\n",
       "      <td>believe come lose paper stay feel soon look bl...</td>\n",
       "      <td>reggae</td>\n",
       "      <td>5</td>\n",
       "    </tr>\n",
       "    <tr>\n",
       "      <th>3710</th>\n",
       "      <td>girl come know share near live lady come alive...</td>\n",
       "      <td>jazz</td>\n",
       "      <td>1</td>\n",
       "    </tr>\n",
       "    <tr>\n",
       "      <th>3571</th>\n",
       "      <td>work want yeah smile mind life rest want maybe...</td>\n",
       "      <td>jazz</td>\n",
       "      <td>1</td>\n",
       "    </tr>\n",
       "    <tr>\n",
       "      <th>6926</th>\n",
       "      <td>say sing ready say swing play think dear littl...</td>\n",
       "      <td>blues</td>\n",
       "      <td>3</td>\n",
       "    </tr>\n",
       "    <tr>\n",
       "      <th>6224</th>\n",
       "      <td>song road time song listen play people play ra...</td>\n",
       "      <td>blues</td>\n",
       "      <td>3</td>\n",
       "    </tr>\n",
       "  </tbody>\n",
       "</table>\n",
       "</div>"
      ],
      "text/plain": [
       "                                                    Text   genre  lable\n",
       "11756  believe come lose paper stay feel soon look bl...  reggae      5\n",
       "3710   girl come know share near live lady come alive...    jazz      1\n",
       "3571   work want yeah smile mind life rest want maybe...    jazz      1\n",
       "6926   say sing ready say swing play think dear littl...   blues      3\n",
       "6224   song road time song listen play people play ra...   blues      3"
      ]
     },
     "execution_count": 83,
     "metadata": {},
     "output_type": "execute_result"
    }
   ],
   "source": [
    "syn_train.head()"
   ]
  },
  {
   "cell_type": "code",
   "execution_count": 84,
   "metadata": {},
   "outputs": [
    {
     "name": "stdout",
     "output_type": "stream",
     "text": [
      "[['believe', 'come', 'lose', 'paper', 'stay', 'feel', 'soon', 'look', 'black', 'change', 'black', 'turn', 'like', 'go', 'look', 'look', 'gonna', 'come', 'yeah', 'truth', 'go', 'know', 'wanna', 'right', 'shut', 'place', 'head', 'life', 'follow', 'believe', 'days', 'away', 'believe', 'people', 'turn', 'life', 'like', 'work', 'give', 'party', 'coast', 'believe', 'come', 'kill', 'black', 'turn', 'go', 'go', 'comin', 'hear', 'give', 'like', 'know', 'tell', 'stay', 'life', 'soon', 'world', 'believe', 'round', 'hard', 'like', 'away', 'time', 'turn', 'round', 'right']]\n"
     ]
    }
   ],
   "source": [
    "data_words_syn = list(sent_to_words(syn_train['Text']))\n",
    "print(data_words_syn[:1])"
   ]
  },
  {
   "cell_type": "code",
   "execution_count": 85,
   "metadata": {},
   "outputs": [
    {
     "name": "stdout",
     "output_type": "stream",
     "text": [
      "[[(0, 2), (1, 5), (2, 3), (3, 1), (4, 1), (5, 3), (6, 1), (7, 1), (8, 1), (9, 1), (10, 2), (11, 4), (12, 1), (13, 1), (14, 1), (15, 1), (16, 1), (17, 2), (18, 3), (19, 4), (20, 3), (21, 1), (22, 1), (23, 1), (24, 1), (25, 1), (26, 2), (27, 2), (28, 1), (29, 2), (30, 2), (31, 1), (32, 1), (33, 1), (34, 4), (35, 1), (36, 1), (37, 1), (38, 1)]]\n"
     ]
    }
   ],
   "source": [
    "#create dictionary\n",
    "id2word = corpora.Dictionary(data_words_syn)\n",
    "# Create Corpus\n",
    "texts = data_words_syn\n",
    "# Term Document Frequency\n",
    "corpus_syn = [id2word.doc2bow(text) for text in texts]\n",
    "# View\n",
    "print(corpus_syn[:1])"
   ]
  },
  {
   "cell_type": "code",
   "execution_count": 86,
   "metadata": {},
   "outputs": [
    {
     "name": "stdout",
     "output_type": "stream",
     "text": [
      "[(0, 0.12343105), (2, 0.42276666), (3, 0.18913013), (6, 0.25728333)]\n"
     ]
    }
   ],
   "source": [
    "p = corpus_syn[:1][0]\n",
    "print(lda_model.get_document_topics(p))"
   ]
  },
  {
   "cell_type": "code",
   "execution_count": 87,
   "metadata": {},
   "outputs": [
    {
     "name": "stderr",
     "output_type": "stream",
     "text": [
      "/var/folders/sg/9df1z7l9473gcyg7yjh1kzcc0000gn/T/ipykernel_3080/1692897747.py:14: FutureWarning: The frame.append method is deprecated and will be removed from pandas in a future version. Use pandas.concat instead.\n",
      "  sent_topics_df = sent_topics_df.append(pd.Series([int(topic_num), round(prop_topic,4), topic_keywords]), ignore_index=True)\n",
      "/var/folders/sg/9df1z7l9473gcyg7yjh1kzcc0000gn/T/ipykernel_3080/1692897747.py:14: FutureWarning: The frame.append method is deprecated and will be removed from pandas in a future version. Use pandas.concat instead.\n",
      "  sent_topics_df = sent_topics_df.append(pd.Series([int(topic_num), round(prop_topic,4), topic_keywords]), ignore_index=True)\n"
     ]
    },
    {
     "data": {
      "text/html": [
       "<div>\n",
       "<style scoped>\n",
       "    .dataframe tbody tr th:only-of-type {\n",
       "        vertical-align: middle;\n",
       "    }\n",
       "\n",
       "    .dataframe tbody tr th {\n",
       "        vertical-align: top;\n",
       "    }\n",
       "\n",
       "    .dataframe thead th {\n",
       "        text-align: right;\n",
       "    }\n",
       "</style>\n",
       "<table border=\"1\" class=\"dataframe\">\n",
       "  <thead>\n",
       "    <tr style=\"text-align: right;\">\n",
       "      <th></th>\n",
       "      <th>Dominant_Topic</th>\n",
       "      <th>Perc_Contribution</th>\n",
       "      <th>Topic_Keywords</th>\n",
       "      <th>Text</th>\n",
       "    </tr>\n",
       "  </thead>\n",
       "  <tbody>\n",
       "    <tr>\n",
       "      <th>0</th>\n",
       "      <td>2</td>\n",
       "      <td>0.4228</td>\n",
       "      <td>time, heart, know, go, feel, away, long, break...</td>\n",
       "      <td>[believe, come, lose, paper, stay, feel, soon,...</td>\n",
       "    </tr>\n",
       "    <tr>\n",
       "      <th>1</th>\n",
       "      <td>4</td>\n",
       "      <td>0.6005</td>\n",
       "      <td>yeah, good, right, like, know, better, money, ...</td>\n",
       "      <td>[girl, come, know, share, near, live, lady, co...</td>\n",
       "    </tr>\n",
       "    <tr>\n",
       "      <th>2</th>\n",
       "      <td>4</td>\n",
       "      <td>0.4924</td>\n",
       "      <td>yeah, good, right, like, know, better, money, ...</td>\n",
       "      <td>[work, want, yeah, smile, mind, life, rest, wa...</td>\n",
       "    </tr>\n",
       "    <tr>\n",
       "      <th>3</th>\n",
       "      <td>6</td>\n",
       "      <td>0.5705</td>\n",
       "      <td>come, fall, hold, night, know, home, hand, ton...</td>\n",
       "      <td>[say, sing, ready, say, swing, play, think, de...</td>\n",
       "    </tr>\n",
       "    <tr>\n",
       "      <th>4</th>\n",
       "      <td>2</td>\n",
       "      <td>0.3442</td>\n",
       "      <td>time, heart, know, go, feel, away, long, break...</td>\n",
       "      <td>[song, road, time, song, listen, play, people,...</td>\n",
       "    </tr>\n",
       "    <tr>\n",
       "      <th>5</th>\n",
       "      <td>2</td>\n",
       "      <td>0.4834</td>\n",
       "      <td>time, heart, know, go, feel, away, long, break...</td>\n",
       "      <td>[give, give, give, world, believe, like, like,...</td>\n",
       "    </tr>\n",
       "    <tr>\n",
       "      <th>6</th>\n",
       "      <td>2</td>\n",
       "      <td>0.3663</td>\n",
       "      <td>time, heart, know, go, feel, away, long, break...</td>\n",
       "      <td>[away, turn, yeah, know, world, coast, feel, h...</td>\n",
       "    </tr>\n",
       "    <tr>\n",
       "      <th>7</th>\n",
       "      <td>4</td>\n",
       "      <td>0.5106</td>\n",
       "      <td>yeah, good, right, like, know, better, money, ...</td>\n",
       "      <td>[come, know, go, girl, time, yeah, gonna, love...</td>\n",
       "    </tr>\n",
       "    <tr>\n",
       "      <th>8</th>\n",
       "      <td>5</td>\n",
       "      <td>0.4213</td>\n",
       "      <td>like, world, away, believe, know, head, come, ...</td>\n",
       "      <td>[fall, leave, world, today, rain, inside, head...</td>\n",
       "    </tr>\n",
       "    <tr>\n",
       "      <th>9</th>\n",
       "      <td>2</td>\n",
       "      <td>0.2986</td>\n",
       "      <td>time, heart, know, go, feel, away, long, break...</td>\n",
       "      <td>[give, change, stick, want, high, stay, run, k...</td>\n",
       "    </tr>\n",
       "  </tbody>\n",
       "</table>\n",
       "</div>"
      ],
      "text/plain": [
       "   Dominant_Topic  Perc_Contribution  \\\n",
       "0               2             0.4228   \n",
       "1               4             0.6005   \n",
       "2               4             0.4924   \n",
       "3               6             0.5705   \n",
       "4               2             0.3442   \n",
       "5               2             0.4834   \n",
       "6               2             0.3663   \n",
       "7               4             0.5106   \n",
       "8               5             0.4213   \n",
       "9               2             0.2986   \n",
       "\n",
       "                                      Topic_Keywords  \\\n",
       "0  time, heart, know, go, feel, away, long, break...   \n",
       "1  yeah, good, right, like, know, better, money, ...   \n",
       "2  yeah, good, right, like, know, better, money, ...   \n",
       "3  come, fall, hold, night, know, home, hand, ton...   \n",
       "4  time, heart, know, go, feel, away, long, break...   \n",
       "5  time, heart, know, go, feel, away, long, break...   \n",
       "6  time, heart, know, go, feel, away, long, break...   \n",
       "7  yeah, good, right, like, know, better, money, ...   \n",
       "8  like, world, away, believe, know, head, come, ...   \n",
       "9  time, heart, know, go, feel, away, long, break...   \n",
       "\n",
       "                                                Text  \n",
       "0  [believe, come, lose, paper, stay, feel, soon,...  \n",
       "1  [girl, come, know, share, near, live, lady, co...  \n",
       "2  [work, want, yeah, smile, mind, life, rest, wa...  \n",
       "3  [say, sing, ready, say, swing, play, think, de...  \n",
       "4  [song, road, time, song, listen, play, people,...  \n",
       "5  [give, give, give, world, believe, like, like,...  \n",
       "6  [away, turn, yeah, know, world, coast, feel, h...  \n",
       "7  [come, know, go, girl, time, yeah, gonna, love...  \n",
       "8  [fall, leave, world, today, rain, inside, head...  \n",
       "9  [give, change, stick, want, high, stay, run, k...  "
      ]
     },
     "execution_count": 87,
     "metadata": {},
     "output_type": "execute_result"
    }
   ],
   "source": [
    "dominate1 = format_topics_sentences(ldamodel=lda_model, corpus=corpus_syn, texts=data_words_syn)\n",
    "dominate1.head(10)"
   ]
  },
  {
   "cell_type": "code",
   "execution_count": 88,
   "metadata": {},
   "outputs": [
    {
     "data": {
      "text/html": [
       "<div>\n",
       "<style scoped>\n",
       "    .dataframe tbody tr th:only-of-type {\n",
       "        vertical-align: middle;\n",
       "    }\n",
       "\n",
       "    .dataframe tbody tr th {\n",
       "        vertical-align: top;\n",
       "    }\n",
       "\n",
       "    .dataframe thead th {\n",
       "        text-align: right;\n",
       "    }\n",
       "</style>\n",
       "<table border=\"1\" class=\"dataframe\">\n",
       "  <thead>\n",
       "    <tr style=\"text-align: right;\">\n",
       "      <th></th>\n",
       "      <th>Text_new</th>\n",
       "      <th>genre</th>\n",
       "      <th>lable</th>\n",
       "    </tr>\n",
       "  </thead>\n",
       "  <tbody>\n",
       "    <tr>\n",
       "      <th>0</th>\n",
       "      <td>believe come lose paper stay feel soon look bl...</td>\n",
       "      <td>reggae</td>\n",
       "      <td>5</td>\n",
       "    </tr>\n",
       "    <tr>\n",
       "      <th>1</th>\n",
       "      <td>girl come know share near live lady come alive...</td>\n",
       "      <td>jazz</td>\n",
       "      <td>1</td>\n",
       "    </tr>\n",
       "    <tr>\n",
       "      <th>2</th>\n",
       "      <td>work want yeah smile mind life rest want maybe...</td>\n",
       "      <td>jazz</td>\n",
       "      <td>1</td>\n",
       "    </tr>\n",
       "    <tr>\n",
       "      <th>3</th>\n",
       "      <td>say sing ready say swing play think dear littl...</td>\n",
       "      <td>blues</td>\n",
       "      <td>3</td>\n",
       "    </tr>\n",
       "    <tr>\n",
       "      <th>4</th>\n",
       "      <td>song road time song listen play people play ra...</td>\n",
       "      <td>blues</td>\n",
       "      <td>3</td>\n",
       "    </tr>\n",
       "  </tbody>\n",
       "</table>\n",
       "</div>"
      ],
      "text/plain": [
       "                                            Text_new   genre  lable\n",
       "0  believe come lose paper stay feel soon look bl...  reggae      5\n",
       "1  girl come know share near live lady come alive...    jazz      1\n",
       "2  work want yeah smile mind life rest want maybe...    jazz      1\n",
       "3  say sing ready say swing play think dear littl...   blues      3\n",
       "4  song road time song listen play people play ra...   blues      3"
      ]
     },
     "execution_count": 88,
     "metadata": {},
     "output_type": "execute_result"
    }
   ],
   "source": [
    "syn_train = syn_train.reset_index(drop=True)\n",
    "#rename the column Text to Text_new\n",
    "syn_train = syn_train.rename(columns={'Text':'Text_new'})\n",
    "syn_train.head()"
   ]
  },
  {
   "cell_type": "code",
   "execution_count": 89,
   "metadata": {},
   "outputs": [
    {
     "data": {
      "text/html": [
       "<div>\n",
       "<style scoped>\n",
       "    .dataframe tbody tr th:only-of-type {\n",
       "        vertical-align: middle;\n",
       "    }\n",
       "\n",
       "    .dataframe tbody tr th {\n",
       "        vertical-align: top;\n",
       "    }\n",
       "\n",
       "    .dataframe thead th {\n",
       "        text-align: right;\n",
       "    }\n",
       "</style>\n",
       "<table border=\"1\" class=\"dataframe\">\n",
       "  <thead>\n",
       "    <tr style=\"text-align: right;\">\n",
       "      <th></th>\n",
       "      <th>Text_new</th>\n",
       "      <th>genre</th>\n",
       "      <th>lable</th>\n",
       "      <th>Dominant_Topic</th>\n",
       "      <th>Perc_Contribution</th>\n",
       "      <th>Topic_Keywords</th>\n",
       "      <th>Text</th>\n",
       "    </tr>\n",
       "  </thead>\n",
       "  <tbody>\n",
       "    <tr>\n",
       "      <th>0</th>\n",
       "      <td>believe come lose paper stay feel soon look bl...</td>\n",
       "      <td>reggae</td>\n",
       "      <td>5</td>\n",
       "      <td>2</td>\n",
       "      <td>0.4228</td>\n",
       "      <td>time, heart, know, go, feel, away, long, break...</td>\n",
       "      <td>[believe, come, lose, paper, stay, feel, soon,...</td>\n",
       "    </tr>\n",
       "    <tr>\n",
       "      <th>1</th>\n",
       "      <td>girl come know share near live lady come alive...</td>\n",
       "      <td>jazz</td>\n",
       "      <td>1</td>\n",
       "      <td>4</td>\n",
       "      <td>0.6005</td>\n",
       "      <td>yeah, good, right, like, know, better, money, ...</td>\n",
       "      <td>[girl, come, know, share, near, live, lady, co...</td>\n",
       "    </tr>\n",
       "    <tr>\n",
       "      <th>2</th>\n",
       "      <td>work want yeah smile mind life rest want maybe...</td>\n",
       "      <td>jazz</td>\n",
       "      <td>1</td>\n",
       "      <td>4</td>\n",
       "      <td>0.4924</td>\n",
       "      <td>yeah, good, right, like, know, better, money, ...</td>\n",
       "      <td>[work, want, yeah, smile, mind, life, rest, wa...</td>\n",
       "    </tr>\n",
       "    <tr>\n",
       "      <th>3</th>\n",
       "      <td>say sing ready say swing play think dear littl...</td>\n",
       "      <td>blues</td>\n",
       "      <td>3</td>\n",
       "      <td>6</td>\n",
       "      <td>0.5705</td>\n",
       "      <td>come, fall, hold, night, know, home, hand, ton...</td>\n",
       "      <td>[say, sing, ready, say, swing, play, think, de...</td>\n",
       "    </tr>\n",
       "    <tr>\n",
       "      <th>4</th>\n",
       "      <td>song road time song listen play people play ra...</td>\n",
       "      <td>blues</td>\n",
       "      <td>3</td>\n",
       "      <td>2</td>\n",
       "      <td>0.3442</td>\n",
       "      <td>time, heart, know, go, feel, away, long, break...</td>\n",
       "      <td>[song, road, time, song, listen, play, people,...</td>\n",
       "    </tr>\n",
       "    <tr>\n",
       "      <th>5</th>\n",
       "      <td>give give give world believe like like need tr...</td>\n",
       "      <td>reggae</td>\n",
       "      <td>5</td>\n",
       "      <td>2</td>\n",
       "      <td>0.4834</td>\n",
       "      <td>time, heart, know, go, feel, away, long, break...</td>\n",
       "      <td>[give, give, give, world, believe, like, like,...</td>\n",
       "    </tr>\n",
       "    <tr>\n",
       "      <th>6</th>\n",
       "      <td>away turn yeah know world coast feel head want...</td>\n",
       "      <td>reggae</td>\n",
       "      <td>5</td>\n",
       "      <td>2</td>\n",
       "      <td>0.3663</td>\n",
       "      <td>time, heart, know, go, feel, away, long, break...</td>\n",
       "      <td>[away, turn, yeah, know, world, coast, feel, h...</td>\n",
       "    </tr>\n",
       "    <tr>\n",
       "      <th>7</th>\n",
       "      <td>come know go girl time yeah gonna love look ha...</td>\n",
       "      <td>jazz</td>\n",
       "      <td>1</td>\n",
       "      <td>4</td>\n",
       "      <td>0.5106</td>\n",
       "      <td>yeah, good, right, like, know, better, money, ...</td>\n",
       "      <td>[come, know, go, girl, time, yeah, gonna, love...</td>\n",
       "    </tr>\n",
       "    <tr>\n",
       "      <th>8</th>\n",
       "      <td>fall leave world today rain inside head sleep ...</td>\n",
       "      <td>country</td>\n",
       "      <td>6</td>\n",
       "      <td>5</td>\n",
       "      <td>0.4213</td>\n",
       "      <td>like, world, away, believe, know, head, come, ...</td>\n",
       "      <td>[fall, leave, world, today, rain, inside, head...</td>\n",
       "    </tr>\n",
       "    <tr>\n",
       "      <th>9</th>\n",
       "      <td>give change stick want high stay run kill touc...</td>\n",
       "      <td>reggae</td>\n",
       "      <td>5</td>\n",
       "      <td>2</td>\n",
       "      <td>0.2986</td>\n",
       "      <td>time, heart, know, go, feel, away, long, break...</td>\n",
       "      <td>[give, change, stick, want, high, stay, run, k...</td>\n",
       "    </tr>\n",
       "  </tbody>\n",
       "</table>\n",
       "</div>"
      ],
      "text/plain": [
       "                                            Text_new    genre  lable  \\\n",
       "0  believe come lose paper stay feel soon look bl...   reggae      5   \n",
       "1  girl come know share near live lady come alive...     jazz      1   \n",
       "2  work want yeah smile mind life rest want maybe...     jazz      1   \n",
       "3  say sing ready say swing play think dear littl...    blues      3   \n",
       "4  song road time song listen play people play ra...    blues      3   \n",
       "5  give give give world believe like like need tr...   reggae      5   \n",
       "6  away turn yeah know world coast feel head want...   reggae      5   \n",
       "7  come know go girl time yeah gonna love look ha...     jazz      1   \n",
       "8  fall leave world today rain inside head sleep ...  country      6   \n",
       "9  give change stick want high stay run kill touc...   reggae      5   \n",
       "\n",
       "   Dominant_Topic  Perc_Contribution  \\\n",
       "0               2             0.4228   \n",
       "1               4             0.6005   \n",
       "2               4             0.4924   \n",
       "3               6             0.5705   \n",
       "4               2             0.3442   \n",
       "5               2             0.4834   \n",
       "6               2             0.3663   \n",
       "7               4             0.5106   \n",
       "8               5             0.4213   \n",
       "9               2             0.2986   \n",
       "\n",
       "                                      Topic_Keywords  \\\n",
       "0  time, heart, know, go, feel, away, long, break...   \n",
       "1  yeah, good, right, like, know, better, money, ...   \n",
       "2  yeah, good, right, like, know, better, money, ...   \n",
       "3  come, fall, hold, night, know, home, hand, ton...   \n",
       "4  time, heart, know, go, feel, away, long, break...   \n",
       "5  time, heart, know, go, feel, away, long, break...   \n",
       "6  time, heart, know, go, feel, away, long, break...   \n",
       "7  yeah, good, right, like, know, better, money, ...   \n",
       "8  like, world, away, believe, know, head, come, ...   \n",
       "9  time, heart, know, go, feel, away, long, break...   \n",
       "\n",
       "                                                Text  \n",
       "0  [believe, come, lose, paper, stay, feel, soon,...  \n",
       "1  [girl, come, know, share, near, live, lady, co...  \n",
       "2  [work, want, yeah, smile, mind, life, rest, wa...  \n",
       "3  [say, sing, ready, say, swing, play, think, de...  \n",
       "4  [song, road, time, song, listen, play, people,...  \n",
       "5  [give, give, give, world, believe, like, like,...  \n",
       "6  [away, turn, yeah, know, world, coast, feel, h...  \n",
       "7  [come, know, go, girl, time, yeah, gonna, love...  \n",
       "8  [fall, leave, world, today, rain, inside, head...  \n",
       "9  [give, change, stick, want, high, stay, run, k...  "
      ]
     },
     "execution_count": 89,
     "metadata": {},
     "output_type": "execute_result"
    }
   ],
   "source": [
    "syn_join = syn_train.join(dominate1)\n",
    "syn_join.head(10)"
   ]
  },
  {
   "cell_type": "code",
   "execution_count": 90,
   "metadata": {},
   "outputs": [],
   "source": [
    "syn_join_pop = syn_join[syn_join['genre'] == 'pop'].loc[:,['genre','lable', 'Dominant_Topic']]\n",
    "syn_join_country = syn_join[syn_join['genre'] == 'country'].loc[:,['genre','lable', 'Dominant_Topic']]\n",
    "syn_join_blues = syn_join[syn_join['genre'] == 'blues'].loc[:,['genre','lable', 'Dominant_Topic']]\n",
    "syn_join_jazz = syn_join[syn_join['genre'] == 'jazz'].loc[:,['genre','lable', 'Dominant_Topic']]\n",
    "syn_join_reggae = syn_join[syn_join['genre'] == 'reggae'].loc[:,['genre','lable', 'Dominant_Topic']]\n",
    "syn_join_rock = syn_join[syn_join['genre'] == 'rock'].loc[:,['genre','lable', 'Dominant_Topic']]\n",
    "syn_join_hiphop = syn_join[syn_join['genre'] == 'hiphop'].loc[:,['genre','lable', 'Dominant_Topic']]"
   ]
  },
  {
   "cell_type": "code",
   "execution_count": 91,
   "metadata": {},
   "outputs": [
    {
     "name": "stdout",
     "output_type": "stream",
     "text": [
      "pop correct:  0.0018963337547408343\n",
      "country correct:  0.2526446795270691\n",
      "blues correct:  0.01371571072319202\n",
      "jazz correct:  0.0749063670411985\n",
      "reggae correct:  0.02540272614622057\n",
      "rock correct:  0.10387984981226533\n",
      "hiphop correct:  0.896421845574388\n"
     ]
    }
   ],
   "source": [
    "print(\"pop correct: \" , percentage(syn_join_pop))\n",
    "print(\"country correct: \" , percentage(syn_join_country))\n",
    "print(\"blues correct: \" , percentage(syn_join_blues))\n",
    "print(\"jazz correct: \" , percentage(syn_join_jazz))\n",
    "print(\"reggae correct: \" , percentage(syn_join_reggae))\n",
    "print(\"rock correct: \" , percentage(syn_join_rock))\n",
    "print(\"hiphop correct: \" , percentage(syn_join_hiphop))\n"
   ]
  },
  {
   "cell_type": "code",
   "execution_count": null,
   "metadata": {},
   "outputs": [],
   "source": []
  }
 ],
 "metadata": {
  "kernelspec": {
   "display_name": "Python 3.10.6 ('base')",
   "language": "python",
   "name": "python3"
  },
  "language_info": {
   "codemirror_mode": {
    "name": "ipython",
    "version": 3
   },
   "file_extension": ".py",
   "mimetype": "text/x-python",
   "name": "python",
   "nbconvert_exporter": "python",
   "pygments_lexer": "ipython3",
   "version": "3.10.6"
  },
  "orig_nbformat": 4,
  "vscode": {
   "interpreter": {
    "hash": "3d597f4c481aa0f25dceb95d2a0067e73c0966dcbd003d741d821a7208527ecf"
   }
  }
 },
 "nbformat": 4,
 "nbformat_minor": 2
}
