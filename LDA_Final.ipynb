{
 "cells": [
  {
   "cell_type": "code",
   "execution_count": 1,
   "metadata": {},
   "outputs": [],
   "source": [
    "import pandas as pd\n",
    "import joblib\n",
    "import numpy as np\n",
    "import os\n",
    "import re\n",
    "import gensim\n",
    "from gensim.utils import simple_preprocess\n",
    "import nltk\n",
    "from nltk.corpus import stopwords\n",
    "from nltk.tokenize import word_tokenize\n",
    "from nltk.stem import WordNetLemmatizer\n",
    "from torchnlp.encoders.text import WhitespaceEncoder\n",
    "from sklearn.feature_extraction.text import CountVectorizer, TfidfVectorizer\n",
    "from sklearn.decomposition import LatentDirichletAllocation\n",
    "from sklearn.model_selection import train_test_split"
   ]
  },
  {
   "cell_type": "code",
   "execution_count": 19,
   "metadata": {},
   "outputs": [],
   "source": [
    "music = pd.read_csv('lyrics_data_clean.csv')"
   ]
  },
  {
   "cell_type": "code",
   "execution_count": 20,
   "metadata": {},
   "outputs": [],
   "source": [
    "music.drop(['Unnamed: 0'], axis=1, inplace=True)"
   ]
  },
  {
   "cell_type": "code",
   "execution_count": 21,
   "metadata": {},
   "outputs": [
    {
     "data": {
      "text/html": [
       "<div>\n",
       "<style scoped>\n",
       "    .dataframe tbody tr th:only-of-type {\n",
       "        vertical-align: middle;\n",
       "    }\n",
       "\n",
       "    .dataframe tbody tr th {\n",
       "        vertical-align: top;\n",
       "    }\n",
       "\n",
       "    .dataframe thead th {\n",
       "        text-align: right;\n",
       "    }\n",
       "</style>\n",
       "<table border=\"1\" class=\"dataframe\">\n",
       "  <thead>\n",
       "    <tr style=\"text-align: right;\">\n",
       "      <th></th>\n",
       "      <th>genre</th>\n",
       "      <th>lyrics</th>\n",
       "    </tr>\n",
       "  </thead>\n",
       "  <tbody>\n",
       "    <tr>\n",
       "      <th>0</th>\n",
       "      <td>pop</td>\n",
       "      <td>hold time feel break feel untrue convince spea...</td>\n",
       "    </tr>\n",
       "    <tr>\n",
       "      <th>1</th>\n",
       "      <td>pop</td>\n",
       "      <td>believe drop rain fall grow believe darkest ni...</td>\n",
       "    </tr>\n",
       "    <tr>\n",
       "      <th>2</th>\n",
       "      <td>pop</td>\n",
       "      <td>sweetheart send letter goodbye secret feel bet...</td>\n",
       "    </tr>\n",
       "    <tr>\n",
       "      <th>3</th>\n",
       "      <td>pop</td>\n",
       "      <td>kiss lips want stroll charm mambo chacha merin...</td>\n",
       "    </tr>\n",
       "    <tr>\n",
       "      <th>4</th>\n",
       "      <td>pop</td>\n",
       "      <td>till darling till matter know till dream live ...</td>\n",
       "    </tr>\n",
       "  </tbody>\n",
       "</table>\n",
       "</div>"
      ],
      "text/plain": [
       "  genre                                             lyrics\n",
       "0   pop  hold time feel break feel untrue convince spea...\n",
       "1   pop  believe drop rain fall grow believe darkest ni...\n",
       "2   pop  sweetheart send letter goodbye secret feel bet...\n",
       "3   pop  kiss lips want stroll charm mambo chacha merin...\n",
       "4   pop  till darling till matter know till dream live ..."
      ]
     },
     "execution_count": 21,
     "metadata": {},
     "output_type": "execute_result"
    }
   ],
   "source": [
    "music.head()"
   ]
  },
  {
   "cell_type": "markdown",
   "metadata": {},
   "source": [
    "## split train/test data set"
   ]
  },
  {
   "cell_type": "code",
   "execution_count": 22,
   "metadata": {},
   "outputs": [],
   "source": [
    "xtrain, xtest, ytrain, ytest = train_test_split(\n",
    "    music[\"lyrics\"].to_frame(), music[\"genre\"], test_size=0.20, random_state=42\n",
    ")"
   ]
  },
  {
   "cell_type": "code",
   "execution_count": 23,
   "metadata": {},
   "outputs": [
    {
     "name": "stdout",
     "output_type": "stream",
     "text": [
      "(22424, 1)\n",
      "(5607, 1)\n"
     ]
    },
    {
     "data": {
      "text/html": [
       "<div>\n",
       "<style scoped>\n",
       "    .dataframe tbody tr th:only-of-type {\n",
       "        vertical-align: middle;\n",
       "    }\n",
       "\n",
       "    .dataframe tbody tr th {\n",
       "        vertical-align: top;\n",
       "    }\n",
       "\n",
       "    .dataframe thead th {\n",
       "        text-align: right;\n",
       "    }\n",
       "</style>\n",
       "<table border=\"1\" class=\"dataframe\">\n",
       "  <thead>\n",
       "    <tr style=\"text-align: right;\">\n",
       "      <th></th>\n",
       "      <th>lyrics</th>\n",
       "    </tr>\n",
       "  </thead>\n",
       "  <tbody>\n",
       "    <tr>\n",
       "      <th>2252</th>\n",
       "      <td>think proud enemy hand worse thing possess yea...</td>\n",
       "    </tr>\n",
       "    <tr>\n",
       "      <th>20274</th>\n",
       "      <td>look away look away pass door lose good good w...</td>\n",
       "    </tr>\n",
       "    <tr>\n",
       "      <th>2789</th>\n",
       "      <td>anarchy kill shoot raise army rabid rat beat n...</td>\n",
       "    </tr>\n",
       "    <tr>\n",
       "      <th>3953</th>\n",
       "      <td>blame moonlit dream die eagle flight blame moo...</td>\n",
       "    </tr>\n",
       "    <tr>\n",
       "      <th>7671</th>\n",
       "      <td>think cause pretty women know doin nothin tear...</td>\n",
       "    </tr>\n",
       "    <tr>\n",
       "      <th>...</th>\n",
       "      <td>...</td>\n",
       "    </tr>\n",
       "    <tr>\n",
       "      <th>21575</th>\n",
       "      <td>time come test mankind live better reach cruci...</td>\n",
       "    </tr>\n",
       "    <tr>\n",
       "      <th>5390</th>\n",
       "      <td>away miss goodbye wanna kiss watch show drink ...</td>\n",
       "    </tr>\n",
       "    <tr>\n",
       "      <th>860</th>\n",
       "      <td>today face face know away knees pray away begi...</td>\n",
       "    </tr>\n",
       "    <tr>\n",
       "      <th>15795</th>\n",
       "      <td>catch run little hide maybe baby gonna turn fi...</td>\n",
       "    </tr>\n",
       "    <tr>\n",
       "      <th>23654</th>\n",
       "      <td>world live children wind blow hard look walk a...</td>\n",
       "    </tr>\n",
       "  </tbody>\n",
       "</table>\n",
       "<p>22424 rows × 1 columns</p>\n",
       "</div>"
      ],
      "text/plain": [
       "                                                  lyrics\n",
       "2252   think proud enemy hand worse thing possess yea...\n",
       "20274  look away look away pass door lose good good w...\n",
       "2789   anarchy kill shoot raise army rabid rat beat n...\n",
       "3953   blame moonlit dream die eagle flight blame moo...\n",
       "7671   think cause pretty women know doin nothin tear...\n",
       "...                                                  ...\n",
       "21575  time come test mankind live better reach cruci...\n",
       "5390   away miss goodbye wanna kiss watch show drink ...\n",
       "860    today face face know away knees pray away begi...\n",
       "15795  catch run little hide maybe baby gonna turn fi...\n",
       "23654  world live children wind blow hard look walk a...\n",
       "\n",
       "[22424 rows x 1 columns]"
      ]
     },
     "execution_count": 23,
     "metadata": {},
     "output_type": "execute_result"
    }
   ],
   "source": [
    "for x_ in (xtrain, xtest):\n",
    "    print(x_.shape)\n",
    "\n",
    "xtrain"
   ]
  },
  {
   "cell_type": "code",
   "execution_count": 24,
   "metadata": {},
   "outputs": [
    {
     "data": {
      "text/html": [
       "<div>\n",
       "<style scoped>\n",
       "    .dataframe tbody tr th:only-of-type {\n",
       "        vertical-align: middle;\n",
       "    }\n",
       "\n",
       "    .dataframe tbody tr th {\n",
       "        vertical-align: top;\n",
       "    }\n",
       "\n",
       "    .dataframe thead th {\n",
       "        text-align: right;\n",
       "    }\n",
       "</style>\n",
       "<table border=\"1\" class=\"dataframe\">\n",
       "  <thead>\n",
       "    <tr style=\"text-align: right;\">\n",
       "      <th></th>\n",
       "      <th>lyrics</th>\n",
       "      <th>genre</th>\n",
       "    </tr>\n",
       "  </thead>\n",
       "  <tbody>\n",
       "    <tr>\n",
       "      <th>2252</th>\n",
       "      <td>think proud enemy hand worse thing possess yea...</td>\n",
       "      <td>pop</td>\n",
       "    </tr>\n",
       "    <tr>\n",
       "      <th>20274</th>\n",
       "      <td>look away look away pass door lose good good w...</td>\n",
       "      <td>jazz</td>\n",
       "    </tr>\n",
       "    <tr>\n",
       "      <th>2789</th>\n",
       "      <td>anarchy kill shoot raise army rabid rat beat n...</td>\n",
       "      <td>pop</td>\n",
       "    </tr>\n",
       "    <tr>\n",
       "      <th>3953</th>\n",
       "      <td>blame moonlit dream die eagle flight blame moo...</td>\n",
       "      <td>pop</td>\n",
       "    </tr>\n",
       "    <tr>\n",
       "      <th>7671</th>\n",
       "      <td>think cause pretty women know doin nothin tear...</td>\n",
       "      <td>country</td>\n",
       "    </tr>\n",
       "  </tbody>\n",
       "</table>\n",
       "</div>"
      ],
      "text/plain": [
       "                                                  lyrics    genre\n",
       "2252   think proud enemy hand worse thing possess yea...      pop\n",
       "20274  look away look away pass door lose good good w...     jazz\n",
       "2789   anarchy kill shoot raise army rabid rat beat n...      pop\n",
       "3953   blame moonlit dream die eagle flight blame moo...      pop\n",
       "7671   think cause pretty women know doin nothin tear...  country"
      ]
     },
     "execution_count": 24,
     "metadata": {},
     "output_type": "execute_result"
    }
   ],
   "source": [
    "music_train = pd.concat([xtrain, ytrain], axis=1)\n",
    "music_train.head(5)"
   ]
  },
  {
   "cell_type": "code",
   "execution_count": 25,
   "metadata": {},
   "outputs": [
    {
     "name": "stderr",
     "output_type": "stream",
     "text": [
      "/opt/miniconda3/lib/python3.10/site-packages/sklearn/feature_extraction/text.py:1330: UserWarning: Upper case characters found in vocabulary while 'lowercase' is True. These entries will not be matched with any documents\n",
      "  warnings.warn(\n"
     ]
    },
    {
     "data": {
      "text/html": [
       "<style>#sk-container-id-2 {color: black;background-color: white;}#sk-container-id-2 pre{padding: 0;}#sk-container-id-2 div.sk-toggleable {background-color: white;}#sk-container-id-2 label.sk-toggleable__label {cursor: pointer;display: block;width: 100%;margin-bottom: 0;padding: 0.3em;box-sizing: border-box;text-align: center;}#sk-container-id-2 label.sk-toggleable__label-arrow:before {content: \"▸\";float: left;margin-right: 0.25em;color: #696969;}#sk-container-id-2 label.sk-toggleable__label-arrow:hover:before {color: black;}#sk-container-id-2 div.sk-estimator:hover label.sk-toggleable__label-arrow:before {color: black;}#sk-container-id-2 div.sk-toggleable__content {max-height: 0;max-width: 0;overflow: hidden;text-align: left;background-color: #f0f8ff;}#sk-container-id-2 div.sk-toggleable__content pre {margin: 0.2em;color: black;border-radius: 0.25em;background-color: #f0f8ff;}#sk-container-id-2 input.sk-toggleable__control:checked~div.sk-toggleable__content {max-height: 200px;max-width: 100%;overflow: auto;}#sk-container-id-2 input.sk-toggleable__control:checked~label.sk-toggleable__label-arrow:before {content: \"▾\";}#sk-container-id-2 div.sk-estimator input.sk-toggleable__control:checked~label.sk-toggleable__label {background-color: #d4ebff;}#sk-container-id-2 div.sk-label input.sk-toggleable__control:checked~label.sk-toggleable__label {background-color: #d4ebff;}#sk-container-id-2 input.sk-hidden--visually {border: 0;clip: rect(1px 1px 1px 1px);clip: rect(1px, 1px, 1px, 1px);height: 1px;margin: -1px;overflow: hidden;padding: 0;position: absolute;width: 1px;}#sk-container-id-2 div.sk-estimator {font-family: monospace;background-color: #f0f8ff;border: 1px dotted black;border-radius: 0.25em;box-sizing: border-box;margin-bottom: 0.5em;}#sk-container-id-2 div.sk-estimator:hover {background-color: #d4ebff;}#sk-container-id-2 div.sk-parallel-item::after {content: \"\";width: 100%;border-bottom: 1px solid gray;flex-grow: 1;}#sk-container-id-2 div.sk-label:hover label.sk-toggleable__label {background-color: #d4ebff;}#sk-container-id-2 div.sk-serial::before {content: \"\";position: absolute;border-left: 1px solid gray;box-sizing: border-box;top: 0;bottom: 0;left: 50%;z-index: 0;}#sk-container-id-2 div.sk-serial {display: flex;flex-direction: column;align-items: center;background-color: white;padding-right: 0.2em;padding-left: 0.2em;position: relative;}#sk-container-id-2 div.sk-item {position: relative;z-index: 1;}#sk-container-id-2 div.sk-parallel {display: flex;align-items: stretch;justify-content: center;background-color: white;position: relative;}#sk-container-id-2 div.sk-item::before, #sk-container-id-2 div.sk-parallel-item::before {content: \"\";position: absolute;border-left: 1px solid gray;box-sizing: border-box;top: 0;bottom: 0;left: 50%;z-index: -1;}#sk-container-id-2 div.sk-parallel-item {display: flex;flex-direction: column;z-index: 1;position: relative;background-color: white;}#sk-container-id-2 div.sk-parallel-item:first-child::after {align-self: flex-end;width: 50%;}#sk-container-id-2 div.sk-parallel-item:last-child::after {align-self: flex-start;width: 50%;}#sk-container-id-2 div.sk-parallel-item:only-child::after {width: 0;}#sk-container-id-2 div.sk-dashed-wrapped {border: 1px dashed gray;margin: 0 0.4em 0.5em 0.4em;box-sizing: border-box;padding-bottom: 0.4em;background-color: white;}#sk-container-id-2 div.sk-label label {font-family: monospace;font-weight: bold;display: inline-block;line-height: 1.2em;}#sk-container-id-2 div.sk-label-container {text-align: center;}#sk-container-id-2 div.sk-container {/* jupyter's `normalize.less` sets `[hidden] { display: none; }` but bootstrap.min.css set `[hidden] { display: none !important; }` so we also need the `!important` here to be able to override the default hidden behavior on the sphinx rendered scikit-learn.org. See: https://github.com/scikit-learn/scikit-learn/issues/21755 */display: inline-block !important;position: relative;}#sk-container-id-2 div.sk-text-repr-fallback {display: none;}</style><div id=\"sk-container-id-2\" class=\"sk-top-container\"><div class=\"sk-text-repr-fallback\"><pre>LatentDirichletAllocation(n_components=7, n_jobs=-1, random_state=42)</pre><b>In a Jupyter environment, please rerun this cell to show the HTML representation or trust the notebook. <br />On GitHub, the HTML representation is unable to render, please try loading this page with nbviewer.org.</b></div><div class=\"sk-container\" hidden><div class=\"sk-item\"><div class=\"sk-estimator sk-toggleable\"><input class=\"sk-toggleable__control sk-hidden--visually\" id=\"sk-estimator-id-2\" type=\"checkbox\" checked><label for=\"sk-estimator-id-2\" class=\"sk-toggleable__label sk-toggleable__label-arrow\">LatentDirichletAllocation</label><div class=\"sk-toggleable__content\"><pre>LatentDirichletAllocation(n_components=7, n_jobs=-1, random_state=42)</pre></div></div></div></div></div>"
      ],
      "text/plain": [
       "LatentDirichletAllocation(n_components=7, n_jobs=-1, random_state=42)"
      ]
     },
     "execution_count": 25,
     "metadata": {},
     "output_type": "execute_result"
    }
   ],
   "source": [
    "# load encoder\n",
    "with open(\"encoder.pickle\", \"rb\") as f:\n",
    "    encoder: WhitespaceEncoder = joblib.load(f)\n",
    "\n",
    "cv = CountVectorizer(vocabulary = encoder.token_to_index)\n",
    "xtrain1 = cv.fit_transform(xtrain['lyrics'].tolist())\n",
    "lda = LatentDirichletAllocation(n_components=7, random_state=42, n_jobs=-1)\n",
    "lda.fit(xtrain1)"
   ]
  },
  {
   "cell_type": "code",
   "execution_count": 26,
   "metadata": {},
   "outputs": [
    {
     "name": "stdout",
     "output_type": "stream",
     "text": [
      "========================================Genre 0========================================\n",
      "world like bitch time real high smoke fuck people yeah know life need face live cause come hell roll money look place tell city stay sell think go watch teach right work shit fake young ghost deal line ride stick rule paper read straight race drug drink mind school feel\n",
      "\n",
      "========================================Genre 1========================================\n",
      "heart baby go hold know long night tonight leave right believe like time want kiss stay come feel need gonna break eye wait tear tell cause arm girl sweet hand close little yeah darling love start touch look promise apart say wrong wanna true think dream fall tight light line\n",
      "\n",
      "========================================Genre 2========================================\n",
      "away good break walk know lonely feel night go wish fool miss stand come dream leave goodbye gonna yeah tell morning heart cry sleep little look whoa cause fade rain think tear say like take baby girl time memory hurt want stay blue right place wonder home dear hide yesterday\n",
      "\n",
      "========================================Genre 3========================================\n",
      "fall feel come eye know like inside head cold black dead blood hand stand soul burn hear fear leave pain fight face save lose wall kill death devil lie turn tear light grind die wind hide follow look break mind word heart deep hold live hell speak life body dream\n",
      "\n",
      "========================================Genre 4========================================\n",
      "like yeah know cause fuck come shit better wanna want money gonna tell gotta play right party bout shoot think girl talk stop say head look bitch little need game start baby feel damn good kick drop get beat go hand everybody watch check goin work black pull night turn\n",
      "\n",
      "========================================Genre 5========================================\n",
      "sing home song blue hear come woman play music right sweet remember go lord bring like ring long hand word songs listen write call know money say fight land sound yeah days little radio night people band time tell dance guitar summer swing head christmas kill year roll soon tune\n",
      "\n",
      "========================================Genre 6========================================\n",
      "time life live know change mind come think want world things need cause dream feel like lose love look go today give yeah tell days hard right learn better leave forget true gonna wanna hurt somebody take tomorrow turn remember make long reason forever inside thing ready matter easy mean\n",
      "\n"
     ]
    }
   ],
   "source": [
    "top_k_per_topic = lda.components_.argsort(axis=1)[:, -50:]\n",
    "for idx, topic in enumerate(top_k_per_topic):\n",
    "    print(\"=\" * 40 + f\"Genre {idx}\" + \"=\" * 40)\n",
    "    print(encoder.decode(topic[::-1]))\n",
    "    print()"
   ]
  },
  {
   "cell_type": "code",
   "execution_count": 27,
   "metadata": {},
   "outputs": [
    {
     "name": "stderr",
     "output_type": "stream",
     "text": [
      "/opt/miniconda3/lib/python3.10/site-packages/sklearn/utils/deprecation.py:87: FutureWarning: Function get_feature_names is deprecated; get_feature_names is deprecated in 1.0 and will be removed in 1.2. Please use get_feature_names_out instead.\n",
      "  warnings.warn(msg, category=FutureWarning)\n",
      "/opt/miniconda3/lib/python3.10/site-packages/pyLDAvis/_prepare.py:247: FutureWarning: In a future version of pandas all arguments of DataFrame.drop except for the argument 'labels' will be keyword-only.\n",
      "  by='saliency', ascending=False).head(R).drop('saliency', 1)\n",
      "/opt/miniconda3/lib/python3.10/site-packages/past/builtins/misc.py:45: DeprecationWarning: the imp module is deprecated in favour of importlib and slated for removal in Python 3.12; see the module's documentation for alternative uses\n",
      "  from imp import reload\n"
     ]
    },
    {
     "data": {
      "text/html": [
       "\n",
       "<link rel=\"stylesheet\" type=\"text/css\" href=\"https://cdn.jsdelivr.net/gh/bmabey/pyLDAvis@3.3.1/pyLDAvis/js/ldavis.v1.0.0.css\">\n",
       "\n",
       "\n",
       "<div id=\"ldavis_el9506110900011683999525784\"></div>\n",
       "<script type=\"text/javascript\">\n",
       "\n",
       "var ldavis_el9506110900011683999525784_data = {\"mdsDat\": {\"x\": [-0.12261780757491678, 0.06778548242851612, -0.006393323181061624, 0.16221139878728802, 0.16163670047281412, -0.0837754234998636, -0.17884702743277622], \"y\": [0.031523267111713535, 0.07718644155410176, 0.030190549563745735, 0.013330665258902462, -0.027854472268476767, -0.22170897424012487, 0.09733252302013808], \"topics\": [1, 2, 3, 4, 5, 6, 7], \"cluster\": [1, 1, 1, 1, 1, 1, 1], \"Freq\": [20.422333117438274, 18.337056851721744, 18.180593228944993, 14.217698002494325, 10.125119880960229, 9.612558453596181, 9.104640464844259]}, \"tinfo\": {\"Term\": [\"away\", \"heart\", \"baby\", \"life\", \"sing\", \"time\", \"good\", \"home\", \"song\", \"hold\", \"tonight\", \"live\", \"blue\", \"fall\", \"world\", \"lonely\", \"long\", \"night\", \"fuck\", \"break\", \"walk\", \"go\", \"change\", \"hear\", \"woman\", \"bitch\", \"music\", \"shit\", \"play\", \"believe\", \"funky\", \"pump\", \"riot\", \"party\", \"imma\", \"club\", \"microphone\", \"sauce\", \"jam\", \"buck\", \"disco\", \"redneck\", \"boyz\", \"chrome\", \"remix\", \"dude\", \"sexy\", \"friday\", \"strap\", \"oops\", \"adrenaline\", \"panorama\", \"crew\", \"sneakers\", \"chief\", \"bumper\", \"cornbread\", \"feds\", \"godfather\", \"freak\", \"shots\", \"chick\", \"snatch\", \"nut\", \"kick\", \"pussy\", \"plug\", \"dough\", \"shoot\", \"shit\", \"bout\", \"hood\", \"check\", \"dirty\", \"gang\", \"fuck\", \"bang\", \"rockin\", \"sick\", \"ball\", \"block\", \"drop\", \"damn\", \"goin\", \"style\", \"money\", \"like\", \"better\", \"yeah\", \"gotta\", \"girls\", \"wanna\", \"talk\", \"cause\", \"game\", \"number\", \"boys\", \"know\", \"everybody\", \"play\", \"beat\", \"stop\", \"bitch\", \"gonna\", \"want\", \"come\", \"tell\", \"girl\", \"head\", \"right\", \"think\", \"say\", \"little\", \"look\", \"need\", \"thankful\", \"therapy\", \"anniversary\", \"breakaway\", \"entries\", \"weasel\", \"origin\", \"climax\", \"valuable\", \"necessities\", \"whiny\", \"unbearable\", \"awareness\", \"tomorrows\", \"removal\", \"reminders\", \"intervention\", \"congratulations\", \"horrific\", \"disneyland\", \"longest\", \"adventure\", \"anyday\", \"volvo\", \"unwanted\", \"mindful\", \"reassure\", \"footprint\", \"molecular\", \"defenders\", \"change\", \"hopeful\", \"life\", \"getaway\", \"live\", \"simple\", \"shame\", \"forgive\", \"learn\", \"easy\", \"time\", \"today\", \"everyday\", \"tomorrow\", \"waste\", \"thank\", \"things\", \"mind\", \"ways\", \"reason\", \"somebody\", \"love\", \"realize\", \"matter\", \"give\", \"search\", \"days\", \"forget\", \"ready\", \"share\", \"spend\", \"think\", \"forever\", \"alive\", \"world\", \"dream\", \"know\", \"lose\", \"want\", \"need\", \"hard\", \"come\", \"true\", \"cause\", \"look\", \"hurt\", \"feel\", \"better\", \"go\", \"like\", \"tell\", \"yeah\", \"right\", \"leave\", \"eliminate\", \"doom\", \"suffocate\", \"robot\", \"demon\", \"domination\", \"vile\", \"porcelain\", \"row\", \"kingdom\", \"defect\", \"majestic\", \"electricity\", \"irresistible\", \"necessarily\", \"entrance\", \"collapse\", \"plunge\", \"error\", \"terrorist\", \"artificial\", \"plague\", \"condemn\", \"countless\", \"beacon\", \"grave\", \"eastern\", \"wisconsin\", \"appease\", \"calvary\", \"emerge\", \"crawl\", \"blood\", \"death\", \"silence\", \"bury\", \"devil\", \"torture\", \"gently\", \"darkness\", \"reveal\", \"colour\", \"salvation\", \"fall\", \"bleed\", \"fear\", \"dead\", \"hollow\", \"brave\", \"human\", \"shadow\", \"wall\", \"skin\", \"rage\", \"cold\", \"earth\", \"rise\", \"die\", \"burn\", \"save\", \"scream\", \"black\", \"follow\", \"grind\", \"inside\", \"lie\", \"soul\", \"speak\", \"pain\", \"head\", \"feel\", \"eye\", \"wind\", \"kill\", \"fight\", \"stand\", \"come\", \"hand\", \"face\", \"hear\", \"lose\", \"like\", \"know\", \"leave\", \"light\", \"turn\", \"wonderland\", \"tonight\", \"goodnight\", \"metallic\", \"overweight\", \"anti\", \"indestructible\", \"doodle\", \"dickhead\", \"onboard\", \"mancini\", \"snowman\", \"starboy\", \"keepsake\", \"woohoo\", \"mhmm\", \"combustion\", \"methuselah\", \"beaucoup\", \"bouquet\", \"para\", \"transparent\", \"bollocks\", \"donate\", \"collaboration\", \"zoom\", \"darling\", \"kindest\", \"resolutions\", \"undeniably\", \"kiss\", \"lovely\", \"arm\", \"baby\", \"hangover\", \"heart\", \"hold\", \"charm\", \"tight\", \"lips\", \"starlight\", \"thrill\", \"lover\", \"long\", \"believe\", \"operator\", \"promise\", \"babe\", \"lady\", \"wait\", \"apart\", \"close\", \"sweetheart\", \"night\", \"stay\", \"go\", \"touch\", \"leave\", \"tear\", \"sweet\", \"right\", \"late\", \"know\", \"eye\", \"girl\", \"want\", \"need\", \"break\", \"gonna\", \"feel\", \"time\", \"like\", \"come\", \"tell\", \"cause\", \"hand\", \"radical\", \"apartheid\", \"creepy\", \"nazis\", \"crunchy\", \"doorstep\", \"heartbreak\", \"hawaii\", \"puppy\", \"blunder\", \"clumsy\", \"regulation\", \"goodbye\", \"wallpaper\", \"prima\", \"poodle\", \"lonely\", \"achievement\", \"away\", \"charter\", \"asset\", \"memorial\", \"whoa\", \"outdoor\", \"hows\", \"granola\", \"flue\", \"photograph\", \"unfortunate\", \"poorer\", \"miss\", \"fool\", \"wish\", \"good\", \"memory\", \"fade\", \"morning\", \"walk\", \"feat\", \"letter\", \"cry\", \"loneliness\", \"memories\", \"luck\", \"yesterday\", \"slip\", \"break\", \"million\", \"sleep\", \"romance\", \"rain\", \"stand\", \"dear\", \"river\", \"belong\", \"nights\", \"night\", \"steal\", \"dream\", \"feel\", \"know\", \"go\", \"gonna\", \"leave\", \"tell\", \"little\", \"come\", \"yeah\", \"heart\", \"tear\", \"look\", \"cause\", \"christmas\", \"bell\", \"sing\", \"jingle\", \"africa\", \"alabama\", \"mississippi\", \"sleigh\", \"chevrolet\", \"halloween\", \"choo\", \"cowboys\", \"reggae\", \"timer\", \"priceless\", \"choir\", \"genetic\", \"complaint\", \"zimbabwe\", \"mistletoe\", \"scrub\", \"copyright\", \"philadelphia\", \"village\", \"songs\", \"caviar\", \"carol\", \"lordy\", \"tennessee\", \"pilgrim\", \"song\", \"guitar\", \"papa\", \"texas\", \"woman\", \"music\", \"root\", \"singer\", \"blue\", \"praise\", \"tune\", \"home\", \"whistle\", \"ring\", \"swing\", \"sisters\", \"radio\", \"holy\", \"band\", \"spring\", \"hear\", \"lord\", \"play\", \"land\", \"remember\", \"sweet\", \"write\", \"listen\", \"year\", \"call\", \"bring\", \"come\", \"right\", \"word\", \"go\", \"sound\", \"hand\", \"long\", \"like\", \"money\", \"fight\", \"say\", \"know\", \"script\", \"material\", \"blah\", \"riders\", \"oxygen\", \"stamina\", \"chuck\", \"ranger\", \"clone\", \"grams\", \"platter\", \"chump\", \"woop\", \"ideal\", \"corona\", \"giggle\", \"porsche\", \"unit\", \"organic\", \"accidentally\", \"equally\", \"urgency\", \"medical\", \"pollution\", \"tons\", \"economy\", \"progress\", \"casa\", \"progressive\", \"semi\", \"tint\", \"digital\", \"award\", \"planet\", \"universal\", \"smoke\", \"talent\", \"youths\", \"survival\", \"evolution\", \"hustle\", \"drug\", \"tick\", \"diamonds\", \"action\", \"thumb\", \"teacher\", \"youth\", \"large\", \"paper\", \"weed\", \"welcome\", \"bitch\", \"legend\", \"fake\", \"base\", \"sell\", \"struggle\", \"high\", \"coast\", \"fame\", \"world\", \"whip\", \"real\", \"ghost\", \"deal\", \"trap\", \"lean\", \"outta\", \"dope\", \"city\", \"teach\", \"race\", \"rule\", \"people\", \"hell\", \"fuck\", \"like\", \"roll\", \"school\", \"read\", \"time\", \"face\", \"money\", \"place\", \"yeah\", \"need\", \"life\", \"live\", \"cause\", \"know\", \"look\", \"tell\", \"come\", \"stay\", \"watch\", \"think\", \"go\"], \"Freq\": [13093.0, 13058.0, 10787.0, 12457.0, 4838.0, 20705.0, 7791.0, 6197.0, 3819.0, 7624.0, 4248.0, 9890.0, 4209.0, 7314.0, 8149.0, 3234.0, 8224.0, 9202.0, 5149.0, 7848.0, 5353.0, 13458.0, 5092.0, 7051.0, 2673.0, 3116.0, 2323.0, 3722.0, 5388.0, 4879.0, 371.59108604703385, 272.4993960594808, 164.89413454874233, 1963.3410220421072, 129.93017041668267, 597.2121158467669, 89.94285029423799, 77.02779561645205, 76.02794698614146, 80.82489166644747, 62.043002291563326, 58.05579467277885, 51.066699615705254, 78.47069845547105, 69.63577511333253, 167.4824915026145, 150.65943492617157, 289.5277901028239, 133.8711120978127, 39.08408756159064, 38.07706695251741, 37.08734225912949, 362.866327801541, 34.09136544513048, 42.84148493380581, 32.09483430897, 32.094241970013016, 33.04173608176274, 31.096036566827685, 336.99202807602506, 220.9436191255112, 181.08639984432963, 65.91814153795993, 83.87122646162017, 1190.2444626856682, 425.6618317560487, 121.72144735681175, 163.60133382475948, 1890.1165528566457, 3307.9151282454654, 1896.6100029705738, 392.5604243421114, 1043.7263587882019, 654.3369362219516, 298.24855858954953, 4071.3975619438725, 460.30168347505946, 351.14559288544143, 911.3495594267126, 725.6059613375464, 483.1817127444021, 1165.0861893659485, 1261.6833258967356, 994.7577749879674, 542.580662785256, 2425.486074664093, 11076.978308990383, 3133.4246185249845, 6414.833317415046, 2079.487847698798, 721.0400572501694, 2964.0641107340266, 1684.8817412912165, 4396.36508437234, 1359.4682593183206, 583.9514629544647, 581.2164294267438, 5993.880292446761, 1068.9676143544139, 2069.9846515210343, 1153.8636977411513, 1591.233471162684, 1407.7055409456314, 2381.4531470113634, 2813.7717104405383, 3410.5513851241185, 2374.98573267122, 1696.8376501206549, 1561.8300983273537, 1987.463011266555, 1798.3465633767598, 1588.7142563675138, 1407.0584384636065, 1455.5056925727447, 1398.8930067288957, 76.24709961693401, 63.419767097056344, 43.644897594675044, 29.803435595288136, 22.880368557055462, 23.759468361811244, 19.912123722012254, 19.900205947822034, 18.92488737540644, 40.62317531891305, 17.938235238855047, 16.945693394921726, 15.957149583321844, 34.579541710130194, 12.99340290629346, 11.013855888576206, 11.921761700297028, 34.49299595267312, 9.039379455355732, 9.039169392106967, 52.77693793721035, 55.329741182658125, 9.800940417131024, 7.9977407284585045, 13.312083289135293, 7.061927097468041, 7.061911548892852, 7.061842504754542, 7.060996445502796, 7.059440946892941, 4507.704037687674, 14.01436550070587, 10265.998984713911, 54.37177840843353, 7576.963916920759, 559.5935030600175, 765.7036566072615, 508.78819095859023, 1583.8984413389032, 1088.6881280878235, 13755.528889642574, 1842.963807204412, 668.8989784831767, 1300.3643772967569, 951.7181614249291, 905.190043836954, 3013.7075788115476, 4299.893050023043, 744.76646453059, 1177.57235343518, 1310.4623528073328, 2162.3342181802273, 466.00435534474167, 1108.4695274520109, 1814.003627383939, 609.4113342869384, 1661.1244035843436, 1532.8684276913154, 1108.7111431110222, 709.5808168557047, 857.6367605714755, 3685.3821707769303, 1145.0007662223861, 898.0316994953719, 3120.4669688662807, 2572.8044430523714, 7433.379283950704, 2231.1706791977654, 3557.686071235709, 2798.375729507297, 1624.1906181676256, 4166.215081661835, 1480.579075360414, 2594.6774920589155, 2152.941650428017, 1323.880895933021, 2330.6996042196747, 1577.5514175648518, 2035.311916079578, 2297.5805110799542, 1704.6350257308761, 1725.6483918525191, 1618.2046552325512, 1550.5941953763652, 64.54012801440841, 150.12684675236974, 66.82286513565631, 33.824754134502975, 177.89120484684278, 24.90991005870403, 23.893187549480015, 21.914180116528385, 21.825418494201347, 218.07326366236666, 18.965851451622793, 18.96342076668268, 35.92702722617702, 15.992509683131109, 39.471646171325304, 33.74719111509283, 47.72516952469085, 14.011560898402482, 14.00701671090782, 39.23700115996959, 14.002296097311461, 55.018742020622504, 55.07157748889588, 17.712385741660913, 17.676863595044413, 572.0658830258808, 12.974674475582075, 12.030440282365033, 12.02968515932737, 12.028996841508725, 20.35174232527974, 501.5021098529633, 1841.3006851865928, 1342.8227328672892, 497.1765445240146, 481.9076563566315, 1306.578338463193, 115.73224451890339, 146.32896341936163, 563.4975125377262, 226.83320978917504, 203.58459596267937, 123.59319894459567, 5756.843385346265, 800.6968934964661, 1675.258589943286, 1981.975230115677, 200.5460260893331, 228.8598070223467, 518.9619486985303, 404.8959366240505, 1385.4859902550304, 689.3622482482881, 175.96828046160275, 2107.1647857463595, 681.3837852192133, 776.8460048960468, 1145.7013772207315, 1696.2902458317985, 1471.088700004525, 806.896300707871, 2083.762933283271, 1048.5497364939015, 1150.8972226533022, 2232.9384486952163, 1265.7155540570923, 1723.5434945414443, 960.0338353695731, 1559.4380776283922, 2220.236293028858, 4363.065135769145, 2441.0328915958958, 1076.812023813404, 1360.1719280098696, 1500.1247619853377, 1780.6847822417508, 3215.1076930594277, 1804.10932691779, 1498.7194463026894, 1696.0448134746891, 1469.3187119374224, 2297.3825424879074, 2361.8807881134794, 1581.5962177073295, 1230.040547166051, 1250.8464384664514, 127.94193917496443, 4139.4393720897415, 259.3893099666523, 21.107903304452375, 29.70231259876298, 34.576062464633736, 11.121350161912256, 46.09816255929336, 10.120419437057176, 9.128164042620247, 9.12646253479403, 33.458083150370214, 8.128135927872446, 8.124908653626715, 41.49854501500494, 7.130649703600425, 7.12748604326601, 7.125032414286925, 7.120788683279555, 39.841383312830914, 19.450505343958305, 7.044950130021664, 6.128224963811696, 6.125709687703052, 13.12016459463342, 90.5343687504264, 1296.4700689326116, 11.992649311643875, 5.134446093470222, 5.133188103865271, 2679.1774371747606, 504.75454415030254, 1740.082585611764, 8285.649905604481, 25.554564718375083, 9733.090212963354, 5649.76651711081, 241.89150922275206, 858.3972246432108, 812.0201711138119, 54.28287590654032, 445.98707609378886, 764.183702687291, 5202.474636991027, 3099.386366954418, 46.967789957991336, 1132.4156427354555, 534.1521356878026, 519.089509576908, 1927.3266022460928, 1043.92646707786, 1446.1072331425637, 188.17020634000232, 4423.937241480842, 2658.1632729039197, 5850.7906854554685, 1200.6205083157822, 4090.3831394645886, 1822.8575199829006, 1630.8237099044168, 3664.594763708662, 802.7805598306144, 5602.55490463078, 1942.7611626689554, 1737.2617300129862, 2763.284954271266, 2241.4712807977535, 2108.764664948701, 2118.355703843203, 2443.897196236472, 2785.440540274269, 2873.3899539486083, 2511.2955995824796, 1765.3129656806486, 1745.481170406213, 1467.2423268018952, 56.197025148955035, 40.458847190624155, 22.759445827102734, 21.775108187035713, 17.84083704388008, 30.037370989708577, 159.50523136678427, 39.00753590433694, 24.938605889297282, 11.941015000471387, 18.200452814760528, 9.97348365111428, 1613.9876530510292, 8.990689757315456, 8.988456335508728, 20.543017289193493, 2928.265707465687, 7.021261776825745, 11500.29051640572, 12.926263611000016, 5.05756614478628, 5.052685155204649, 1041.182066094667, 13.127055221122442, 4.074195688864492, 4.073536184004051, 4.069527071469646, 80.4253187485017, 8.007193045082289, 3.0903792133355066, 1862.7323975028155, 2000.63833836137, 2059.6589712412847, 5295.325232443156, 752.9010949179076, 1006.3878542243933, 1407.5100633532345, 3190.9925335748894, 111.71892798300544, 361.18701363151234, 1218.7027024963322, 198.8212325145426, 589.6696332951949, 352.493474086398, 592.1112474322533, 560.4358838028925, 3250.0041183673434, 462.44853032508075, 1217.822676922937, 256.63103183705675, 984.3149013709173, 1838.8821119614895, 612.4569923789203, 404.76141443351173, 519.3321376110421, 476.57924540621195, 2329.9603314361316, 512.396946112228, 1691.8263688433615, 2355.629534788244, 3151.05076765376, 2133.031095734746, 1579.3329028478597, 1678.2664910114806, 1424.108878936147, 1103.4017199060322, 1740.6064260945693, 1493.2682174699269, 1405.9754605408775, 923.6524182689434, 1087.6916672717769, 1006.8694469554376, 483.21499617726386, 413.07371849571734, 4814.9294601874, 137.04264070702266, 143.75196036857332, 103.79446164964958, 99.88325788223503, 83.20876217013699, 59.79003595241764, 51.96629152937694, 51.96618801970653, 43.16464036019059, 212.76168993526215, 34.364192191034604, 34.36255702598477, 74.34311138583473, 31.429673056883036, 30.453765208756103, 29.475325992028036, 28.495977581286, 28.491392963038276, 27.51950038061788, 27.519355773728936, 94.87285204545175, 900.0106473272594, 23.591098239448623, 22.630956428110032, 22.629477692872648, 137.66823505126013, 21.651399528549543, 3661.420828719165, 536.225389973722, 199.91090610289203, 256.5114146274028, 2384.2143171241173, 2046.7215642431688, 381.2356542194736, 85.60907367192195, 3265.9105621083004, 351.153886937671, 426.19029772714555, 4427.442883774927, 192.72254378502407, 1025.3221862287767, 526.9896111935137, 158.72234214920954, 606.8248792720378, 394.9168450416788, 559.3213854934093, 372.8167469307728, 3150.004707930896, 1107.8485274605214, 2189.3823439310167, 705.9748762718008, 1526.4968957344547, 1558.4048277797174, 877.4899851639726, 892.498055048348, 448.7468072534462, 862.4349786207571, 1089.080605623092, 2695.412495190655, 1732.4793233881487, 904.204620944718, 1292.2171555456187, 669.6491320978796, 909.4665907379825, 943.9052944139897, 1079.2442285958102, 740.6460695469173, 717.0891702981484, 738.1702376858386, 811.6830118645493, 67.6076492864042, 102.82784669489614, 65.6806943792456, 61.825191969328, 55.00180154118953, 34.836559479093204, 32.90876307858291, 31.94460203359446, 30.980871099356325, 30.016855100348966, 30.016640094383288, 29.052305287791093, 29.95715447574317, 26.161532497681502, 26.15874874963438, 38.092214575993005, 20.377868463235522, 19.394028511502473, 18.45069161807306, 18.45059338528094, 18.450170095166204, 17.485152447141804, 17.484947798831822, 43.25210580801013, 17.479874284950284, 17.473201194479905, 56.924882423114994, 16.522943618717406, 16.522849684072806, 16.52252444655233, 47.70415355775902, 46.68433958136816, 40.21111269307699, 149.75827332070853, 56.01511725821099, 1260.6168656700552, 49.75803507027788, 71.4490642984584, 59.72790273928659, 46.13093790191393, 204.15702257524532, 352.66635140786957, 215.56234037467544, 268.57919907430016, 224.37073593218227, 93.45542470117283, 143.54741646911404, 317.7762714131518, 101.87739335085858, 378.4686223299368, 274.6133028108693, 320.41565889398345, 1708.4674195826983, 66.45369451809535, 408.51565960254413, 82.6236677112756, 514.300483838678, 203.88298019975102, 1265.216688209987, 185.52895877442054, 254.83274601836527, 3014.3197972090215, 229.95442945910028, 1315.5874838977238, 400.7730760427446, 395.04719907648314, 260.7699817328468, 240.8119400404592, 321.2653274348608, 250.11143596120002, 528.7486367182546, 448.22998154446805, 354.5066645648654, 385.89206030929466, 915.9172286105983, 651.0074448959006, 1077.3244155041361, 2456.6201007344916, 644.2889008877461, 339.4137708168744, 373.9142306669466, 1445.4713547564038, 691.8980315862441, 627.5030132132865, 604.2351467047844, 885.2198740882659, 712.7081577707331, 772.48553934115, 679.8473881247295, 669.4963225425719, 794.3934926154992, 606.8623234139977, 595.6133762104556, 658.6440068166826, 521.1059247222511, 460.6889657767659, 481.56703958238006, 481.559717994636], \"Total\": [13093.0, 13058.0, 10787.0, 12457.0, 4838.0, 20705.0, 7791.0, 6197.0, 3819.0, 7624.0, 4248.0, 9890.0, 4209.0, 7314.0, 8149.0, 3234.0, 8224.0, 9202.0, 5149.0, 7848.0, 5353.0, 13458.0, 5092.0, 7051.0, 2673.0, 3116.0, 2323.0, 3722.0, 5388.0, 4879.0, 372.4351205579619, 273.5793816702498, 165.74158119550322, 1975.8099204567413, 130.79279936089438, 602.9343836665703, 90.850407459511, 77.87193040750046, 76.87339341507541, 81.86193181329674, 62.8940923055317, 58.90006122243727, 51.91043468213221, 79.84994448465356, 70.86833628572639, 170.65070216660487, 153.68774963820005, 295.4807995414427, 136.7408980423985, 39.928201514715, 38.92941668992978, 37.93117005400549, 371.16856655690304, 34.93560184364921, 43.9197109263073, 32.93857518363586, 32.93855879338319, 33.93530360809038, 31.94004746837089, 346.2662593869735, 227.44650198405077, 186.54471466430144, 67.8757333182966, 86.78425527484548, 1265.5451358145215, 452.38511024078247, 126.75793438209806, 171.51605523327922, 2087.626737948775, 3722.573167979797, 2146.569609302169, 430.03576170627207, 1192.0644798075036, 734.2244864578577, 325.5700329009643, 5149.5795709855765, 517.9329454948343, 388.76551627499543, 1083.8148484977787, 862.5598910792411, 561.1005669004699, 1466.1490036207613, 1606.0280791577961, 1293.5538758145135, 669.471500330344, 3830.72760078577, 22950.499657817665, 5307.4736239696385, 12736.044500009073, 3367.683328599443, 949.0500204928195, 5895.620545963179, 2984.5207713047835, 11111.219520324446, 2388.197404691062, 741.7507198724685, 741.5368463508672, 26148.82254127553, 1897.4939203742906, 5388.073637615001, 2199.5140445706234, 3686.584268864309, 3116.8789198560044, 7984.130718783489, 11192.081794823303, 18397.832687529768, 9164.882320597731, 5024.33197740688, 4998.701709220089, 10250.31898188176, 8858.579795616972, 6222.681953776636, 5686.643160875165, 7826.936186512523, 8185.108922558217, 77.1193698919863, 64.26567336834327, 44.49077029767606, 30.648331424816856, 23.727097850608832, 24.71694300991428, 20.760868886420404, 20.760723439936157, 19.772117479699343, 42.51540244580182, 18.783380338451078, 17.794637085439795, 16.80581389877794, 36.583162845245006, 13.83967246686527, 11.862163968961331, 12.849047916588757, 37.59159086217112, 9.884674367877492, 9.88466699038769, 58.214770049606116, 61.34105604377109, 10.867810625273762, 8.896191166536449, 14.81156407592294, 7.907182828533925, 7.90717873465277, 7.907185259614334, 7.907166303193248, 7.907154744365461, 5092.412194373037, 15.793112652110528, 12457.491599897121, 63.191009408677175, 9890.858370757976, 697.9777310747581, 969.4637813503917, 636.8034069035942, 2068.5785493552726, 1434.8410157270882, 20705.141213585885, 2541.844714539757, 885.301104700331, 1788.316302052408, 1288.1869077371266, 1230.7451108152536, 4502.499568380639, 6734.4834536364715, 1030.9366472031186, 1764.1369858060043, 2102.977656038866, 3718.6571597359857, 689.6564264316252, 1839.8601469601313, 3247.227690858342, 947.1300863050986, 3087.4201735194306, 2816.379158674685, 1963.7347457149874, 1195.1804644972865, 1498.5894717717135, 8858.579795616972, 2149.778158858548, 1612.7112385006874, 8149.236912512, 6349.117068920099, 26148.82254127553, 5282.057322613366, 11192.081794823303, 8185.108922558217, 3551.148408258693, 18397.832687529768, 3403.2933831371524, 11111.219520324446, 7826.936186512523, 2863.595227831303, 13282.924739318505, 5307.4736239696385, 13458.202617725323, 22950.499657817665, 9164.882320597731, 12736.044500009073, 10250.31898188176, 10071.600510871236, 65.38569334765599, 153.52649708657816, 68.3595063542832, 34.67196006218248, 183.2607856258411, 25.755082928479396, 24.764528118330063, 22.782624340012323, 22.78366079064152, 227.69250256904732, 19.810504369042274, 19.810476169650126, 37.64335829011836, 16.838204314896277, 41.59057113957643, 35.66054513359632, 50.52315407479031, 14.856675582067608, 14.856694540675765, 41.619226852061885, 14.856540215338878, 58.38016367207238, 58.46680602300592, 18.81919660079081, 18.82205720456444, 609.9703329006397, 13.866239536882084, 12.875146746323129, 12.875143881548077, 12.875150527970016, 21.784299387061854, 555.8878080611541, 2071.4376299376827, 1512.4349985483323, 552.7523240539999, 540.8356074706702, 1500.7866906107472, 126.63248656058936, 161.4989212500986, 639.9150839517386, 253.41029737474608, 226.7951493094719, 136.586397139634, 7314.672602527607, 940.7694149478383, 2062.1335599441577, 2545.221209159887, 229.9958910904847, 265.7400212391428, 634.1548081426041, 487.0200025487463, 1840.0532867229822, 880.8604071563442, 203.1734496710709, 2966.282476012136, 886.8463323648701, 1029.438927157409, 1597.4963358968862, 2498.9934844218506, 2160.8943551021257, 1129.6875396556397, 3454.7185703883815, 1560.8979335524689, 1800.9028454060233, 4070.900816904726, 2070.1923229016593, 3058.885270230682, 1499.484344239046, 2835.422283060834, 4998.701709220089, 13282.924739318505, 5754.45797159712, 1795.3913892907347, 2728.6046660012994, 3272.9834069393464, 5128.23262944691, 18397.832687529768, 6041.316677916204, 4353.481359128385, 7051.509770567472, 5282.057322613366, 22950.499657817665, 26148.82254127553, 10071.600510871236, 3677.4063550364012, 5080.846452811134, 128.78724146452373, 4248.8815631163625, 266.54114230950603, 21.953339505586687, 30.939403438847325, 36.93014308767053, 11.968842809607438, 49.9100701297172, 10.970426558535825, 9.971990633311794, 9.971960988364192, 36.8759573279113, 8.973530381103558, 8.97343974098919, 45.90724411294662, 7.975088420774819, 7.975050571880322, 7.975030020876871, 7.975005525114554, 44.88061747917716, 21.937245805966214, 7.97498446817548, 6.976586557788159, 6.976544191074028, 14.948983850338308, 103.8263608900715, 1499.7256588682885, 13.954795992190899, 5.978193415999576, 5.978163710605342, 3226.5981343199933, 600.481305575516, 2103.4596093975574, 10787.048255746511, 29.818311474765746, 13058.394011966675, 7624.303537559677, 299.92577726571693, 1111.4283971239395, 1051.3429808337473, 64.661067138853, 584.6048624925104, 1049.8996142635237, 8224.86729193222, 4879.118152062549, 56.899640568884564, 1688.9812065934448, 757.5052668299926, 748.2693204537925, 3077.3854868860462, 1588.2116828037515, 2493.64367732251, 253.62333316536802, 9202.959840289212, 5253.978590877952, 13458.202617725323, 2189.999937789681, 10071.600510871236, 4201.190750862055, 3679.8504109827163, 10250.31898188176, 1547.866499746501, 26148.82254127553, 5754.45797159712, 5024.33197740688, 11192.081794823303, 8185.108922558217, 7848.22955273912, 7984.130718783489, 13282.924739318505, 20705.141213585885, 22950.499657817665, 18397.832687529768, 9164.882320597731, 11111.219520324446, 6041.316677916204, 57.04609382008955, 41.30992241124569, 23.606722766359756, 22.623176159401357, 18.689142322498498, 31.48376778687394, 167.30204531759492, 41.33201323941164, 26.56136194066756, 12.788103791956239, 19.67728525331066, 10.82106868498094, 1761.389718266679, 9.837577988492031, 9.83757071007513, 22.598740659309904, 3234.855752314785, 7.8705193499473, 13093.624783490252, 14.770108737207988, 5.90351118322211, 5.903517713382366, 1230.475894208208, 15.765539811332468, 4.920013859773207, 4.9200096128501025, 4.919991643977258, 97.46996710161667, 9.851947514027875, 3.9364989949879328, 2478.1533345392736, 2796.1278946218795, 2926.2565801492856, 7791.027571875819, 1058.179761899594, 1524.0398853271681, 2178.4398466860653, 5353.802790894831, 153.05519922277, 543.3880815713062, 2186.6675644008483, 301.15559739949845, 1010.1979409812051, 572.7413245043808, 1038.965883903117, 987.2013557642531, 7848.22955273912, 827.8942630324409, 2713.2560411226177, 436.06648015715587, 2318.042575633366, 5128.23262944691, 1301.683031569544, 800.0091075998503, 1118.585972484918, 1018.0645073158804, 9202.959840289212, 1139.135892743891, 6349.117068920099, 13282.924739318505, 26148.82254127553, 13458.202617725323, 7984.130718783489, 10071.600510871236, 9164.882320597731, 5686.643160875165, 18397.832687529768, 12736.044500009073, 13058.394011966675, 4201.190750862055, 7826.936186512523, 11111.219520324446, 484.06220367516335, 414.6415881463571, 4838.9468406992155, 137.8901746903179, 144.73355778532758, 104.64200791513338, 100.73045960906046, 84.10744565708141, 60.63708686261898, 52.81399163468726, 52.81398982942249, 44.0130071048233, 217.17265320868628, 35.21200935209795, 35.21203147376395, 76.28938909791772, 32.278339853373765, 31.300468191154692, 30.32257530826206, 29.344728808627046, 29.34474861082103, 28.366816702889324, 28.36681443391179, 97.81128715446346, 932.4764697933412, 24.455444280897304, 23.477368222553494, 23.477369752892155, 142.8688398352622, 22.499497351697904, 3819.5012186761755, 566.8141410413618, 210.44964441445808, 273.90252382488325, 2673.0585101857773, 2323.9666379107084, 426.46038835115405, 92.03754356847296, 4209.428427589759, 404.93135481295104, 505.9985738596189, 6197.147550147581, 223.5253044460982, 1370.6717402084823, 691.5035368258914, 184.16661428801618, 867.811996037266, 539.4392583767631, 834.3241024782815, 516.2866109703707, 7051.509770567472, 2124.8386606848194, 5388.073637615001, 1257.1895697572434, 3463.750243912145, 3679.8504109827163, 1711.0790104106165, 2005.1095342808892, 788.6341068165622, 2367.566474390265, 3625.3509817517197, 18397.832687529768, 10250.31898188176, 3638.089156860075, 13458.202617725323, 2256.4306544492656, 6041.316677916204, 8224.86729193222, 22950.499657817665, 3830.72760078577, 3272.9834069393464, 6222.681953776636, 26148.82254127553, 68.45750937275686, 104.13561949279995, 66.52972895593847, 62.674215541886525, 55.92826873369836, 35.685616908897345, 33.75786004904317, 32.79398888066129, 31.830106433199823, 30.866237082697094, 30.866238155285686, 29.902382667800552, 30.868382318936842, 27.010709716645156, 27.010814156515938, 39.56268623382766, 21.22745740562719, 20.264295073892647, 19.29967732518868, 19.299680472509245, 19.299687855293328, 18.335844563615908, 18.335852129378306, 45.36276771604641, 18.336048934130805, 18.33628537281898, 59.824382255404046, 17.371923641619674, 17.37192507283204, 17.371932893245052, 50.200371595136886, 49.23183350974459, 42.452811155485364, 160.31164704399757, 60.80620716253003, 1521.1259348952876, 54.11883575768367, 79.18686981651317, 65.74513899507592, 50.189786052714986, 240.26852886477323, 429.61647673763173, 258.46847531712183, 337.5570564862758, 280.45432049915513, 109.46566900081235, 176.99993589472604, 433.71699469099957, 121.13077766022484, 530.5335836388077, 372.5559858036905, 453.4423485511614, 3116.8789198560044, 75.33397147234447, 609.2778382283678, 96.81182728878778, 824.1422560009789, 283.48876364278794, 2528.5016146994903, 254.59197409387517, 383.3613239118406, 8149.236912512, 342.1520610809492, 3127.841207225689, 701.8586673585539, 699.8810455396281, 419.97434448199226, 379.45545709285756, 559.2415729772848, 402.39360878834, 1118.5218329510333, 955.7758991395316, 680.0167249879553, 812.8860845258912, 3716.167266015394, 2110.480984002269, 5149.5795709855765, 22950.499657817665, 2229.580670433272, 705.5506033197819, 871.5904426309276, 20705.141213585885, 4353.481359128385, 3830.72760078577, 3887.9741872244285, 12736.044500009073, 8185.108922558217, 12457.491599897121, 9890.858370757976, 11111.219520324446, 26148.82254127553, 7826.936186512523, 9164.882320597731, 18397.832687529768, 5253.978590877952, 3132.103623633227, 8858.579795616972, 13458.202617725323], \"Category\": [\"Default\", \"Default\", \"Default\", \"Default\", \"Default\", \"Default\", \"Default\", \"Default\", \"Default\", \"Default\", \"Default\", \"Default\", \"Default\", \"Default\", \"Default\", \"Default\", \"Default\", \"Default\", \"Default\", \"Default\", \"Default\", \"Default\", \"Default\", \"Default\", \"Default\", \"Default\", \"Default\", \"Default\", \"Default\", \"Default\", \"Topic1\", \"Topic1\", \"Topic1\", \"Topic1\", \"Topic1\", \"Topic1\", \"Topic1\", \"Topic1\", \"Topic1\", \"Topic1\", \"Topic1\", \"Topic1\", \"Topic1\", \"Topic1\", \"Topic1\", \"Topic1\", \"Topic1\", \"Topic1\", \"Topic1\", \"Topic1\", \"Topic1\", \"Topic1\", \"Topic1\", \"Topic1\", \"Topic1\", \"Topic1\", \"Topic1\", \"Topic1\", \"Topic1\", \"Topic1\", \"Topic1\", \"Topic1\", \"Topic1\", \"Topic1\", \"Topic1\", \"Topic1\", \"Topic1\", \"Topic1\", \"Topic1\", \"Topic1\", \"Topic1\", \"Topic1\", \"Topic1\", \"Topic1\", \"Topic1\", \"Topic1\", \"Topic1\", \"Topic1\", \"Topic1\", \"Topic1\", \"Topic1\", \"Topic1\", \"Topic1\", \"Topic1\", \"Topic1\", \"Topic1\", \"Topic1\", \"Topic1\", \"Topic1\", \"Topic1\", \"Topic1\", \"Topic1\", \"Topic1\", \"Topic1\", \"Topic1\", \"Topic1\", \"Topic1\", \"Topic1\", \"Topic1\", \"Topic1\", \"Topic1\", \"Topic1\", \"Topic1\", \"Topic1\", \"Topic1\", \"Topic1\", \"Topic1\", \"Topic1\", \"Topic1\", \"Topic1\", \"Topic1\", \"Topic1\", \"Topic1\", \"Topic1\", \"Topic1\", \"Topic2\", \"Topic2\", \"Topic2\", \"Topic2\", \"Topic2\", \"Topic2\", \"Topic2\", \"Topic2\", \"Topic2\", \"Topic2\", \"Topic2\", \"Topic2\", \"Topic2\", \"Topic2\", \"Topic2\", \"Topic2\", \"Topic2\", \"Topic2\", \"Topic2\", \"Topic2\", \"Topic2\", \"Topic2\", \"Topic2\", \"Topic2\", \"Topic2\", \"Topic2\", \"Topic2\", \"Topic2\", \"Topic2\", \"Topic2\", \"Topic2\", \"Topic2\", \"Topic2\", \"Topic2\", \"Topic2\", \"Topic2\", \"Topic2\", \"Topic2\", \"Topic2\", \"Topic2\", \"Topic2\", \"Topic2\", \"Topic2\", \"Topic2\", \"Topic2\", \"Topic2\", \"Topic2\", \"Topic2\", \"Topic2\", \"Topic2\", \"Topic2\", \"Topic2\", \"Topic2\", \"Topic2\", \"Topic2\", \"Topic2\", \"Topic2\", \"Topic2\", \"Topic2\", \"Topic2\", \"Topic2\", \"Topic2\", \"Topic2\", \"Topic2\", \"Topic2\", \"Topic2\", \"Topic2\", \"Topic2\", \"Topic2\", \"Topic2\", \"Topic2\", \"Topic2\", \"Topic2\", \"Topic2\", \"Topic2\", \"Topic2\", \"Topic2\", \"Topic2\", \"Topic2\", \"Topic2\", \"Topic2\", \"Topic2\", \"Topic2\", \"Topic2\", \"Topic3\", \"Topic3\", \"Topic3\", \"Topic3\", \"Topic3\", \"Topic3\", \"Topic3\", \"Topic3\", \"Topic3\", \"Topic3\", \"Topic3\", \"Topic3\", \"Topic3\", \"Topic3\", \"Topic3\", \"Topic3\", \"Topic3\", \"Topic3\", \"Topic3\", \"Topic3\", \"Topic3\", \"Topic3\", \"Topic3\", \"Topic3\", \"Topic3\", \"Topic3\", \"Topic3\", \"Topic3\", \"Topic3\", \"Topic3\", \"Topic3\", \"Topic3\", \"Topic3\", \"Topic3\", \"Topic3\", \"Topic3\", \"Topic3\", \"Topic3\", \"Topic3\", \"Topic3\", \"Topic3\", \"Topic3\", \"Topic3\", \"Topic3\", \"Topic3\", \"Topic3\", \"Topic3\", \"Topic3\", \"Topic3\", \"Topic3\", \"Topic3\", \"Topic3\", \"Topic3\", \"Topic3\", \"Topic3\", \"Topic3\", \"Topic3\", \"Topic3\", \"Topic3\", \"Topic3\", \"Topic3\", \"Topic3\", \"Topic3\", \"Topic3\", \"Topic3\", \"Topic3\", \"Topic3\", \"Topic3\", \"Topic3\", \"Topic3\", \"Topic3\", \"Topic3\", \"Topic3\", \"Topic3\", \"Topic3\", \"Topic3\", \"Topic3\", \"Topic3\", \"Topic3\", \"Topic3\", \"Topic3\", \"Topic3\", \"Topic3\", \"Topic3\", \"Topic3\", \"Topic3\", \"Topic4\", \"Topic4\", \"Topic4\", \"Topic4\", \"Topic4\", \"Topic4\", \"Topic4\", \"Topic4\", \"Topic4\", \"Topic4\", \"Topic4\", \"Topic4\", \"Topic4\", \"Topic4\", \"Topic4\", \"Topic4\", \"Topic4\", \"Topic4\", \"Topic4\", \"Topic4\", \"Topic4\", \"Topic4\", \"Topic4\", \"Topic4\", \"Topic4\", \"Topic4\", \"Topic4\", \"Topic4\", \"Topic4\", \"Topic4\", \"Topic4\", \"Topic4\", \"Topic4\", \"Topic4\", \"Topic4\", \"Topic4\", \"Topic4\", \"Topic4\", \"Topic4\", \"Topic4\", \"Topic4\", \"Topic4\", \"Topic4\", \"Topic4\", \"Topic4\", \"Topic4\", \"Topic4\", \"Topic4\", \"Topic4\", \"Topic4\", \"Topic4\", \"Topic4\", \"Topic4\", \"Topic4\", \"Topic4\", \"Topic4\", \"Topic4\", \"Topic4\", \"Topic4\", \"Topic4\", \"Topic4\", \"Topic4\", \"Topic4\", \"Topic4\", \"Topic4\", \"Topic4\", \"Topic4\", \"Topic4\", \"Topic4\", \"Topic4\", \"Topic4\", \"Topic4\", \"Topic4\", \"Topic4\", \"Topic4\", \"Topic4\", \"Topic5\", \"Topic5\", \"Topic5\", \"Topic5\", \"Topic5\", \"Topic5\", \"Topic5\", \"Topic5\", \"Topic5\", \"Topic5\", \"Topic5\", \"Topic5\", \"Topic5\", \"Topic5\", \"Topic5\", \"Topic5\", \"Topic5\", \"Topic5\", \"Topic5\", \"Topic5\", \"Topic5\", \"Topic5\", \"Topic5\", \"Topic5\", \"Topic5\", \"Topic5\", \"Topic5\", \"Topic5\", \"Topic5\", \"Topic5\", \"Topic5\", \"Topic5\", \"Topic5\", \"Topic5\", \"Topic5\", \"Topic5\", \"Topic5\", \"Topic5\", \"Topic5\", \"Topic5\", \"Topic5\", \"Topic5\", \"Topic5\", \"Topic5\", \"Topic5\", \"Topic5\", \"Topic5\", \"Topic5\", \"Topic5\", \"Topic5\", \"Topic5\", \"Topic5\", \"Topic5\", \"Topic5\", \"Topic5\", \"Topic5\", \"Topic5\", \"Topic5\", \"Topic5\", \"Topic5\", \"Topic5\", \"Topic5\", \"Topic5\", \"Topic5\", \"Topic5\", \"Topic5\", \"Topic5\", \"Topic5\", \"Topic5\", \"Topic5\", \"Topic5\", \"Topic5\", \"Topic6\", \"Topic6\", \"Topic6\", \"Topic6\", \"Topic6\", \"Topic6\", \"Topic6\", \"Topic6\", \"Topic6\", \"Topic6\", \"Topic6\", \"Topic6\", \"Topic6\", \"Topic6\", \"Topic6\", \"Topic6\", \"Topic6\", \"Topic6\", \"Topic6\", \"Topic6\", \"Topic6\", \"Topic6\", \"Topic6\", \"Topic6\", \"Topic6\", \"Topic6\", \"Topic6\", \"Topic6\", \"Topic6\", \"Topic6\", \"Topic6\", \"Topic6\", \"Topic6\", \"Topic6\", \"Topic6\", \"Topic6\", \"Topic6\", \"Topic6\", \"Topic6\", \"Topic6\", \"Topic6\", \"Topic6\", \"Topic6\", \"Topic6\", \"Topic6\", \"Topic6\", \"Topic6\", \"Topic6\", \"Topic6\", \"Topic6\", \"Topic6\", \"Topic6\", \"Topic6\", \"Topic6\", \"Topic6\", \"Topic6\", \"Topic6\", \"Topic6\", \"Topic6\", \"Topic6\", \"Topic6\", \"Topic6\", \"Topic6\", \"Topic6\", \"Topic6\", \"Topic6\", \"Topic6\", \"Topic6\", \"Topic6\", \"Topic6\", \"Topic6\", \"Topic6\", \"Topic6\", \"Topic7\", \"Topic7\", \"Topic7\", \"Topic7\", \"Topic7\", \"Topic7\", \"Topic7\", \"Topic7\", \"Topic7\", \"Topic7\", \"Topic7\", \"Topic7\", \"Topic7\", \"Topic7\", \"Topic7\", \"Topic7\", \"Topic7\", \"Topic7\", \"Topic7\", \"Topic7\", \"Topic7\", \"Topic7\", \"Topic7\", \"Topic7\", \"Topic7\", \"Topic7\", \"Topic7\", \"Topic7\", \"Topic7\", \"Topic7\", \"Topic7\", \"Topic7\", \"Topic7\", \"Topic7\", \"Topic7\", \"Topic7\", \"Topic7\", \"Topic7\", \"Topic7\", \"Topic7\", \"Topic7\", \"Topic7\", \"Topic7\", \"Topic7\", \"Topic7\", \"Topic7\", \"Topic7\", \"Topic7\", \"Topic7\", \"Topic7\", \"Topic7\", \"Topic7\", \"Topic7\", \"Topic7\", \"Topic7\", \"Topic7\", \"Topic7\", \"Topic7\", \"Topic7\", \"Topic7\", \"Topic7\", \"Topic7\", \"Topic7\", \"Topic7\", \"Topic7\", \"Topic7\", \"Topic7\", \"Topic7\", \"Topic7\", \"Topic7\", \"Topic7\", \"Topic7\", \"Topic7\", \"Topic7\", \"Topic7\", \"Topic7\", \"Topic7\", \"Topic7\", \"Topic7\", \"Topic7\", \"Topic7\", \"Topic7\", \"Topic7\", \"Topic7\", \"Topic7\", \"Topic7\", \"Topic7\", \"Topic7\", \"Topic7\", \"Topic7\", \"Topic7\", \"Topic7\", \"Topic7\", \"Topic7\", \"Topic7\", \"Topic7\", \"Topic7\", \"Topic7\"], \"logprob\": [30.0, 29.0, 28.0, 27.0, 26.0, 25.0, 24.0, 23.0, 22.0, 21.0, 20.0, 19.0, 18.0, 17.0, 16.0, 15.0, 14.0, 13.0, 12.0, 11.0, 10.0, 9.0, 8.0, 7.0, 6.0, 5.0, 4.0, 3.0, 2.0, 1.0, -6.6319, -6.9421, -7.4444, -4.9673, -7.6827, -6.1574, -8.0505, -8.2055, -8.2186, -8.1574, -8.4219, -8.4883, -8.6166, -8.187, -8.3064, -7.4288, -7.5347, -6.8814, -7.6528, -8.884, -8.9101, -8.9364, -6.6557, -9.0207, -8.7922, -9.081, -9.081, -9.0519, -9.1126, -6.7296, -7.1518, -7.3507, -8.3613, -8.1204, -5.4678, -6.4961, -7.748, -7.4523, -5.0053, -4.4456, -5.0019, -6.577, -5.5991, -6.0661, -6.8518, -4.238, -6.4178, -6.6885, -5.7348, -5.9627, -6.3693, -5.4892, -5.4095, -5.6472, -6.2534, -4.7559, -3.2371, -4.4998, -3.7833, -4.9098, -5.969, -4.5554, -5.1203, -4.1612, -5.3349, -6.1799, -6.1846, -3.8512, -5.5753, -4.9144, -5.4988, -5.1774, -5.3, -4.7742, -4.6074, -4.4151, -4.777, -5.1132, -5.1961, -4.9551, -5.0551, -5.179, -5.3004, -5.2666, -5.3063, -8.108, -8.2922, -8.6659, -9.0474, -9.3117, -9.274, -9.4507, -9.4513, -9.5015, -8.7377, -9.5551, -9.612, -9.6721, -8.8987, -9.8776, -10.0428, -9.9636, -8.9012, -10.2404, -10.2404, -8.4759, -8.4287, -10.1595, -10.3628, -9.8533, -10.4873, -10.4873, -10.4873, -10.4874, -10.4876, -4.0285, -9.8019, -3.2054, -8.4462, -3.5091, -6.1148, -5.8012, -6.21, -5.0744, -5.4493, -2.9128, -4.9229, -5.9364, -5.2716, -5.5837, -5.6339, -4.4311, -4.0757, -5.8289, -5.3708, -5.2639, -4.7631, -6.2978, -5.4313, -4.9387, -6.0295, -5.0267, -5.1071, -5.431, -5.8773, -5.6878, -4.2299, -5.3988, -5.6418, -4.3963, -4.5892, -3.5283, -4.7317, -4.2651, -4.5052, -5.0492, -4.1072, -5.1418, -4.5808, -4.7674, -5.2537, -4.6881, -5.0784, -4.8236, -4.7024, -5.0009, -4.9886, -5.0529, -5.0956, -8.2661, -7.4219, -8.2314, -8.9122, -7.2523, -9.2182, -9.2598, -9.3463, -9.3504, -7.0486, -9.4908, -9.4909, -8.8519, -9.6613, -8.7578, -8.9145, -8.568, -9.7935, -9.7939, -8.7638, -9.7942, -8.4258, -8.4248, -9.5592, -9.5612, -6.0842, -9.8704, -9.946, -9.946, -9.9461, -9.4203, -6.2158, -4.9152, -5.2309, -6.2245, -6.2557, -5.2583, -7.6821, -7.4476, -6.0993, -7.0092, -7.1173, -7.6164, -3.7753, -5.7479, -5.0097, -4.8416, -7.1324, -7.0003, -6.1816, -6.4298, -5.1996, -5.8977, -7.2631, -4.7803, -5.9093, -5.7782, -5.3897, -4.9972, -5.1397, -5.7402, -4.7915, -5.4783, -5.3851, -4.7224, -5.29, -4.9813, -5.5665, -5.0813, -4.7281, -4.0525, -4.6333, -5.4517, -5.2181, -5.1201, -4.9487, -4.3578, -4.9356, -5.1211, -4.9974, -5.1409, -4.6939, -4.6662, -5.0672, -5.3186, -5.3019, -7.336, -3.8592, -6.6292, -9.1379, -8.7963, -8.6444, -9.7787, -8.3568, -9.873, -9.9762, -9.9764, -8.6773, -10.0922, -10.0926, -8.4619, -10.2232, -10.2236, -10.2239, -10.2245, -8.5027, -9.2197, -10.2352, -10.3747, -10.3751, -9.6134, -7.6818, -5.0202, -9.7033, -10.5516, -10.5518, -4.2943, -5.9635, -4.7259, -3.1653, -8.9467, -3.0043, -3.5482, -6.6991, -5.4325, -5.488, -8.1934, -6.0873, -5.5488, -3.6307, -4.1486, -8.3381, -5.1555, -5.9069, -5.9355, -4.6237, -5.2368, -4.9109, -6.9502, -3.7928, -4.3022, -3.5132, -5.097, -3.8712, -4.6794, -4.7907, -3.9811, -5.4995, -3.5566, -4.6157, -4.7275, -4.2634, -4.4727, -4.5337, -4.5292, -4.3862, -4.2554, -4.2243, -4.359, -4.7115, -4.7228, -4.8964, -7.8192, -8.1478, -8.7231, -8.7673, -8.9666, -8.4456, -6.776, -8.1843, -8.6317, -9.3681, -8.9466, -9.5482, -4.4616, -9.6519, -9.6522, -8.8256, -3.8659, -9.8991, -2.498, -9.2888, -10.2272, -10.2282, -4.9, -9.2734, -10.4434, -10.4436, -10.4446, -7.4608, -9.7678, -10.7198, -4.3183, -4.2469, -4.2178, -3.2735, -5.2242, -4.934, -4.5985, -3.78, -7.1321, -5.9587, -4.7425, -6.5557, -5.4685, -5.9831, -5.4644, -5.5194, -3.7617, -5.7116, -4.7433, -6.3005, -4.9561, -4.3312, -5.4306, -5.8448, -5.5955, -5.6815, -4.0945, -5.609, -4.4145, -4.0835, -3.7926, -4.1828, -4.4833, -4.4226, -4.5868, -4.8419, -4.3861, -4.5394, -4.5996, -5.0198, -4.8563, -4.9335, -5.6157, -5.7725, -3.3167, -6.8759, -6.8281, -7.1537, -7.1921, -7.3748, -7.7053, -7.8455, -7.8455, -8.0311, -6.436, -8.2591, -8.2592, -7.4875, -8.3484, -8.3799, -8.4126, -8.4464, -8.4465, -8.4812, -8.4813, -7.2436, -4.9937, -8.6353, -8.6768, -8.6769, -6.8713, -8.7211, -3.5905, -5.5116, -6.4983, -6.249, -4.0195, -4.1721, -5.8527, -7.3464, -3.7048, -5.9349, -5.7413, -3.4006, -6.5349, -4.8634, -5.529, -6.729, -5.3879, -5.8175, -5.4694, -5.8751, -3.741, -4.786, -4.1048, -5.2366, -4.4654, -4.4447, -5.0191, -5.0021, -5.6897, -5.0364, -4.8031, -3.8968, -4.3388, -4.9891, -4.632, -5.2894, -4.9833, -4.9461, -4.8121, -5.1886, -5.2209, -5.192, -5.097, -7.5281, -7.1088, -7.5571, -7.6175, -7.7345, -8.1912, -8.2481, -8.2779, -8.3085, -8.3401, -8.3401, -8.3728, -8.3421, -8.4776, -8.4777, -8.1018, -8.7274, -8.7769, -8.8268, -8.8268, -8.8268, -8.8805, -8.8805, -7.9748, -8.8808, -8.8812, -7.7001, -8.9371, -8.9371, -8.9371, -7.8768, -7.8984, -8.0477, -6.7328, -7.7162, -4.6025, -7.8347, -7.4729, -7.6521, -7.9104, -6.423, -5.8763, -6.3686, -6.1487, -6.3286, -7.2044, -6.7752, -5.9805, -7.1181, -5.8057, -6.1265, -5.9722, -4.2985, -7.5454, -5.7293, -7.3276, -5.499, -6.4243, -4.5989, -6.5186, -6.2012, -3.7307, -6.304, -4.5598, -5.7485, -5.7629, -6.1782, -6.2578, -5.9696, -6.2199, -5.4713, -5.6365, -5.8711, -5.7863, -4.9219, -5.2633, -4.7596, -3.9353, -5.2737, -5.9146, -5.8178, -4.4657, -5.2024, -5.3001, -5.3379, -4.956, -5.1728, -5.0922, -5.22, -5.2353, -5.0643, -5.3336, -5.3523, -5.2517, -5.4859, -5.6091, -5.5648, -5.5648], \"loglift\": [30.0, 29.0, 28.0, 27.0, 26.0, 25.0, 24.0, 23.0, 22.0, 21.0, 20.0, 19.0, 18.0, 17.0, 16.0, 15.0, 14.0, 13.0, 12.0, 11.0, 10.0, 9.0, 8.0, 7.0, 6.0, 5.0, 4.0, 3.0, 2.0, 1.0, 1.5863, 1.5846, 1.5834, 1.5822, 1.5819, 1.579, 1.5785, 1.5776, 1.5775, 1.5758, 1.5749, 1.5741, 1.5722, 1.5711, 1.571, 1.5698, 1.5686, 1.5682, 1.5673, 1.5672, 1.5664, 1.566, 1.5659, 1.5641, 1.5637, 1.5626, 1.5626, 1.5619, 1.5618, 1.5614, 1.5595, 1.5588, 1.5593, 1.5544, 1.5272, 1.5277, 1.548, 1.5413, 1.4892, 1.4704, 1.4647, 1.4974, 1.4557, 1.4733, 1.5009, 1.3536, 1.4706, 1.4868, 1.4152, 1.4156, 1.439, 1.3587, 1.3472, 1.3259, 1.3784, 1.1315, 0.8601, 1.0616, 0.9027, 1.1064, 1.3138, 0.9009, 1.0168, 0.6614, 1.0251, 1.3493, 1.3449, 0.1155, 1.0147, 0.6319, 0.9434, 0.7484, 0.7937, 0.3788, 0.2079, -0.0968, 0.2382, 0.503, 0.4252, -0.0519, -0.006, 0.2233, 0.1919, -0.0937, -0.1781, 1.6849, 1.683, 1.6771, 1.6683, 1.6599, 1.6567, 1.6545, 1.6539, 1.6525, 1.6507, 1.6502, 1.6474, 1.6444, 1.6399, 1.6331, 1.622, 1.6213, 1.6102, 1.6069, 1.6068, 1.5982, 1.5931, 1.5929, 1.5898, 1.5895, 1.5832, 1.5832, 1.5832, 1.5831, 1.5828, 1.5743, 1.5768, 1.5028, 1.5459, 1.4297, 1.4753, 1.4603, 1.4718, 1.4293, 1.4202, 1.2873, 1.3747, 1.416, 1.3776, 1.3935, 1.389, 1.2948, 1.2476, 1.3711, 1.292, 1.2233, 1.1541, 1.3042, 1.1895, 1.114, 1.2553, 1.0764, 1.0879, 1.1246, 1.1749, 1.1381, 0.8192, 1.0663, 1.1108, 0.7363, 0.7929, 0.4384, 0.8345, 0.5502, 0.623, 0.914, 0.211, 0.8639, 0.2418, 0.4055, 0.9247, -0.0441, 0.483, -0.1927, -0.6052, 0.0142, -0.3026, -0.1497, -0.1748, 1.6918, 1.6824, 1.6821, 1.6801, 1.6751, 1.6714, 1.669, 1.666, 1.6618, 1.6617, 1.6612, 1.6611, 1.6581, 1.6533, 1.6525, 1.6497, 1.6478, 1.6462, 1.6459, 1.6459, 1.6456, 1.6455, 1.645, 1.6442, 1.642, 1.6407, 1.6384, 1.637, 1.6369, 1.6368, 1.6368, 1.6019, 1.587, 1.5859, 1.5989, 1.5895, 1.5662, 1.6148, 1.6062, 1.5776, 1.594, 1.5968, 1.6049, 1.4653, 1.5436, 1.497, 1.4547, 1.5678, 1.5554, 1.5044, 1.5201, 1.4211, 1.4597, 1.5611, 1.3628, 1.4413, 1.4233, 1.3724, 1.3174, 1.3203, 1.3683, 1.1992, 1.307, 1.2571, 1.1043, 1.2128, 1.1311, 1.2589, 1.107, 0.8933, 0.5915, 0.8473, 1.1936, 1.0086, 0.9247, 0.6471, -0.0396, 0.4963, 0.6385, 0.2799, 0.4253, -0.5968, -0.6995, -0.1465, 0.6097, 0.3032, 1.9441, 1.9246, 1.9235, 1.9114, 1.9099, 1.8848, 1.8772, 1.8712, 1.87, 1.8623, 1.8621, 1.8534, 1.8517, 1.8513, 1.8497, 1.8388, 1.8383, 1.838, 1.8374, 1.8316, 1.8304, 1.8267, 1.821, 1.8206, 1.8202, 1.8137, 1.805, 1.7992, 1.7985, 1.7983, 1.7648, 1.777, 1.761, 1.6869, 1.7964, 1.6568, 1.651, 1.7356, 1.6923, 1.6924, 1.7757, 1.68, 1.633, 1.4927, 1.4969, 1.7589, 1.5509, 1.6013, 1.585, 1.4827, 1.5311, 1.4058, 1.6522, 1.2182, 1.2693, 1.1177, 1.3496, 1.0496, 1.1157, 1.1369, 0.9221, 1.2941, 0.4101, 0.8648, 0.8887, 0.5519, 0.6555, 0.6365, 0.6239, 0.2578, -0.0553, -0.1272, -0.0408, 0.3036, 0.0998, 0.5354, 2.2752, 2.2693, 2.2536, 2.2519, 2.2437, 2.2431, 2.2424, 2.2323, 2.2271, 2.2216, 2.2121, 2.2086, 2.2028, 2.2001, 2.1999, 2.1948, 2.1906, 2.176, 2.1604, 2.1568, 2.1355, 2.1345, 2.1231, 2.107, 2.1015, 2.1014, 2.1004, 2.0979, 2.0828, 2.0482, 2.0047, 1.9554, 1.939, 1.904, 1.9498, 1.8752, 1.8534, 1.7727, 1.9753, 1.8817, 1.7056, 1.8749, 1.7518, 1.8047, 1.7279, 1.724, 1.4085, 1.7078, 1.4891, 1.76, 1.4336, 1.2645, 1.5362, 1.6088, 1.5229, 1.5311, 0.9165, 1.4912, 0.9676, 0.5605, 0.1741, 0.4481, 0.6697, 0.4982, 0.4283, 0.6504, -0.0678, 0.1467, 0.0615, 0.7754, 0.3166, -0.111, 2.3403, 2.3383, 2.3371, 2.3359, 2.3353, 2.334, 2.3337, 2.3314, 2.328, 2.3259, 2.3259, 2.3226, 2.3216, 2.3177, 2.3177, 2.3163, 2.3155, 2.3147, 2.3138, 2.3127, 2.3126, 2.3118, 2.3118, 2.3116, 2.3067, 2.3061, 2.3054, 2.3053, 2.305, 2.3037, 2.2998, 2.2866, 2.2907, 2.2765, 2.2277, 2.2151, 2.23, 2.2697, 2.0883, 2.1996, 2.1705, 2.0058, 2.1938, 2.0518, 2.0704, 2.1934, 1.9844, 2.0302, 1.9422, 2.0165, 1.5363, 1.6908, 1.4415, 1.765, 1.5227, 1.4829, 1.6743, 1.5327, 1.7783, 1.3322, 1.1395, 0.4214, 0.5643, 0.9499, -0.0011, 1.1273, 0.4486, 0.1772, -0.715, 0.6988, 0.8238, 0.2103, -1.1303, 2.3839, 2.3837, 2.3835, 2.3827, 2.3797, 2.3723, 2.3709, 2.3701, 2.3693, 2.3685, 2.3685, 2.3675, 2.3664, 2.3644, 2.3643, 2.3585, 2.3555, 2.3525, 2.3514, 2.3514, 2.3514, 2.3489, 2.3489, 2.3487, 2.3486, 2.3482, 2.3467, 2.3463, 2.3463, 2.3463, 2.3454, 2.3433, 2.3421, 2.3283, 2.3143, 2.2085, 2.3124, 2.2936, 2.3004, 2.3121, 2.2335, 2.199, 2.2149, 2.1678, 2.1733, 2.2383, 2.1869, 2.0853, 2.2233, 2.0586, 2.0914, 2.0491, 1.7952, 2.271, 1.9966, 2.2379, 1.9249, 2.0668, 1.704, 2.0799, 1.988, 1.4018, 1.999, 1.5303, 1.836, 1.8245, 1.9198, 1.9417, 1.8421, 1.9209, 1.6471, 1.6392, 1.745, 1.6514, 0.9959, 1.2202, 0.832, 0.1618, 1.155, 1.6646, 1.5501, -0.2656, 0.5571, 0.5873, 0.5347, -0.27, -0.0446, -0.3841, -0.2811, -0.4128, -1.0976, -0.1606, -0.3372, -0.9334, 0.0856, 0.4796, -0.5157, -0.9339]}, \"token.table\": {\"Topic\": [7, 5, 1, 2, 3, 4, 7, 1, 1, 2, 6, 6, 1, 2, 3, 4, 5, 6, 7, 2, 1, 4, 2, 2, 3, 4, 5, 7, 5, 3, 1, 2, 3, 4, 5, 6, 7, 3, 5, 6, 7, 2, 1, 2, 3, 4, 5, 6, 7, 1, 2, 3, 4, 5, 6, 1, 2, 3, 4, 5, 6, 7, 1, 4, 5, 6, 7, 1, 6, 7, 1, 6, 7, 1, 3, 7, 3, 1, 2, 3, 4, 5, 6, 7, 4, 1, 2, 3, 4, 5, 6, 7, 3, 6, 2, 3, 4, 5, 6, 7, 1, 2, 3, 4, 5, 6, 7, 1, 7, 1, 2, 3, 5, 6, 7, 7, 1, 3, 4, 5, 7, 1, 3, 5, 6, 7, 1, 3, 6, 7, 1, 2, 3, 4, 5, 6, 7, 5, 4, 2, 3, 4, 1, 2, 4, 5, 6, 7, 1, 2, 3, 5, 6, 7, 1, 2, 3, 5, 6, 7, 1, 2, 3, 4, 5, 6, 7, 2, 1, 2, 3, 4, 5, 6, 7, 1, 1, 1, 2, 3, 4, 5, 6, 7, 1, 2, 3, 5, 6, 7, 1, 2, 3, 4, 5, 6, 7, 3, 6, 7, 1, 2, 3, 4, 5, 6, 7, 6, 1, 2, 3, 4, 5, 6, 7, 1, 2, 3, 4, 5, 6, 7, 1, 5, 1, 2, 5, 6, 7, 6, 1, 7, 1, 3, 6, 6, 6, 1, 7, 7, 7, 1, 2, 3, 4, 5, 6, 7, 2, 7, 1, 2, 3, 4, 5, 6, 7, 1, 6, 7, 3, 5, 1, 2, 3, 4, 6, 7, 1, 2, 3, 4, 5, 6, 7, 4, 5, 1, 3, 7, 1, 2, 3, 5, 6, 7, 4, 1, 2, 3, 4, 5, 6, 7, 6, 1, 3, 1, 2, 6, 1, 7, 3, 6, 1, 2, 3, 4, 5, 5, 1, 7, 5, 1, 2, 3, 4, 5, 6, 7, 1, 2, 3, 4, 5, 6, 7, 2, 3, 4, 5, 6, 2, 3, 4, 5, 1, 2, 3, 4, 5, 6, 7, 1, 2, 3, 5, 6, 7, 1, 2, 3, 4, 5, 6, 7, 1, 2, 3, 4, 5, 6, 1, 2, 3, 6, 7, 3, 2, 1, 3, 7, 1, 2, 3, 4, 6, 7, 1, 3, 4, 5, 6, 7, 4, 1, 2, 3, 4, 5, 6, 7, 1, 5, 7, 1, 2, 3, 5, 6, 7, 1, 2, 3, 4, 1, 4, 1, 3, 7, 1, 5, 1, 7, 1, 6, 7, 1, 2, 3, 4, 5, 6, 7, 1, 2, 3, 4, 5, 6, 7, 1, 2, 3, 4, 5, 6, 7, 1, 7, 1, 2, 3, 4, 5, 6, 7, 3, 1, 2, 3, 4, 5, 6, 7, 7, 2, 3, 3, 3, 6, 2, 3, 2, 7, 3, 1, 2, 3, 4, 5, 6, 7, 1, 2, 3, 4, 5, 6, 7, 6, 7, 1, 2, 3, 4, 5, 6, 7, 1, 2, 3, 4, 5, 6, 7, 1, 2, 3, 4, 5, 6, 7, 1, 2, 3, 4, 5, 7, 1, 2, 3, 4, 5, 6, 7, 1, 2, 3, 5, 6, 7, 1, 2, 3, 4, 5, 6, 7, 1, 5, 1, 1, 2, 3, 4, 5, 6, 7, 1, 2, 3, 4, 5, 6, 7, 5, 1, 2, 3, 4, 5, 6, 7, 1, 2, 3, 4, 5, 6, 7, 2, 1, 2, 3, 4, 5, 6, 7, 1, 2, 3, 4, 5, 6, 7, 2, 3, 4, 5, 6, 7, 1, 2, 3, 7, 1, 2, 6, 1, 7, 1, 1, 2, 3, 4, 5, 6, 7, 1, 6, 7, 6, 3, 4, 6, 2, 4, 7, 1, 3, 4, 5, 6, 7, 1, 7, 1, 2, 3, 4, 5, 6, 7, 1, 2, 3, 4, 5, 6, 7, 1, 2, 3, 4, 5, 6, 7, 1, 2, 3, 4, 5, 6, 7, 1, 1, 2, 4, 5, 6, 7, 1, 2, 3, 4, 5, 6, 7, 1, 2, 3, 4, 5, 6, 7, 2, 3, 4, 5, 1, 3, 4, 1, 2, 3, 4, 5, 6, 7, 7, 5, 1, 2, 3, 6, 7, 1, 2, 3, 4, 5, 6, 7, 1, 3, 4, 6, 6, 1, 2, 3, 4, 5, 6, 7, 4, 7, 1, 2, 3, 4, 5, 6, 7, 4, 5, 1, 2, 3, 4, 5, 6, 7, 1, 2, 3, 4, 5, 6, 7, 1, 2, 3, 4, 5, 6, 7, 4, 5, 1, 2, 3, 4, 5, 6, 7, 1, 2, 3, 4, 5, 6, 7, 1, 2, 3, 4, 5, 6, 7, 1, 2, 3, 4, 7, 1, 2, 3, 5, 6, 7, 1, 2, 3, 4, 5, 6, 7, 1, 7, 2, 7, 2, 5, 1, 2, 3, 6, 7, 1, 2, 3, 4, 5, 7, 1, 6, 7, 7, 1, 4, 1, 2, 3, 4, 5, 6, 7, 2, 3, 1, 6, 4, 1, 2, 3, 4, 5, 6, 7, 1, 2, 3, 4, 5, 6, 7, 2, 4, 3, 6, 7, 1, 2, 3, 4, 5, 6, 7, 1, 2, 3, 4, 5, 6, 7, 1, 2, 3, 4, 5, 6, 7, 1, 2, 3, 4, 5, 6, 7, 1, 3, 7, 1, 2, 3, 4, 5, 6, 7, 1, 2, 3, 4, 7, 1, 2, 3, 4, 5, 6, 7, 1, 2, 3, 4, 5, 6, 7, 1, 6, 7, 1, 2, 3, 4, 5, 6, 7, 1, 2, 3, 4, 5, 6, 7, 1, 2, 3, 4, 5, 6, 7, 1, 2, 3, 4, 5, 6, 7, 1, 2, 3, 4, 5, 6, 7, 1, 3, 4, 5, 6, 7, 1, 2, 3, 4, 5, 6, 7, 1, 2, 3, 4, 5, 6, 7, 1, 2, 3, 4, 5, 6, 7, 2, 3, 4, 5, 2, 3, 4, 5, 6, 1, 2, 3, 4, 5, 6, 7, 2, 7, 1, 2, 3, 4, 5, 6, 7, 1, 2, 3, 4, 5, 6, 7, 6, 1, 2, 3, 4, 5, 6, 7, 1, 2, 3, 4, 5, 6, 7, 1, 2, 4, 5, 6, 1, 2, 3, 4, 5, 6, 7, 1, 2, 3, 4, 5, 6, 7, 3, 4, 1, 7, 1, 2, 3, 4, 5, 6, 7, 7, 5, 2, 3, 4, 5, 6, 7, 1, 2, 3, 4, 5, 6, 4, 4, 4, 1, 1, 2, 3, 4, 5, 6, 7, 1, 2, 3, 4, 5, 6, 7, 2, 1, 2, 3, 4, 5, 6, 7, 6, 6, 2, 1, 2, 4, 6, 7, 1, 2, 3, 4, 5, 6, 7, 1, 2, 3, 6, 7, 5, 3, 6, 2, 3, 1, 2, 3, 4, 5, 6, 7, 1, 2, 3, 4, 5, 6, 7, 1, 2, 3, 4, 5, 6, 7, 1, 2, 3, 4, 5, 6, 7, 1, 7, 4, 1, 1, 4, 7, 2, 1, 5, 1, 2, 4, 5, 7, 1, 4, 7, 1, 2, 3, 4, 5, 6, 7, 1, 1, 6, 1, 2, 3, 4, 5, 6, 7, 2, 4, 1, 6, 1, 2, 3, 4, 5, 6, 7, 6, 2, 3, 4, 5, 6, 7, 6, 1, 2, 3, 4, 5, 6, 7, 3, 7, 1, 2, 5, 7, 7, 1, 2, 3, 4, 5, 6, 7, 1, 2, 3, 2, 4, 7, 5, 7, 5, 3, 7, 1, 2, 3, 6, 7, 6, 5, 2, 6, 7, 7, 1, 2, 3, 4, 5, 6, 7, 1, 2, 5, 1, 7, 1, 2, 3, 4, 5, 6, 7, 5, 1, 4, 5, 6, 7, 1, 2, 3, 7, 1, 2, 3, 4, 5, 6, 7, 7, 1, 2, 3, 4, 5, 6, 7, 1, 2, 3, 4, 6, 7, 1, 2, 3, 4, 5, 6, 7, 1, 2, 3, 4, 5, 7, 1, 2, 3, 4, 5, 6, 7, 2, 1, 1, 6, 5, 1, 2, 3, 4, 5, 6, 7, 2, 1, 7, 2, 4, 2, 3, 4, 6, 7, 7, 1, 2, 3, 4, 5, 6, 7, 1, 2, 3, 4, 5, 6, 7, 1, 1, 2, 3, 4, 5, 6, 7, 1, 2, 3, 4, 5, 6, 7, 3, 1, 4, 6, 7, 1, 2, 3, 4, 5, 6, 7, 1, 2, 3, 4, 5, 6, 1, 2, 3, 6, 7, 3, 1, 2, 3, 4, 5, 6, 7, 1, 3, 6, 1, 1, 2, 3, 4, 5, 6, 7, 1, 2, 3, 4, 5, 6, 7, 1, 2, 5, 6, 7, 1, 2, 3, 4, 5, 6, 7, 7, 6, 2, 3, 4, 5, 6, 7, 1, 2, 3, 6, 7, 7, 1, 7, 2, 3, 4, 5, 6, 1, 2, 3, 4, 5, 6, 7, 1, 2, 3, 4, 5, 6, 7, 1, 7, 1, 2, 3, 4, 5, 6, 7, 1, 7, 1, 2, 3, 5, 6, 7, 1, 2, 3, 4, 6, 7, 1, 2, 3, 6, 7, 1, 2, 3, 4, 5, 6, 1, 5, 6, 1, 2, 3, 6, 7, 1, 2, 3, 4, 6, 7, 1, 2, 3, 4, 5, 6, 7, 6, 1, 2, 3, 4, 5, 7, 1, 2, 3, 4, 6, 7, 1, 2, 1, 4, 6, 1, 2, 3, 4, 5, 6, 7, 1, 2, 3, 4, 5, 6, 1, 2, 5, 6, 7, 1, 2, 3, 4, 5, 6, 7, 1, 2, 3, 4, 5, 6, 7, 1, 2, 3, 4, 5, 6, 7, 1, 2, 3, 4, 5, 6, 7, 1, 2, 3, 4, 6, 7, 7, 1, 2, 3, 4, 5, 6, 7, 4, 4, 6, 7, 1, 2, 3, 4, 5, 6, 7, 1, 2, 3, 4, 5, 6, 7, 1, 2, 3, 4, 5, 6, 7, 1, 6, 2, 3, 6, 7, 1, 2, 4, 5, 6, 7, 2, 3, 1, 7, 1, 2, 3, 4, 5, 6, 7, 2, 4, 5, 1, 3, 4, 6, 7, 1, 7, 1, 2, 3, 4, 5, 6, 7, 1, 2, 3, 4, 5, 6, 7, 1, 6, 7, 1, 2, 3, 4, 5, 6, 7, 1, 2, 3, 4, 5, 6, 7, 1, 4, 6, 1, 3, 1, 4, 6, 7, 1, 2, 3, 4, 6, 7, 2, 2, 1, 2, 3, 4, 5, 6, 7, 1, 2, 3, 4, 5, 6, 7, 1, 2, 3, 4, 5, 6, 7, 1, 7, 2, 4, 7, 1, 2, 3, 4, 5, 6, 7, 1, 2, 3, 4, 5, 6, 7, 6, 1, 7, 1, 2, 3, 4, 5, 6, 7, 1, 2, 3, 4, 5, 6, 7, 2, 3, 1, 2, 3, 4, 5, 6, 7, 7, 1, 3, 7, 1, 2, 3, 4, 5, 6, 7, 4, 1, 2, 3, 6, 7, 1, 2, 3, 4, 5, 6, 7, 1, 2, 3, 4, 6, 7, 1, 2, 3, 4, 5, 6, 7, 2, 4, 4, 5, 7, 6, 7, 2, 7, 7, 2, 3, 1, 6, 7, 2, 1, 2, 3, 4, 5, 6, 7, 1, 2, 3, 4, 5, 6, 7, 1, 2, 3, 4, 5, 6, 7, 5, 1, 2, 3, 4, 5, 6, 7, 1, 2, 3, 4, 5, 6, 7, 1, 2, 3, 4, 5, 7, 1, 2, 3, 4, 5, 6, 7, 1, 2, 3, 4, 5, 6, 7, 2, 1, 7, 1, 2, 3, 4, 5, 6, 7, 2, 1, 5, 6, 7, 1, 4, 5, 6, 7, 1, 2, 3, 4, 5, 6, 7, 1, 2, 3, 4, 5, 6, 7, 3, 1, 2, 3, 4, 5, 6, 7, 1, 2, 3, 4, 5, 6, 7, 4, 1, 4, 6, 7, 1, 2, 3, 4, 5, 6, 7, 1, 2, 3, 4, 5, 6, 7, 1, 2, 3, 4, 5, 6, 7, 1, 2, 3, 4, 5, 6, 7, 1, 2, 3, 4, 5, 6, 7, 2, 3, 4, 5, 6, 7, 1, 2, 3, 6, 7, 2, 6, 7, 6, 1, 4], \"Freq\": [0.9326579279713709, 0.8893949291982709, 0.16758522356278546, 0.014262572218109401, 0.0035656430545273504, 0.014262572218109401, 0.7987040442141264, 0.9761255942432294, 0.08151147571427779, 0.8966262328570557, 0.9949316675651986, 0.9938647209861067, 0.014881771408942637, 0.556826280217937, 0.3156175686313251, 0.004960590469647546, 0.0031003690435297162, 0.005580664278353489, 0.09921180939295092, 0.9889691660901252, 0.05415630248851428, 0.9477352935489999, 0.9201485326533373, 0.05163039718687952, 0.21407725662852484, 0.657343105647588, 0.07618631780015149, 0.0006296389900838966, 0.9682903686381873, 0.9320284192860724, 0.0009508145490717605, 0.004278665470822922, 0.14167136781169232, 0.8272086576924316, 0.023770363726794013, 0.0014262218236076407, 0.00047540727453588026, 0.9423459161471168, 0.846953591654081, 0.04711113223279628, 0.9422226446559256, 0.9520514803013178, 0.0014510878625418604, 0.04628206551054566, 0.04345626283085888, 0.02352289798225753, 0.8782900220648103, 0.002825802679686781, 0.004124144451434762, 0.05280491338019598, 0.11221044093291645, 0.003960368503514698, 0.7049455936256163, 0.12277142360895565, 0.0026402456690097988, 0.12403763923900278, 0.022341607665620083, 0.0001854075324947725, 0.7681434071258424, 0.07425571676415638, 0.009733895455975555, 0.0012978527274634074, 0.8416806850265477, 0.022027455944220946, 0.0011593397865379445, 0.005796698932689723, 0.12984605609224978, 0.30803377157222905, 0.6700034175442648, 0.02037577477326029, 0.888145857492257, 0.09653759320568012, 0.011584511184681614, 0.0516465822412906, 0.08263453158606496, 0.857333265205424, 0.9563247951257374, 0.5246613463772073, 0.022732294037140697, 0.13275659717690166, 0.20368135457278064, 0.00909291761485628, 0.0422820669090817, 0.0650143609462224, 0.8777423386047687, 0.008608112919390024, 0.21253840708112987, 0.08751581468046524, 0.6351557604092781, 0.009018023058408596, 0.00163964055607429, 0.04529507036155227, 0.0024117214205899374, 0.9960409467036441, 0.16985730616478098, 0.05185117767135419, 0.1287339583564656, 0.46397864157642804, 0.18058513602781978, 0.005363914931519399, 0.5902996834220202, 0.29731659765079727, 0.005840820359426309, 0.05068324763502184, 0.040320501836039684, 0.005840820359426309, 0.009609091559056187, 0.4517339416139552, 0.5479840712192013, 0.2752756789370221, 0.000289459178692978, 0.6032329283961662, 0.000289459178692978, 0.10217909007862123, 0.01881484661504357, 0.9920377105956752, 0.005314798632433463, 0.8514307409158408, 0.004251838905946771, 0.007440718085406848, 0.1318070060843499, 0.8608082552261551, 0.039208657587940815, 0.007128846834171057, 0.0035644234170855286, 0.08911058542713822, 0.09462027587376429, 0.8887547341000003, 0.005310321605160241, 0.011103399719880504, 0.008077106092873463, 0.004513676934252817, 0.01662933607356301, 0.034208919922758194, 0.1579786926988486, 0.7758773088036685, 0.002850743326896516, 0.9383721148359807, 0.860019430748986, 0.04456266674423366, 0.04456266674423366, 0.8912533348846732, 0.8837356085632361, 0.047983535942020726, 0.015839225456589365, 0.0009317191445052567, 0.025622276473894562, 0.026553995618399818, 0.7835079306701002, 0.0040456519655943214, 0.001348550655198107, 0.014834057207179178, 0.18744854107253686, 0.008091303931188643, 0.982461432124251, 0.015052305562963548, 0.8617444934796631, 0.011289229172222661, 0.022578458344445322, 0.09031383337778129, 0.10333540762922154, 0.05466200970768932, 0.13327846656000708, 0.26872302674479437, 0.41410613414916153, 0.003822518161376876, 0.022043188063939984, 0.9788461102227614, 0.18536136318456506, 0.15722615627262215, 0.16963874755730285, 0.05544290773824044, 0.09874905955368198, 0.30038470908927284, 0.03310024342581519, 0.9894709079763405, 0.9715052889081203, 0.07002819378718259, 0.08963608804759371, 0.6786732380746381, 0.10284140459031957, 0.00440177218090862, 0.007603061039751252, 0.0468188495605735, 0.05731871121610858, 0.007395962737562397, 0.8912135098762689, 0.02403687889707779, 0.0036979813687811986, 0.014791925475124795, 0.09587903970403232, 0.02407535358206979, 0.318892841306363, 0.10136990981924121, 0.060399571267297884, 0.3640869261007747, 0.035479468436734427, 0.9320279381535124, 0.9796668767117214, 0.9785905320969396, 0.39563613984575813, 0.23354772131477305, 0.04571955392212127, 0.15704846770492445, 0.09062911574719709, 0.017189832281742447, 0.06020941254704554, 0.9813765689281277, 0.04280878917085374, 0.885238631111049, 0.014924165032040753, 0.020029800437738905, 0.007069341330966673, 0.0033383000729564844, 0.026706400583651875, 0.05001237351703473, 0.0033341582344689823, 0.06668316468937964, 0.8068662927414937, 0.053346531751503716, 0.0033341582344689823, 0.01667079117234491, 0.0677043086000348, 0.8801560118004524, 0.8757915512830201, 0.001677761592496207, 0.003355523184992414, 0.0008388807962481035, 0.1182821922709826, 0.9894934454212423, 0.9702767528188644, 0.02680322521599073, 0.9790592673105138, 0.013107982798453087, 0.9699907270855285, 0.9845876096077669, 0.997805646325826, 0.9768322383115857, 0.01252349023476392, 0.9775501157969684, 0.9698223824560892, 0.23960193900992233, 0.008940370858579192, 0.07331104104034937, 0.025033038404021737, 0.033079372176743005, 0.14751611916655666, 0.4729456184188392, 0.9633575659279388, 0.9739207144989627, 0.049325411292149124, 0.10506713624831765, 0.18727615506856618, 0.579874347385753, 0.05133050931215519, 0.0020050980200060618, 0.024863215448075168, 0.9901574966906315, 0.0016585552708385787, 0.006634221083354315, 0.05082001846935426, 0.9147603324483767, 0.19246482601974063, 0.003927853592239605, 0.003927853592239605, 0.011783560776718814, 0.06284565747583368, 0.7305807681565665, 0.10012532602737355, 0.02090158321110155, 0.7103167068675962, 0.0734926635487119, 0.06675021735158236, 0.01989021628153212, 0.008428057746411916, 0.8696243256497865, 0.06689417889613743, 0.039585810439296105, 0.9500594505431066, 0.019792905219648053, 0.022046326895542555, 0.04850191917019362, 0.8994901373381363, 0.004409265379108511, 0.022046326895542555, 0.004409265379108511, 0.8777373807110004, 0.1854022730792638, 0.22643971552278305, 0.1747488443124694, 0.13648346751745277, 0.09463071164790333, 0.14648464554342303, 0.035819436516926074, 0.9584521169711386, 0.034207444121593135, 0.9407047133438112, 0.0532033881548925, 0.9044575986331725, 0.9870688097740639, 0.9715057723299136, 0.9625774272978701, 0.9564701608592374, 0.9769839151773775, 0.04857095192314361, 0.00359784829060323, 0.9030599209414107, 0.00719569658120646, 0.039576331196635534, 0.9742987295456211, 0.9779922997448903, 0.021553549305672513, 0.9631260594731044, 0.001371950656258994, 0.06493899772959238, 0.20579259843884912, 0.16051822678230232, 0.5574692833265713, 0.008689020822973629, 0.001371950656258994, 0.7857894991859637, 0.02926474363053906, 0.04607640486510406, 0.005603887078188331, 0.002490616479194814, 0.003113270598993517, 0.1276440945587342, 0.05625746431492943, 0.879804233591813, 0.02656602481538334, 0.034379561525790206, 0.001562707342081373, 0.01266898374889287, 0.004667520328539478, 0.8641580493981663, 0.11802158545021253, 0.01651864570861561, 0.5379896180786378, 0.050527622167530095, 0.004534530194521932, 0.13603590583565794, 0.20437775376738135, 0.05020372715363567, 0.19998261768689565, 0.0015715726340816947, 0.7787142401874797, 0.0019644657926021184, 0.007072076853367627, 0.01060811528005144, 0.3071950603180415, 0.0657254547657205, 0.041435612787084665, 0.007144071170187012, 0.010001699638261816, 0.005715256936149609, 0.564381622444774, 0.0007682361801968176, 0.035338864289053605, 0.0960295225246022, 0.341096864007387, 0.47016054228045234, 0.05608124115436768, 0.03702638464049695, 0.006611854400088741, 0.887972045931918, 0.0013223708800177484, 0.06744091488090516, 0.9590871411477618, 0.8852741885427386, 0.01637011425960502, 0.9712934460698979, 0.010913409506403347, 0.06729803817682972, 0.0013326344193431627, 0.8708765930407569, 0.0006663172096715814, 0.02398741954817693, 0.035981129322265396, 0.1510855691505105, 0.014812310701030439, 0.005924924280412176, 0.002962462140206088, 0.029624621402060878, 0.7969023157154377, 0.911541583788211, 0.018153406269766786, 0.1302037415210859, 0.7173725374190598, 0.014397529110504691, 0.052582280229669306, 0.04444454638460144, 0.022535262955572562, 0.020312060890481914, 0.020312060890481914, 0.9546668618526499, 0.8907357518885168, 0.008171887632004741, 0.03949745688802292, 0.0027239625440015807, 0.012257831448007113, 0.04358340070402529, 0.9857841607572885, 0.9105010830159498, 0.970682178326654, 0.8600246534203217, 0.06010811029122869, 0.9216576911321732, 0.006513533617822793, 0.977030042673419, 0.013027067235645586, 0.03176239917564489, 0.9528719752693467, 0.37773959794662737, 0.6212822334648477, 0.9561787074507012, 0.01749107391678112, 0.029151789861301868, 0.0028350398653243865, 0.405253198526647, 0.13671192239453153, 0.1423820021251803, 0.2664937473404923, 0.03543799831655483, 0.011025155031817058, 0.7945986370573168, 0.012277060486722492, 0.08866765907077355, 0.006820589159290273, 0.01773353181415471, 0.006820589159290273, 0.07366236292033496, 0.16526368015293777, 0.004655314933885571, 0.0023276574669427856, 0.004655314933885571, 0.0023276574669427856, 0.0023276574669427856, 0.8216630858308033, 0.9786071658642183, 0.01171984629777507, 0.006765546387275867, 0.08569692090549431, 0.7678895149558109, 0.0011275910645459778, 0.0033827731936379333, 0.046231233646385095, 0.08907969409913225, 0.9375288783539316, 0.04181647955581736, 0.758969103938085, 0.023696005081629837, 0.06481554331151691, 0.0850268417634953, 0.009757178563024051, 0.016029650496396656, 0.9271234415450449, 0.02656511122873187, 0.9563440042343472, 0.9941012578148364, 0.9180924134690517, 0.045904620673452586, 0.02804219610927611, 0.9534346677153879, 0.9693558034283499, 0.9326575711981341, 0.9423361274386949, 0.5633746640880589, 0.15863028427549647, 0.004216087289714192, 0.05217408021021313, 0.01581032733642822, 0.13649582600449697, 0.0690384293690699, 0.11295591914329463, 0.755675099068641, 0.0011295591914329461, 0.010166032722896515, 0.04292324927445196, 0.02146162463722598, 0.056477959571647314, 0.05977311791783812, 0.9165211414068513, 0.028673421687048152, 0.13537330602551825, 0.42419286265505785, 0.33765126265414885, 0.04570369638602221, 0.010774255421799913, 0.01789916626524824, 0.08728646539469281, 0.17434322956466275, 0.34432213585959087, 0.1111753927658719, 0.09946063030500524, 0.024348329820624837, 0.1589532475082301, 0.04921131049263821, 0.08005039840135815, 0.1443531774450721, 0.03936904839411057, 0.6600877114079206, 0.003936904839411057, 0.022965278229897832, 0.231421514378389, 0.0016412873360169434, 0.018054160696186376, 0.07714050479279634, 0.0016412873360169434, 0.6712865204309298, 0.006972287451714079, 0.03349432207195979, 0.7870482129317247, 0.11880230971646147, 0.04511480115814993, 0.004101345559831811, 0.004511480115814993, 0.18259536273955873, 0.07042963991382979, 0.002608505181993696, 0.005217010363987392, 0.07303814509582349, 0.6651688214083925, 0.012123366054270994, 0.12414326839573497, 0.8122655256361565, 0.01794258176032107, 0.0024246732108541987, 0.007758954274733436, 0.023276862824200308, 0.26787721167397255, 0.7317621392069494, 0.9724386256008802, 0.09568675761880512, 0.17548845948814693, 0.32846681627918706, 0.18399562204591638, 0.17737057509827292, 0.013927655514932295, 0.02514506455128317, 0.08249354378868794, 0.08432673365065878, 0.4582974654927108, 0.09715906268445468, 0.0061106328732361435, 0.21906618850551574, 0.05255144270983083, 0.8130095108792607, 0.07495685495189176, 0.09673918886953553, 0.672049067047303, 0.021141677037713063, 0.009609853198960483, 0.09417656134981273, 0.030751530236673544, 0.08332952167465452, 0.07581913560097321, 0.03254500631928567, 0.03898248009672679, 0.7156325015922046, 0.0017881871604003114, 0.051857427651609035, 0.8852707721105575, 0.00046516427561575126, 0.5326130955800352, 0.12745501151871585, 0.267469458479057, 0.013954928268472538, 0.04512093473472788, 0.013024599717241035, 0.05077441350875927, 0.5443159154470487, 0.0901867204980759, 0.12178757925527572, 0.10367922198991403, 0.0781144823211681, 0.011362106519442633, 0.7993047689160017, 0.08636888465693535, 0.053391674151560035, 0.025125493718381194, 0.029836523790577666, 0.006281373429595298, 0.9732394966712079, 0.002887951028697946, 0.005775902057395892, 0.01443975514348973, 0.9814512497937316, 0.013537258617844572, 0.006768629308922286, 0.790549974785777, 0.20914328736042295, 0.9988316876310965, 0.5690484368379928, 0.17544613321200808, 0.028892083989566962, 0.10258783445570878, 0.03349806839370083, 0.01256177564763781, 0.07788300901535442, 0.9153176579081808, 0.003071535764792553, 0.07985992988460638, 0.9603963568392706, 0.904030806335252, 0.06191991824214055, 0.030959959121070274, 0.8545519450522483, 0.06330014407794432, 0.0791251800974304, 0.0014247882750575715, 0.37471931634014133, 0.002849576550115143, 0.029920553776209002, 0.019947035850806004, 0.5713400982980862, 0.02527634231128018, 0.9605010078286468, 0.33775634405349203, 0.12081208063669396, 0.0009951571716366884, 0.34571760142658553, 0.15703580168426942, 0.010548666019348897, 0.026869243634190586, 0.7597070590922084, 0.025288445795024966, 0.0010536852414593737, 0.02950318676086246, 0.04214740965837494, 0.08324113407529052, 0.05900637352172492, 0.06621032476572929, 0.5586303680234089, 0.13673201951620373, 0.05943531478970117, 0.09577400466112468, 0.041573924852899784, 0.04188187985181015, 0.08544974634914292, 0.15120889897435288, 0.038266625538964, 0.4347534485989871, 0.15849070344584507, 0.09600093242008056, 0.0358145893393799, 0.9705683759768428, 0.769198731188121, 0.08349091755609755, 0.02009966533757904, 0.04870303524105691, 0.05952593196129177, 0.018553537234688344, 0.29821656030736726, 0.17572357585520212, 0.008015900823045572, 0.26527621786266437, 0.19776730311857746, 0.04559043593107169, 0.009268385326646441, 0.1603126145399178, 0.08817835563564734, 0.005904227597146693, 0.013990452349760641, 0.6796279375411247, 0.0281092574733723, 0.0238736159362888, 0.014761071743728399, 0.0034064011716296305, 0.06472162226096298, 0.9163219151683706, 0.007503532035131791, 0.015007064070263582, 0.9717073985495669, 0.6173383293923356, 0.17281909942584864, 0.0005938800667554936, 0.08819118991319079, 0.06740538757674852, 0.00920514103471015, 0.04483794504003977, 0.9719357730462491, 0.8130065416036552, 0.019673087940089578, 0.006557695980029859, 0.9377505251442698, 0.01803366394508211, 0.01639423995007465, 0.21766859939166872, 0.06330158247614856, 0.6391238721933946, 0.014437203020875988, 0.0016658311177933831, 0.034982453473661045, 0.029429683081016435, 0.0511631554334912, 0.0017642467390859035, 0.0017642467390859035, 0.9456362521500443, 0.9845875759530236, 0.17910003028896143, 0.10577164450521845, 0.29861040170174347, 0.24282785992043107, 0.008441868340792082, 0.150463888662353, 0.014566361058621633, 0.8719474280762994, 0.13414575816558452, 0.23203761298279524, 0.4573168488884217, 0.058291002290580846, 0.0673021717268059, 0.1030652504268241, 0.0033791885385843967, 0.0782845344772052, 0.048388642198849495, 0.9435785228775652, 0.31248113827614404, 0.04521173959693249, 0.44411531816455807, 0.02720706453620716, 0.03600935012145066, 0.10462716729732607, 0.030207843712994717, 0.13075214103061533, 0.03403526447651592, 0.24051586896737917, 0.07969924431584145, 0.04495491182939811, 0.4467128462542715, 0.023399244327604696, 0.0010721073347281786, 0.060038010744778006, 0.07910620548387204, 0.7453443349220974, 0.10767020804484423, 0.004977641196952258, 0.001761319192767722, 0.0418404926652969, 0.9563541180639292, 0.18573965033156564, 0.013267117880826117, 0.46671825402191874, 0.0009476512772018655, 0.01231946660362425, 0.012793292242225184, 0.3084604907292072, 0.09333591033836391, 0.058928180679729755, 0.1684792279836569, 0.024520451021095603, 0.05774170724322513, 0.09689533064787778, 0.5002962990594506, 0.0516768512768457, 0.043676120495405125, 0.13194647813326593, 0.7410512936908076, 0.01678841868892449, 0.0020985523361155612, 0.01272247353770059, 0.10869759403729752, 0.008695807522983802, 0.8739286560598721, 0.004347903761491901, 0.008695807522983802, 0.0018537768330193821, 0.0018537768330193821, 0.17425502230382192, 0.0074151073320775284, 0.7322418490426559, 0.08341995748587219, 0.0367911201330958, 0.036307026447134017, 0.021461486744305886, 0.08035955186965663, 0.10020739299408989, 0.7143609159176102, 0.010327331967184787, 0.9138774841438219, 0.08371396801317452, 0.8864623654874707, 0.06331874039196218, 0.9105004034576553, 0.8130058398218382, 0.02680733439488038, 0.03626874653424993, 0.8184121500554657, 0.011038314162597804, 0.10880623960274978, 0.025841641053453875, 0.46235584803747204, 0.02095268193523287, 0.2283842330940383, 0.2615593128248237, 0.000698422731174429, 0.14150833719523756, 0.004162009917506987, 0.8490500231714254, 0.9625811492090371, 0.993938509116952, 0.9190529255819332, 0.015721336106798555, 0.27905371589567435, 0.5485272426012683, 0.12749020999106953, 0.022353774776854195, 0.002456458766687274, 0.0046672716567058205, 0.9339213362654991, 0.9502200888395954, 0.988638547405348, 0.9935443211068729, 0.8915198887955219, 0.9403062493176906, 0.003160693275017447, 0.00869190650629798, 0.005531213231280533, 0.003160693275017447, 0.019754332968859045, 0.018964159650104683, 0.20120173759159676, 0.01759140875117786, 0.4984232479500394, 0.00476433987011067, 0.0010994630469486162, 0.17371516141788138, 0.10334952641316993, 0.07165995121387657, 0.8599194145665188, 0.9574316129881875, 0.021959440664866686, 0.01756755253189335, 0.03316186136162578, 0.010847337828569179, 0.05175729763917294, 0.8302862297924809, 0.06973288604080187, 0.003099239379591194, 0.0009297718138773582, 0.22922638258524106, 0.2842575411671833, 0.09032911505944935, 0.21427351044796555, 0.12050255781216125, 0.031053023466669293, 0.030364655951398298, 0.10824979427310619, 0.006682086066241122, 0.006682086066241122, 0.6936005336758285, 0.00935492049273757, 0.12161396640558843, 0.0547931057431772, 0.03181699956970196, 0.02227189969879137, 0.23385494683730937, 0.006363399913940392, 0.041362099440612546, 0.5615700424052396, 0.1026098236122888, 0.1403441827781001, 0.016511080326835306, 0.8420650966686006, 0.12404170516736712, 0.22353348952035948, 0.04780774053325608, 0.5187785898406031, 0.043931437246775853, 0.026488072457614854, 0.01550521314592089, 0.20555772368537162, 0.06324853036472973, 0.02108284345490991, 0.07378995209218468, 0.635120659079161, 0.009668475004845009, 0.7657432203837247, 0.07831464753924457, 0.006284508753149256, 0.014502712507267514, 0.012569017506298512, 0.11263773380644435, 0.07377179021328432, 0.15399737095666755, 0.1570753325940993, 0.4060923579708383, 0.16660708476163, 0.02432582584421892, 0.018169902569355356, 0.013274223838937067, 0.09291956687255948, 0.8760987733698464, 0.055209160851024744, 0.058889771574426396, 0.009201526808504125, 0.046007634042520625, 0.6643502355739977, 0.16378717719137342, 0.0018403053617008249, 0.02222015775593481, 0.11496516404157574, 0.6115373851959449, 0.07825359905350954, 0.12172782074990372, 0.008211797431541124, 0.043474221696394186, 0.007465387333736435, 0.8240824340660026, 0.07537633017611303, 0.004254468050408936, 0.011479036437895808, 0.015412412559971994, 0.061970742168220724, 0.11557058398453578, 0.10795652198084871, 0.3344748665905388, 0.22298324439369255, 0.07750027396610046, 0.10170211390639149, 0.039701894733511114, 0.4826474440710847, 0.10012853899750407, 0.1000849669613868, 0.12518245976493872, 0.03786409938591429, 0.047014226970542604, 0.10705649274015122, 0.03804657540803551, 0.1559909591729456, 0.7723454807831208, 0.022827945244821304, 0.002853493155602663, 0.00856047946680799, 0.22342919044603235, 0.08827447926104402, 0.06483436329907188, 0.08228976880266817, 0.06383691155600923, 0.4448634774059394, 0.03191845577800462, 0.2474218902427957, 0.14050468394029408, 0.050820843127340413, 0.24038786351236796, 0.1939632870915449, 0.10832401164858717, 0.018464320167372813, 0.016075450081266828, 0.7660609136211243, 0.09978911465541107, 0.0024264830311346154, 0.02689352026174199, 0.020018485006860577, 0.0687503525488141, 0.06309031000607808, 0.06973139526987578, 0.20919418580962734, 0.6607879837478705, 0.01607490533783154, 0.0009273983848748965, 0.0772831987395747, 0.9051408236378989, 0.0006182655899165977, 0.037325830205325816, 0.14322419538069645, 0.028571889570852008, 0.6324722108407326, 0.03404310246739814, 0.11477388831865658, 0.009605018196158761, 0.9104218732606434, 0.08588885596798523, 0.18602425844598017, 0.2750757063421671, 0.13389658162870002, 0.1499948347634483, 0.13900713817941376, 0.038584701957888747, 0.07755269565708102, 0.018354334718020705, 0.13130408682891737, 0.16801275626495876, 0.015059966948119554, 0.09412479342574721, 0.5214513555786395, 0.0522392603512897, 0.9796668128535417, 0.04751936313251037, 0.42237330338099854, 0.2781113324368834, 0.13668916407040832, 0.06588341980124944, 0.015713574262941676, 0.0336989905879954, 0.009143085404090843, 0.5813926659895412, 0.006453942638181771, 0.3393698170577248, 0.03899257010568154, 0.02420228489318164, 0.0002689142765909071, 0.011657315448465174, 0.028310623231986853, 0.8409920430678448, 0.02331463089693035, 0.09492385436607356, 0.016192024236455254, 0.03333652048681964, 0.18858945875400826, 0.7276886186265773, 0.031431576459001374, 0.0019049440278182653, 0.0009524720139091326, 0.24269245827561514, 0.07158554524676418, 0.027935822535322608, 0.01745988908457663, 0.6145880957770974, 0.005237966725372988, 0.020951866901491954, 0.9590885063685756, 0.9025306066180637, 0.00960286216061874, 0.9890948025437304, 0.09674648385318667, 0.6022196860074766, 0.048373241926593334, 0.08641961198121731, 0.06467882909286075, 0.02935005689928135, 0.07174458353157663, 0.9271453478162621, 0.8469526547986413, 0.2415368217470359, 0.08216211559427859, 0.03563658025775939, 0.58404395422439, 0.05642458540811904, 0.000989905007159983, 0.0009450190185123627, 0.05008600798115522, 0.0888317877401621, 0.12757756749916896, 0.7115993209398092, 0.020790418407271978, 0.9565742831360996, 0.8777396425688108, 0.8777332150657103, 0.9906394755588741, 0.10025434853961256, 0.08696762764882053, 0.008455186021413107, 0.016910372042826215, 0.5580422774132651, 0.06401783701927066, 0.16548006927622794, 0.048110594113205105, 0.6385047984159936, 0.15457755701187195, 0.0680081855057035, 0.031331281968784805, 0.008760879792219447, 0.05078340489727205, 0.8852710442889651, 0.09765336011582652, 0.057704258250261126, 0.011298735881170011, 0.05326546915408719, 0.7517694623792761, 0.011702262162640368, 0.0161410512588143, 0.99274837410754, 0.9541747747134841, 0.8852728944341418, 0.633039007916558, 0.009397692488658179, 0.0002610470135738383, 0.1934358370582142, 0.16393752452437046, 0.03626448539314874, 0.05554433838697466, 0.049576764841266635, 0.11154772089284994, 0.6463341194120688, 0.09777639732583142, 0.003213308832304319, 0.11359887689151217, 0.0008605975522084255, 0.0012908963283126383, 0.8808215946853235, 0.003442390208833702, 0.9724540818225301, 0.9377125375152322, 0.02404391121833929, 0.9643563894818205, 0.023520887548337085, 0.17092014452542548, 0.34184028905085095, 0.05900959957525411, 0.27378988125909826, 0.04557056033451301, 0.0216246358691925, 0.08710940889680369, 0.10072846302574631, 0.0361840109898312, 0.06573971966620984, 0.48071490876580547, 0.2531794162351552, 0.06269722024364145, 0.0006519641619789405, 0.007858048230256, 0.26717363982870396, 0.042237009237625994, 0.123764259626532, 0.468536125729014, 0.07956273833134199, 0.010804816316602, 0.7873265024945428, 0.12268272555993733, 0.02831139820613938, 0.008088970916039823, 0.0013481618193399705, 0.02831139820613938, 0.0229187509287795, 0.9679175068561947, 0.023045654925147492, 0.9025279235557218, 0.9767532350693802, 0.15817323114904927, 0.8260157626672574, 0.9326580800658038, 0.9633508168380137, 0.12685896099557434, 0.8245832464712332, 0.3647797478895333, 0.035762720381326794, 0.005364408057199019, 0.01966949620972974, 0.5739916621202951, 0.03232124374914114, 0.9696373124742342, 0.9834025126342048, 0.01833941995541704, 0.19326927183785647, 0.5498299175095224, 0.0553709410192399, 0.1668181853636973, 0.00423217383586547, 0.011991159201618832, 0.9754510590451148, 0.04751730528138156, 0.9503461056276312, 0.17341032280933694, 0.003769789626289933, 0.018848948131449664, 0.0018848948131449665, 0.0056546844394349, 0.08105047696523357, 0.7124902393687974, 0.09116914756254704, 0.8661069018441969, 0.9935166230698042, 0.006073458724828146, 0.18352241736719901, 0.21070095718257598, 0.09176120868359951, 0.010763778144703754, 0.10279408128192086, 0.15392202746926367, 0.24649051951371598, 0.9870688887267767, 0.010259570509113403, 0.12311484610936083, 0.020519141018226807, 0.8207656407290722, 0.010259570509113403, 0.010259570509113403, 0.9777996217475405, 0.04809702713934342, 0.2597753872231917, 0.1628097228834459, 0.12783006678210523, 0.1635813329445049, 0.08281947988699775, 0.15535082562654237, 0.9421008188490337, 0.051387317391765476, 0.031189249765662685, 0.01871354985939761, 0.006237849953132537, 0.9356774929698806, 0.9719357392718961, 0.38418183180515575, 0.08129064846891702, 0.019487484222000653, 0.04992507862588739, 0.04398603581537291, 0.4062676472567565, 0.014847607026286213, 0.9624644058354898, 0.0315562100273931, 0.9423373299541091, 0.022044510296629558, 0.022044510296629558, 0.9479139427550709, 0.9292553207538458, 0.044250253369230746, 0.7620985052503986, 0.9656481918705991, 0.9421759571967482, 0.004939108755665155, 0.00987821751133031, 0.06173885944581444, 0.8668135866192347, 0.054330196312316704, 0.9655790528681363, 0.9148600061174316, 0.01671559257780164, 0.01671559257780164, 0.9527887769346934, 0.978590451474276, 0.00414451029571756, 0.1782139427158551, 0.10479690319171546, 0.6702265221074684, 0.007696947692046898, 0.009473166390211568, 0.025459134673693585, 0.9942269711240393, 0.03764867186531277, 0.9412167966328191, 0.9416755555311292, 0.05747315597138348, 0.08382146777494275, 0.07940981157626155, 0.27352268431823423, 0.02499938512586012, 0.0014705520662270657, 0.014705520662270658, 0.5220459835106084, 0.9816623058646452, 0.29614709311873094, 0.001152323319528136, 0.001152323319528136, 0.6994602549535786, 0.002304646639056272, 0.09843805887225493, 0.01476570883083824, 0.8662549180758433, 0.01476570883083824, 0.03753166611973411, 0.04702243226495423, 0.36496309812982825, 0.07420053531717548, 0.42449608576802716, 0.04443404149807601, 0.006902375378341905, 0.9757885848058726, 0.0401564752068084, 0.07916562255056513, 0.15833124510113025, 0.06654501605699678, 0.058513721015635095, 0.16865719586859526, 0.42910062078132405, 0.39363768537820215, 0.5647402239125824, 0.006620038693294473, 0.01273084364095091, 0.009675441167122692, 0.012221609895312874, 0.2925340320621904, 0.09239599482620003, 0.03548773503705261, 0.08855948293030245, 0.06649953952889137, 0.0035168025712394475, 0.4207374712501012, 0.0014499973634323022, 0.6756987713594529, 0.14934972843352712, 0.09279983125966734, 0.07684986026191201, 0.0028999947268646045, 0.03514466308390062, 0.6677485985941118, 0.14568029697681387, 0.08786165770975156, 0.03571151248847967, 0.007369042259527551, 0.020973427969424568, 0.8852715026312596, 0.9847188406300942, 0.01841852526504019, 0.9807864703633902, 0.9241231426503614, 0.006351497207013408, 0.35510643475574966, 0.03608805231257618, 0.06120533672212921, 0.08141464601717187, 0.44056294263193, 0.019054491621040226, 0.927318154493794, 0.9877471896302823, 0.014110674137575462, 0.939328588239671, 0.8363730732796943, 0.03156935642662345, 0.8957804886054405, 0.02762318687329552, 0.011838508659983794, 0.03156935642662345, 0.9892425372051776, 0.19384762596287763, 0.15784874625462306, 0.01648729179050142, 0.3575498485928266, 0.0639004504306416, 0.16897035136774236, 0.0413645663856367, 0.14956170320460466, 0.005836554271399206, 0.008754831407098809, 0.026994063505221325, 0.01969837066597232, 0.7478085160230232, 0.04158544918371934, 0.9955256780455807, 0.017485252913160592, 0.09616889102238327, 0.7547800840847656, 0.03594190876594122, 0.008742626456580296, 0.02622787936974089, 0.060226982256442047, 0.003749957308611722, 0.027499686929819293, 0.21124759505179366, 0.009999886156297925, 0.5062442366625824, 0.2399972677511502, 0.0012499857695372407, 0.980619495956463, 0.9028578546861605, 0.018005712201718302, 0.07459509340711867, 0.0025722446002454714, 0.3484960245233048, 0.017940593283053016, 0.00583069281699223, 0.07759306594920429, 0.06682870997937249, 0.19375840745697256, 0.28884355185715355, 0.002293228316103558, 0.013759369896621345, 0.04586456632207116, 0.3348113341511194, 0.5893596772386144, 0.013759369896621345, 0.032828371362059974, 0.007034651006155708, 0.014069302012311416, 0.893400677781775, 0.04924255704308996, 0.9656042636061624, 0.08119218824922306, 0.19682954727084376, 0.08734311160143692, 0.01353203137487051, 0.13655049841914785, 0.011071662033984962, 0.4748512827909106, 0.007321373291497597, 0.907850288145702, 0.08053510620647356, 0.9888030205115286, 0.03285676591840811, 0.1948267387556312, 0.6807366572673005, 0.02637796700491919, 0.034245079971298595, 0.01018096972119688, 0.020824710793357255, 0.255356132902729, 0.1582918759655054, 0.12422296459018849, 0.1666484013971869, 0.13981109856851745, 0.11859838016501825, 0.037122257206123596, 0.395435846397465, 0.055275978528677897, 0.048189314614744835, 0.018425326176225967, 0.4804758133646617, 0.2018257190563514, 0.004426002610884899, 0.7143568213968228, 0.0035408020887079195, 0.012392807310477719, 0.031867218798371275, 0.031867218798371275, 0.9933168855111908, 0.9541741308247178, 0.642995095188881, 0.21644334074502564, 0.06546091281069068, 0.00844656939492783, 0.041177025800273166, 0.026395529359149468, 0.21112859913809992, 0.04246839637835343, 0.03276133434901551, 0.08979032377137583, 0.6236787353849618, 0.9785900109371436, 0.9825116208381778, 0.013013398951499043, 0.034906163835228626, 0.8315880207804467, 0.01231982253008069, 0.11909161779078001, 0.0020533037550134487, 0.028881945399752904, 0.7901275062932401, 0.12584276209892337, 0.00618898829994705, 0.001031498049991175, 0.0082519843999294, 0.039196925899664656, 0.000836693729277626, 0.5940525477871145, 0.08366937292776261, 0.18741939535818825, 0.09370969767909412, 0.013387099668442017, 0.026774199336884033, 0.8886326341290475, 0.1112133949605277, 0.9053342561884623, 0.0009580256679242987, 0.04311115505659344, 0.0009580256679242987, 0.0023950641698107468, 0.0023950641698107468, 0.04502720639244204, 0.9716570625275969, 0.026379829751880458, 0.8405494732450762, 0.01291733548345891, 0.13655468939656562, 0.000922666820247065, 0.00369066728098826, 0.004613334101235325, 0.018091285309590255, 0.056082984459729784, 0.8991368798866356, 0.014473028247672203, 0.0018091285309590254, 0.009045642654795127, 0.0128943941895419, 0.8023178606826071, 0.058741129085690874, 0.09885702211982123, 0.0257887883790838, 0.0018599088389033682, 0.0004133130753118596, 0.0012399392259355789, 0.0004133130753118596, 0.0008266261506237192, 0.995051228813302, 0.054325656749847545, 0.010865131349969508, 0.9344012960973778, 0.0542986579769616, 0.03800906058387312, 0.0271493289884808, 0.8633486618336894, 0.01085973159539232, 0.12828366342948094, 0.013623043904015674, 0.7821897708222333, 0.03065184878403527, 0.006811521952007837, 0.037463370736043104, 0.08550612123727523, 0.06449815179535848, 0.2631524593250626, 0.08329475603286295, 0.448907136495695, 0.03943601281201918, 0.015479556430886034, 0.9868329652811401, 0.09724459902679176, 0.08711495329483429, 0.15599654427214513, 0.07192048469689807, 0.5672601609896186, 0.02025929146391495, 0.1531760090699127, 0.0006574077642485523, 0.01446297081346815, 0.0013148155284971046, 0.001972223292745657, 0.8289911907174244, 0.9723651852201651, 0.014732805836669168, 0.9732192435717466, 0.8948920215563434, 0.08135382014148576, 0.10176047253069102, 0.6229262570803983, 0.00047551622677893, 0.21968849677186567, 0.047551622677893, 0.00665722717490502, 0.00095103245355786, 0.020421514625680495, 0.0010472571602913076, 0.002618142900728269, 0.011519828763204383, 0.005759914381602191, 0.9585021159566192, 0.02895515423138113, 0.002144826239361565, 0.0010724131196807826, 0.9651718077127043, 0.0032172393590423477, 0.029749399523290178, 0.13338192313738892, 0.5636040085511238, 0.07976762069981103, 0.02026882165323067, 0.11049776965793494, 0.0627679638293595, 0.2942700670595457, 0.0407723586889732, 0.3292811141946423, 0.0066476671775499785, 0.027920202145709908, 0.2969291339305657, 0.004874955930203317, 0.10536955627914966, 0.06602269665592289, 0.6402200887847068, 0.062021321101018476, 0.004001375554904418, 0.04068065147486158, 0.08136130294972316, 0.20619389487281228, 0.5725383877050905, 0.006005647423479969, 0.07607153403074628, 0.058721885918470815, 0.047377885229675315, 0.032697413750057615, 0.019369086448329166, 0.009684543224164583, 0.21693376822128668, 0.023242903737995, 0.7224669245226779, 0.007747634579331667, 0.980787304009689, 0.09086951269023437, 0.11777936837961708, 0.3472931375564537, 0.03509981176876006, 0.35860307690416526, 0.04211977412251207, 0.008384955033648236, 0.891510883703741, 0.8351238602982, 0.1237220533775111, 0.030930513344377776, 0.04720232405030768, 0.18290900569494226, 0.01941385908520719, 0.5059023279262814, 0.13570668164463456, 0.009706929542603595, 0.09916294689600927, 0.1193887409450424, 0.07900725503716041, 0.22297603088265272, 0.05091578657950337, 0.44946349532251256, 0.042137202686485555, 0.0351143355720713, 0.431564799274241, 0.25470732025047915, 0.0488256843930631, 0.1093152822800246, 0.0672709429415536, 0.041773085536287315, 0.046655653975593625, 0.9799555357494534, 0.014626202026111245, 0.0881869167537851, 0.1693188801672674, 0.021164860020908425, 0.7196052407108864, 0.8110875514970571, 0.011949724515610417, 0.008962293386707813, 0.007468577822256511, 0.04779889806244167, 0.11202866733384767, 0.014628543319452205, 0.9801124024032977, 0.07605124996959065, 0.9126149996350877, 0.003804502476028979, 0.01548976008097513, 0.01929426255700411, 0.443224538457376, 0.09212330995527314, 0.4233867755466535, 0.0027175017685921276, 0.007885709784816824, 0.7412567197727815, 0.24445700332932155, 0.21691863021919353, 0.0028922484029225803, 0.005784496805845161, 0.7621074541700998, 0.013015117813151612, 0.0554335650055825, 0.9238927500930416, 0.5645797530379879, 0.119952256135074, 0.03484646546940697, 0.11090557759974719, 0.033506216797506705, 0.07873960947414076, 0.05763069289171153, 0.0198791369578427, 0.32957516535370796, 0.0397582739156854, 0.018832866591640452, 0.041850814648089894, 0.0816090885637753, 0.46872912405860684, 0.03389831736192611, 0.1525424281286675, 0.8135596166862267, 0.005236610595575969, 0.038084440695097956, 0.29420230436963174, 0.43392459616977236, 0.2199376450141907, 0.004522527332542882, 0.004522527332542882, 0.25914135249312215, 0.18603621305295717, 0.08336168139147171, 0.19258294195804657, 0.15537569934745513, 0.058593223700550146, 0.06503084045722139, 0.027997707579989314, 0.006999426894997328, 0.9659209115096313, 0.048054712960169194, 0.9370669027232993, 0.0328584047869309, 0.003650933865214545, 0.9382900033601381, 0.025556537056501814, 0.07556398086228934, 0.7353269105416328, 0.0040625796162521155, 0.016250318465008462, 0.1657532483430863, 0.002437547769751269, 0.9854852303182186, 0.9803056079240161, 0.04686285846239134, 0.6694059497897986, 0.0497501435809273, 0.09905608945131061, 0.05130483556783128, 0.05818990008126318, 0.02554136835627964, 0.2029670716393626, 0.4159809004399617, 0.08500233867877643, 0.10780509088742563, 0.10701489650395758, 0.026753724125989396, 0.05441052754737084, 0.041053370472619824, 0.04789559888472313, 0.06329061281195557, 0.7629084679495184, 0.039342813369594, 0.04276392757564565, 0.001710557103025826, 0.13702926348432296, 0.8495814336028024, 0.1508888074344458, 0.015475775121481619, 0.8356918565600074, 0.18714655891305715, 0.00089974307169739, 0.010796916860368681, 0.7719795555163607, 0.015295632218855632, 0.00179948614339478, 0.010796916860368681, 0.040811119870341424, 0.6643760531791912, 0.026370262070066763, 0.1345076554306519, 0.03781669450707377, 0.026273667703509744, 0.06978942983744776, 0.9655796594855289, 0.03984034254028805, 0.9561682209669132, 0.016916847734258958, 0.7250639621916107, 0.011409036844035112, 0.01809709292502121, 0.15461211998985513, 0.0491768829484272, 0.024785149006007312, 0.008946963119240809, 0.7269407534383157, 0.007269407534383157, 0.199069929403108, 0.02292659299305457, 0.03131437091734283, 0.003355111169715303, 0.9567242763578934, 0.02733497932451124, 0.01906384040052888, 0.000235356054327517, 0.000235356054327517, 0.9741387088615929, 0.004471765032222823, 0.000706068162982551, 0.000941424217310068, 0.9271353965660575, 0.023690603268416446, 0.9160366597121026, 0.05527807429297171, 0.055707764139542364, 0.06803653161304764, 0.2767123366275629, 0.5484018420622162, 0.006849315263058487, 0.009132420350744649, 0.03561643936790413, 0.8777446561725358, 0.08810061968341615, 0.023810978292815175, 0.2571585655624039, 0.007143293487844552, 0.621466533442476, 0.029970968857811635, 0.4351667144943042, 0.10166622769414535, 0.2823735399250685, 0.10783672128251834, 0.03320313216600701, 0.009990322952603879, 0.11660111914933696, 0.0039525803101470155, 0.01976290155073508, 0.00988145077536754, 0.8418996060613143, 0.007905160620294031, 0.18225309672321666, 0.24917108040128758, 0.24621881641549034, 0.14210230651637412, 0.10018015791805322, 0.05530574533393508, 0.024602199881643718, 0.9553440128267636, 0.836377229203331, 0.10150277379940684, 0.8120221903952547, 0.9376097185082203, 0.06578275782451497, 0.9209586095432095, 0.8776925875864965, 0.06751481442973051, 0.9271457303763011, 0.960949176005448, 0.9691280966599893, 0.010223768944179227, 0.9712580496970266, 0.010223768944179227, 0.8992612512748687, 0.010073486123887707, 0.1299804661146801, 0.1673498501226506, 0.6261808955074712, 0.03282006769395672, 0.007798827966880805, 0.025996093222936015, 0.08255813993591729, 0.06705514080767944, 0.13653846220170937, 0.08984268169496883, 0.5960249423880364, 0.015502999128237863, 0.012514469175806469, 0.1434741058342757, 0.022825425928180224, 0.752695593107848, 0.009238862875691995, 0.036411988980668455, 0.014673488096687287, 0.02010811331768258, 0.9148593292503676, 0.502746059874816, 0.2286442944369946, 0.012042837466636955, 0.16520737595076612, 0.04834096729565539, 0.009159341171808388, 0.03375386839240499, 0.25142775504924963, 0.3179033235484116, 0.06996017491242448, 0.24687096204729098, 0.06647556849916196, 0.022158522833053987, 0.025196384834359774, 0.011644272977707494, 0.7390231916518356, 0.051234801101912975, 0.029498824876858985, 0.03260396433758098, 0.13584985140658742, 0.33906924151126405, 0.11014961235535414, 0.18709470388474647, 0.07279452642614709, 0.10216775638757486, 0.04150565103245229, 0.14718542404585003, 0.011639900504609495, 0.7226438229945061, 0.04267963518356815, 0.009699917087174579, 0.02618977613537136, 0.036859684931263396, 0.1513187065599234, 0.970993864021667, 0.26036355258324007, 0.7381440923751651, 0.013232112128854296, 0.13893717735297012, 0.06174985660132005, 0.013232112128854296, 0.048517744472465756, 0.017642816171805728, 0.7057126468722291, 0.9582939639012986, 0.31564912880781526, 0.002922677118590882, 0.005845354237181764, 0.6722157372759029, 0.10289662755183189, 0.017895065661188155, 0.013421299245891116, 0.8634369181523285, 0.004473766415297039, 0.0739551261656833, 0.005688855858898715, 0.010565018023669043, 0.04632354056531811, 0.8460141355876518, 0.008126936941283879, 0.008939630635412267, 0.008354724262059493, 0.05179929042476885, 0.5998692020158716, 0.008354724262059493, 0.19884243743701593, 0.1303336984881281, 0.002784908087353164, 0.9320282119057748, 0.026996949117828125, 0.11789806893228738, 0.03383161978056942, 0.05296869763624505, 0.7039710782623536, 0.02460481438586867, 0.03998282337703659, 0.002244619778106915, 0.015338235150397252, 0.00037410329635115247, 0.06322345708334477, 0.02581312744822952, 0.8918622585011475, 0.0014964131854046099, 0.9938872713199577, 0.06534916347012756, 0.8931052340917434, 0.02178305449004252, 0.9718682271728858, 0.08988234919515382, 0.15447669800512676, 0.28449000433328503, 0.13935887168789904, 0.04260478325764172, 0.24848209074134267, 0.040680696271812734, 0.0009816870077389863, 0.3828579330182046, 0.08135731076636848, 0.09436466361891005, 0.02331506643380092, 0.04724368724743871, 0.369850580165663, 0.11337875037894644, 0.12565170789419322, 0.025130341578838644, 0.0023377061933803392, 0.11805416276570713, 0.5125420828986393, 0.10227464596038983, 0.5036885667285027, 0.13552088326943035, 0.018530086009029875, 0.1059198560431411, 0.11722634920119322, 0.04962294219367322, 0.06948782253386203, 0.14328571263059006, 0.03930846983671055, 0.049452591084893915, 0.008876106092160448, 0.0786169396734211, 0.5693388050542915, 0.11158533373001704, 0.3705607719799788, 0.01924991023272617, 0.024062387790907712, 0.5697973428886947, 0.009624955116363085, 0.006737468581454159, 0.00691695284418666, 0.17753512300079094, 0.05302997180543106, 0.02766781137674664, 0.733197001483786, 0.03788506866039043, 0.050513424880520574, 0.8966132916292402, 0.9563831470507819, 0.12520904988439346, 0.8764633491907542], \"Term\": [\"accidentally\", \"achievement\", \"action\", \"action\", \"action\", \"action\", \"action\", \"adrenaline\", \"adventure\", \"adventure\", \"africa\", \"alabama\", \"alive\", \"alive\", \"alive\", \"alive\", \"alive\", \"alive\", \"alive\", \"anniversary\", \"anti\", \"anti\", \"anyday\", \"apart\", \"apart\", \"apart\", \"apart\", \"apart\", \"apartheid\", \"appease\", \"arm\", \"arm\", \"arm\", \"arm\", \"arm\", \"arm\", \"arm\", \"artificial\", \"asset\", \"award\", \"award\", \"awareness\", \"away\", \"away\", \"away\", \"away\", \"away\", \"away\", \"away\", \"babe\", \"babe\", \"babe\", \"babe\", \"babe\", \"babe\", \"baby\", \"baby\", \"baby\", \"baby\", \"baby\", \"baby\", \"baby\", \"ball\", \"ball\", \"ball\", \"ball\", \"ball\", \"band\", \"band\", \"band\", \"bang\", \"bang\", \"bang\", \"base\", \"base\", \"base\", \"beacon\", \"beat\", \"beat\", \"beat\", \"beat\", \"beat\", \"beat\", \"beat\", \"beaucoup\", \"believe\", \"believe\", \"believe\", \"believe\", \"believe\", \"believe\", \"believe\", \"bell\", \"bell\", \"belong\", \"belong\", \"belong\", \"belong\", \"belong\", \"belong\", \"better\", \"better\", \"better\", \"better\", \"better\", \"better\", \"better\", \"bitch\", \"bitch\", \"black\", \"black\", \"black\", \"black\", \"black\", \"black\", \"blah\", \"bleed\", \"bleed\", \"bleed\", \"bleed\", \"bleed\", \"block\", \"block\", \"block\", \"block\", \"block\", \"blood\", \"blood\", \"blood\", \"blood\", \"blue\", \"blue\", \"blue\", \"blue\", \"blue\", \"blue\", \"blue\", \"blunder\", \"bollocks\", \"bouquet\", \"bouquet\", \"bouquet\", \"bout\", \"bout\", \"bout\", \"bout\", \"bout\", \"bout\", \"boys\", \"boys\", \"boys\", \"boys\", \"boys\", \"boys\", \"boyz\", \"brave\", \"brave\", \"brave\", \"brave\", \"brave\", \"break\", \"break\", \"break\", \"break\", \"break\", \"break\", \"break\", \"breakaway\", \"bring\", \"bring\", \"bring\", \"bring\", \"bring\", \"bring\", \"bring\", \"buck\", \"bumper\", \"burn\", \"burn\", \"burn\", \"burn\", \"burn\", \"burn\", \"burn\", \"bury\", \"bury\", \"bury\", \"bury\", \"bury\", \"bury\", \"call\", \"call\", \"call\", \"call\", \"call\", \"call\", \"call\", \"calvary\", \"carol\", \"casa\", \"cause\", \"cause\", \"cause\", \"cause\", \"cause\", \"cause\", \"cause\", \"caviar\", \"change\", \"change\", \"change\", \"change\", \"change\", \"change\", \"change\", \"charm\", \"charm\", \"charm\", \"charm\", \"charm\", \"charm\", \"charm\", \"charter\", \"charter\", \"check\", \"check\", \"check\", \"check\", \"check\", \"chevrolet\", \"chick\", \"chick\", \"chief\", \"choir\", \"choir\", \"choo\", \"christmas\", \"chrome\", \"chrome\", \"chuck\", \"chump\", \"city\", \"city\", \"city\", \"city\", \"city\", \"city\", \"city\", \"climax\", \"clone\", \"close\", \"close\", \"close\", \"close\", \"close\", \"close\", \"close\", \"club\", \"club\", \"club\", \"clumsy\", \"clumsy\", \"coast\", \"coast\", \"coast\", \"coast\", \"coast\", \"coast\", \"cold\", \"cold\", \"cold\", \"cold\", \"cold\", \"cold\", \"cold\", \"collaboration\", \"collaboration\", \"collapse\", \"collapse\", \"collapse\", \"colour\", \"colour\", \"colour\", \"colour\", \"colour\", \"colour\", \"combustion\", \"come\", \"come\", \"come\", \"come\", \"come\", \"come\", \"come\", \"complaint\", \"condemn\", \"condemn\", \"congratulations\", \"congratulations\", \"copyright\", \"cornbread\", \"corona\", \"countless\", \"cowboys\", \"crawl\", \"crawl\", \"crawl\", \"crawl\", \"crawl\", \"creepy\", \"crew\", \"crew\", \"crunchy\", \"cry\", \"cry\", \"cry\", \"cry\", \"cry\", \"cry\", \"cry\", \"damn\", \"damn\", \"damn\", \"damn\", \"damn\", \"damn\", \"damn\", \"darkness\", \"darkness\", \"darkness\", \"darkness\", \"darkness\", \"darling\", \"darling\", \"darling\", \"darling\", \"days\", \"days\", \"days\", \"days\", \"days\", \"days\", \"days\", \"dead\", \"dead\", \"dead\", \"dead\", \"dead\", \"dead\", \"deal\", \"deal\", \"deal\", \"deal\", \"deal\", \"deal\", \"deal\", \"dear\", \"dear\", \"dear\", \"dear\", \"dear\", \"dear\", \"death\", \"death\", \"death\", \"death\", \"death\", \"defect\", \"defenders\", \"demon\", \"demon\", \"demon\", \"devil\", \"devil\", \"devil\", \"devil\", \"devil\", \"devil\", \"diamonds\", \"diamonds\", \"diamonds\", \"diamonds\", \"diamonds\", \"diamonds\", \"dickhead\", \"die\", \"die\", \"die\", \"die\", \"die\", \"die\", \"die\", \"digital\", \"digital\", \"digital\", \"dirty\", \"dirty\", \"dirty\", \"dirty\", \"dirty\", \"dirty\", \"disco\", \"disneyland\", \"domination\", \"donate\", \"doodle\", \"doodle\", \"doom\", \"doom\", \"doom\", \"doorstep\", \"doorstep\", \"dope\", \"dope\", \"dough\", \"dough\", \"dough\", \"dream\", \"dream\", \"dream\", \"dream\", \"dream\", \"dream\", \"dream\", \"drop\", \"drop\", \"drop\", \"drop\", \"drop\", \"drop\", \"drop\", \"drug\", \"drug\", \"drug\", \"drug\", \"drug\", \"drug\", \"drug\", \"dude\", \"dude\", \"earth\", \"earth\", \"earth\", \"earth\", \"earth\", \"earth\", \"earth\", \"eastern\", \"easy\", \"easy\", \"easy\", \"easy\", \"easy\", \"easy\", \"easy\", \"economy\", \"electricity\", \"electricity\", \"eliminate\", \"emerge\", \"emerge\", \"entrance\", \"entrance\", \"entries\", \"equally\", \"error\", \"everybody\", \"everybody\", \"everybody\", \"everybody\", \"everybody\", \"everybody\", \"everybody\", \"everyday\", \"everyday\", \"everyday\", \"everyday\", \"everyday\", \"everyday\", \"everyday\", \"evolution\", \"evolution\", \"eye\", \"eye\", \"eye\", \"eye\", \"eye\", \"eye\", \"eye\", \"face\", \"face\", \"face\", \"face\", \"face\", \"face\", \"face\", \"fade\", \"fade\", \"fade\", \"fade\", \"fade\", \"fade\", \"fade\", \"fake\", \"fake\", \"fake\", \"fake\", \"fake\", \"fake\", \"fall\", \"fall\", \"fall\", \"fall\", \"fall\", \"fall\", \"fall\", \"fame\", \"fame\", \"fame\", \"fame\", \"fame\", \"fame\", \"fear\", \"fear\", \"fear\", \"fear\", \"fear\", \"fear\", \"fear\", \"feat\", \"feat\", \"feds\", \"feel\", \"feel\", \"feel\", \"feel\", \"feel\", \"feel\", \"feel\", \"fight\", \"fight\", \"fight\", \"fight\", \"fight\", \"fight\", \"fight\", \"flue\", \"follow\", \"follow\", \"follow\", \"follow\", \"follow\", \"follow\", \"follow\", \"fool\", \"fool\", \"fool\", \"fool\", \"fool\", \"fool\", \"fool\", \"footprint\", \"forever\", \"forever\", \"forever\", \"forever\", \"forever\", \"forever\", \"forever\", \"forget\", \"forget\", \"forget\", \"forget\", \"forget\", \"forget\", \"forget\", \"forgive\", \"forgive\", \"forgive\", \"forgive\", \"forgive\", \"forgive\", \"freak\", \"freak\", \"freak\", \"freak\", \"friday\", \"friday\", \"friday\", \"fuck\", \"fuck\", \"funky\", \"game\", \"game\", \"game\", \"game\", \"game\", \"game\", \"game\", \"gang\", \"gang\", \"gang\", \"genetic\", \"gently\", \"gently\", \"gently\", \"getaway\", \"getaway\", \"getaway\", \"ghost\", \"ghost\", \"ghost\", \"ghost\", \"ghost\", \"ghost\", \"giggle\", \"giggle\", \"girl\", \"girl\", \"girl\", \"girl\", \"girl\", \"girl\", \"girl\", \"girls\", \"girls\", \"girls\", \"girls\", \"girls\", \"girls\", \"girls\", \"give\", \"give\", \"give\", \"give\", \"give\", \"give\", \"give\", \"go\", \"go\", \"go\", \"go\", \"go\", \"go\", \"go\", \"godfather\", \"goin\", \"goin\", \"goin\", \"goin\", \"goin\", \"goin\", \"gonna\", \"gonna\", \"gonna\", \"gonna\", \"gonna\", \"gonna\", \"gonna\", \"good\", \"good\", \"good\", \"good\", \"good\", \"good\", \"good\", \"goodbye\", \"goodbye\", \"goodbye\", \"goodbye\", \"goodnight\", \"goodnight\", \"goodnight\", \"gotta\", \"gotta\", \"gotta\", \"gotta\", \"gotta\", \"gotta\", \"gotta\", \"grams\", \"granola\", \"grave\", \"grave\", \"grave\", \"grave\", \"grave\", \"grind\", \"grind\", \"grind\", \"grind\", \"grind\", \"grind\", \"grind\", \"guitar\", \"guitar\", \"guitar\", \"guitar\", \"halloween\", \"hand\", \"hand\", \"hand\", \"hand\", \"hand\", \"hand\", \"hand\", \"hangover\", \"hangover\", \"hard\", \"hard\", \"hard\", \"hard\", \"hard\", \"hard\", \"hard\", \"hawaii\", \"hawaii\", \"head\", \"head\", \"head\", \"head\", \"head\", \"head\", \"head\", \"hear\", \"hear\", \"hear\", \"hear\", \"hear\", \"hear\", \"hear\", \"heart\", \"heart\", \"heart\", \"heart\", \"heart\", \"heart\", \"heart\", \"heartbreak\", \"heartbreak\", \"hell\", \"hell\", \"hell\", \"hell\", \"hell\", \"hell\", \"hell\", \"high\", \"high\", \"high\", \"high\", \"high\", \"high\", \"high\", \"hold\", \"hold\", \"hold\", \"hold\", \"hold\", \"hold\", \"hold\", \"hollow\", \"hollow\", \"hollow\", \"hollow\", \"hollow\", \"holy\", \"holy\", \"holy\", \"holy\", \"holy\", \"holy\", \"home\", \"home\", \"home\", \"home\", \"home\", \"home\", \"home\", \"hood\", \"hood\", \"hopeful\", \"hopeful\", \"horrific\", \"hows\", \"human\", \"human\", \"human\", \"human\", \"human\", \"hurt\", \"hurt\", \"hurt\", \"hurt\", \"hurt\", \"hurt\", \"hustle\", \"hustle\", \"hustle\", \"ideal\", \"imma\", \"indestructible\", \"inside\", \"inside\", \"inside\", \"inside\", \"inside\", \"inside\", \"inside\", \"intervention\", \"irresistible\", \"jam\", \"jingle\", \"keepsake\", \"kick\", \"kick\", \"kick\", \"kick\", \"kick\", \"kick\", \"kick\", \"kill\", \"kill\", \"kill\", \"kill\", \"kill\", \"kill\", \"kill\", \"kindest\", \"kindest\", \"kingdom\", \"kingdom\", \"kingdom\", \"kiss\", \"kiss\", \"kiss\", \"kiss\", \"kiss\", \"kiss\", \"kiss\", \"know\", \"know\", \"know\", \"know\", \"know\", \"know\", \"know\", \"lady\", \"lady\", \"lady\", \"lady\", \"lady\", \"lady\", \"lady\", \"land\", \"land\", \"land\", \"land\", \"land\", \"land\", \"land\", \"large\", \"large\", \"large\", \"late\", \"late\", \"late\", \"late\", \"late\", \"late\", \"late\", \"lean\", \"lean\", \"lean\", \"lean\", \"lean\", \"learn\", \"learn\", \"learn\", \"learn\", \"learn\", \"learn\", \"learn\", \"leave\", \"leave\", \"leave\", \"leave\", \"leave\", \"leave\", \"leave\", \"legend\", \"legend\", \"legend\", \"letter\", \"letter\", \"letter\", \"letter\", \"letter\", \"letter\", \"letter\", \"lie\", \"lie\", \"lie\", \"lie\", \"lie\", \"lie\", \"lie\", \"life\", \"life\", \"life\", \"life\", \"life\", \"life\", \"life\", \"light\", \"light\", \"light\", \"light\", \"light\", \"light\", \"light\", \"like\", \"like\", \"like\", \"like\", \"like\", \"like\", \"like\", \"lips\", \"lips\", \"lips\", \"lips\", \"lips\", \"lips\", \"listen\", \"listen\", \"listen\", \"listen\", \"listen\", \"listen\", \"listen\", \"little\", \"little\", \"little\", \"little\", \"little\", \"little\", \"little\", \"live\", \"live\", \"live\", \"live\", \"live\", \"live\", \"live\", \"loneliness\", \"loneliness\", \"loneliness\", \"loneliness\", \"lonely\", \"lonely\", \"lonely\", \"lonely\", \"lonely\", \"long\", \"long\", \"long\", \"long\", \"long\", \"long\", \"long\", \"longest\", \"longest\", \"look\", \"look\", \"look\", \"look\", \"look\", \"look\", \"look\", \"lord\", \"lord\", \"lord\", \"lord\", \"lord\", \"lord\", \"lord\", \"lordy\", \"lose\", \"lose\", \"lose\", \"lose\", \"lose\", \"lose\", \"lose\", \"love\", \"love\", \"love\", \"love\", \"love\", \"love\", \"love\", \"lovely\", \"lovely\", \"lovely\", \"lovely\", \"lovely\", \"lover\", \"lover\", \"lover\", \"lover\", \"lover\", \"lover\", \"lover\", \"luck\", \"luck\", \"luck\", \"luck\", \"luck\", \"luck\", \"luck\", \"majestic\", \"mancini\", \"material\", \"material\", \"matter\", \"matter\", \"matter\", \"matter\", \"matter\", \"matter\", \"matter\", \"medical\", \"memorial\", \"memories\", \"memories\", \"memories\", \"memories\", \"memories\", \"memories\", \"memory\", \"memory\", \"memory\", \"memory\", \"memory\", \"memory\", \"metallic\", \"methuselah\", \"mhmm\", \"microphone\", \"million\", \"million\", \"million\", \"million\", \"million\", \"million\", \"million\", \"mind\", \"mind\", \"mind\", \"mind\", \"mind\", \"mind\", \"mind\", \"mindful\", \"miss\", \"miss\", \"miss\", \"miss\", \"miss\", \"miss\", \"miss\", \"mississippi\", \"mistletoe\", \"molecular\", \"money\", \"money\", \"money\", \"money\", \"money\", \"morning\", \"morning\", \"morning\", \"morning\", \"morning\", \"morning\", \"morning\", \"music\", \"music\", \"music\", \"music\", \"music\", \"nazis\", \"necessarily\", \"necessarily\", \"necessities\", \"necessities\", \"need\", \"need\", \"need\", \"need\", \"need\", \"need\", \"need\", \"night\", \"night\", \"night\", \"night\", \"night\", \"night\", \"night\", \"nights\", \"nights\", \"nights\", \"nights\", \"nights\", \"nights\", \"nights\", \"number\", \"number\", \"number\", \"number\", \"number\", \"number\", \"number\", \"nut\", \"nut\", \"onboard\", \"oops\", \"operator\", \"operator\", \"organic\", \"origin\", \"outdoor\", \"outdoor\", \"outta\", \"outta\", \"outta\", \"outta\", \"outta\", \"overweight\", \"overweight\", \"oxygen\", \"pain\", \"pain\", \"pain\", \"pain\", \"pain\", \"pain\", \"pain\", \"panorama\", \"papa\", \"papa\", \"paper\", \"paper\", \"paper\", \"paper\", \"paper\", \"paper\", \"paper\", \"para\", \"para\", \"party\", \"party\", \"people\", \"people\", \"people\", \"people\", \"people\", \"people\", \"people\", \"philadelphia\", \"photograph\", \"photograph\", \"photograph\", \"photograph\", \"photograph\", \"photograph\", \"pilgrim\", \"place\", \"place\", \"place\", \"place\", \"place\", \"place\", \"place\", \"plague\", \"plague\", \"planet\", \"planet\", \"planet\", \"planet\", \"platter\", \"play\", \"play\", \"play\", \"play\", \"play\", \"play\", \"play\", \"plug\", \"plug\", \"plunge\", \"pollution\", \"pollution\", \"pollution\", \"poodle\", \"poodle\", \"poorer\", \"porcelain\", \"porsche\", \"praise\", \"praise\", \"praise\", \"praise\", \"praise\", \"priceless\", \"prima\", \"progress\", \"progress\", \"progress\", \"progressive\", \"promise\", \"promise\", \"promise\", \"promise\", \"promise\", \"promise\", \"promise\", \"pump\", \"puppy\", \"puppy\", \"pussy\", \"pussy\", \"race\", \"race\", \"race\", \"race\", \"race\", \"race\", \"race\", \"radical\", \"radio\", \"radio\", \"radio\", \"radio\", \"radio\", \"rage\", \"rage\", \"rage\", \"rage\", \"rain\", \"rain\", \"rain\", \"rain\", \"rain\", \"rain\", \"rain\", \"ranger\", \"read\", \"read\", \"read\", \"read\", \"read\", \"read\", \"read\", \"ready\", \"ready\", \"ready\", \"ready\", \"ready\", \"ready\", \"real\", \"real\", \"real\", \"real\", \"real\", \"real\", \"real\", \"realize\", \"realize\", \"realize\", \"realize\", \"realize\", \"realize\", \"reason\", \"reason\", \"reason\", \"reason\", \"reason\", \"reason\", \"reason\", \"reassure\", \"redneck\", \"reggae\", \"reggae\", \"regulation\", \"remember\", \"remember\", \"remember\", \"remember\", \"remember\", \"remember\", \"remember\", \"reminders\", \"remix\", \"remix\", \"removal\", \"resolutions\", \"reveal\", \"reveal\", \"reveal\", \"reveal\", \"reveal\", \"riders\", \"right\", \"right\", \"right\", \"right\", \"right\", \"right\", \"right\", \"ring\", \"ring\", \"ring\", \"ring\", \"ring\", \"ring\", \"ring\", \"riot\", \"rise\", \"rise\", \"rise\", \"rise\", \"rise\", \"rise\", \"rise\", \"river\", \"river\", \"river\", \"river\", \"river\", \"river\", \"river\", \"robot\", \"rockin\", \"rockin\", \"rockin\", \"rockin\", \"roll\", \"roll\", \"roll\", \"roll\", \"roll\", \"roll\", \"roll\", \"romance\", \"romance\", \"romance\", \"romance\", \"romance\", \"romance\", \"root\", \"root\", \"root\", \"root\", \"root\", \"row\", \"rule\", \"rule\", \"rule\", \"rule\", \"rule\", \"rule\", \"rule\", \"salvation\", \"salvation\", \"salvation\", \"sauce\", \"save\", \"save\", \"save\", \"save\", \"save\", \"save\", \"save\", \"say\", \"say\", \"say\", \"say\", \"say\", \"say\", \"say\", \"school\", \"school\", \"school\", \"school\", \"school\", \"scream\", \"scream\", \"scream\", \"scream\", \"scream\", \"scream\", \"scream\", \"script\", \"scrub\", \"search\", \"search\", \"search\", \"search\", \"search\", \"search\", \"sell\", \"sell\", \"sell\", \"sell\", \"sell\", \"semi\", \"sexy\", \"sexy\", \"shadow\", \"shadow\", \"shadow\", \"shadow\", \"shadow\", \"shame\", \"shame\", \"shame\", \"shame\", \"shame\", \"shame\", \"shame\", \"share\", \"share\", \"share\", \"share\", \"share\", \"share\", \"share\", \"shit\", \"shit\", \"shoot\", \"shoot\", \"shoot\", \"shoot\", \"shoot\", \"shoot\", \"shoot\", \"shots\", \"shots\", \"sick\", \"sick\", \"sick\", \"sick\", \"sick\", \"sick\", \"silence\", \"silence\", \"silence\", \"silence\", \"silence\", \"silence\", \"simple\", \"simple\", \"simple\", \"simple\", \"simple\", \"sing\", \"sing\", \"sing\", \"sing\", \"sing\", \"sing\", \"singer\", \"singer\", \"singer\", \"sisters\", \"sisters\", \"sisters\", \"sisters\", \"sisters\", \"skin\", \"skin\", \"skin\", \"skin\", \"skin\", \"skin\", \"sleep\", \"sleep\", \"sleep\", \"sleep\", \"sleep\", \"sleep\", \"sleep\", \"sleigh\", \"slip\", \"slip\", \"slip\", \"slip\", \"slip\", \"slip\", \"smoke\", \"smoke\", \"smoke\", \"smoke\", \"smoke\", \"smoke\", \"snatch\", \"snatch\", \"sneakers\", \"snowman\", \"snowman\", \"somebody\", \"somebody\", \"somebody\", \"somebody\", \"somebody\", \"somebody\", \"somebody\", \"song\", \"song\", \"song\", \"song\", \"song\", \"song\", \"songs\", \"songs\", \"songs\", \"songs\", \"songs\", \"soul\", \"soul\", \"soul\", \"soul\", \"soul\", \"soul\", \"soul\", \"sound\", \"sound\", \"sound\", \"sound\", \"sound\", \"sound\", \"sound\", \"speak\", \"speak\", \"speak\", \"speak\", \"speak\", \"speak\", \"speak\", \"spend\", \"spend\", \"spend\", \"spend\", \"spend\", \"spend\", \"spend\", \"spring\", \"spring\", \"spring\", \"spring\", \"spring\", \"spring\", \"stamina\", \"stand\", \"stand\", \"stand\", \"stand\", \"stand\", \"stand\", \"stand\", \"starboy\", \"starlight\", \"starlight\", \"starlight\", \"stay\", \"stay\", \"stay\", \"stay\", \"stay\", \"stay\", \"stay\", \"steal\", \"steal\", \"steal\", \"steal\", \"steal\", \"steal\", \"steal\", \"stop\", \"stop\", \"stop\", \"stop\", \"stop\", \"stop\", \"stop\", \"strap\", \"strap\", \"struggle\", \"struggle\", \"struggle\", \"struggle\", \"style\", \"style\", \"style\", \"style\", \"style\", \"style\", \"suffocate\", \"suffocate\", \"survival\", \"survival\", \"sweet\", \"sweet\", \"sweet\", \"sweet\", \"sweet\", \"sweet\", \"sweet\", \"sweetheart\", \"sweetheart\", \"sweetheart\", \"swing\", \"swing\", \"swing\", \"swing\", \"swing\", \"talent\", \"talent\", \"talk\", \"talk\", \"talk\", \"talk\", \"talk\", \"talk\", \"talk\", \"teach\", \"teach\", \"teach\", \"teach\", \"teach\", \"teach\", \"teach\", \"teacher\", \"teacher\", \"teacher\", \"tear\", \"tear\", \"tear\", \"tear\", \"tear\", \"tear\", \"tear\", \"tell\", \"tell\", \"tell\", \"tell\", \"tell\", \"tell\", \"tell\", \"tennessee\", \"tennessee\", \"tennessee\", \"terrorist\", \"terrorist\", \"texas\", \"texas\", \"texas\", \"texas\", \"thank\", \"thank\", \"thank\", \"thank\", \"thank\", \"thank\", \"thankful\", \"therapy\", \"things\", \"things\", \"things\", \"things\", \"things\", \"things\", \"things\", \"think\", \"think\", \"think\", \"think\", \"think\", \"think\", \"think\", \"thrill\", \"thrill\", \"thrill\", \"thrill\", \"thrill\", \"thrill\", \"thrill\", \"thumb\", \"thumb\", \"tick\", \"tick\", \"tick\", \"tight\", \"tight\", \"tight\", \"tight\", \"tight\", \"tight\", \"tight\", \"time\", \"time\", \"time\", \"time\", \"time\", \"time\", \"time\", \"timer\", \"tint\", \"tint\", \"today\", \"today\", \"today\", \"today\", \"today\", \"today\", \"today\", \"tomorrow\", \"tomorrow\", \"tomorrow\", \"tomorrow\", \"tomorrow\", \"tomorrow\", \"tomorrow\", \"tomorrows\", \"tomorrows\", \"tonight\", \"tonight\", \"tonight\", \"tonight\", \"tonight\", \"tonight\", \"tonight\", \"tons\", \"torture\", \"torture\", \"torture\", \"touch\", \"touch\", \"touch\", \"touch\", \"touch\", \"touch\", \"touch\", \"transparent\", \"trap\", \"trap\", \"trap\", \"trap\", \"trap\", \"true\", \"true\", \"true\", \"true\", \"true\", \"true\", \"true\", \"tune\", \"tune\", \"tune\", \"tune\", \"tune\", \"tune\", \"turn\", \"turn\", \"turn\", \"turn\", \"turn\", \"turn\", \"turn\", \"unbearable\", \"undeniably\", \"unfortunate\", \"unfortunate\", \"unit\", \"universal\", \"universal\", \"unwanted\", \"unwanted\", \"urgency\", \"valuable\", \"vile\", \"village\", \"village\", \"village\", \"volvo\", \"wait\", \"wait\", \"wait\", \"wait\", \"wait\", \"wait\", \"wait\", \"walk\", \"walk\", \"walk\", \"walk\", \"walk\", \"walk\", \"walk\", \"wall\", \"wall\", \"wall\", \"wall\", \"wall\", \"wall\", \"wall\", \"wallpaper\", \"wanna\", \"wanna\", \"wanna\", \"wanna\", \"wanna\", \"wanna\", \"wanna\", \"want\", \"want\", \"want\", \"want\", \"want\", \"want\", \"want\", \"waste\", \"waste\", \"waste\", \"waste\", \"waste\", \"waste\", \"watch\", \"watch\", \"watch\", \"watch\", \"watch\", \"watch\", \"watch\", \"ways\", \"ways\", \"ways\", \"ways\", \"ways\", \"ways\", \"ways\", \"weasel\", \"weed\", \"weed\", \"welcome\", \"welcome\", \"welcome\", \"welcome\", \"welcome\", \"welcome\", \"welcome\", \"whiny\", \"whip\", \"whip\", \"whip\", \"whip\", \"whistle\", \"whistle\", \"whistle\", \"whistle\", \"whistle\", \"whoa\", \"whoa\", \"whoa\", \"whoa\", \"whoa\", \"whoa\", \"whoa\", \"wind\", \"wind\", \"wind\", \"wind\", \"wind\", \"wind\", \"wind\", \"wisconsin\", \"wish\", \"wish\", \"wish\", \"wish\", \"wish\", \"wish\", \"wish\", \"woman\", \"woman\", \"woman\", \"woman\", \"woman\", \"woman\", \"woman\", \"wonderland\", \"woohoo\", \"woohoo\", \"woohoo\", \"woop\", \"word\", \"word\", \"word\", \"word\", \"word\", \"word\", \"word\", \"world\", \"world\", \"world\", \"world\", \"world\", \"world\", \"world\", \"write\", \"write\", \"write\", \"write\", \"write\", \"write\", \"write\", \"yeah\", \"yeah\", \"yeah\", \"yeah\", \"yeah\", \"yeah\", \"yeah\", \"year\", \"year\", \"year\", \"year\", \"year\", \"year\", \"year\", \"yesterday\", \"yesterday\", \"yesterday\", \"yesterday\", \"yesterday\", \"yesterday\", \"youth\", \"youth\", \"youth\", \"youth\", \"youth\", \"youths\", \"youths\", \"youths\", \"zimbabwe\", \"zoom\", \"zoom\"]}, \"R\": 30, \"lambda.step\": 0.01, \"plot.opts\": {\"xlab\": \"PC1\", \"ylab\": \"PC2\"}, \"topic.order\": [5, 7, 4, 2, 3, 6, 1]};\n",
       "\n",
       "function LDAvis_load_lib(url, callback){\n",
       "  var s = document.createElement('script');\n",
       "  s.src = url;\n",
       "  s.async = true;\n",
       "  s.onreadystatechange = s.onload = callback;\n",
       "  s.onerror = function(){console.warn(\"failed to load library \" + url);};\n",
       "  document.getElementsByTagName(\"head\")[0].appendChild(s);\n",
       "}\n",
       "\n",
       "if(typeof(LDAvis) !== \"undefined\"){\n",
       "   // already loaded: just create the visualization\n",
       "   !function(LDAvis){\n",
       "       new LDAvis(\"#\" + \"ldavis_el9506110900011683999525784\", ldavis_el9506110900011683999525784_data);\n",
       "   }(LDAvis);\n",
       "}else if(typeof define === \"function\" && define.amd){\n",
       "   // require.js is available: use it to load d3/LDAvis\n",
       "   require.config({paths: {d3: \"https://d3js.org/d3.v5\"}});\n",
       "   require([\"d3\"], function(d3){\n",
       "      window.d3 = d3;\n",
       "      LDAvis_load_lib(\"https://cdn.jsdelivr.net/gh/bmabey/pyLDAvis@3.3.1/pyLDAvis/js/ldavis.v3.0.0.js\", function(){\n",
       "        new LDAvis(\"#\" + \"ldavis_el9506110900011683999525784\", ldavis_el9506110900011683999525784_data);\n",
       "      });\n",
       "    });\n",
       "}else{\n",
       "    // require.js not available: dynamically load d3 & LDAvis\n",
       "    LDAvis_load_lib(\"https://d3js.org/d3.v5.js\", function(){\n",
       "         LDAvis_load_lib(\"https://cdn.jsdelivr.net/gh/bmabey/pyLDAvis@3.3.1/pyLDAvis/js/ldavis.v3.0.0.js\", function(){\n",
       "                 new LDAvis(\"#\" + \"ldavis_el9506110900011683999525784\", ldavis_el9506110900011683999525784_data);\n",
       "            })\n",
       "         });\n",
       "}\n",
       "</script>"
      ],
      "text/plain": [
       "PreparedData(topic_coordinates=              x         y  topics  cluster       Freq\n",
       "topic                                                \n",
       "4     -0.122618  0.031523       1        1  20.422333\n",
       "6      0.067785  0.077186       2        1  18.337057\n",
       "3     -0.006393  0.030191       3        1  18.180593\n",
       "1      0.162211  0.013331       4        1  14.217698\n",
       "2      0.161637 -0.027854       5        1  10.125120\n",
       "5     -0.083775 -0.221709       6        1   9.612558\n",
       "0     -0.178847  0.097333       7        1   9.104640, topic_info=       Term          Freq         Total Category  logprob  loglift\n",
       "1311   away  13093.000000  13093.000000  Default  30.0000  30.0000\n",
       "689   heart  13058.000000  13058.000000  Default  29.0000  29.0000\n",
       "2934   baby  10787.000000  10787.000000  Default  28.0000  28.0000\n",
       "933    life  12457.000000  12457.000000  Default  27.0000  27.0000\n",
       "5383   sing   4838.000000   4838.000000  Default  26.0000  26.0000\n",
       "...     ...           ...           ...      ...      ...      ...\n",
       "304    come    658.644007  18397.832688   Topic7  -5.2517  -0.9334\n",
       "2550   stay    521.105925   5253.978591   Topic7  -5.4859   0.0856\n",
       "295   watch    460.688966   3132.103624   Topic7  -5.6091   0.4796\n",
       "58    think    481.567040   8858.579796   Topic7  -5.5648  -0.5157\n",
       "177      go    481.559718  13458.202618   Topic7  -5.5648  -0.9339\n",
       "\n",
       "[604 rows x 6 columns], token_table=       Topic      Freq          Term\n",
       "term                                \n",
       "2301       7  0.932658  accidentally\n",
       "12836      5  0.889395   achievement\n",
       "3025       1  0.167585        action\n",
       "3025       2  0.014263        action\n",
       "3025       3  0.003566        action\n",
       "...      ...       ...           ...\n",
       "6901       6  0.050513        youths\n",
       "6901       7  0.896613        youths\n",
       "14131      6  0.956383      zimbabwe\n",
       "9730       1  0.125209          zoom\n",
       "9730       4  0.876463          zoom\n",
       "\n",
       "[1960 rows x 3 columns], R=30, lambda_step=0.01, plot_opts={'xlab': 'PC1', 'ylab': 'PC2'}, topic_order=[5, 7, 4, 2, 3, 6, 1])"
      ]
     },
     "execution_count": 27,
     "metadata": {},
     "output_type": "execute_result"
    }
   ],
   "source": [
    "# visualize the topics\n",
    "# Attention: the number of visualized topics is not the same as the genre above(should use the genre number)\n",
    "import pyLDAvis\n",
    "import pyLDAvis.sklearn\n",
    "pyLDAvis.enable_notebook()\n",
    "pyLDAvis.sklearn.prepare(lda, xtrain1, cv)"
   ]
  },
  {
   "cell_type": "code",
   "execution_count": 28,
   "metadata": {},
   "outputs": [
    {
     "data": {
      "text/html": [
       "<div>\n",
       "<style scoped>\n",
       "    .dataframe tbody tr th:only-of-type {\n",
       "        vertical-align: middle;\n",
       "    }\n",
       "\n",
       "    .dataframe tbody tr th {\n",
       "        vertical-align: top;\n",
       "    }\n",
       "\n",
       "    .dataframe thead th {\n",
       "        text-align: right;\n",
       "    }\n",
       "</style>\n",
       "<table border=\"1\" class=\"dataframe\">\n",
       "  <thead>\n",
       "    <tr style=\"text-align: right;\">\n",
       "      <th></th>\n",
       "      <th>lyrics</th>\n",
       "      <th>genre</th>\n",
       "      <th>topic</th>\n",
       "    </tr>\n",
       "  </thead>\n",
       "  <tbody>\n",
       "    <tr>\n",
       "      <th>2252</th>\n",
       "      <td>think proud enemy hand worse thing possess yea...</td>\n",
       "      <td>pop</td>\n",
       "      <td>3</td>\n",
       "    </tr>\n",
       "    <tr>\n",
       "      <th>20274</th>\n",
       "      <td>look away look away pass door lose good good w...</td>\n",
       "      <td>jazz</td>\n",
       "      <td>2</td>\n",
       "    </tr>\n",
       "    <tr>\n",
       "      <th>2789</th>\n",
       "      <td>anarchy kill shoot raise army rabid rat beat n...</td>\n",
       "      <td>pop</td>\n",
       "      <td>4</td>\n",
       "    </tr>\n",
       "    <tr>\n",
       "      <th>3953</th>\n",
       "      <td>blame moonlit dream die eagle flight blame moo...</td>\n",
       "      <td>pop</td>\n",
       "      <td>3</td>\n",
       "    </tr>\n",
       "    <tr>\n",
       "      <th>7671</th>\n",
       "      <td>think cause pretty women know doin nothin tear...</td>\n",
       "      <td>country</td>\n",
       "      <td>4</td>\n",
       "    </tr>\n",
       "  </tbody>\n",
       "</table>\n",
       "</div>"
      ],
      "text/plain": [
       "                                                  lyrics    genre  topic\n",
       "2252   think proud enemy hand worse thing possess yea...      pop      3\n",
       "20274  look away look away pass door lose good good w...     jazz      2\n",
       "2789   anarchy kill shoot raise army rabid rat beat n...      pop      4\n",
       "3953   blame moonlit dream die eagle flight blame moo...      pop      3\n",
       "7671   think cause pretty women know doin nothin tear...  country      4"
      ]
     },
     "execution_count": 28,
     "metadata": {},
     "output_type": "execute_result"
    }
   ],
   "source": [
    "# get topic distribution for each document\n",
    "# find the topic with the highest probability and assign it to the document\n",
    "topic_dist = lda.transform(xtrain1)\n",
    "topic_labels = topic_dist.argmax(axis=1)\n",
    "#put topic labels back to the original dataframe\n",
    "music_train['topic'] = topic_labels\n",
    "music_train.head()\n"
   ]
  },
  {
   "cell_type": "markdown",
   "metadata": {},
   "source": [
    "## Genre Mapping --- manually mapping based on percentage of overlap words"
   ]
  },
  {
   "cell_type": "code",
   "execution_count": 29,
   "metadata": {},
   "outputs": [],
   "source": [
    "# put top 50 words in each topic into a list\n",
    "top_k_per_topic = lda.components_.argsort(axis=1)[:, -50:]\n",
    "mapping_list = []\n",
    "for idx, topic in enumerate(top_k_per_topic):\n",
    "    mapping_list.append(encoder.decode(topic[::-1]))"
   ]
  },
  {
   "cell_type": "code",
   "execution_count": 30,
   "metadata": {},
   "outputs": [
    {
     "data": {
      "text/plain": [
       "['world like bitch time real high smoke fuck people yeah know life need face live cause come hell roll money look place tell city stay sell think go watch teach right work shit fake young ghost deal line ride stick rule paper read straight race drug drink mind school feel',\n",
       " 'heart baby go hold know long night tonight leave right believe like time want kiss stay come feel need gonna break eye wait tear tell cause arm girl sweet hand close little yeah darling love start touch look promise apart say wrong wanna true think dream fall tight light line',\n",
       " 'away good break walk know lonely feel night go wish fool miss stand come dream leave goodbye gonna yeah tell morning heart cry sleep little look whoa cause fade rain think tear say like take baby girl time memory hurt want stay blue right place wonder home dear hide yesterday',\n",
       " 'fall feel come eye know like inside head cold black dead blood hand stand soul burn hear fear leave pain fight face save lose wall kill death devil lie turn tear light grind die wind hide follow look break mind word heart deep hold live hell speak life body dream',\n",
       " 'like yeah know cause fuck come shit better wanna want money gonna tell gotta play right party bout shoot think girl talk stop say head look bitch little need game start baby feel damn good kick drop get beat go hand everybody watch check goin work black pull night turn',\n",
       " 'sing home song blue hear come woman play music right sweet remember go lord bring like ring long hand word songs listen write call know money say fight land sound yeah days little radio night people band time tell dance guitar summer swing head christmas kill year roll soon tune',\n",
       " 'time life live know change mind come think want world things need cause dream feel like lose love look go today give yeah tell days hard right learn better leave forget true gonna wanna hurt somebody take tomorrow turn remember make long reason forever inside thing ready matter easy mean']"
      ]
     },
     "execution_count": 30,
     "metadata": {},
     "output_type": "execute_result"
    }
   ],
   "source": [
    "mapping_list"
   ]
  },
  {
   "cell_type": "code",
   "execution_count": 31,
   "metadata": {},
   "outputs": [],
   "source": [
    "genre0 = mapping_list[0].split()\n",
    "genre1 = mapping_list[1].split()\n",
    "genre2 = mapping_list[2].split()\n",
    "genre3 = mapping_list[3].split()\n",
    "genre4 = mapping_list[4].split()\n",
    "genre5 = mapping_list[5].split()\n",
    "genre6 = mapping_list[6].split()\n"
   ]
  },
  {
   "cell_type": "code",
   "execution_count": 32,
   "metadata": {},
   "outputs": [],
   "source": [
    "pop = music_train[music_train['genre'] == 'pop']\n",
    "country = music_train[music_train['genre'] == 'country']\n",
    "blues = music_train[music_train['genre'] == 'blues']\n",
    "jazz = music_train[music_train['genre'] == 'jazz']\n",
    "reggae = music_train[music_train['genre'] == 'reggae']\n",
    "rock = music_train[music_train['genre'] == 'rock']\n",
    "hiphop = music_train[music_train['genre'] == 'hip hop']"
   ]
  },
  {
   "cell_type": "code",
   "execution_count": 33,
   "metadata": {},
   "outputs": [],
   "source": [
    "def top_words(df):\n",
    "    count = df['lyrics'].str.split(expand=True).stack().value_counts()\n",
    "    return list(count.index)\n",
    "\n",
    "pop_words = top_words(pop)[:50]\n",
    "country_words = top_words(country)[:50]\n",
    "blues_words = top_words(blues)[:50]\n",
    "jazz_words = top_words(jazz)[:50]\n",
    "reggae_words = top_words(reggae)[:50]\n",
    "rock_words = top_words(rock)[:50]\n",
    "hiphop_words = top_words(hiphop)[:50]"
   ]
  },
  {
   "cell_type": "code",
   "execution_count": 17,
   "metadata": {},
   "outputs": [],
   "source": [
    "def compare_words(genre, topic):\n",
    "    compare = set(genre).intersection(set(topic))\n",
    "    return len(compare)"
   ]
  },
  {
   "cell_type": "code",
   "execution_count": 18,
   "metadata": {},
   "outputs": [
    {
     "name": "stdout",
     "output_type": "stream",
     "text": [
      "[19, 17, 18, 20, 21, 20, 22]\n",
      "[33, 32, 31, 32, 27, 30, 22]\n",
      "[28, 31, 30, 28, 24, 28, 20]\n",
      "[20, 21, 22, 19, 20, 24, 15]\n",
      "[28, 23, 27, 26, 29, 23, 34]\n",
      "[17, 19, 19, 19, 22, 16, 15]\n",
      "[28, 26, 27, 26, 25, 28, 24]\n"
     ]
    }
   ],
   "source": [
    "for i in range(7):\n",
    "    number = []\n",
    "    for j in [pop_words, country_words, blues_words, jazz_words, reggae_words, rock_words, hiphop_words]:\n",
    "        number.append(compare_words(j, mapping_list[i].split()))\n",
    "    print(number)"
   ]
  },
  {
   "cell_type": "markdown",
   "metadata": {},
   "source": [
    "> 0 ---> rock/jazz --- jazz\n",
    "\n",
    "> 1 ---> pop\n",
    "\n",
    "> 2 ---> country\n",
    "\n",
    "> 3 ---> rock\n",
    "\n",
    "> 4 ---> hiphop\n",
    "\n",
    "> 5 ---> reggae\n",
    "\n",
    "> 6 ---> pop/rock --->blues"
   ]
  },
  {
   "cell_type": "code",
   "execution_count": 34,
   "metadata": {},
   "outputs": [
    {
     "data": {
      "text/html": [
       "<div>\n",
       "<style scoped>\n",
       "    .dataframe tbody tr th:only-of-type {\n",
       "        vertical-align: middle;\n",
       "    }\n",
       "\n",
       "    .dataframe tbody tr th {\n",
       "        vertical-align: top;\n",
       "    }\n",
       "\n",
       "    .dataframe thead th {\n",
       "        text-align: right;\n",
       "    }\n",
       "</style>\n",
       "<table border=\"1\" class=\"dataframe\">\n",
       "  <thead>\n",
       "    <tr style=\"text-align: right;\">\n",
       "      <th></th>\n",
       "      <th>lyrics</th>\n",
       "      <th>genre</th>\n",
       "      <th>topic</th>\n",
       "      <th>genre_manual</th>\n",
       "    </tr>\n",
       "  </thead>\n",
       "  <tbody>\n",
       "    <tr>\n",
       "      <th>2252</th>\n",
       "      <td>think proud enemy hand worse thing possess yea...</td>\n",
       "      <td>pop</td>\n",
       "      <td>3</td>\n",
       "      <td>1</td>\n",
       "    </tr>\n",
       "    <tr>\n",
       "      <th>20274</th>\n",
       "      <td>look away look away pass door lose good good w...</td>\n",
       "      <td>jazz</td>\n",
       "      <td>2</td>\n",
       "      <td>0</td>\n",
       "    </tr>\n",
       "    <tr>\n",
       "      <th>2789</th>\n",
       "      <td>anarchy kill shoot raise army rabid rat beat n...</td>\n",
       "      <td>pop</td>\n",
       "      <td>4</td>\n",
       "      <td>1</td>\n",
       "    </tr>\n",
       "    <tr>\n",
       "      <th>3953</th>\n",
       "      <td>blame moonlit dream die eagle flight blame moo...</td>\n",
       "      <td>pop</td>\n",
       "      <td>3</td>\n",
       "      <td>1</td>\n",
       "    </tr>\n",
       "    <tr>\n",
       "      <th>7671</th>\n",
       "      <td>think cause pretty women know doin nothin tear...</td>\n",
       "      <td>country</td>\n",
       "      <td>4</td>\n",
       "      <td>2</td>\n",
       "    </tr>\n",
       "  </tbody>\n",
       "</table>\n",
       "</div>"
      ],
      "text/plain": [
       "                                                  lyrics    genre  topic  \\\n",
       "2252   think proud enemy hand worse thing possess yea...      pop      3   \n",
       "20274  look away look away pass door lose good good w...     jazz      2   \n",
       "2789   anarchy kill shoot raise army rabid rat beat n...      pop      4   \n",
       "3953   blame moonlit dream die eagle flight blame moo...      pop      3   \n",
       "7671   think cause pretty women know doin nothin tear...  country      4   \n",
       "\n",
       "       genre_manual  \n",
       "2252              1  \n",
       "20274             0  \n",
       "2789              1  \n",
       "3953              1  \n",
       "7671              2  "
      ]
     },
     "execution_count": 34,
     "metadata": {},
     "output_type": "execute_result"
    }
   ],
   "source": [
    "# put manually label back to the original dataframe\n",
    "music_train['genre_manual'] = music_train['genre'].map({'jazz':0, 'pop':1, 'country':2, 'rock':3, 'hip hop':4, 'reggae':5, 'blues':6})\n",
    "music_train.head()"
   ]
  },
  {
   "cell_type": "code",
   "execution_count": 35,
   "metadata": {},
   "outputs": [
    {
     "name": "stdout",
     "output_type": "stream",
     "text": [
      "pop correct:  0.18487091532767647\n",
      "country correct:  0.1360877684407096\n",
      "blues correct:  0.1926027397260274\n",
      "jazz correct:  0.060170045781556575\n",
      "reggae correct:  0.09773662551440329\n",
      "rock correct:  0.33632148377125193\n",
      "hiphop correct:  0.6736694677871149\n"
     ]
    }
   ],
   "source": [
    "def percentage(df):\n",
    "    count = 0\n",
    "    for i in range(len(df)):\n",
    "        if df.iloc[i,2] == df.iloc[i,3]:\n",
    "            count += 1\n",
    "    return count/len(df)\n",
    "\n",
    "pop = music_train[music_train['genre'] == 'pop']\n",
    "country = music_train[music_train['genre'] == 'country']\n",
    "blues = music_train[music_train['genre'] == 'blues']\n",
    "jazz = music_train[music_train['genre'] == 'jazz']\n",
    "reggae = music_train[music_train['genre'] == 'reggae']\n",
    "rock = music_train[music_train['genre'] == 'rock']\n",
    "hiphop = music_train[music_train['genre'] == 'hip hop']\n",
    "\n",
    "print(\"pop correct: \" , percentage(pop))\n",
    "print(\"country correct: \" ,percentage(country))\n",
    "print(\"blues correct: \" ,percentage(blues))\n",
    "print(\"jazz correct: \" ,percentage(jazz))\n",
    "print(\"reggae correct: \" ,percentage(reggae))\n",
    "print(\"rock correct: \" ,percentage(rock))\n",
    "print(\"hiphop correct: \" ,percentage(hiphop))"
   ]
  },
  {
   "cell_type": "markdown",
   "metadata": {},
   "source": [
    "## Generate Data"
   ]
  },
  {
   "cell_type": "code",
   "execution_count": 36,
   "metadata": {},
   "outputs": [
    {
     "data": {
      "text/plain": [
       "['mind medicine race youth tidal watch chronic bless death people trial watch comfy bitch trap fake ignore dollar ball saw hell sneak light sign people pose teach paradise cause bitch pass high drink people tales history book thing lie nerve world people fade crime ignorance turn identity fourth cake queen',\n",
       " 'speak time acid thats world reality blow corner quick link book sell disease sign wire need kid control fuckin build sell innocent place laundry place ball assume empire get give reality real mustard like champagne try forest bible proof lord fall paper nooo couple circus cake slide line plan damn',\n",
       " 'unite people smoke east streets mama keep virgin education know overwhelm smoke pace lighter smoke protect fuck office money join lean talk wheel gift federally machine dash capital nerve beautiful place world catch soul survive ghost bitch afford come school poor like basket think science like finger sink grass fight',\n",
       " 'circle like devil need situations smoke world real soft million grade mortal high center catch planet cover say sure grass months girl crush fly life driver rhyme hat chemistry ocean entire reveal feel best cites check royalty cause joke goddamn handle borrow america pass fuck globe range remove clean wanna',\n",
       " 'world pathetic like slow enemies change actually travel stick crazy yeah real complain world wear ways lot nervous legend serve think pass peel come stick magical motivation steel long reel dice fine roll dodge spirit wrap teach observe weed young blueprint code sense disguise story wait time monopoly example like',\n",
       " 'york like world image come tell estate sensible serial demons vanity world need know trials run look envy bout texts teach pilot fake police picture sense center universal like lose message smoke gold society work world grow join hate truth bar water ghost intimate revenge ride bar bear mean life',\n",
       " 'sorry settle land infant damage come quit live high killer face aside prison like daily squeeze shit laws measure raise bring need little paper louder watch gain cities gun smoke chain fan private read rule ace racist crossing amaze real waste whiskey push quick creativity tread afford real facts open']"
      ]
     },
     "execution_count": 36,
     "metadata": {},
     "output_type": "execute_result"
    }
   ],
   "source": [
    "# sample from topic\n",
    "def sample_from_topic(topic_idx: int, n_samples: int):\n",
    "    dis = lda.components_[topic_idx, :]\n",
    "    dis = dis / dis.sum()\n",
    "\n",
    "    return encoder.decode(\n",
    "        np.random.choice(np.arange(encoder.vocab_size), p=dis, size=n_samples)\n",
    "    )\n",
    "\n",
    "\n",
    "[sample_from_topic(0,50) for _ in range(7)]"
   ]
  },
  {
   "cell_type": "code",
   "execution_count": 37,
   "metadata": {},
   "outputs": [
    {
     "data": {
      "text/plain": [
       "{0: 'jazz',\n",
       " 1: 'pop',\n",
       " 2: 'country',\n",
       " 3: 'rock',\n",
       " 4: 'hip hop',\n",
       " 5: 'reggae',\n",
       " 6: 'blues'}"
      ]
     },
     "execution_count": 37,
     "metadata": {},
     "output_type": "execute_result"
    }
   ],
   "source": [
    "genre_mapper = {'jazz':0, 'pop':1, 'country':2, 'rock':3, 'hip hop':4, 'reggae':5, 'blues':6}\n",
    "genre_mapper = {v: k for k, v in genre_mapper.items()}\n",
    "genre_mapper"
   ]
  },
  {
   "cell_type": "code",
   "execution_count": 38,
   "metadata": {},
   "outputs": [
    {
     "data": {
      "text/plain": [
       "61"
      ]
     },
     "execution_count": 38,
     "metadata": {},
     "output_type": "execute_result"
    }
   ],
   "source": [
    "# get the first lyrics in music_train\n",
    "len(music_train.iloc[0,0].split())"
   ]
  },
  {
   "cell_type": "code",
   "execution_count": 39,
   "metadata": {},
   "outputs": [
    {
     "data": {
      "text/plain": [
       "array([ 61,  35,  67, ...,  67, 105,  28])"
      ]
     },
     "execution_count": 39,
     "metadata": {},
     "output_type": "execute_result"
    }
   ],
   "source": [
    "lyric_length_distribution = music_train['lyrics'].apply(lambda r: len(r.split())).values\n",
    "lyric_length_distribution"
   ]
  },
  {
   "cell_type": "code",
   "execution_count": 40,
   "metadata": {},
   "outputs": [],
   "source": [
    "# generate synthetic data based on topic distribution\n",
    "def generate_data(n_samples_per_genre):\n",
    "  lyric_length_distribution = music_train['lyrics'].apply(lambda r: len(r.split())).values\n",
    "  synthetic_data = []\n",
    "  for idx in range(7):\n",
    "      for _ in range(n_samples_per_genre):\n",
    "          synthetic_data.append((sample_from_topic(idx, np.random.choice(lyric_length_distribution)), genre_mapper[idx], idx))\n",
    "  return synthetic_data\n",
    "        "
   ]
  },
  {
   "cell_type": "markdown",
   "metadata": {},
   "source": [
    "> for each topic, generate 1000 data"
   ]
  },
  {
   "cell_type": "code",
   "execution_count": 41,
   "metadata": {},
   "outputs": [],
   "source": [
    "#synthetic_df = pd.DataFrame(generate_data(4000), columns=['text', 'genre', 'lable'])\n",
    "synthetic_df = pd.DataFrame(generate_data(4000), columns=['text', 'genre', 'lable'])"
   ]
  },
  {
   "cell_type": "code",
   "execution_count": 42,
   "metadata": {},
   "outputs": [],
   "source": [
    "#synthetic_df.to_csv('synthetic_data_final.csv', index=False)\n",
    "synthetic_df.to_csv('synthetic_data_s.csv', index=False)"
   ]
  },
  {
   "cell_type": "code",
   "execution_count": 28,
   "metadata": {},
   "outputs": [],
   "source": [
    "#synthetic_df.head()"
   ]
  },
  {
   "cell_type": "code",
   "execution_count": 43,
   "metadata": {},
   "outputs": [
    {
     "data": {
      "text/html": [
       "<div>\n",
       "<style scoped>\n",
       "    .dataframe tbody tr th:only-of-type {\n",
       "        vertical-align: middle;\n",
       "    }\n",
       "\n",
       "    .dataframe tbody tr th {\n",
       "        vertical-align: top;\n",
       "    }\n",
       "\n",
       "    .dataframe thead th {\n",
       "        text-align: right;\n",
       "    }\n",
       "</style>\n",
       "<table border=\"1\" class=\"dataframe\">\n",
       "  <thead>\n",
       "    <tr style=\"text-align: right;\">\n",
       "      <th></th>\n",
       "      <th>text</th>\n",
       "      <th>genre</th>\n",
       "      <th>lable</th>\n",
       "    </tr>\n",
       "  </thead>\n",
       "  <tbody>\n",
       "    <tr>\n",
       "      <th>21273</th>\n",
       "      <td>food whistle tell take send wrong kitchen come...</td>\n",
       "      <td>reggae</td>\n",
       "      <td>5</td>\n",
       "    </tr>\n",
       "    <tr>\n",
       "      <th>7879</th>\n",
       "      <td>face go heart till look dream sorry prove clos...</td>\n",
       "      <td>pop</td>\n",
       "      <td>1</td>\n",
       "    </tr>\n",
       "    <tr>\n",
       "      <th>3307</th>\n",
       "      <td>message yeah birth think decide world influenc...</td>\n",
       "      <td>jazz</td>\n",
       "      <td>0</td>\n",
       "    </tr>\n",
       "    <tr>\n",
       "      <th>267</th>\n",
       "      <td>decide blunt daddy check drug tint mean real b...</td>\n",
       "      <td>jazz</td>\n",
       "      <td>0</td>\n",
       "    </tr>\n",
       "    <tr>\n",
       "      <th>1623</th>\n",
       "      <td>dont decide expire yeah catch greatness envy t...</td>\n",
       "      <td>jazz</td>\n",
       "      <td>0</td>\n",
       "    </tr>\n",
       "    <tr>\n",
       "      <th>11372</th>\n",
       "      <td>get good like like people cry best wrong name ...</td>\n",
       "      <td>country</td>\n",
       "      <td>2</td>\n",
       "    </tr>\n",
       "    <tr>\n",
       "      <th>26689</th>\n",
       "      <td>chase bridge know help smile later feel defina...</td>\n",
       "      <td>blues</td>\n",
       "      <td>6</td>\n",
       "    </tr>\n",
       "    <tr>\n",
       "      <th>7455</th>\n",
       "      <td>go friend anytime star know like baby lover ti...</td>\n",
       "      <td>pop</td>\n",
       "      <td>1</td>\n",
       "    </tr>\n",
       "    <tr>\n",
       "      <th>263</th>\n",
       "      <td>poster nasty listen spend bitch drive producer...</td>\n",
       "      <td>jazz</td>\n",
       "      <td>0</td>\n",
       "    </tr>\n",
       "    <tr>\n",
       "      <th>25651</th>\n",
       "      <td>win heart dark cause waste place choice fight ...</td>\n",
       "      <td>blues</td>\n",
       "      <td>6</td>\n",
       "    </tr>\n",
       "  </tbody>\n",
       "</table>\n",
       "</div>"
      ],
      "text/plain": [
       "                                                    text    genre  lable\n",
       "21273  food whistle tell take send wrong kitchen come...   reggae      5\n",
       "7879   face go heart till look dream sorry prove clos...      pop      1\n",
       "3307   message yeah birth think decide world influenc...     jazz      0\n",
       "267    decide blunt daddy check drug tint mean real b...     jazz      0\n",
       "1623   dont decide expire yeah catch greatness envy t...     jazz      0\n",
       "11372  get good like like people cry best wrong name ...  country      2\n",
       "26689  chase bridge know help smile later feel defina...    blues      6\n",
       "7455   go friend anytime star know like baby lover ti...      pop      1\n",
       "263    poster nasty listen spend bitch drive producer...     jazz      0\n",
       "25651  win heart dark cause waste place choice fight ...    blues      6"
      ]
     },
     "execution_count": 43,
     "metadata": {},
     "output_type": "execute_result"
    }
   ],
   "source": [
    "syn = pd.read_csv('synthetic_data_s.csv')\n",
    "syn.sample(10)"
   ]
  },
  {
   "cell_type": "code",
   "execution_count": 44,
   "metadata": {},
   "outputs": [],
   "source": [
    "syn_train, syn_test = train_test_split(syn, test_size=0.2, random_state=42)"
   ]
  },
  {
   "cell_type": "code",
   "execution_count": 45,
   "metadata": {},
   "outputs": [
    {
     "data": {
      "text/html": [
       "<div>\n",
       "<style scoped>\n",
       "    .dataframe tbody tr th:only-of-type {\n",
       "        vertical-align: middle;\n",
       "    }\n",
       "\n",
       "    .dataframe tbody tr th {\n",
       "        vertical-align: top;\n",
       "    }\n",
       "\n",
       "    .dataframe thead th {\n",
       "        text-align: right;\n",
       "    }\n",
       "</style>\n",
       "<table border=\"1\" class=\"dataframe\">\n",
       "  <thead>\n",
       "    <tr style=\"text-align: right;\">\n",
       "      <th></th>\n",
       "      <th>text</th>\n",
       "      <th>genre</th>\n",
       "      <th>lable</th>\n",
       "    </tr>\n",
       "  </thead>\n",
       "  <tbody>\n",
       "    <tr>\n",
       "      <th>3953</th>\n",
       "      <td>cash yeah magazine oklahoma young pay cars jum...</td>\n",
       "      <td>jazz</td>\n",
       "      <td>0</td>\n",
       "    </tr>\n",
       "    <tr>\n",
       "      <th>7640</th>\n",
       "      <td>baby baby baby believe come kiss need heart ba...</td>\n",
       "      <td>pop</td>\n",
       "      <td>1</td>\n",
       "    </tr>\n",
       "    <tr>\n",
       "      <th>2085</th>\n",
       "      <td>like right public hear feel mean tell middle f...</td>\n",
       "      <td>jazz</td>\n",
       "      <td>0</td>\n",
       "    </tr>\n",
       "    <tr>\n",
       "      <th>14263</th>\n",
       "      <td>come shake leave come word eye think electrici...</td>\n",
       "      <td>rock</td>\n",
       "      <td>3</td>\n",
       "    </tr>\n",
       "    <tr>\n",
       "      <th>6134</th>\n",
       "      <td>till start long eye door leave sweet morning h...</td>\n",
       "      <td>pop</td>\n",
       "      <td>1</td>\n",
       "    </tr>\n",
       "    <tr>\n",
       "      <th>...</th>\n",
       "      <td>...</td>\n",
       "      <td>...</td>\n",
       "      <td>...</td>\n",
       "    </tr>\n",
       "    <tr>\n",
       "      <th>21575</th>\n",
       "      <td>yeah kill higher hotel strange sound home song...</td>\n",
       "      <td>reggae</td>\n",
       "      <td>5</td>\n",
       "    </tr>\n",
       "    <tr>\n",
       "      <th>5390</th>\n",
       "      <td>go take heart wrong leave heart hear look put ...</td>\n",
       "      <td>pop</td>\n",
       "      <td>1</td>\n",
       "    </tr>\n",
       "    <tr>\n",
       "      <th>860</th>\n",
       "      <td>youths like enjoy link ask defense violence ba...</td>\n",
       "      <td>jazz</td>\n",
       "      <td>0</td>\n",
       "    </tr>\n",
       "    <tr>\n",
       "      <th>15795</th>\n",
       "      <td>swear yeah strong alive hang cloud stranger qu...</td>\n",
       "      <td>rock</td>\n",
       "      <td>3</td>\n",
       "    </tr>\n",
       "    <tr>\n",
       "      <th>23654</th>\n",
       "      <td>like ring money hand right lord music lord min...</td>\n",
       "      <td>reggae</td>\n",
       "      <td>5</td>\n",
       "    </tr>\n",
       "  </tbody>\n",
       "</table>\n",
       "<p>22400 rows × 3 columns</p>\n",
       "</div>"
      ],
      "text/plain": [
       "                                                    text   genre  lable\n",
       "3953   cash yeah magazine oklahoma young pay cars jum...    jazz      0\n",
       "7640   baby baby baby believe come kiss need heart ba...     pop      1\n",
       "2085   like right public hear feel mean tell middle f...    jazz      0\n",
       "14263  come shake leave come word eye think electrici...    rock      3\n",
       "6134   till start long eye door leave sweet morning h...     pop      1\n",
       "...                                                  ...     ...    ...\n",
       "21575  yeah kill higher hotel strange sound home song...  reggae      5\n",
       "5390   go take heart wrong leave heart hear look put ...     pop      1\n",
       "860    youths like enjoy link ask defense violence ba...    jazz      0\n",
       "15795  swear yeah strong alive hang cloud stranger qu...    rock      3\n",
       "23654  like ring money hand right lord music lord min...  reggae      5\n",
       "\n",
       "[22400 rows x 3 columns]"
      ]
     },
     "execution_count": 45,
     "metadata": {},
     "output_type": "execute_result"
    }
   ],
   "source": [
    "syn_train"
   ]
  },
  {
   "cell_type": "code",
   "execution_count": 46,
   "metadata": {},
   "outputs": [
    {
     "name": "stderr",
     "output_type": "stream",
     "text": [
      "/opt/miniconda3/lib/python3.10/site-packages/sklearn/feature_extraction/text.py:1330: UserWarning: Upper case characters found in vocabulary while 'lowercase' is True. These entries will not be matched with any documents\n",
      "  warnings.warn(\n"
     ]
    }
   ],
   "source": [
    "syn_train1 = cv.fit_transform(syn_train['text'].tolist())"
   ]
  },
  {
   "cell_type": "code",
   "execution_count": 47,
   "metadata": {},
   "outputs": [
    {
     "data": {
      "text/html": [
       "<div>\n",
       "<style scoped>\n",
       "    .dataframe tbody tr th:only-of-type {\n",
       "        vertical-align: middle;\n",
       "    }\n",
       "\n",
       "    .dataframe tbody tr th {\n",
       "        vertical-align: top;\n",
       "    }\n",
       "\n",
       "    .dataframe thead th {\n",
       "        text-align: right;\n",
       "    }\n",
       "</style>\n",
       "<table border=\"1\" class=\"dataframe\">\n",
       "  <thead>\n",
       "    <tr style=\"text-align: right;\">\n",
       "      <th></th>\n",
       "      <th>text</th>\n",
       "      <th>genre</th>\n",
       "      <th>lable</th>\n",
       "      <th>topic</th>\n",
       "    </tr>\n",
       "  </thead>\n",
       "  <tbody>\n",
       "    <tr>\n",
       "      <th>3953</th>\n",
       "      <td>cash yeah magazine oklahoma young pay cars jum...</td>\n",
       "      <td>jazz</td>\n",
       "      <td>0</td>\n",
       "      <td>0</td>\n",
       "    </tr>\n",
       "    <tr>\n",
       "      <th>7640</th>\n",
       "      <td>baby baby baby believe come kiss need heart ba...</td>\n",
       "      <td>pop</td>\n",
       "      <td>1</td>\n",
       "      <td>1</td>\n",
       "    </tr>\n",
       "    <tr>\n",
       "      <th>2085</th>\n",
       "      <td>like right public hear feel mean tell middle f...</td>\n",
       "      <td>jazz</td>\n",
       "      <td>0</td>\n",
       "      <td>0</td>\n",
       "    </tr>\n",
       "    <tr>\n",
       "      <th>14263</th>\n",
       "      <td>come shake leave come word eye think electrici...</td>\n",
       "      <td>rock</td>\n",
       "      <td>3</td>\n",
       "      <td>3</td>\n",
       "    </tr>\n",
       "    <tr>\n",
       "      <th>6134</th>\n",
       "      <td>till start long eye door leave sweet morning h...</td>\n",
       "      <td>pop</td>\n",
       "      <td>1</td>\n",
       "      <td>1</td>\n",
       "    </tr>\n",
       "  </tbody>\n",
       "</table>\n",
       "</div>"
      ],
      "text/plain": [
       "                                                    text genre  lable  topic\n",
       "3953   cash yeah magazine oklahoma young pay cars jum...  jazz      0      0\n",
       "7640   baby baby baby believe come kiss need heart ba...   pop      1      1\n",
       "2085   like right public hear feel mean tell middle f...  jazz      0      0\n",
       "14263  come shake leave come word eye think electrici...  rock      3      3\n",
       "6134   till start long eye door leave sweet morning h...   pop      1      1"
      ]
     },
     "execution_count": 47,
     "metadata": {},
     "output_type": "execute_result"
    }
   ],
   "source": [
    "# get topic distribution for each document\n",
    "# find the topic with the highest probability\n",
    "# and assign it to the document\n",
    "topic_dist = lda.transform(syn_train1)\n",
    "topic_labels = topic_dist.argmax(axis=1)\n",
    "#put topic labels back to the original dataframe\n",
    "syn_train['topic'] = topic_labels\n",
    "syn_train.head()#get the topic distribution of the synthetic data\n"
   ]
  },
  {
   "cell_type": "code",
   "execution_count": 48,
   "metadata": {},
   "outputs": [
    {
     "name": "stdout",
     "output_type": "stream",
     "text": [
      "pop correct:  0.9993744135126681\n",
      "country correct:  0.9990630855715178\n",
      "blues correct:  0.9990571967316153\n",
      "jazz correct:  0.9984418822062948\n",
      "reggae correct:  0.9990536277602524\n",
      "rock correct:  0.9987456883035434\n",
      "hiphop correct:  0.9993848046754845\n"
     ]
    }
   ],
   "source": [
    "def percentage(df):\n",
    "    count = 0\n",
    "    for i in range(len(df)):\n",
    "        if df.iloc[i,2] == df.iloc[i,3]:\n",
    "            count += 1\n",
    "    return count/len(df)\n",
    "\n",
    "pop = syn_train[syn_train['genre'] == 'pop']\n",
    "country = syn_train[syn_train['genre'] == 'country']\n",
    "blues = syn_train[syn_train['genre'] == 'blues']\n",
    "jazz = syn_train[syn_train['genre'] == 'jazz']\n",
    "reggae = syn_train[syn_train['genre'] == 'reggae']\n",
    "rock = syn_train[syn_train['genre'] == 'rock']\n",
    "hiphop = syn_train[syn_train['genre'] == 'hip hop']\n",
    "\n",
    "print(\"pop correct: \" , percentage(pop))\n",
    "print(\"country correct: \" ,percentage(country))\n",
    "print(\"blues correct: \" ,percentage(blues))\n",
    "print(\"jazz correct: \" ,percentage(jazz))\n",
    "print(\"reggae correct: \" ,percentage(reggae))\n",
    "print(\"rock correct: \" ,percentage(rock))\n",
    "print(\"hiphop correct: \" ,percentage(hiphop))"
   ]
  },
  {
   "cell_type": "markdown",
   "metadata": {},
   "source": []
  },
  {
   "cell_type": "code",
   "execution_count": null,
   "metadata": {},
   "outputs": [],
   "source": []
  },
  {
   "cell_type": "code",
   "execution_count": null,
   "metadata": {},
   "outputs": [],
   "source": []
  }
 ],
 "metadata": {
  "kernelspec": {
   "display_name": "Python 3.10.6 ('base')",
   "language": "python",
   "name": "python3"
  },
  "language_info": {
   "codemirror_mode": {
    "name": "ipython",
    "version": 3
   },
   "file_extension": ".py",
   "mimetype": "text/x-python",
   "name": "python",
   "nbconvert_exporter": "python",
   "pygments_lexer": "ipython3",
   "version": "3.10.6"
  },
  "orig_nbformat": 4,
  "vscode": {
   "interpreter": {
    "hash": "3d597f4c481aa0f25dceb95d2a0067e73c0966dcbd003d741d821a7208527ecf"
   }
  }
 },
 "nbformat": 4,
 "nbformat_minor": 2
}
