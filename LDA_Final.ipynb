{
 "cells": [
  {
   "cell_type": "code",
   "execution_count": 2,
   "metadata": {},
   "outputs": [],
   "source": [
    "import pandas as pd\n",
    "import joblib\n",
    "import numpy as np\n",
    "import os\n",
    "import re\n",
    "import gensim\n",
    "from gensim.utils import simple_preprocess\n",
    "import nltk\n",
    "from nltk.corpus import stopwords\n",
    "from nltk.tokenize import word_tokenize\n",
    "from nltk.stem import WordNetLemmatizer\n",
    "from torchnlp.encoders.text import WhitespaceEncoder\n",
    "from sklearn.feature_extraction.text import CountVectorizer, TfidfVectorizer\n",
    "from sklearn.decomposition import LatentDirichletAllocation\n",
    "from sklearn.model_selection import train_test_split"
   ]
  },
  {
   "cell_type": "code",
   "execution_count": 3,
   "metadata": {},
   "outputs": [],
   "source": [
    "music = pd.read_csv('lyrics_data_clean.csv')"
   ]
  },
  {
   "cell_type": "code",
   "execution_count": 6,
   "metadata": {},
   "outputs": [],
   "source": [
    "music.drop(['Unnamed: 0'], axis=1, inplace=True)"
   ]
  },
  {
   "cell_type": "code",
   "execution_count": 7,
   "metadata": {},
   "outputs": [
    {
     "data": {
      "text/html": [
       "<div>\n",
       "<style scoped>\n",
       "    .dataframe tbody tr th:only-of-type {\n",
       "        vertical-align: middle;\n",
       "    }\n",
       "\n",
       "    .dataframe tbody tr th {\n",
       "        vertical-align: top;\n",
       "    }\n",
       "\n",
       "    .dataframe thead th {\n",
       "        text-align: right;\n",
       "    }\n",
       "</style>\n",
       "<table border=\"1\" class=\"dataframe\">\n",
       "  <thead>\n",
       "    <tr style=\"text-align: right;\">\n",
       "      <th></th>\n",
       "      <th>genre</th>\n",
       "      <th>lyrics</th>\n",
       "    </tr>\n",
       "  </thead>\n",
       "  <tbody>\n",
       "    <tr>\n",
       "      <th>0</th>\n",
       "      <td>pop</td>\n",
       "      <td>hold time feel break feel untrue convince spea...</td>\n",
       "    </tr>\n",
       "    <tr>\n",
       "      <th>1</th>\n",
       "      <td>pop</td>\n",
       "      <td>believe drop rain fall grow believe darkest ni...</td>\n",
       "    </tr>\n",
       "    <tr>\n",
       "      <th>2</th>\n",
       "      <td>pop</td>\n",
       "      <td>sweetheart send letter goodbye secret feel bet...</td>\n",
       "    </tr>\n",
       "    <tr>\n",
       "      <th>3</th>\n",
       "      <td>pop</td>\n",
       "      <td>kiss lips want stroll charm mambo chacha merin...</td>\n",
       "    </tr>\n",
       "    <tr>\n",
       "      <th>4</th>\n",
       "      <td>pop</td>\n",
       "      <td>till darling till matter know till dream live ...</td>\n",
       "    </tr>\n",
       "  </tbody>\n",
       "</table>\n",
       "</div>"
      ],
      "text/plain": [
       "  genre                                             lyrics\n",
       "0   pop  hold time feel break feel untrue convince spea...\n",
       "1   pop  believe drop rain fall grow believe darkest ni...\n",
       "2   pop  sweetheart send letter goodbye secret feel bet...\n",
       "3   pop  kiss lips want stroll charm mambo chacha merin...\n",
       "4   pop  till darling till matter know till dream live ..."
      ]
     },
     "execution_count": 7,
     "metadata": {},
     "output_type": "execute_result"
    }
   ],
   "source": [
    "music.head()"
   ]
  },
  {
   "cell_type": "markdown",
   "metadata": {},
   "source": [
    "## split train/test data set"
   ]
  },
  {
   "cell_type": "code",
   "execution_count": 8,
   "metadata": {},
   "outputs": [],
   "source": [
    "xtrain, xtest, ytrain, ytest = train_test_split(\n",
    "    music[\"lyrics\"].to_frame(), music[\"genre\"], test_size=0.20, random_state=42\n",
    ")"
   ]
  },
  {
   "cell_type": "code",
   "execution_count": 9,
   "metadata": {},
   "outputs": [
    {
     "name": "stdout",
     "output_type": "stream",
     "text": [
      "(22697, 1)\n",
      "(5675, 1)\n"
     ]
    },
    {
     "data": {
      "text/html": [
       "<div>\n",
       "<style scoped>\n",
       "    .dataframe tbody tr th:only-of-type {\n",
       "        vertical-align: middle;\n",
       "    }\n",
       "\n",
       "    .dataframe tbody tr th {\n",
       "        vertical-align: top;\n",
       "    }\n",
       "\n",
       "    .dataframe thead th {\n",
       "        text-align: right;\n",
       "    }\n",
       "</style>\n",
       "<table border=\"1\" class=\"dataframe\">\n",
       "  <thead>\n",
       "    <tr style=\"text-align: right;\">\n",
       "      <th></th>\n",
       "      <th>lyrics</th>\n",
       "    </tr>\n",
       "  </thead>\n",
       "  <tbody>\n",
       "    <tr>\n",
       "      <th>12548</th>\n",
       "      <td>close nights morose beguine begin future look ...</td>\n",
       "    </tr>\n",
       "    <tr>\n",
       "      <th>8688</th>\n",
       "      <td>struttin stuff struttin stuff struttin stuff s...</td>\n",
       "    </tr>\n",
       "    <tr>\n",
       "      <th>17255</th>\n",
       "      <td>remember remember remember remember moon look ...</td>\n",
       "    </tr>\n",
       "    <tr>\n",
       "      <th>3737</th>\n",
       "      <td>russia wiser goodbye travel world learn return...</td>\n",
       "    </tr>\n",
       "    <tr>\n",
       "      <th>19343</th>\n",
       "      <td>good good good good good good good good good g...</td>\n",
       "    </tr>\n",
       "    <tr>\n",
       "      <th>...</th>\n",
       "      <td>...</td>\n",
       "    </tr>\n",
       "    <tr>\n",
       "      <th>21575</th>\n",
       "      <td>greatest punchin right punchin leave punchin f...</td>\n",
       "    </tr>\n",
       "    <tr>\n",
       "      <th>5390</th>\n",
       "      <td>lovely lovely vision stick inside memory forge...</td>\n",
       "    </tr>\n",
       "    <tr>\n",
       "      <th>860</th>\n",
       "      <td>teardrops heart cryin teardrops heart leave la...</td>\n",
       "    </tr>\n",
       "    <tr>\n",
       "      <th>15795</th>\n",
       "      <td>go buy monkey pawn shop broker teach monkey gu...</td>\n",
       "    </tr>\n",
       "    <tr>\n",
       "      <th>23654</th>\n",
       "      <td>go walk morning young couple fondly stray youn...</td>\n",
       "    </tr>\n",
       "  </tbody>\n",
       "</table>\n",
       "<p>22697 rows × 1 columns</p>\n",
       "</div>"
      ],
      "text/plain": [
       "                                                  lyrics\n",
       "12548  close nights morose beguine begin future look ...\n",
       "8688   struttin stuff struttin stuff struttin stuff s...\n",
       "17255  remember remember remember remember moon look ...\n",
       "3737   russia wiser goodbye travel world learn return...\n",
       "19343  good good good good good good good good good g...\n",
       "...                                                  ...\n",
       "21575  greatest punchin right punchin leave punchin f...\n",
       "5390   lovely lovely vision stick inside memory forge...\n",
       "860    teardrops heart cryin teardrops heart leave la...\n",
       "15795  go buy monkey pawn shop broker teach monkey gu...\n",
       "23654  go walk morning young couple fondly stray youn...\n",
       "\n",
       "[22697 rows x 1 columns]"
      ]
     },
     "execution_count": 9,
     "metadata": {},
     "output_type": "execute_result"
    }
   ],
   "source": [
    "for x_ in (xtrain, xtest):\n",
    "    print(x_.shape)\n",
    "\n",
    "xtrain"
   ]
  },
  {
   "cell_type": "code",
   "execution_count": 10,
   "metadata": {},
   "outputs": [
    {
     "data": {
      "text/html": [
       "<div>\n",
       "<style scoped>\n",
       "    .dataframe tbody tr th:only-of-type {\n",
       "        vertical-align: middle;\n",
       "    }\n",
       "\n",
       "    .dataframe tbody tr th {\n",
       "        vertical-align: top;\n",
       "    }\n",
       "\n",
       "    .dataframe thead th {\n",
       "        text-align: right;\n",
       "    }\n",
       "</style>\n",
       "<table border=\"1\" class=\"dataframe\">\n",
       "  <thead>\n",
       "    <tr style=\"text-align: right;\">\n",
       "      <th></th>\n",
       "      <th>lyrics</th>\n",
       "      <th>genre</th>\n",
       "    </tr>\n",
       "  </thead>\n",
       "  <tbody>\n",
       "    <tr>\n",
       "      <th>12548</th>\n",
       "      <td>close nights morose beguine begin future look ...</td>\n",
       "      <td>blues</td>\n",
       "    </tr>\n",
       "    <tr>\n",
       "      <th>8688</th>\n",
       "      <td>struttin stuff struttin stuff struttin stuff s...</td>\n",
       "      <td>country</td>\n",
       "    </tr>\n",
       "    <tr>\n",
       "      <th>17255</th>\n",
       "      <td>remember remember remember remember moon look ...</td>\n",
       "      <td>jazz</td>\n",
       "    </tr>\n",
       "    <tr>\n",
       "      <th>3737</th>\n",
       "      <td>russia wiser goodbye travel world learn return...</td>\n",
       "      <td>pop</td>\n",
       "    </tr>\n",
       "    <tr>\n",
       "      <th>19343</th>\n",
       "      <td>good good good good good good good good good g...</td>\n",
       "      <td>jazz</td>\n",
       "    </tr>\n",
       "  </tbody>\n",
       "</table>\n",
       "</div>"
      ],
      "text/plain": [
       "                                                  lyrics    genre\n",
       "12548  close nights morose beguine begin future look ...    blues\n",
       "8688   struttin stuff struttin stuff struttin stuff s...  country\n",
       "17255  remember remember remember remember moon look ...     jazz\n",
       "3737   russia wiser goodbye travel world learn return...      pop\n",
       "19343  good good good good good good good good good g...     jazz"
      ]
     },
     "execution_count": 10,
     "metadata": {},
     "output_type": "execute_result"
    }
   ],
   "source": [
    "music_train = pd.concat([xtrain, ytrain], axis=1)\n",
    "music_train.head(5)"
   ]
  },
  {
   "cell_type": "code",
   "execution_count": 11,
   "metadata": {},
   "outputs": [
    {
     "name": "stderr",
     "output_type": "stream",
     "text": [
      "/opt/miniconda3/lib/python3.10/site-packages/sklearn/feature_extraction/text.py:1330: UserWarning: Upper case characters found in vocabulary while 'lowercase' is True. These entries will not be matched with any documents\n",
      "  warnings.warn(\n"
     ]
    },
    {
     "data": {
      "text/html": [
       "<style>#sk-container-id-1 {color: black;background-color: white;}#sk-container-id-1 pre{padding: 0;}#sk-container-id-1 div.sk-toggleable {background-color: white;}#sk-container-id-1 label.sk-toggleable__label {cursor: pointer;display: block;width: 100%;margin-bottom: 0;padding: 0.3em;box-sizing: border-box;text-align: center;}#sk-container-id-1 label.sk-toggleable__label-arrow:before {content: \"▸\";float: left;margin-right: 0.25em;color: #696969;}#sk-container-id-1 label.sk-toggleable__label-arrow:hover:before {color: black;}#sk-container-id-1 div.sk-estimator:hover label.sk-toggleable__label-arrow:before {color: black;}#sk-container-id-1 div.sk-toggleable__content {max-height: 0;max-width: 0;overflow: hidden;text-align: left;background-color: #f0f8ff;}#sk-container-id-1 div.sk-toggleable__content pre {margin: 0.2em;color: black;border-radius: 0.25em;background-color: #f0f8ff;}#sk-container-id-1 input.sk-toggleable__control:checked~div.sk-toggleable__content {max-height: 200px;max-width: 100%;overflow: auto;}#sk-container-id-1 input.sk-toggleable__control:checked~label.sk-toggleable__label-arrow:before {content: \"▾\";}#sk-container-id-1 div.sk-estimator input.sk-toggleable__control:checked~label.sk-toggleable__label {background-color: #d4ebff;}#sk-container-id-1 div.sk-label input.sk-toggleable__control:checked~label.sk-toggleable__label {background-color: #d4ebff;}#sk-container-id-1 input.sk-hidden--visually {border: 0;clip: rect(1px 1px 1px 1px);clip: rect(1px, 1px, 1px, 1px);height: 1px;margin: -1px;overflow: hidden;padding: 0;position: absolute;width: 1px;}#sk-container-id-1 div.sk-estimator {font-family: monospace;background-color: #f0f8ff;border: 1px dotted black;border-radius: 0.25em;box-sizing: border-box;margin-bottom: 0.5em;}#sk-container-id-1 div.sk-estimator:hover {background-color: #d4ebff;}#sk-container-id-1 div.sk-parallel-item::after {content: \"\";width: 100%;border-bottom: 1px solid gray;flex-grow: 1;}#sk-container-id-1 div.sk-label:hover label.sk-toggleable__label {background-color: #d4ebff;}#sk-container-id-1 div.sk-serial::before {content: \"\";position: absolute;border-left: 1px solid gray;box-sizing: border-box;top: 0;bottom: 0;left: 50%;z-index: 0;}#sk-container-id-1 div.sk-serial {display: flex;flex-direction: column;align-items: center;background-color: white;padding-right: 0.2em;padding-left: 0.2em;position: relative;}#sk-container-id-1 div.sk-item {position: relative;z-index: 1;}#sk-container-id-1 div.sk-parallel {display: flex;align-items: stretch;justify-content: center;background-color: white;position: relative;}#sk-container-id-1 div.sk-item::before, #sk-container-id-1 div.sk-parallel-item::before {content: \"\";position: absolute;border-left: 1px solid gray;box-sizing: border-box;top: 0;bottom: 0;left: 50%;z-index: -1;}#sk-container-id-1 div.sk-parallel-item {display: flex;flex-direction: column;z-index: 1;position: relative;background-color: white;}#sk-container-id-1 div.sk-parallel-item:first-child::after {align-self: flex-end;width: 50%;}#sk-container-id-1 div.sk-parallel-item:last-child::after {align-self: flex-start;width: 50%;}#sk-container-id-1 div.sk-parallel-item:only-child::after {width: 0;}#sk-container-id-1 div.sk-dashed-wrapped {border: 1px dashed gray;margin: 0 0.4em 0.5em 0.4em;box-sizing: border-box;padding-bottom: 0.4em;background-color: white;}#sk-container-id-1 div.sk-label label {font-family: monospace;font-weight: bold;display: inline-block;line-height: 1.2em;}#sk-container-id-1 div.sk-label-container {text-align: center;}#sk-container-id-1 div.sk-container {/* jupyter's `normalize.less` sets `[hidden] { display: none; }` but bootstrap.min.css set `[hidden] { display: none !important; }` so we also need the `!important` here to be able to override the default hidden behavior on the sphinx rendered scikit-learn.org. See: https://github.com/scikit-learn/scikit-learn/issues/21755 */display: inline-block !important;position: relative;}#sk-container-id-1 div.sk-text-repr-fallback {display: none;}</style><div id=\"sk-container-id-1\" class=\"sk-top-container\"><div class=\"sk-text-repr-fallback\"><pre>LatentDirichletAllocation(n_components=7, n_jobs=-1, random_state=42)</pre><b>In a Jupyter environment, please rerun this cell to show the HTML representation or trust the notebook. <br />On GitHub, the HTML representation is unable to render, please try loading this page with nbviewer.org.</b></div><div class=\"sk-container\" hidden><div class=\"sk-item\"><div class=\"sk-estimator sk-toggleable\"><input class=\"sk-toggleable__control sk-hidden--visually\" id=\"sk-estimator-id-1\" type=\"checkbox\" checked><label for=\"sk-estimator-id-1\" class=\"sk-toggleable__label sk-toggleable__label-arrow\">LatentDirichletAllocation</label><div class=\"sk-toggleable__content\"><pre>LatentDirichletAllocation(n_components=7, n_jobs=-1, random_state=42)</pre></div></div></div></div></div>"
      ],
      "text/plain": [
       "LatentDirichletAllocation(n_components=7, n_jobs=-1, random_state=42)"
      ]
     },
     "execution_count": 11,
     "metadata": {},
     "output_type": "execute_result"
    }
   ],
   "source": [
    "# load encoder\n",
    "with open(\"encoder.pickle\", \"rb\") as f:\n",
    "    encoder: WhitespaceEncoder = joblib.load(f)\n",
    "\n",
    "cv = CountVectorizer(vocabulary = encoder.token_to_index)\n",
    "xtrain1 = cv.fit_transform(xtrain['lyrics'].tolist())\n",
    "lda = LatentDirichletAllocation(n_components=7, random_state=42, n_jobs=-1)\n",
    "lda.fit(xtrain1)"
   ]
  },
  {
   "cell_type": "code",
   "execution_count": 14,
   "metadata": {},
   "outputs": [
    {
     "name": "stdout",
     "output_type": "stream",
     "text": [
      "========================================Genre 0========================================\n",
      "like fuck bitch shit money know yeah real cause smoke need wanna time tell world high look come think want girl feel right people damn life talk woman gotta fuckin roll stay work sell check hard drink city bout go watch face pussy fake catch game hoe live ride straight\n",
      "\n",
      "========================================Genre 1========================================\n",
      "heart baby hold night know long tonight right leave kiss like believe feel want come sweet time stay need eye go dream arm wait tell girl hand cause love true touch break close darling tear yeah promise little woman start apart fall wanna look dear light tight lips think till\n",
      "\n",
      "========================================Genre 2========================================\n",
      "away go good break know walk lonely home gonna feel leave come heart miss fool tell tear yeah stand wish little goodbye cry baby morning rain look cause think say like want whoa fade stay night take sleep hurt girl place time dream days hide belong memory yesterday wonder pain\n",
      "\n",
      "========================================Genre 3========================================\n",
      "fall feel come inside eye like head know dead cold blood black stand burn soul face leave hand fear hear lose fight pain lie death wall turn hell hide live save kill grind devil die light life follow tear break deep word mind wind world look call alive breathe speak\n",
      "\n",
      "========================================Genre 4========================================\n",
      "like yeah know better cause come gonna play want party shoot tell wanna gotta right head bout night say stop start talk little good think get everybody game kick baby watch girl hear look ready beat turn hand goin sound go drop sick work black feel damn throw time shake\n",
      "\n",
      "========================================Genre 5========================================\n",
      "sing song blue hear right come music home play remember hand go ring bring lord like sweet songs long summer kill word money listen people say white write roll days dance woman night call fight land time know little yeah guitar band moon sound swing head christmas black light year\n",
      "\n",
      "========================================Genre 6========================================\n",
      "time life live know world mind change come think want need things cause go dream look lose like feel give today love leave yeah learn hard forget long days take tell right somebody true wanna remember tomorrow turn better reason gonna believe ready thing forever matter grow make hurt years\n",
      "\n"
     ]
    }
   ],
   "source": [
    "top_k_per_topic = lda.components_.argsort(axis=1)[:, -50:]\n",
    "for idx, topic in enumerate(top_k_per_topic):\n",
    "    print(\"=\" * 40 + f\"Genre {idx}\" + \"=\" * 40)\n",
    "    print(encoder.decode(topic[::-1]))\n",
    "    print()"
   ]
  },
  {
   "cell_type": "code",
   "execution_count": 19,
   "metadata": {},
   "outputs": [
    {
     "name": "stderr",
     "output_type": "stream",
     "text": [
      "/opt/miniconda3/lib/python3.10/site-packages/sklearn/utils/deprecation.py:87: FutureWarning: Function get_feature_names is deprecated; get_feature_names is deprecated in 1.0 and will be removed in 1.2. Please use get_feature_names_out instead.\n",
      "  warnings.warn(msg, category=FutureWarning)\n",
      "/opt/miniconda3/lib/python3.10/site-packages/pyLDAvis/_prepare.py:247: FutureWarning: In a future version of pandas all arguments of DataFrame.drop except for the argument 'labels' will be keyword-only.\n",
      "  by='saliency', ascending=False).head(R).drop('saliency', 1)\n",
      "/opt/miniconda3/lib/python3.10/site-packages/past/builtins/misc.py:45: DeprecationWarning: the imp module is deprecated in favour of importlib and slated for removal in Python 3.12; see the module's documentation for alternative uses\n",
      "  from imp import reload\n"
     ]
    },
    {
     "data": {
      "text/html": [
       "\n",
       "<link rel=\"stylesheet\" type=\"text/css\" href=\"https://cdn.jsdelivr.net/gh/bmabey/pyLDAvis@3.3.1/pyLDAvis/js/ldavis.v1.0.0.css\">\n",
       "\n",
       "\n",
       "<div id=\"ldavis_el5206113664064484525719921\"></div>\n",
       "<script type=\"text/javascript\">\n",
       "\n",
       "var ldavis_el5206113664064484525719921_data = {\"mdsDat\": {\"x\": [0.015120224418529934, 0.08846782260988127, -0.13336067592711986, 0.1597500167137906, -0.16505228394977636, 0.1405468335027809, -0.10547193736808647], \"y\": [-0.05242697719700307, 0.049154948692492186, 0.07705717193129542, 0.019479064739501832, 0.11181651963121997, 0.0017641022464076356, -0.20684483004391388], \"topics\": [1, 2, 3, 4, 5, 6, 7], \"cluster\": [1, 1, 1, 1, 1, 1, 1], \"Freq\": [18.596575330568808, 18.214618366406437, 15.798011276112703, 13.777907046360175, 12.890781672258184, 11.725987486049712, 8.996118822243986]}, \"tinfo\": {\"Term\": [\"away\", \"heart\", \"life\", \"time\", \"baby\", \"sing\", \"fuck\", \"hold\", \"good\", \"song\", \"blue\", \"tonight\", \"live\", \"go\", \"bitch\", \"night\", \"like\", \"lonely\", \"home\", \"break\", \"fall\", \"shit\", \"long\", \"change\", \"kiss\", \"money\", \"hear\", \"gonna\", \"walk\", \"music\", \"kingdom\", \"eliminate\", \"entrance\", \"honour\", \"terrorist\", \"gasp\", \"doom\", \"meaningless\", \"limb\", \"lest\", \"liars\", \"collapse\", \"domination\", \"forge\", \"necessities\", \"victims\", \"sanctuary\", \"dragons\", \"giants\", \"robot\", \"countless\", \"irresistible\", \"flood\", \"amidst\", \"condemn\", \"demon\", \"suffocate\", \"torture\", \"error\", \"serenity\", \"bleed\", \"grave\", \"silence\", \"brave\", \"blood\", \"death\", \"shadow\", \"sin\", \"demons\", \"reveal\", \"human\", \"devil\", \"darkness\", \"fear\", \"crawl\", \"silent\", \"fall\", \"earth\", \"bury\", \"dead\", \"wall\", \"skin\", \"power\", \"cold\", \"burn\", \"die\", \"follow\", \"breathe\", \"inside\", \"rise\", \"lie\", \"soul\", \"scream\", \"grind\", \"black\", \"hell\", \"blind\", \"save\", \"pain\", \"eye\", \"fight\", \"head\", \"feel\", \"hide\", \"face\", \"stand\", \"deep\", \"come\", \"hand\", \"lose\", \"hear\", \"like\", \"know\", \"leave\", \"turn\", \"live\", \"thankful\", \"primitive\", \"breakaway\", \"therapy\", \"weasel\", \"entries\", \"climax\", \"situations\", \"massachusetts\", \"foggy\", \"awareness\", \"longest\", \"removal\", \"unwanted\", \"dj\", \"goodies\", \"advertise\", \"disneyland\", \"grinder\", \"wallpaper\", \"quality\", \"unsung\", \"variation\", \"unbearable\", \"abomination\", \"obligations\", \"anniversary\", \"low\", \"mindful\", \"friendships\", \"change\", \"loser\", \"life\", \"learn\", \"isolation\", \"live\", \"ordinary\", \"time\", \"waste\", \"today\", \"forgive\", \"tomorrow\", \"easy\", \"simple\", \"mind\", \"things\", \"ways\", \"search\", \"somebody\", \"world\", \"reason\", \"thank\", \"woah\", \"give\", \"forget\", \"spend\", \"lesson\", \"matter\", \"everyday\", \"love\", \"realize\", \"think\", \"hard\", \"ready\", \"days\", \"lose\", \"know\", \"need\", \"dream\", \"want\", \"come\", \"look\", \"cause\", \"go\", \"take\", \"feel\", \"true\", \"leave\", \"like\", \"yeah\", \"long\", \"party\", \"funky\", \"pump\", \"riot\", \"feat\", \"rude\", \"saturday\", \"jam\", \"redneck\", \"remix\", \"disco\", \"speakers\", \"garbage\", \"bros\", \"wednesday\", \"panorama\", \"underwear\", \"burner\", \"chickens\", \"beep\", \"badass\", \"bumper\", \"godfather\", \"oops\", \"delegation\", \"outfit\", \"basketball\", \"groove\", \"prod\", \"backup\", \"shoot\", \"rockin\", \"ladies\", \"bully\", \"kick\", \"freak\", \"bucket\", \"friday\", \"sexy\", \"dirty\", \"shots\", \"club\", \"chicken\", \"sick\", \"jump\", \"better\", \"bout\", \"goin\", \"boys\", \"knock\", \"trigger\", \"crew\", \"ball\", \"shout\", \"girls\", \"radio\", \"kid\", \"yeah\", \"everybody\", \"shake\", \"play\", \"gotta\", \"like\", \"gonna\", \"cause\", \"drop\", \"game\", \"stop\", \"talk\", \"know\", \"wanna\", \"come\", \"head\", \"want\", \"get\", \"start\", \"tell\", \"ready\", \"say\", \"beat\", \"right\", \"watch\", \"night\", \"little\", \"good\", \"think\", \"baby\", \"wonderland\", \"goodnight\", \"tonight\", \"apartheid\", \"kindest\", \"disclose\", \"indestructible\", \"darling\", \"beaucoup\", \"errands\", \"kiss\", \"onboard\", \"mancini\", \"cheesecake\", \"curiosity\", \"dickhead\", \"prophetic\", \"dental\", \"moist\", \"scumbags\", \"arm\", \"para\", \"bollocks\", \"doodle\", \"bristol\", \"pantomime\", \"methuselah\", \"lips\", \"delightful\", \"bouquet\", \"thrill\", \"lover\", \"charm\", \"hold\", \"lovely\", \"tight\", \"oooh\", \"baby\", \"heart\", \"dear\", \"sweetheart\", \"promise\", \"apart\", \"sweet\", \"night\", \"lady\", \"believe\", \"touch\", \"wait\", \"awhile\", \"long\", \"babe\", \"warm\", \"close\", \"stay\", \"true\", \"right\", \"leave\", \"love\", \"eye\", \"know\", \"dream\", \"girl\", \"want\", \"feel\", \"need\", \"like\", \"come\", \"hand\", \"time\", \"go\", \"tell\", \"cause\", \"hoe\", \"bitch\", \"blah\", \"snoop\", \"man\", \"dogg\", \"award\", \"imma\", \"digital\", \"riders\", \"giggle\", \"elevate\", \"member\", \"department\", \"grams\", \"chump\", \"kodak\", \"oxygen\", \"instagram\", \"mane\", \"bananas\", \"remake\", \"material\", \"project\", \"corona\", \"ideal\", \"stamina\", \"nazi\", \"female\", \"obama\", \"pussy\", \"fuck\", \"weed\", \"dope\", \"fuckin\", \"drug\", \"gucci\", \"lyrical\", \"drama\", \"blunt\", \"bruh\", \"shit\", \"smoke\", \"whip\", \"diamonds\", \"flex\", \"thang\", \"fake\", \"large\", \"main\", \"money\", \"cheese\", \"legend\", \"real\", \"outta\", \"paper\", \"pop\", \"hood\", \"action\", \"business\", \"lean\", \"team\", \"sell\", \"cash\", \"like\", \"dont\", \"high\", \"damn\", \"school\", \"deal\", \"city\", \"yeah\", \"check\", \"cause\", \"know\", \"wanna\", \"need\", \"tell\", \"world\", \"look\", \"girl\", \"think\", \"people\", \"time\", \"woman\", \"want\", \"come\", \"talk\", \"feel\", \"gotta\", \"right\", \"life\", \"radical\", \"prairie\", \"vacancy\", \"creepy\", \"nazis\", \"crunchy\", \"teenager\", \"regulation\", \"lonely\", \"indoor\", \"heartbreak\", \"achievement\", \"eachother\", \"away\", \"hows\", \"blunder\", \"goodbye\", \"dynamic\", \"doorstep\", \"asset\", \"goooo\", \"workshop\", \"hmmmm\", \"whoa\", \"granola\", \"ser\", \"interstellar\", \"pennsylvania\", \"wildly\", \"dangerously\", \"photograph\", \"miss\", \"letter\", \"good\", \"fool\", \"yesterday\", \"walk\", \"fade\", \"cry\", \"memory\", \"morning\", \"belong\", \"break\", \"whatcha\", \"home\", \"memories\", \"someday\", \"wish\", \"rain\", \"nights\", \"go\", \"slip\", \"steal\", \"tear\", \"gonna\", \"window\", \"piece\", \"stand\", \"leave\", \"feel\", \"little\", \"know\", \"sleep\", \"tell\", \"heart\", \"come\", \"yeah\", \"hurt\", \"look\", \"baby\", \"think\", \"cause\", \"say\", \"christmas\", \"reggae\", \"sing\", \"bell\", \"jingle\", \"mississippi\", \"sleigh\", \"chevrolet\", \"choo\", \"louisiana\", \"halloween\", \"vampire\", \"songs\", \"moody\", \"carol\", \"timer\", \"zimbabwe\", \"africa\", \"strict\", \"joyful\", \"mistletoe\", \"philadelphia\", \"complaint\", \"miner\", \"catholic\", \"indians\", \"song\", \"virtual\", \"kentucky\", \"tennessee\", \"jazz\", \"alabama\", \"september\", \"guitar\", \"music\", \"chicago\", \"root\", \"texas\", \"blue\", \"memphis\", \"papa\", \"ring\", \"tune\", \"american\", \"swing\", \"whistle\", \"summer\", \"spring\", \"zoom\", \"rhythm\", \"holy\", \"band\", \"hear\", \"country\", \"lord\", \"remember\", \"year\", \"play\", \"silver\", \"home\", \"land\", \"white\", \"right\", \"write\", \"listen\", \"bring\", \"sweet\", \"come\", \"kill\", \"hand\", \"word\", \"dance\", \"roll\", \"money\", \"go\", \"long\", \"people\", \"like\", \"days\", \"say\"], \"Freq\": [13373.0, 13412.0, 12598.0, 20882.0, 10861.0, 4789.0, 5117.0, 7783.0, 8006.0, 3682.0, 4338.0, 4322.0, 10154.0, 13370.0, 3333.0, 9402.0, 23440.0, 3438.0, 5934.0, 8104.0, 7538.0, 3670.0, 8293.0, 4948.0, 3349.0, 4110.0, 6995.0, 8227.0, 5263.0, 2304.0, 265.545166265906, 66.51874800566195, 48.68207785476562, 41.74958759995787, 42.657883409761624, 34.816067904415355, 144.74804769370292, 35.68413771038726, 31.66029721094063, 25.897171352517145, 40.14450845072514, 62.08871384260392, 22.9275405711546, 22.926679549303962, 21.936934232946314, 80.09871565557992, 47.67300674687415, 18.964459058044575, 50.26312310641234, 43.48394343293266, 16.982801158358985, 16.98226546060306, 137.3447133441746, 15.989926451051423, 52.62533632964485, 155.72881217484326, 66.59629131721184, 114.42358773188703, 15.00070329053574, 18.749275943625364, 818.2915460309245, 502.73875319869154, 494.8438419766251, 247.46611360445635, 1904.0560222022011, 1383.4364386054967, 443.2153389489751, 231.4652035950354, 207.40386022649656, 235.34616411792297, 572.3391383241396, 1164.061696274557, 543.2819170185977, 1617.7770996648462, 486.26154921601557, 283.16464577658184, 5616.108066860952, 754.617452547615, 456.1032220326171, 2010.4456483999784, 1374.8632692825645, 719.8519048626739, 728.3701377735731, 1988.091927658029, 1801.9317697105155, 1163.614922640167, 1141.130989760184, 956.3119603759022, 2426.0236421964937, 750.7005382104803, 1404.343331405237, 1786.2263602914759, 798.2433114900973, 1164.5549461697897, 1902.1672517381658, 1324.9988880149929, 874.3410340857272, 1203.7786914533965, 1466.9143075404172, 2378.269412772475, 1536.7099728997887, 2059.4512332426757, 3719.6229653452874, 1284.1300084068448, 1718.2238605683979, 1802.8432213054123, 1060.487808866325, 3128.969807669368, 1635.200393294923, 1537.1392831375747, 1613.6098041674732, 2073.3966844074025, 2055.2580083397615, 1672.169131373989, 1330.3273006227244, 1275.846425133432, 77.81274806426664, 48.40653510913827, 29.692829208187575, 70.64849801563884, 23.78096112925179, 21.81069128155077, 20.823865382148156, 20.758324925743924, 18.85677631999377, 22.56418177763983, 15.89681273250628, 49.472645901326146, 12.944793565999943, 11.959265448378835, 11.95560976816404, 38.52226262135001, 33.38172556902741, 9.005895341940269, 9.003775142796822, 9.003322811548228, 27.792469533642773, 8.020435826652731, 8.015861556940488, 17.813240571266377, 8.011188671710707, 8.002017063108566, 46.18972153832252, 52.32376660676073, 7.035607585133309, 7.032622598745946, 4410.9059626235685, 135.41173961987175, 10314.642182523634, 1736.376544730285, 44.0316786229665, 7684.354460399526, 108.91238585457126, 14678.471430060947, 1006.4583030284308, 1877.0478797161647, 491.9935738688465, 1296.9524305453162, 1022.7091851001077, 478.67083917306064, 4418.085845059994, 3040.632792794269, 709.4693906849171, 676.568287968319, 1357.0276602368313, 4966.395430082954, 1187.4972261605978, 897.0834768965656, 517.2212925488793, 1932.6507808673634, 1667.9872394269803, 916.921301378411, 208.22098649355593, 1055.0588820811993, 493.05008193474424, 1844.238037665607, 451.17365421898444, 3660.467465902028, 1695.264505271752, 1147.5921350796514, 1551.9586490698357, 2257.5426440389488, 7595.201281257285, 3118.6730743768835, 2417.1779740570155, 3328.6942449619796, 3816.4334358572305, 2287.9226961595987, 2560.7971558107415, 2546.5942430463488, 1499.7435393441542, 2077.385790535337, 1353.5200263997142, 1775.6734287252868, 2148.9902893848316, 1752.1461463065177, 1569.1771898056293, 2099.557761863685, 339.8803816539079, 306.45113518312456, 212.2317811262111, 183.75608248700706, 106.06080339106228, 310.14875353754934, 80.63356484965819, 70.83515760439462, 68.87294899979051, 61.01723212884211, 61.97696245561827, 55.12596855700362, 47.26489916574102, 55.81403649284435, 35.48888269618518, 34.50363751879054, 30.57837101850723, 31.533142669346482, 29.595766159412143, 32.43780861280368, 28.61523496856064, 26.651310312587825, 26.65099303924946, 26.6505123278275, 24.686776504151414, 23.705389613916076, 236.01569821819044, 22.723676517779978, 22.722560927792465, 2080.9060196948194, 359.2213306744929, 383.3068570739957, 38.74882450776107, 1094.4910161558525, 398.6850277378558, 101.13013680604529, 214.59201690126358, 138.83106553939544, 670.4326310637844, 281.7065558436334, 559.581842423411, 179.63164506313586, 788.2112299154527, 585.3193498661245, 3557.3467544842833, 1526.7374980843438, 926.59595498073, 573.8194322742381, 658.8985490779794, 222.330586185309, 296.29288423160006, 602.8768752385085, 509.82393744755905, 700.4101600351587, 623.6255804757408, 539.1288310498617, 5415.078875247463, 1122.3431920467585, 742.1915761854247, 2475.1898427110195, 1650.9278008842934, 6408.482079009123, 2977.7869934595506, 3347.93242439264, 816.6323196398139, 1100.112182426716, 1405.485749108063, 1262.844095236355, 4500.849442002091, 1855.243217883538, 3319.1984893614863, 1526.8424347740886, 2246.8711465910164, 1137.0609843389943, 1360.0456199511557, 1901.3054969330192, 970.6235658666989, 1445.7908286292666, 946.8196619195752, 1593.0495068922526, 1059.459361410083, 1460.7624316884012, 1225.3259439004796, 1172.440102752589, 1172.1707061550303, 1072.9634490477486, 150.54378297926442, 282.134683583809, 4156.335956609921, 19.92580044079929, 15.971673523074287, 11.021308821412251, 11.02105173974701, 1381.775234357371, 10.031449432739848, 10.031242910395077, 3062.365433286582, 9.046340377879437, 9.045494898659399, 9.044994959778192, 9.042812788392814, 9.041983670569117, 9.041070475966198, 9.039930304911874, 9.037151693708871, 7.064646850290234, 1900.4444535795783, 20.148038741731504, 6.065603105848129, 42.085971827092294, 5.084271025414979, 5.084219760908484, 5.082804142049733, 930.6123931400531, 18.459773008485325, 39.86606899679175, 500.37357176301947, 848.5404048186331, 242.5257877121913, 5973.9856695294975, 435.55782513328165, 937.0973067324945, 398.34760565233495, 7856.06268388458, 9608.061958011895, 961.728241268587, 200.2142633905013, 1134.741946697163, 1083.4198448147429, 2327.579868721013, 5483.319361391351, 523.5391890250401, 2970.4972239320514, 1479.642529683341, 1877.067424885105, 126.60883628076847, 4644.088556665661, 521.3075694874062, 556.8528014607724, 1385.8323409853886, 2183.7437089711366, 1514.1114576228867, 3224.948394782125, 3202.370687729488, 1549.101326129585, 2072.3210835311643, 5473.8667204495205, 1932.198140110811, 1685.1038980439896, 2664.513152741933, 2776.0770019030124, 2166.455904658531, 3042.1825741489897, 2609.5940908852763, 1633.461025406934, 2295.796213620721, 2007.164116221009, 1825.026083086711, 1566.0573192582297, 482.54137215638343, 3311.3524240056045, 74.70783162079874, 63.77180160833599, 56.81160719522563, 60.70929637519715, 52.82584907499157, 121.1441154421665, 44.88031691576273, 49.69796983029734, 40.90362724760786, 39.85239941145396, 39.83062703219627, 34.939023613289194, 32.950709091819405, 32.950534653992136, 32.935005003601276, 56.178755229089454, 32.93222606189253, 80.38143519723836, 36.799937584752634, 30.96241233724143, 103.52587563170628, 110.17375316525604, 32.86056186664846, 27.97706641704586, 26.98495272676393, 32.76137876322656, 36.5965515644244, 24.99730436053255, 512.329040691073, 4765.857128524002, 372.7975426423758, 414.4679285287196, 635.7498045262266, 412.4775308730931, 126.56324226530553, 66.89968845650259, 114.67003993707422, 147.30256559474816, 48.885598214915596, 3030.3670985278677, 1308.6404207571566, 309.05045743039875, 328.4379166629702, 137.63608226649876, 176.64438139770644, 493.4400577979508, 129.9006750327515, 197.79613454745052, 2729.989440135046, 122.86031176415756, 101.16093351599899, 1992.3711671879425, 428.10205827564675, 441.85606218132705, 209.30677746735523, 312.34549644087434, 246.42273963916176, 326.0641060844647, 310.62940340571384, 203.74856387373137, 565.2875808566913, 381.62881982044127, 7673.143524037489, 313.8213795347737, 1059.1843479940412, 748.9165890807343, 416.92561805030624, 420.64781955793245, 544.7055452195765, 2431.066542324024, 558.6422764804322, 1834.2983730624976, 2603.6840888707625, 1236.004922715096, 1284.435729309113, 1209.4430767820668, 1104.120899908101, 1050.8331334345437, 863.7626438601999, 1025.6270901378125, 752.5965135826032, 1219.5721911743153, 668.444910035768, 966.5714184148505, 1040.1202256097888, 676.6481807195415, 861.7557323950721, 658.8111684803409, 777.2049243741355, 685.9997452023784, 60.289553185049, 30.213251666003348, 29.20995084996889, 23.20001368490088, 23.098774254981308, 18.184942285891147, 14.176236887585459, 10.162493141944324, 3153.491736913467, 9.16232210023561, 157.38496921247219, 8.161396492268418, 7.157457436316521, 11862.101337797245, 6.156032056849033, 13.912097404660294, 1496.4034780821817, 12.055186239956107, 25.81324132835157, 5.155361176242458, 5.153610813977735, 5.149817792042824, 32.154463455093904, 1071.0083558310841, 4.151988297693703, 4.15011356950773, 4.139025507692586, 9.08713136454667, 4.10439789659304, 7.15415907647904, 100.04826460860598, 1894.5302228576804, 456.9685731627217, 5402.769854586403, 1889.434972870125, 696.6375121181599, 3285.2008378879173, 1063.216092594713, 1458.5865851323272, 700.8893078863723, 1316.5795584880937, 731.1191356237342, 4284.003415079789, 106.87707743684679, 3148.4528462156195, 640.0985561071112, 497.4363243907839, 1626.020534652172, 1286.0747151912242, 653.0354518955925, 5716.643492770009, 564.1673101473813, 603.3103895478841, 1814.0291383575186, 2990.503522877893, 431.3448883411834, 598.0201595646233, 1656.2647979082992, 2429.6917766606066, 2825.602457074602, 1522.407314382967, 3722.2439304745244, 955.0476504573086, 1833.947749469592, 2184.1951666340997, 2406.323283939205, 1803.647814203825, 952.7974184170944, 1266.7337892374458, 1378.3788177777803, 1242.8038881633577, 1253.0833757271118, 1114.884632636604, 494.4957070455301, 219.94411158959656, 4770.318984633319, 400.6018566025497, 129.10095823945906, 123.23923563712165, 86.82943845454616, 61.68849146381058, 55.82393959820635, 53.873164061165426, 53.872223861312506, 61.397346426946974, 950.5543795259999, 56.38793364340209, 35.311148132772125, 35.309703623839646, 28.471983939237816, 129.97540925282144, 26.45526641177222, 23.5863125983442, 23.584013558161313, 22.609655064782764, 21.632989345381496, 20.655167232445482, 19.677805891094252, 61.6240211335243, 3514.5628826653347, 17.714849043450982, 68.91966032309469, 134.93406204260677, 128.56812484190155, 88.10047194397175, 132.72497708228744, 527.8088785646715, 1972.712469537916, 113.05610583994337, 374.49389005803044, 235.64073661421168, 3441.5424271159704, 106.87783496112053, 140.0088317399047, 1122.285792558675, 403.8176238008637, 277.8376939177552, 500.1636236503737, 169.32341928305158, 856.3180977715087, 387.8035101203209, 95.0162585217208, 286.66572926408975, 367.8517661292832, 521.6518523941825, 2802.9315616328086, 366.06747463984857, 1025.9014376061, 1305.5457763961222, 451.89634557215874, 1718.0301146071347, 271.3240376931371, 1780.7548803004006, 586.9752338951178, 719.3096873744399, 2235.4333208645758, 697.7510642493355, 803.7296068418301, 1115.4095611375405, 989.1146573206917, 2168.2878418586056, 837.5402593929798, 1210.023429759952, 830.9783532435197, 664.5038814511432, 681.1806936648364, 807.3318422977325, 1134.0532552032564, 929.7091970369285, 742.6876858204433, 994.0938407200829, 677.579669618167, 732.0194569366472], \"Total\": [13373.0, 13412.0, 12598.0, 20882.0, 10861.0, 4789.0, 5117.0, 7783.0, 8006.0, 3682.0, 4338.0, 4322.0, 10154.0, 13370.0, 3333.0, 9402.0, 23440.0, 3438.0, 5934.0, 8104.0, 7538.0, 3670.0, 8293.0, 4948.0, 3349.0, 4110.0, 6995.0, 8227.0, 5263.0, 2304.0, 267.4812625940889, 67.36707701855839, 49.53404865689282, 42.59903032244719, 43.58902033280621, 35.663973140767126, 148.58537282966046, 36.655130251247506, 32.68927838519528, 26.747482959839907, 41.60322179103963, 64.381949915431, 23.775310914083008, 23.77530214289934, 22.784587084508075, 83.21584089099203, 49.53765922586088, 19.812418004003867, 52.51117120201012, 45.554034146189984, 17.830976272240072, 17.830987876331104, 144.60699184100625, 16.84023353994387, 55.462269318071904, 164.40477265698954, 70.32255765879204, 120.85138056159211, 15.849528790102951, 19.81125640451858, 875.0065825910326, 541.6216817021948, 535.8071246024617, 266.39646388795177, 2111.197885884283, 1525.636306265866, 485.7486531265351, 253.5871046481929, 226.876657713265, 258.5161088020935, 648.5461025516374, 1374.6119077572685, 629.111084298931, 2006.4367195884513, 567.7036473841557, 322.51991425774423, 7538.328134665838, 912.4980043737678, 536.1436643734778, 2673.4290339883632, 1851.2502089812424, 929.3153913760437, 953.9431841457638, 2958.3326756182296, 2661.296918144564, 1629.9440114638383, 1617.8965252204853, 1329.7874792584457, 4013.541290992165, 1017.5119675642821, 2183.080310513836, 2996.181845246786, 1150.4877357087037, 1857.7589779981397, 3481.3671492976423, 2215.755842281322, 1315.1546021161705, 2101.0132255483986, 2849.893126769708, 5893.950335998937, 3110.775467483465, 5033.252688996056, 13171.818296588981, 2585.4059687240647, 4339.279158298755, 5140.5388195618825, 1938.876814629847, 18488.927175180957, 6242.30093249611, 5379.600023876589, 6995.277686533741, 23440.419576122003, 26514.56461583908, 10256.336794930694, 5102.812775954382, 10154.501969594889, 78.81015951357055, 49.257385648106855, 30.54095059767671, 72.90721071554731, 24.630500463957084, 22.660359384874987, 21.67527814082216, 21.675725710272314, 19.70512588660676, 23.644702840809675, 16.749922097120745, 52.230108338960335, 13.794672466315014, 12.809619156301483, 12.809637806414644, 41.36035965282625, 36.435176588767966, 9.854377148059786, 9.854380486435796, 9.85439082748574, 30.52539251223628, 8.869302116279451, 8.869328157117149, 19.71111642995285, 8.869373148089817, 8.869174668478536, 51.292064714719174, 58.14600578243338, 7.884235168631354, 7.884234702867189, 4948.111021155436, 155.61876482529178, 12598.611823290581, 2135.591828636867, 50.273218241372284, 10154.501969594889, 127.19240219507645, 20882.64282165719, 1320.6472187764525, 2560.6580844446426, 638.9224760888866, 1792.0875892988538, 1406.3385910364664, 628.0999800681336, 6864.816629501602, 4601.052071543146, 998.8707799929778, 951.8209348132103, 2030.800780439762, 8392.976845109546, 1796.9524066778536, 1360.145462945829, 748.269408614321, 3389.4419106779546, 2898.45211927373, 1532.8243249284178, 282.19882377508293, 1844.1801534548722, 763.2216289141514, 3701.4547154592165, 695.6299908002698, 8970.631830092627, 3549.296995760972, 2195.6414019014605, 3300.8911184152435, 5379.600023876589, 26514.56461583908, 8296.493889153106, 6318.565853541486, 11354.20164604554, 18488.927175180957, 7879.718351981921, 11181.456226664332, 13370.104618149297, 4471.568449054411, 13171.818296588981, 3473.889905085797, 10256.336794930694, 23440.419576122003, 13251.802226052263, 8293.303423608542, 2101.2933048478963, 340.7295957419317, 307.34500238843304, 213.081288992293, 184.60589790477715, 107.03654725706029, 313.2785000728756, 81.50524631092219, 71.68624390884037, 69.72241818793826, 61.86713809652268, 62.84930946716113, 55.975677614852884, 48.120473714699095, 56.96127580235508, 36.337468183327125, 35.35555913895189, 31.42792872267374, 32.40971374557176, 30.4460254621796, 33.39207997555277, 29.464098628846713, 27.500280367538252, 27.50028343389917, 27.50029228131028, 25.53646719805205, 24.554552161636, 244.54145786123217, 23.572638446606312, 23.57264269026105, 2207.7133879880007, 379.9511538143377, 407.42925543933507, 40.26177612320769, 1203.925198368482, 433.4312578306131, 107.06622982059122, 231.7148736447334, 149.3363299220576, 764.0565251872184, 320.5803499318994, 661.0865263829853, 201.32343295044865, 1018.3920829511554, 739.6588649481612, 5309.640869578937, 2244.0531747402392, 1293.8608379942305, 762.4018656143478, 904.353720092685, 264.5459150973525, 369.1143271046503, 835.2058171795782, 700.1144992794384, 1024.9848662697304, 899.2016584011883, 771.2082534076087, 13251.802226052263, 1907.994495636889, 1147.3118961513774, 5333.48691345855, 3340.362821494572, 23440.419576122003, 8227.783676500865, 11181.456226664332, 1416.7268730528945, 2378.7201960675825, 3569.17134519792, 3038.944603526471, 26514.56461583908, 6090.354766133133, 18488.927175180957, 5033.252688996056, 11354.20164604554, 2987.736599628933, 4400.1971536455885, 9434.519337665963, 2195.6414019014605, 6175.378044177884, 2144.6465727638197, 10105.552784267704, 3214.8981762057647, 9402.887251809128, 5601.668924315172, 8006.824335984177, 8970.631830092627, 10861.400558945334, 151.3930461473617, 286.9259689340866, 4322.377462517151, 20.778707258614997, 16.820738767584736, 11.873206322389304, 11.873234028359242, 1493.333381087063, 10.883728943210455, 10.883713527396184, 3349.0993142120633, 9.89422447187762, 9.894210147102022, 9.894225473367584, 9.89420928305831, 9.894228727773388, 9.894210185471294, 9.894199934148439, 9.894173704360675, 7.915191701021033, 2139.968910828078, 22.744234773679768, 6.925698526902329, 48.44221693846571, 5.936175543048755, 5.936214625910076, 5.936231744940123, 1097.5217739732395, 21.77127525435308, 47.477408905726435, 610.0578438354281, 1050.1496577933992, 294.8648028957771, 7783.380306405533, 538.3392178237435, 1183.3875395362927, 498.7778439535656, 10861.400558945334, 13412.463200486272, 1273.2081125887294, 248.94492149568748, 1654.5909861244593, 1605.1715009382403, 3679.2165309020916, 9402.887251809128, 752.9596290261067, 4932.5444327692, 2313.934170594048, 3054.57368029479, 165.2308010499123, 8293.303423608542, 773.154166990777, 871.9886385100737, 2521.7484513358095, 5135.148201130003, 3473.889905085797, 10105.552784267704, 10256.336794930694, 3701.4547154592165, 5893.950335998937, 26514.56461583908, 6318.565853541486, 5144.627454568339, 11354.20164604554, 13171.818296588981, 8296.493889153106, 23440.419576122003, 18488.927175180957, 6242.30093249611, 20882.64282165719, 13370.104618149297, 9434.519337665963, 11181.456226664332, 485.15257415174625, 3333.3547644531413, 75.55532504898406, 64.6188913300561, 57.6593372488544, 61.635236697206, 53.68229231151623, 123.26205156551087, 45.72866918531484, 50.6978771581815, 41.751780824312554, 40.756860185916224, 40.75659767406167, 35.78645773953157, 33.79801616764724, 33.79801412895441, 33.797761564842745, 57.65150684888725, 33.7977854794889, 82.49790966667446, 37.77372929729496, 31.80957344518983, 106.37059898487561, 113.30724121896104, 33.79690364915995, 28.826891413880556, 27.83267873052165, 33.79734702253327, 37.77089036551082, 25.84424466753447, 535.5988559917198, 5117.8238886377985, 393.4891047131978, 438.1577482393784, 686.3775376429244, 442.0741727063454, 133.1482555073444, 69.56717478731237, 121.22138821486217, 157.95282078669723, 50.687811493469795, 3670.5980635092474, 1566.5305351523666, 348.5021572096743, 373.2721479820312, 150.959748752088, 197.59257084415265, 603.6914421427135, 144.08265682498933, 229.35697570133752, 4110.659042420004, 136.04812489093038, 110.21979763185169, 3189.5372285879093, 558.5447971634172, 582.0944666564658, 251.07257600611746, 400.5640518772955, 303.6272944959482, 424.2685203027798, 403.96733067064554, 244.07700840251135, 861.711803995581, 534.9271454472041, 23440.419576122003, 424.0475049880544, 2528.6778679204317, 1622.431773787666, 690.6745404391252, 722.7600868878942, 1099.541407080304, 13251.802226052263, 1165.588075453219, 11181.456226664332, 26514.56461583908, 6090.354766133133, 8296.493889153106, 9434.519337665963, 8392.976845109546, 7879.718351981921, 5144.627454568339, 8970.631830092627, 3843.3467117492587, 20882.64282165719, 2719.266954175462, 11354.20164604554, 18488.927175180957, 3038.944603526471, 13171.818296588981, 3340.362821494572, 10105.552784267704, 12598.611823290581, 61.13866384512462, 31.063622536240484, 30.06110424692361, 24.046205106793636, 24.045016895046498, 19.03367414581008, 15.023684894886763, 11.013614668324822, 3438.512580492439, 10.011141101624899, 172.2502966009264, 9.008679658443796, 8.006159047865214, 13373.35286845613, 7.003673725818147, 16.00016634759619, 1725.0006852734912, 13.998216838067718, 29.976959531999988, 6.0011992319418965, 6.001169808053761, 6.0010841585889825, 37.995252662750026, 1283.0778421864932, 4.9986763670966665, 4.998667061169769, 4.998540691422106, 11.000942592247526, 4.998067061386641, 8.995613848401057, 127.93054966278181, 2504.318830721116, 597.4884561554446, 8006.824335984177, 2758.834633183473, 1003.2382772063389, 5263.8495201950145, 1625.1141899842887, 2293.369456545923, 1070.1375301134312, 2152.4175483666822, 1158.6796926569805, 8104.585541085383, 146.6866988228707, 5934.702680684366, 1051.5549210775757, 795.4204824938915, 2999.1820921877206, 2324.7131776510937, 1101.2301011284155, 13370.104618149297, 1008.1987816519928, 1142.6192885010528, 4319.409462149639, 8227.783676500865, 794.431040416729, 1209.2849129040771, 5140.5388195618825, 10256.336794930694, 13171.818296588981, 5601.668924315172, 26514.56461583908, 2712.8681286399706, 9434.519337665963, 13412.463200486272, 18488.927175180957, 13251.802226052263, 2794.961159985268, 7879.718351981921, 10861.400558945334, 8970.631830092627, 11181.456226664332, 6175.378044177884, 495.3454533575677, 220.81146107466768, 4789.440851703314, 402.5466180742246, 129.95134333809924, 124.08940834348103, 87.94413645787463, 62.53906440291302, 56.67716512073798, 54.72314343932816, 54.72315377273896, 62.54053496451888, 969.3144832313343, 57.657560496230104, 36.16032945665293, 36.16034937175372, 29.321406376457272, 133.8902944451396, 27.367946172141433, 24.436467176853895, 24.436483996888654, 23.459471771141672, 22.482479209032924, 21.505500428404268, 20.528515369086122, 64.50755284116279, 3682.108968623278, 18.57457948754977, 72.32176893301428, 141.71697983664257, 135.86179681034142, 92.84525795115533, 140.82799379994412, 590.5409086517645, 2304.723453740049, 122.20549524734119, 421.62202658165324, 263.2112764941642, 4338.3481174942035, 116.33638689727466, 155.42676557417178, 1434.0789248523383, 495.1764355617134, 331.06420631974026, 642.1252651540061, 193.71948046671488, 1203.7477473149688, 528.4796977121637, 103.70852445849812, 382.5843025345435, 530.8358358998241, 821.2976270621073, 6995.277686533741, 533.4165747063246, 2121.4482697911944, 3381.993308108712, 782.2222061705331, 5333.48691345855, 383.5815635471505, 5934.702680684366, 1237.14410301405, 1691.4618569194404, 10105.552784267704, 1653.9114330981286, 2119.8724906854222, 3759.6838125740715, 3679.2165309020916, 18488.927175180957, 2771.1419102360082, 6242.30093249611, 3555.496872249826, 2042.2097924443888, 2230.971193567473, 4110.659042420004, 13370.104618149297, 8293.303423608542, 3843.3467117492587, 23440.419576122003, 3300.8911184152435, 6175.378044177884], \"Category\": [\"Default\", \"Default\", \"Default\", \"Default\", \"Default\", \"Default\", \"Default\", \"Default\", \"Default\", \"Default\", \"Default\", \"Default\", \"Default\", \"Default\", \"Default\", \"Default\", \"Default\", \"Default\", \"Default\", \"Default\", \"Default\", \"Default\", \"Default\", \"Default\", \"Default\", \"Default\", \"Default\", \"Default\", \"Default\", \"Default\", \"Topic1\", \"Topic1\", \"Topic1\", \"Topic1\", \"Topic1\", \"Topic1\", \"Topic1\", \"Topic1\", \"Topic1\", \"Topic1\", \"Topic1\", \"Topic1\", \"Topic1\", \"Topic1\", \"Topic1\", \"Topic1\", \"Topic1\", \"Topic1\", \"Topic1\", \"Topic1\", \"Topic1\", \"Topic1\", \"Topic1\", \"Topic1\", \"Topic1\", \"Topic1\", \"Topic1\", \"Topic1\", \"Topic1\", \"Topic1\", \"Topic1\", \"Topic1\", \"Topic1\", \"Topic1\", \"Topic1\", \"Topic1\", \"Topic1\", \"Topic1\", \"Topic1\", \"Topic1\", \"Topic1\", \"Topic1\", \"Topic1\", \"Topic1\", \"Topic1\", \"Topic1\", \"Topic1\", \"Topic1\", \"Topic1\", \"Topic1\", \"Topic1\", \"Topic1\", \"Topic1\", \"Topic1\", \"Topic1\", \"Topic1\", \"Topic1\", \"Topic1\", \"Topic1\", \"Topic1\", \"Topic1\", \"Topic1\", \"Topic1\", \"Topic1\", \"Topic1\", \"Topic1\", \"Topic1\", \"Topic1\", \"Topic1\", \"Topic1\", \"Topic1\", \"Topic1\", \"Topic1\", \"Topic1\", \"Topic1\", \"Topic1\", \"Topic1\", \"Topic1\", \"Topic1\", \"Topic1\", \"Topic1\", \"Topic1\", \"Topic1\", \"Topic1\", \"Topic1\", \"Topic1\", \"Topic2\", \"Topic2\", \"Topic2\", \"Topic2\", \"Topic2\", \"Topic2\", \"Topic2\", \"Topic2\", \"Topic2\", \"Topic2\", \"Topic2\", \"Topic2\", \"Topic2\", \"Topic2\", \"Topic2\", \"Topic2\", \"Topic2\", \"Topic2\", \"Topic2\", \"Topic2\", \"Topic2\", \"Topic2\", \"Topic2\", \"Topic2\", \"Topic2\", \"Topic2\", \"Topic2\", \"Topic2\", \"Topic2\", \"Topic2\", \"Topic2\", \"Topic2\", \"Topic2\", \"Topic2\", \"Topic2\", \"Topic2\", \"Topic2\", \"Topic2\", \"Topic2\", \"Topic2\", \"Topic2\", \"Topic2\", \"Topic2\", \"Topic2\", \"Topic2\", \"Topic2\", \"Topic2\", \"Topic2\", \"Topic2\", \"Topic2\", \"Topic2\", \"Topic2\", \"Topic2\", \"Topic2\", \"Topic2\", \"Topic2\", \"Topic2\", \"Topic2\", \"Topic2\", \"Topic2\", \"Topic2\", \"Topic2\", \"Topic2\", \"Topic2\", \"Topic2\", \"Topic2\", \"Topic2\", \"Topic2\", \"Topic2\", \"Topic2\", \"Topic2\", \"Topic2\", \"Topic2\", \"Topic2\", \"Topic2\", \"Topic2\", \"Topic2\", \"Topic2\", \"Topic2\", \"Topic2\", \"Topic2\", \"Topic3\", \"Topic3\", \"Topic3\", \"Topic3\", \"Topic3\", \"Topic3\", \"Topic3\", \"Topic3\", \"Topic3\", \"Topic3\", \"Topic3\", \"Topic3\", \"Topic3\", \"Topic3\", \"Topic3\", \"Topic3\", \"Topic3\", \"Topic3\", \"Topic3\", \"Topic3\", \"Topic3\", \"Topic3\", \"Topic3\", \"Topic3\", \"Topic3\", \"Topic3\", \"Topic3\", \"Topic3\", \"Topic3\", \"Topic3\", \"Topic3\", \"Topic3\", \"Topic3\", \"Topic3\", \"Topic3\", \"Topic3\", \"Topic3\", \"Topic3\", \"Topic3\", \"Topic3\", \"Topic3\", \"Topic3\", \"Topic3\", \"Topic3\", \"Topic3\", \"Topic3\", \"Topic3\", \"Topic3\", \"Topic3\", \"Topic3\", \"Topic3\", \"Topic3\", \"Topic3\", \"Topic3\", \"Topic3\", \"Topic3\", \"Topic3\", \"Topic3\", \"Topic3\", \"Topic3\", \"Topic3\", \"Topic3\", \"Topic3\", \"Topic3\", \"Topic3\", \"Topic3\", \"Topic3\", \"Topic3\", \"Topic3\", \"Topic3\", \"Topic3\", \"Topic3\", \"Topic3\", \"Topic3\", \"Topic3\", \"Topic3\", \"Topic3\", \"Topic3\", \"Topic3\", \"Topic3\", \"Topic3\", \"Topic3\", \"Topic3\", \"Topic3\", \"Topic3\", \"Topic3\", \"Topic3\", \"Topic4\", \"Topic4\", \"Topic4\", \"Topic4\", \"Topic4\", \"Topic4\", \"Topic4\", \"Topic4\", \"Topic4\", \"Topic4\", \"Topic4\", \"Topic4\", \"Topic4\", \"Topic4\", \"Topic4\", \"Topic4\", \"Topic4\", \"Topic4\", \"Topic4\", \"Topic4\", \"Topic4\", \"Topic4\", \"Topic4\", \"Topic4\", \"Topic4\", \"Topic4\", \"Topic4\", \"Topic4\", \"Topic4\", \"Topic4\", \"Topic4\", \"Topic4\", \"Topic4\", \"Topic4\", \"Topic4\", \"Topic4\", \"Topic4\", \"Topic4\", \"Topic4\", \"Topic4\", \"Topic4\", \"Topic4\", \"Topic4\", \"Topic4\", \"Topic4\", \"Topic4\", \"Topic4\", \"Topic4\", \"Topic4\", \"Topic4\", \"Topic4\", \"Topic4\", \"Topic4\", \"Topic4\", \"Topic4\", \"Topic4\", \"Topic4\", \"Topic4\", \"Topic4\", \"Topic4\", \"Topic4\", \"Topic4\", \"Topic4\", \"Topic4\", \"Topic4\", \"Topic4\", \"Topic4\", \"Topic4\", \"Topic4\", \"Topic4\", \"Topic4\", \"Topic4\", \"Topic4\", \"Topic5\", \"Topic5\", \"Topic5\", \"Topic5\", \"Topic5\", \"Topic5\", \"Topic5\", \"Topic5\", \"Topic5\", \"Topic5\", \"Topic5\", \"Topic5\", \"Topic5\", \"Topic5\", \"Topic5\", \"Topic5\", \"Topic5\", \"Topic5\", \"Topic5\", \"Topic5\", \"Topic5\", \"Topic5\", \"Topic5\", \"Topic5\", \"Topic5\", \"Topic5\", \"Topic5\", \"Topic5\", \"Topic5\", \"Topic5\", \"Topic5\", \"Topic5\", \"Topic5\", \"Topic5\", \"Topic5\", \"Topic5\", \"Topic5\", \"Topic5\", \"Topic5\", \"Topic5\", \"Topic5\", \"Topic5\", \"Topic5\", \"Topic5\", \"Topic5\", \"Topic5\", \"Topic5\", \"Topic5\", \"Topic5\", \"Topic5\", \"Topic5\", \"Topic5\", \"Topic5\", \"Topic5\", \"Topic5\", \"Topic5\", \"Topic5\", \"Topic5\", \"Topic5\", \"Topic5\", \"Topic5\", \"Topic5\", \"Topic5\", \"Topic5\", \"Topic5\", \"Topic5\", \"Topic5\", \"Topic5\", \"Topic5\", \"Topic5\", \"Topic5\", \"Topic5\", \"Topic5\", \"Topic5\", \"Topic5\", \"Topic5\", \"Topic5\", \"Topic5\", \"Topic5\", \"Topic5\", \"Topic5\", \"Topic5\", \"Topic5\", \"Topic5\", \"Topic5\", \"Topic5\", \"Topic5\", \"Topic5\", \"Topic5\", \"Topic5\", \"Topic5\", \"Topic5\", \"Topic6\", \"Topic6\", \"Topic6\", \"Topic6\", \"Topic6\", \"Topic6\", \"Topic6\", \"Topic6\", \"Topic6\", \"Topic6\", \"Topic6\", \"Topic6\", \"Topic6\", \"Topic6\", \"Topic6\", \"Topic6\", \"Topic6\", \"Topic6\", \"Topic6\", \"Topic6\", \"Topic6\", \"Topic6\", \"Topic6\", \"Topic6\", \"Topic6\", \"Topic6\", \"Topic6\", \"Topic6\", \"Topic6\", \"Topic6\", \"Topic6\", \"Topic6\", \"Topic6\", \"Topic6\", \"Topic6\", \"Topic6\", \"Topic6\", \"Topic6\", \"Topic6\", \"Topic6\", \"Topic6\", \"Topic6\", \"Topic6\", \"Topic6\", \"Topic6\", \"Topic6\", \"Topic6\", \"Topic6\", \"Topic6\", \"Topic6\", \"Topic6\", \"Topic6\", \"Topic6\", \"Topic6\", \"Topic6\", \"Topic6\", \"Topic6\", \"Topic6\", \"Topic6\", \"Topic6\", \"Topic6\", \"Topic6\", \"Topic6\", \"Topic6\", \"Topic6\", \"Topic6\", \"Topic6\", \"Topic6\", \"Topic6\", \"Topic6\", \"Topic6\", \"Topic6\", \"Topic6\", \"Topic7\", \"Topic7\", \"Topic7\", \"Topic7\", \"Topic7\", \"Topic7\", \"Topic7\", \"Topic7\", \"Topic7\", \"Topic7\", \"Topic7\", \"Topic7\", \"Topic7\", \"Topic7\", \"Topic7\", \"Topic7\", \"Topic7\", \"Topic7\", \"Topic7\", \"Topic7\", \"Topic7\", \"Topic7\", \"Topic7\", \"Topic7\", \"Topic7\", \"Topic7\", \"Topic7\", \"Topic7\", \"Topic7\", \"Topic7\", \"Topic7\", \"Topic7\", \"Topic7\", \"Topic7\", \"Topic7\", \"Topic7\", \"Topic7\", \"Topic7\", \"Topic7\", \"Topic7\", \"Topic7\", \"Topic7\", \"Topic7\", \"Topic7\", \"Topic7\", \"Topic7\", \"Topic7\", \"Topic7\", \"Topic7\", \"Topic7\", \"Topic7\", \"Topic7\", \"Topic7\", \"Topic7\", \"Topic7\", \"Topic7\", \"Topic7\", \"Topic7\", \"Topic7\", \"Topic7\", \"Topic7\", \"Topic7\", \"Topic7\", \"Topic7\", \"Topic7\", \"Topic7\", \"Topic7\", \"Topic7\", \"Topic7\", \"Topic7\", \"Topic7\", \"Topic7\", \"Topic7\", \"Topic7\", \"Topic7\", \"Topic7\", \"Topic7\", \"Topic7\", \"Topic7\", \"Topic7\"], \"logprob\": [30.0, 29.0, 28.0, 27.0, 26.0, 25.0, 24.0, 23.0, 22.0, 21.0, 20.0, 19.0, 18.0, 17.0, 16.0, 15.0, 14.0, 13.0, 12.0, 11.0, 10.0, 9.0, 8.0, 7.0, 6.0, 5.0, 4.0, 3.0, 2.0, 1.0, -6.8864, -8.2707, -8.5829, -8.7365, -8.715, -8.9181, -7.4932, -8.8935, -9.0131, -9.2141, -8.7757, -8.3396, -9.3359, -9.3359, -9.38, -8.0849, -8.6038, -9.5256, -8.5509, -8.6958, -9.636, -9.636, -7.5457, -9.6962, -8.505, -7.4201, -8.2695, -7.7283, -9.7601, -9.537, -5.761, -6.2481, -6.264, -6.9569, -4.9165, -5.2359, -6.3741, -7.0238, -7.1335, -7.0071, -6.1185, -5.4085, -6.1706, -5.0794, -6.2814, -6.8222, -3.8348, -5.842, -6.3455, -4.8621, -5.2421, -5.8891, -5.8774, -4.8733, -4.9716, -5.4089, -5.4284, -5.6051, -4.6742, -5.8472, -5.2209, -4.9803, -5.7858, -5.4081, -4.9174, -5.279, -5.6947, -5.375, -5.1773, -4.6941, -5.1308, -4.838, -4.2468, -5.3104, -5.0191, -4.9711, -5.5017, -4.4197, -5.0687, -5.1305, -5.082, -4.8312, -4.84, -5.0463, -5.275, -5.3168, -8.0931, -8.5678, -9.0565, -8.1897, -9.2786, -9.365, -9.4113, -9.4145, -9.5106, -9.3311, -9.6813, -8.546, -9.8867, -9.9659, -9.9662, -8.7962, -8.9394, -10.2496, -10.2498, -10.2498, -9.1227, -10.3654, -10.366, -9.5675, -10.3666, -10.3677, -8.6147, -8.49, -10.4965, -10.4969, -4.0556, -7.5391, -3.2061, -4.9879, -8.6625, -3.5005, -7.7569, -2.8533, -5.5332, -4.91, -6.249, -5.2797, -5.5172, -6.2764, -4.054, -4.4276, -5.8829, -5.9304, -5.2344, -3.937, -5.3678, -5.6483, -6.199, -4.8808, -5.0281, -5.6264, -7.1088, -5.4861, -6.2468, -4.9276, -6.3356, -4.2421, -5.0118, -5.402, -5.1002, -4.7254, -3.5122, -4.4023, -4.6571, -4.3371, -4.2004, -4.712, -4.5994, -4.6049, -5.1344, -4.8086, -5.237, -4.9655, -4.7747, -4.9788, -5.0891, -4.6556, -6.4765, -6.58, -6.9474, -7.0915, -7.6411, -6.568, -7.9152, -8.0447, -8.0728, -8.1939, -8.1783, -8.2955, -8.4493, -8.2831, -8.7359, -8.764, -8.8848, -8.8541, -8.9175, -8.8258, -8.9512, -9.0223, -9.0223, -9.0223, -9.0988, -9.1394, -6.8412, -9.1817, -9.1817, -4.6645, -6.4212, -6.3563, -8.648, -5.3071, -6.3169, -7.6887, -6.9364, -7.3718, -5.7972, -6.6642, -5.9779, -7.1142, -5.6353, -5.9329, -4.1283, -4.9742, -5.4736, -5.9528, -5.8145, -6.9009, -6.6138, -5.9034, -6.071, -5.7534, -5.8695, -6.0151, -3.7082, -5.2819, -5.6955, -4.491, -4.896, -3.5397, -4.3062, -4.189, -5.5999, -5.3019, -5.057, -5.164, -3.8931, -4.7793, -4.1976, -4.9741, -4.5878, -5.2689, -5.0898, -4.7548, -5.4272, -5.0287, -5.452, -4.9317, -5.3396, -5.0184, -5.1941, -5.2383, -5.2385, -5.3269, -7.154, -6.5259, -3.8359, -9.1763, -9.3975, -9.7685, -9.7685, -4.9372, -9.8626, -9.8626, -4.1413, -9.9659, -9.966, -9.9661, -9.9663, -9.9664, -9.9665, -9.9666, -9.9669, -10.2132, -4.6184, -9.1652, -10.3656, -8.4286, -10.5421, -10.5421, -10.5424, -5.3324, -9.2527, -8.4828, -5.9529, -5.4248, -6.6772, -3.4731, -6.0917, -5.3255, -6.181, -3.1992, -2.9979, -5.2995, -6.8689, -5.1341, -5.1804, -4.4157, -3.5588, -5.9077, -4.1718, -4.8687, -4.6308, -7.3272, -3.7249, -5.9119, -5.846, -4.9342, -4.4795, -4.8457, -4.0896, -4.0966, -4.8229, -4.5319, -3.5605, -4.6019, -4.7387, -4.2805, -4.2395, -4.4874, -4.148, -4.3013, -4.7698, -4.4294, -4.5638, -4.6589, -4.812, -5.9227, -3.9966, -7.7881, -7.9464, -8.062, -7.9956, -8.1347, -7.3047, -8.2977, -8.1958, -8.3905, -8.4165, -8.4171, -8.5481, -8.6067, -8.6067, -8.6072, -8.0732, -8.6073, -7.7149, -8.4962, -8.669, -7.4619, -7.3997, -8.6095, -8.7703, -8.8064, -8.6125, -8.5018, -8.883, -5.8628, -3.6325, -6.1807, -6.0747, -5.6469, -6.0795, -7.261, -7.8985, -7.3597, -7.1092, -8.2122, -4.0853, -4.925, -6.3682, -6.3074, -7.1771, -6.9276, -5.9003, -7.235, -6.8145, -4.1897, -7.2907, -7.485, -4.5046, -6.0424, -6.0107, -6.7579, -6.3576, -6.5947, -6.3146, -6.3631, -6.7848, -5.7644, -6.1573, -3.1562, -6.3529, -5.1365, -5.4831, -6.0688, -6.0599, -5.8015, -4.3056, -5.7762, -4.5873, -4.237, -4.9821, -4.9437, -5.0038, -5.0949, -5.1444, -5.3404, -5.1687, -5.4782, -4.9955, -5.5968, -5.228, -5.1546, -5.5846, -5.3428, -5.6113, -5.446, -5.5709, -7.9079, -8.5987, -8.6325, -8.8629, -8.8672, -9.1064, -9.3555, -9.6883, -3.9508, -9.7919, -6.9483, -9.9076, -10.0389, -2.6259, -10.1896, -9.3743, -4.6962, -9.5175, -8.7561, -10.367, -10.3673, -10.3681, -8.5365, -5.0307, -10.5834, -10.5839, -10.5866, -9.8002, -10.595, -10.0393, -7.4014, -4.4603, -5.8824, -3.4124, -4.463, -5.4608, -3.9098, -5.038, -4.7218, -5.4547, -4.8242, -5.4124, -3.6444, -7.3353, -3.9524, -5.5454, -5.7976, -4.6131, -4.8477, -5.5254, -3.3559, -5.6717, -5.6046, -4.5037, -4.0038, -5.9401, -5.6134, -4.5947, -4.2115, -4.0605, -4.679, -3.7849, -5.1453, -4.4928, -4.318, -4.2212, -4.5095, -5.1476, -4.8628, -4.7784, -4.8819, -4.8737, -4.9905, -5.5385, -6.3486, -3.2718, -5.749, -6.8814, -6.9279, -7.2781, -7.6199, -7.7198, -7.7554, -7.7554, -7.6246, -4.885, -7.7098, -8.1778, -8.1779, -8.3931, -6.8747, -8.4666, -8.5813, -8.5814, -8.6236, -8.6678, -8.714, -8.7625, -7.621, -3.5773, -8.8676, -7.5091, -6.8372, -6.8855, -7.2635, -6.8537, -5.4733, -4.1548, -7.0141, -5.8164, -6.2797, -3.5983, -7.0703, -6.8003, -4.7189, -5.741, -6.115, -5.5271, -6.6102, -4.9894, -5.7815, -7.188, -6.0837, -5.8343, -5.485, -3.8036, -5.8392, -4.8087, -4.5676, -5.6286, -4.2931, -6.1387, -4.2572, -5.367, -5.1637, -4.0298, -5.1941, -5.0527, -4.725, -4.8452, -4.0603, -5.0115, -4.6436, -5.0194, -5.243, -5.2182, -5.0483, -4.7085, -4.9071, -5.1317, -4.8402, -5.2235, -5.1462], \"loglift\": [30.0, 29.0, 28.0, 27.0, 26.0, 25.0, 24.0, 23.0, 22.0, 21.0, 20.0, 19.0, 18.0, 17.0, 16.0, 15.0, 14.0, 13.0, 12.0, 11.0, 10.0, 9.0, 8.0, 7.0, 6.0, 5.0, 4.0, 3.0, 2.0, 1.0, 1.6749, 1.6695, 1.6648, 1.6621, 1.6606, 1.6581, 1.656, 1.6553, 1.6502, 1.6499, 1.6465, 1.6459, 1.6459, 1.6458, 1.6443, 1.644, 1.6438, 1.6385, 1.6384, 1.6357, 1.6335, 1.6334, 1.6307, 1.6304, 1.6297, 1.628, 1.6277, 1.6275, 1.6272, 1.6271, 1.6152, 1.6077, 1.6027, 1.6085, 1.5789, 1.5844, 1.5906, 1.5909, 1.5925, 1.5883, 1.5572, 1.5159, 1.5355, 1.4669, 1.5273, 1.5521, 1.3878, 1.4922, 1.5205, 1.3972, 1.3847, 1.4268, 1.4124, 1.2847, 1.2922, 1.3452, 1.3331, 1.3525, 1.1788, 1.3781, 1.241, 1.165, 1.3167, 1.2152, 1.0778, 1.168, 1.274, 1.1252, 1.0181, 0.7746, 0.977, 0.7886, 0.4177, 0.9824, 0.7558, 0.6344, 1.0788, -0.0943, 0.3426, 0.4295, 0.2154, -0.7431, -0.8751, -0.1316, 0.3378, -0.3921, 1.6902, 1.6855, 1.6748, 1.6715, 1.6678, 1.6647, 1.6629, 1.6597, 1.6589, 1.6562, 1.6507, 1.6487, 1.6394, 1.6343, 1.6339, 1.6319, 1.6154, 1.6129, 1.6127, 1.6126, 1.6092, 1.6023, 1.6018, 1.6017, 1.6012, 1.6001, 1.5982, 1.5974, 1.5891, 1.5886, 1.588, 1.5639, 1.5029, 1.496, 1.5704, 1.4242, 1.5478, 1.3504, 1.4313, 1.3924, 1.4416, 1.3796, 1.3844, 1.4313, 1.2622, 1.2887, 1.3608, 1.3616, 1.2998, 1.1782, 1.2887, 1.2867, 1.3337, 1.1412, 1.1504, 1.1891, 1.3989, 1.1445, 1.266, 1.0063, 1.27, 0.8066, 0.964, 1.0541, 0.9483, 0.8346, 0.4528, 0.7245, 0.7421, 0.4759, 0.1251, 0.4663, 0.229, 0.0447, 0.6105, -0.144, 0.7604, -0.0508, -0.6865, -0.3203, 0.038, 1.8445, 1.8428, 1.8424, 1.8413, 1.8407, 1.8361, 1.8352, 1.8345, 1.8333, 1.833, 1.8315, 1.8313, 1.83, 1.8273, 1.8249, 1.8217, 1.8209, 1.8179, 1.8179, 1.817, 1.8163, 1.8161, 1.8139, 1.8139, 1.8139, 1.8114, 1.8101, 1.8098, 1.8086, 1.8086, 1.7861, 1.7892, 1.7843, 1.807, 1.75, 1.7617, 1.7882, 1.7685, 1.7723, 1.7146, 1.716, 1.6786, 1.7313, 1.5891, 1.6113, 1.4448, 1.4601, 1.5114, 1.5611, 1.5286, 1.6714, 1.6255, 1.5193, 1.5281, 1.4645, 1.4793, 1.4873, 0.9503, 1.3147, 1.4097, 1.0776, 1.1405, 0.5484, 0.8289, 0.6394, 1.2944, 1.0741, 0.9133, 0.9671, 0.0719, 0.6566, 0.1278, 0.6524, 0.2252, 0.8792, 0.6712, 0.2435, 1.029, 0.3934, 1.0277, -0.0021, 0.7352, -0.0168, 0.3254, -0.0759, -0.1898, -0.4695, 1.9765, 1.9653, 1.9429, 1.9402, 1.9303, 1.9077, 1.9076, 1.9045, 1.9006, 1.9005, 1.8926, 1.8925, 1.8924, 1.8924, 1.8921, 1.892, 1.8919, 1.8918, 1.8915, 1.8684, 1.8634, 1.8609, 1.8495, 1.8414, 1.8272, 1.8272, 1.8269, 1.8171, 1.8171, 1.8074, 1.7839, 1.7689, 1.7867, 1.7175, 1.7702, 1.7488, 1.7573, 1.6582, 1.6485, 1.7015, 1.7643, 1.605, 1.589, 1.5242, 1.4428, 1.6187, 1.475, 1.535, 1.4952, 1.7159, 1.4023, 1.588, 1.5336, 1.3835, 1.127, 1.1517, 0.8399, 0.8181, 1.1111, 0.9368, 0.4044, 0.7973, 0.866, 0.5325, 0.4251, 0.6394, -0.0598, 0.0241, 0.6415, -0.2257, 0.0858, 0.3393, 0.0164, 2.0433, 2.042, 2.0374, 2.0355, 2.0338, 2.0335, 2.0326, 2.0313, 2.0299, 2.0287, 2.0281, 2.0262, 2.0257, 2.0247, 2.0233, 2.0233, 2.0228, 2.0228, 2.0227, 2.0227, 2.0225, 2.0217, 2.0216, 2.0206, 2.0206, 2.0187, 2.0177, 2.0175, 2.0171, 2.0153, 2.0042, 1.9774, 1.9946, 1.9931, 1.972, 1.9794, 1.9979, 2.0096, 1.9931, 1.9789, 2.0125, 1.857, 1.8688, 1.9285, 1.9207, 1.9563, 1.9366, 1.847, 1.945, 1.9006, 1.6394, 1.9467, 1.9629, 1.5781, 1.7827, 1.773, 1.8667, 1.7999, 1.8399, 1.7854, 1.7859, 1.8681, 1.6271, 1.711, 0.9319, 1.7476, 1.1785, 1.2756, 1.5439, 1.5074, 1.3463, 0.3529, 1.3132, 0.2411, -0.2721, 0.4538, 0.1831, -0.0056, 0.0203, 0.0339, 0.2642, -0.12, 0.4181, -0.7918, 0.6455, -0.4149, -0.8292, 0.5465, -0.6782, 0.4253, -0.5165, -0.8618, 2.1294, 2.1156, 2.1146, 2.1075, 2.1032, 2.0977, 2.0853, 2.0629, 2.0568, 2.0548, 2.0531, 2.0446, 2.0313, 2.0234, 2.0144, 2.0035, 2.0012, 1.9939, 1.9938, 1.9914, 1.9911, 1.9904, 1.9765, 1.9627, 1.9578, 1.9573, 1.9547, 1.9522, 1.9464, 1.9143, 1.8975, 1.8643, 1.8752, 1.75, 1.7648, 1.7786, 1.6719, 1.7191, 1.6908, 1.7202, 1.6518, 1.6829, 1.5058, 1.8267, 1.5095, 1.647, 1.674, 1.5312, 1.5514, 1.6208, 1.2937, 1.5628, 1.5047, 1.2758, 1.1313, 1.5326, 1.4392, 1.0108, 0.7032, 0.604, 0.8406, 0.18, 1.0994, 0.5055, 0.3284, 0.1043, 0.149, 1.0672, 0.3155, 0.0791, 0.1668, -0.0453, 0.4315, 2.4067, 2.4044, 2.4044, 2.4035, 2.4018, 2.4015, 2.3956, 2.3947, 2.3932, 2.3927, 2.3927, 2.3899, 2.3888, 2.3861, 2.3846, 2.3846, 2.379, 2.3787, 2.3745, 2.373, 2.3729, 2.3715, 2.3699, 2.368, 2.3661, 2.3626, 2.3618, 2.361, 2.3602, 2.3593, 2.3532, 2.3559, 2.3491, 2.2961, 2.2528, 2.3306, 2.2898, 2.2977, 2.1768, 2.3236, 2.3039, 2.1632, 2.2044, 2.2331, 2.1585, 2.2738, 2.0678, 2.0989, 2.3208, 2.1197, 2.0416, 1.9545, 1.4938, 2.0319, 1.6818, 1.4565, 1.8597, 1.2756, 2.0621, 1.2046, 1.6628, 1.5533, 0.8997, 1.5453, 1.4385, 1.1933, 1.0947, 0.2651, 1.2118, 0.7677, 0.9547, 1.2856, 1.222, 0.7808, -0.0588, 0.22, 0.7646, -0.752, 0.825, 0.2759]}, \"token.table\": {\"Topic\": [2, 6, 1, 2, 3, 4, 5, 2, 7, 3, 5, 7, 3, 7, 3, 5, 7, 1, 2, 5, 6, 1, 2, 4, 6, 4, 1, 2, 3, 4, 6, 7, 6, 5, 2, 1, 2, 3, 4, 5, 6, 7, 1, 2, 3, 4, 5, 6, 7, 1, 2, 3, 4, 5, 6, 7, 1, 2, 3, 4, 5, 6, 7, 3, 3, 3, 4, 5, 7, 5, 3, 5, 7, 3, 1, 2, 3, 4, 5, 6, 7, 4, 3, 1, 2, 3, 4, 5, 6, 7, 1, 7, 1, 2, 3, 4, 5, 6, 7, 1, 2, 3, 4, 5, 6, 7, 3, 5, 1, 2, 3, 5, 6, 7, 5, 1, 2, 3, 4, 5, 6, 1, 2, 3, 4, 5, 6, 7, 1, 3, 5, 7, 1, 2, 3, 4, 5, 6, 7, 3, 6, 3, 5, 4, 1, 2, 4, 2, 3, 4, 5, 6, 7, 1, 2, 3, 4, 5, 6, 7, 1, 2, 3, 5, 7, 1, 2, 3, 4, 5, 6, 7, 2, 1, 2, 3, 4, 5, 6, 1, 2, 3, 4, 5, 6, 7, 4, 3, 3, 5, 3, 5, 7, 3, 7, 3, 1, 2, 3, 4, 5, 6, 7, 3, 1, 2, 3, 5, 6, 2, 3, 5, 6, 7, 7, 3, 5, 7, 7, 1, 2, 3, 4, 5, 6, 7, 1, 2, 3, 4, 5, 6, 7, 1, 2, 3, 4, 5, 6, 2, 3, 5, 3, 5, 4, 7, 3, 5, 7, 3, 5, 7, 3, 7, 7, 5, 1, 2, 3, 4, 5, 6, 7, 2, 1, 2, 3, 4, 5, 6, 7, 3, 5, 7, 1, 2, 3, 4, 5, 6, 7, 1, 3, 1, 2, 3, 4, 5, 6, 7, 7, 1, 2, 3, 5, 1, 1, 2, 3, 5, 7, 1, 2, 3, 4, 6, 6, 3, 5, 6, 1, 2, 3, 4, 6, 7, 4, 1, 2, 3, 4, 5, 6, 7, 1, 2, 3, 4, 5, 6, 7, 4, 6, 1, 2, 4, 6, 7, 1, 2, 4, 6, 1, 2, 3, 4, 5, 6, 7, 1, 2, 3, 5, 6, 7, 1, 2, 3, 4, 5, 6, 7, 1, 2, 3, 4, 5, 6, 7, 1, 2, 3, 5, 7, 1, 2, 3, 4, 5, 6, 7, 3, 1, 4, 1, 3, 5, 1, 2, 3, 5, 4, 5, 1, 2, 3, 4, 5, 6, 7, 1, 3, 4, 5, 6, 7, 4, 1, 2, 3, 4, 5, 6, 7, 5, 1, 3, 5, 6, 4, 3, 2, 2, 5, 1, 1, 2, 3, 4, 5, 6, 7, 3, 4, 1, 3, 5, 6, 7, 3, 5, 7, 1, 2, 3, 5, 1, 2, 3, 4, 5, 6, 7, 1, 2, 3, 4, 5, 6, 7, 1, 3, 5, 7, 3, 6, 6, 1, 2, 3, 4, 5, 6, 7, 1, 2, 3, 4, 5, 6, 7, 5, 1, 1, 2, 4, 1, 1, 2, 3, 4, 5, 6, 7, 1, 2, 3, 4, 5, 6, 7, 1, 2, 3, 4, 5, 6, 7, 1, 2, 3, 4, 5, 6, 7, 1, 2, 3, 4, 5, 6, 7, 1, 2, 3, 4, 5, 1, 2, 3, 4, 5, 6, 7, 1, 2, 3, 4, 5, 6, 7, 3, 1, 2, 3, 4, 5, 6, 7, 5, 1, 2, 3, 4, 5, 6, 7, 3, 5, 1, 3, 5, 6, 7, 2, 1, 2, 3, 4, 5, 6, 7, 1, 2, 3, 4, 5, 6, 7, 1, 1, 2, 3, 4, 5, 6, 7, 1, 2, 4, 5, 6, 7, 1, 2, 3, 5, 2, 3, 6, 7, 2, 3, 5, 3, 5, 3, 1, 2, 3, 4, 5, 6, 7, 3, 1, 1, 2, 3, 4, 5, 6, 7, 1, 5, 5, 1, 2, 3, 4, 5, 6, 7, 2, 3, 4, 5, 6, 7, 1, 2, 3, 4, 5, 6, 7, 1, 2, 3, 4, 5, 6, 7, 3, 2, 3, 4, 5, 6, 7, 1, 2, 3, 4, 5, 6, 7, 1, 2, 3, 4, 5, 6, 7, 1, 2, 3, 4, 6, 7, 2, 7, 3, 4, 6, 1, 2, 3, 4, 5, 6, 7, 5, 6, 1, 2, 3, 5, 6, 7, 1, 2, 3, 4, 5, 6, 7, 2, 2, 3, 4, 5, 3, 5, 2, 3, 4, 6, 7, 7, 1, 2, 3, 4, 5, 6, 7, 1, 2, 3, 4, 5, 6, 7, 1, 2, 3, 4, 5, 6, 7, 1, 2, 3, 4, 5, 6, 7, 1, 2, 3, 4, 5, 6, 7, 4, 5, 6, 1, 2, 3, 4, 5, 6, 7, 1, 2, 3, 4, 5, 6, 7, 1, 2, 3, 4, 5, 6, 7, 2, 5, 6, 7, 3, 5, 1, 2, 3, 4, 5, 6, 7, 1, 3, 5, 7, 1, 2, 3, 4, 5, 6, 7, 1, 3, 5, 6, 1, 2, 3, 5, 7, 1, 2, 3, 4, 5, 6, 5, 3, 5, 4, 1, 3, 7, 6, 1, 2, 3, 4, 5, 6, 7, 5, 6, 1, 1, 2, 3, 3, 5, 7, 7, 7, 1, 2, 3, 4, 5, 7, 3, 7, 1, 2, 3, 4, 5, 6, 7, 1, 2, 3, 5, 7, 1, 2, 3, 4, 5, 6, 7, 4, 1, 7, 1, 2, 3, 4, 5, 6, 7, 1, 2, 3, 4, 5, 6, 7, 1, 2, 3, 4, 5, 6, 7, 5, 3, 4, 5, 7, 1, 2, 3, 4, 5, 6, 7, 1, 2, 3, 4, 5, 6, 7, 1, 3, 5, 1, 2, 3, 4, 5, 7, 1, 2, 3, 4, 5, 6, 7, 1, 2, 3, 4, 5, 6, 7, 3, 5, 7, 1, 2, 3, 4, 5, 6, 1, 1, 2, 3, 4, 5, 6, 7, 1, 7, 1, 2, 3, 4, 5, 6, 7, 1, 2, 3, 4, 5, 6, 7, 1, 2, 3, 4, 5, 6, 7, 1, 1, 3, 4, 5, 6, 7, 1, 2, 3, 4, 5, 6, 7, 1, 2, 3, 4, 5, 6, 7, 1, 2, 3, 4, 5, 6, 7, 1, 2, 4, 6, 7, 1, 2, 3, 4, 5, 6, 7, 2, 5, 1, 2, 3, 4, 5, 6, 7, 1, 2, 3, 4, 5, 6, 7, 1, 2, 3, 4, 5, 6, 7, 1, 2, 3, 5, 7, 1, 2, 3, 4, 5, 6, 7, 1, 2, 3, 4, 6, 7, 1, 2, 3, 4, 5, 6, 1, 2, 3, 3, 5, 3, 5, 6, 7, 5, 4, 3, 5, 2, 3, 5, 6, 1, 2, 3, 4, 5, 6, 7, 1, 5, 1, 2, 4, 6, 7, 1, 2, 3, 4, 6, 7, 1, 3, 6, 7, 4, 1, 2, 3, 4, 5, 6, 7, 2, 7, 1, 2, 3, 4, 5, 6, 7, 7, 7, 4, 2, 3, 5, 7, 2, 7, 1, 2, 3, 4, 5, 6, 7, 1, 2, 3, 5, 7, 5, 6, 1, 1, 2, 3, 4, 5, 6, 7, 1, 2, 3, 4, 5, 6, 7, 1, 2, 3, 4, 5, 6, 7, 5, 2, 4, 1, 2, 3, 4, 5, 6, 7, 3, 2, 4, 5, 7, 3, 2, 3, 4, 5, 6, 7, 3, 5, 1, 2, 3, 4, 5, 6, 7, 3, 4, 3, 7, 1, 2, 3, 4, 5, 6, 7, 3, 4, 3, 7, 1, 6, 1, 2, 3, 4, 5, 6, 7, 7, 1, 2, 4, 5, 6, 7, 1, 2, 3, 4, 5, 6, 7, 1, 2, 3, 4, 5, 6, 7, 1, 3, 4, 5, 1, 2, 3, 4, 5, 6, 7, 6, 2, 3, 3, 5, 1, 2, 3, 4, 5, 6, 7, 4, 3, 3, 5, 2, 7, 6, 1, 3, 5, 6, 7, 1, 2, 3, 4, 5, 6, 7, 1, 2, 3, 4, 5, 7, 1, 2, 3, 4, 5, 6, 7, 1, 2, 3, 4, 5, 6, 1, 2, 3, 4, 5, 6, 7, 3, 7, 6, 5, 1, 2, 3, 4, 5, 6, 7, 3, 2, 1, 2, 4, 7, 1, 2, 3, 5, 6, 7, 5, 1, 2, 3, 4, 5, 6, 7, 1, 2, 3, 4, 5, 6, 7, 3, 1, 2, 3, 4, 5, 6, 7, 1, 7, 3, 4, 5, 7, 1, 2, 3, 4, 5, 6, 7, 1, 2, 3, 5, 7, 3, 1, 5, 3, 6, 1, 2, 3, 4, 5, 6, 7, 1, 2, 3, 4, 5, 6, 7, 1, 2, 3, 5, 6, 7, 1, 2, 3, 4, 5, 6, 7, 4, 1, 2, 4, 5, 6, 7, 1, 2, 3, 4, 5, 6, 7, 1, 6, 7, 6, 1, 3, 4, 5, 1, 2, 4, 6, 1, 2, 3, 4, 5, 6, 7, 3, 5, 1, 3, 4, 5, 6, 7, 3, 5, 1, 2, 3, 4, 5, 6, 7, 1, 2, 3, 5, 6, 7, 1, 2, 3, 4, 5, 6, 7, 1, 3, 4, 6, 7, 1, 3, 4, 5, 6, 7, 1, 2, 3, 5, 7, 1, 4, 5, 6, 7, 1, 2, 3, 4, 6, 7, 2, 1, 2, 3, 4, 5, 7, 1, 2, 3, 4, 5, 6, 7, 7, 1, 2, 3, 4, 5, 6, 7, 1, 2, 3, 5, 6, 7, 5, 1, 2, 3, 4, 5, 6, 7, 1, 2, 4, 6, 7, 1, 2, 3, 4, 5, 6, 7, 2, 3, 5, 6, 7, 1, 2, 3, 4, 5, 6, 7, 3, 1, 2, 3, 4, 5, 6, 7, 1, 2, 3, 4, 5, 7, 5, 1, 2, 3, 4, 5, 6, 7, 1, 2, 3, 4, 5, 6, 7, 1, 2, 3, 4, 5, 6, 7, 1, 2, 3, 4, 5, 6, 7, 1, 2, 3, 4, 5, 6, 7, 7, 1, 2, 1, 2, 3, 4, 5, 6, 7, 1, 2, 3, 4, 5, 6, 7, 2, 4, 6, 2, 3, 4, 5, 7, 1, 2, 3, 4, 5, 6, 7, 1, 2, 3, 4, 5, 6, 7, 3, 5, 1, 2, 3, 4, 5, 6, 7, 6, 1, 2, 3, 4, 5, 6, 7, 3, 6, 7, 1, 3, 5, 6, 7, 3, 5, 1, 2, 3, 4, 5, 6, 7, 2, 1, 2, 1, 2, 3, 4, 5, 6, 7, 1, 2, 3, 4, 5, 6, 7, 1, 2, 3, 4, 5, 6, 7, 1, 2, 3, 4, 5, 6, 7, 1, 2, 3, 4, 5, 6, 7, 7, 1, 2, 3, 4, 5, 6, 7, 1, 2, 3, 4, 5, 6, 7, 1, 2, 3, 4, 5, 6, 7, 1, 3, 5, 1, 2, 3, 4, 5, 6, 7, 1, 3, 4, 5, 1, 2, 3, 4, 5, 6, 7, 1, 2, 3, 4, 5, 7, 1, 2, 3, 4, 5, 6, 7, 1, 2, 3, 2, 2, 6, 7, 2, 1, 4, 7, 1, 2, 3, 4, 5, 6, 7, 1, 2, 3, 4, 5, 6, 7, 1, 2, 3, 4, 5, 6, 7, 2, 1, 2, 3, 4, 5, 6, 7, 1, 2, 3, 4, 5, 6, 7, 1, 2, 3, 4, 5, 6, 7, 1, 2, 3, 4, 5, 6, 7, 1, 2, 3, 4, 5, 6, 7, 1, 2, 3, 4, 5, 6, 7, 2, 3, 1, 3, 5, 2, 3, 5, 6, 3, 5, 6, 7, 3, 4, 5, 6, 7, 1, 2, 3, 4, 5, 7, 1, 2, 3, 4, 5, 6, 7, 6, 1, 2, 3, 4, 5, 6, 7, 1, 2, 3, 4, 5, 6, 7, 1, 2, 3, 5, 1, 2, 3, 4, 5, 6, 7, 4, 1, 2, 3, 4, 5, 6, 7, 6, 1, 2, 3, 4, 5, 6, 7, 1, 2, 3, 4, 5, 6, 7, 1, 2, 3, 4, 5, 6, 7, 1, 2, 3, 4, 5, 6, 7, 1, 2, 4, 5, 6, 7, 7, 5, 7], \"Freq\": [0.9019803165822319, 0.8880324646133504, 0.009880534636980846, 0.05269618473056451, 0.11197939255244958, 0.013174046182641128, 0.8102038402324294, 0.9057181298298704, 0.054892007868477, 0.014937602522186422, 0.007468801261093211, 0.9709441639421175, 0.04308243725386974, 0.9478136195851342, 0.018123372703738403, 0.13894585739532778, 0.839716268606546, 0.9501055886219811, 0.8968248842359329, 0.019496193135563757, 0.05848857940669127, 0.15325465213917036, 0.06042967990853466, 0.6746942612468354, 0.11089157756411515, 0.962523787022788, 0.08785174356913993, 0.003271075558425423, 0.0014018895250394671, 0.8878633658583291, 0.01822456382551307, 0.000934593016692978, 0.8331668066254279, 0.9872901792725819, 0.9552283232857749, 0.04553831832527614, 0.044566235996493564, 0.0008225312012775657, 0.018768666501879, 0.0017198379663076375, 0.8869877372322259, 0.0016450624025551315, 0.006052140361517244, 0.006052140361517244, 0.0544692632536552, 0.76862182591269, 0.012104280723034488, 0.09078210542275866, 0.07262568433820693, 0.0025868062094061743, 0.0905382173292161, 0.09312502353862227, 0.6738630175503084, 0.0025868062094061743, 0.12934031047030872, 0.007760418628218523, 9.20691576167321e-05, 0.020715560463764722, 0.09879020612275353, 0.7232953022370473, 0.02191245951278224, 0.12687129919585682, 0.008286224185505888, 0.9757073189550515, 0.9583110732673152, 0.7219777300357914, 0.005986548341921985, 0.25023772069233896, 0.021551574030919146, 0.9795167352631404, 0.2581281048605396, 0.1059299298248441, 0.6355795789490646, 0.9774155049546197, 0.12123209637517866, 0.022381310100032983, 0.4415645971819007, 0.20096551360654616, 0.1459447929439651, 0.019117369043778174, 0.048492838550071464, 0.9188027423485452, 0.9853502893921686, 0.10582773396466737, 0.23760556361415738, 0.0056765834310549546, 0.6021233139369006, 0.028991122522887804, 0.018246161028390925, 0.0014191458577637386, 0.002484184328225091, 0.9961579156182615, 0.03193289762000999, 0.12686853919301266, 0.0008630512870272971, 0.13463600077625834, 0.00604135900919108, 0.6308904908169541, 0.06731800038812917, 0.005650099646452934, 0.23353745205338794, 0.6699134814144362, 0.018645328833294682, 0.019963685417467035, 0.04651915375579582, 0.005461762991571169, 0.00629995949544398, 0.9932936137816676, 0.5463370906983264, 0.0008617304269689691, 0.2257733718658699, 0.08531131226992794, 0.0005744869513126461, 0.14132379002291093, 0.9926500872225217, 0.934850110016056, 0.0022856970905038043, 0.006857091271511413, 0.0022856970905038043, 0.03999969908381658, 0.014857031088274728, 0.6645606521040769, 0.17716548276916466, 0.04790311336676984, 0.058548249670496474, 0.014446970697914714, 0.03269577579001751, 0.004562201273025699, 0.9018576670289259, 0.05352411574278814, 0.03505119084040993, 0.008999630080645794, 0.006223566958844001, 0.005071054559058075, 0.0029965322394434083, 0.04863602327096609, 0.0025355272795290376, 0.14129802021375457, 0.7933895360126316, 0.06249935021145806, 0.8749909029604128, 0.06331004378518955, 0.9306576436422864, 0.8663386049354407, 0.06318794704986856, 0.08425059606649142, 0.8425059606649141, 0.04233411269810785, 0.6804651588422178, 0.02049862299066275, 0.24063600902082358, 0.0017824889557098043, 0.014705533884605885, 0.002623288439081125, 0.002623288439081125, 0.7528837820162828, 0.0013116442195405624, 0.045907547683919685, 0.03803768236667631, 0.15870895056440806, 0.927189484406557, 0.015015214322373394, 0.0037538035805933486, 0.02252282148356009, 0.02627662506415344, 0.13251757225035934, 0.05194590122663062, 0.0683563640844498, 0.1737288098030782, 0.042074946124183, 0.5285896457360703, 0.002837899591953692, 0.9822876961230584, 0.7189118674309614, 0.24364795507074422, 0.0022559995839883723, 0.006767998751965118, 0.024815995423872098, 0.00300799944531783, 0.16144974690954578, 0.14708683697031108, 0.10293418789784879, 0.07075063044141545, 0.09974243013357441, 0.12155277485611601, 0.29656749226382795, 0.8422931504872672, 0.9767152393107712, 0.019728608723397573, 0.9667018274464811, 0.9433413333900308, 0.02802003960564448, 0.018680026403762987, 0.9686606939707169, 0.024837453691556845, 0.984248673794747, 0.6771134734024119, 0.08867856810375649, 0.06387862956626526, 0.09995126743897978, 0.058242279898653625, 0.005260593023104198, 0.00676361960113397, 0.986383807649245, 0.8505183037700699, 0.005595515156382039, 0.05222480812623236, 0.029842747500704207, 0.05968549500140841, 0.03771196597046978, 0.15084786388187912, 0.7683813066483218, 0.0023569978731543613, 0.04242596171677851, 0.9679115352628667, 0.2729343635719639, 0.7141159375650014, 0.013085894143861281, 0.9742545742064712, 0.0420338809607996, 0.22903993434171868, 0.29942432650373846, 0.14005331400981313, 0.16402156953639674, 0.11206053796570617, 0.013325634602466257, 0.01738036992951668, 0.8914512995243961, 0.025262165595227728, 0.013540520759042062, 0.037792199730460684, 0.01212583948570931, 0.002627265221903684, 0.04069661716878945, 0.023739693348460517, 0.057653540989118394, 0.8241064976679865, 0.03052246287659209, 0.027131078112526304, 0.001715872049585214, 0.5181933589747346, 0.4795862378590673, 0.0882040822658922, 0.904091843225395, 0.9096214781263493, 0.9913803570926477, 0.04909762844834542, 0.016365876149448472, 0.9246720024438387, 0.8940837008491855, 0.039737053371074915, 0.0695398433993811, 0.9873583040940083, 0.9880522408046445, 0.9972838080001585, 0.9763887272811465, 0.14460574106272614, 0.020917811600268562, 0.13278263015822653, 0.014551521113230303, 0.4956611879194072, 0.048201913687575385, 0.14369627099314924, 0.9688456989370589, 0.20065443075099895, 0.09398241124108053, 0.038068824806513635, 0.5496186581440405, 0.04520672945773494, 0.06860319470340477, 0.0035689523256106533, 0.8470903242635093, 0.1512661293327695, 0.001512661293327695, 0.6720001494032612, 0.014535214499165108, 0.06354930990332652, 0.09701410607582293, 0.035830993881662825, 0.10242255798248902, 0.014873242743331738, 0.9630028304740722, 0.03106460743464749, 0.16923642839592587, 0.20639380337451363, 0.1795128494234829, 0.14116557306275695, 0.056249883519259476, 0.13013194206474837, 0.11725937256707168, 0.9785397684771759, 0.9556046056472919, 0.01803027557825079, 0.03606055115650158, 0.9764208089169211, 0.9533970400973633, 0.001874707400216342, 0.011248244401298053, 0.28683023223310034, 0.013122951801514396, 0.6861429084791812, 0.8560804607111002, 0.0035229648588934164, 0.07574374446620845, 0.0017614824294467082, 0.06165188503063479, 0.956491882933409, 0.8019195633012611, 0.19506151539760405, 0.9456923483142835, 0.1683113023495831, 0.05755723292783672, 0.0008720792867854048, 0.1277596155140618, 0.6361818397099528, 0.009592872154639453, 0.9096229665780924, 0.025270708243270528, 0.020956197079785317, 0.4733635105080919, 0.005547228638766701, 0.46165269449291774, 0.010478098539892658, 0.0024654349505629784, 0.11115410416688687, 0.010772644456702693, 0.36137325495666306, 0.14053404359425783, 0.018607294970668285, 0.032807599027230926, 0.325627661986695, 0.11116528753374035, 0.7781570127361824, 0.8631226083150458, 0.05881314273969925, 0.036559521162515755, 0.036559521162515755, 0.0031790887967405, 0.0006696428357290561, 0.010044642535935842, 0.9254463989775555, 0.06361606939426033, 0.04120099546491359, 0.4701760658937198, 0.00545307292917974, 0.007270763905572987, 0.036656768023930475, 0.23387623896259774, 0.20539908033243687, 0.7518434095111832, 0.001870257237590008, 0.22592707430087297, 0.013465852110648059, 0.0014962057900720065, 0.005236720265252023, 0.06641207901598636, 0.06641207901598636, 0.2601139761459466, 0.001383584979499716, 0.5824892763693804, 0.01383584979499716, 0.009685094856498011, 0.08953760101968827, 0.03220211966497561, 0.0023562526584128495, 0.7555716857977204, 0.0007854175528042831, 0.083254260597254, 0.03691462498180131, 0.9065070058440197, 0.002621856849874243, 0.026218568498742434, 0.06292456439698184, 0.0013109284249371216, 0.5467082756375967, 0.09283725435355417, 0.046934389700963496, 0.21146263491642892, 0.044871339604217846, 0.03300880154793037, 0.023725076112574954, 0.9818077467616485, 0.1377962459686491, 0.8267774758118945, 0.9488775628519918, 0.04257783935874322, 0.012165096959640919, 0.9123900276317283, 0.022038406464534498, 0.0088153625858138, 0.052892175514882796, 0.9096238260698337, 0.978023593582362, 0.8467844585306338, 0.0007274780571569019, 0.1193064013737319, 0.0021824341714707053, 0.021096863657550154, 0.0021824341714707053, 0.00800225862872592, 0.010716041959263874, 0.016074062938895812, 0.01875307342871178, 0.8787154406596376, 0.005358020979631937, 0.06697526224539921, 0.9096211789340121, 0.7141349591233026, 0.11472786714437937, 0.025154238250906708, 0.03435700834270184, 0.007362216073436109, 0.04969495849569374, 0.054603102544651144, 0.9840653752165426, 0.039264110718312414, 0.8768984727089771, 0.07067539929296233, 0.01047042952488331, 0.9264557274017298, 0.985983866019957, 0.9132997311526682, 0.9367946370810575, 0.9896936114591932, 0.9673900830620153, 0.002358226350201425, 0.04244807430362565, 0.04008984795342422, 0.06367211145543847, 0.7404830739632473, 0.07782146955664701, 0.03301516890281995, 0.12385890611946125, 0.8670123428362287, 0.9758699476174498, 0.020190412709326547, 0.006730137569775516, 0.8673327917811465, 0.1000768605901323, 0.05249251004328794, 0.9448651807791829, 0.0022822830453603452, 0.9589945051714694, 0.008249369312843724, 0.04124684656421863, 0.9486774709770284, 0.12676927305443028, 0.3825235118259151, 0.0017409013777761962, 0.30576558744214644, 0.012977628452513462, 0.12265441525241383, 0.04747912848480535, 0.08681983968790553, 0.009881932972607135, 0.5766813741871449, 0.007764375907048463, 0.283752646784862, 0.020469718300400494, 0.014117047103724478, 0.009048255353874884, 0.038455085253968256, 0.9319703014491131, 0.01583444686928105, 0.07143767035245024, 0.8572520442294029, 0.8743268723679054, 0.8273990697855212, 0.10301392392031655, 0.004383571230651769, 0.0010958928076629422, 0.02520553457624767, 0.0021917856153258843, 0.03726035546054003, 0.013510259990801412, 0.7274208405573602, 0.07750622836828178, 0.05475210627851098, 0.023465188405076137, 0.09457181993560988, 0.009243862098969387, 0.9814298701503567, 0.9945510917972993, 0.9892185542798649, 0.9708583887104741, 0.9188040437510852, 0.9464003755977004, 0.0026205526333717218, 0.15932960010900069, 0.5880520109286144, 0.01677153685357902, 0.10010511059479978, 0.015199205273555987, 0.11792486850172748, 0.001310235404914713, 0.6459460546229535, 0.06813224105556508, 0.04585823917201495, 0.14805660075536256, 0.06682200565065036, 0.024894472693379546, 0.40346454660055503, 0.12487380416232485, 0.021377852343006702, 0.3515469051961102, 0.014930563541147537, 0.0704111803360935, 0.013233908593289863, 0.3959182936443191, 0.17560520358380158, 0.05784370879203963, 0.09840344085339013, 0.1221401022302032, 0.12813188083017543, 0.021893037192206234, 0.15014329547043026, 0.06399550298739651, 0.044304578991274504, 0.05722674786372957, 0.027075020494667753, 0.6541078814961777, 0.0030767068743940626, 0.04969426085206614, 0.00828237680867769, 0.06128958838421491, 0.06294606374595045, 0.8166423533356202, 0.7449927755431872, 0.02586780470636067, 0.0029184189925124857, 0.14233925358935895, 0.006632770437528377, 0.07468499512656952, 0.002520452766260783, 0.8064046995371351, 0.13755729114477705, 0.005482355806494738, 0.031398946891742587, 0.012459899560215313, 0.0019935839296344503, 0.004983959824086125, 0.9967178843598503, 0.2824211446162557, 0.15768513907740947, 0.05929325643690746, 0.21075298318675428, 0.06544274910193883, 0.21454896631331685, 0.009945475791593952, 0.9795903575994402, 0.4940890193027632, 0.0922599535067619, 0.11026189565442276, 0.07940142340128986, 0.023466817442486475, 0.007072191558009623, 0.19352087808735424, 0.08611567061726573, 0.9141509650140516, 0.9473954077589135, 0.027661179788581416, 0.006915294947145354, 0.006915294947145354, 0.006915294947145354, 0.972733730461736, 0.705236696051687, 0.10569279143281199, 0.0951853209394915, 0.012361729992141754, 0.02657771948310477, 0.012979816491748841, 0.04141179547367487, 0.05292089574485577, 0.08844314083386855, 0.0666948275140648, 0.046758873637578045, 0.058720445963470105, 0.6847093976851545, 0.0018123594433169785, 0.9673904399515323, 0.07590258211859845, 0.5754795771537373, 0.05244178400921347, 0.11868403749453575, 0.01828562205584417, 0.11143879101957863, 0.047956631429478105, 0.11112459282168455, 0.770046474200969, 0.035998107533785136, 0.004695405330493713, 0.02973756709312685, 0.050084323525266275, 0.0046143418682129496, 0.0023071709341064748, 0.9205612027084835, 0.07152229895730072, 0.012946946187837807, 0.9278644767950428, 0.004315648729279269, 0.05178778475135123, 0.8878477447474228, 0.06858383712250501, 0.9312551787061507, 0.0728462067271374, 0.9266037495691877, 0.9978587250680616, 0.026484829995620927, 0.17362277441573717, 0.4624335396060797, 0.08323803712909433, 0.20599312218816276, 0.040357836183803314, 0.00798748841137774, 0.9825696149394358, 0.9813825246517992, 0.11681083266956821, 0.16768546466319104, 0.3805556353733497, 0.05154403504617049, 0.1499462837706778, 0.1178149372483897, 0.015730971734870217, 0.9521783433024249, 0.038087133732096996, 0.9819940417038503, 0.0011662652063702116, 0.1092401743300098, 0.20370765604599694, 0.3275261454556344, 0.16794218971731045, 0.18271488233133315, 0.007580723841406375, 0.019512483216251594, 0.6829369125688058, 0.027317476502752232, 0.16585610733813855, 0.03707371811087803, 0.067318067096068, 0.13896092997380527, 0.5703003771536425, 0.04455010706166581, 0.059596831963288036, 0.045140174704866684, 0.10473700666815472, 0.03687922770005448, 0.04023902694595897, 0.1904996312850511, 0.0665664200407128, 0.15011101687832648, 0.04016423321557615, 0.42759575659860116, 0.08481609025412169, 0.981808172103991, 0.08192534845116989, 0.7164603586248537, 0.013138970978017812, 0.07496942263927811, 0.08115246780540414, 0.03246098712216165, 0.008386219510980692, 0.14280881051307698, 0.3619443725173985, 0.09127609931516666, 0.012518559559869727, 0.3635243848890326, 0.019567845525621613, 0.004870844964679274, 0.07830819981676679, 0.14637513586164383, 0.014237854512139415, 0.05183078616261279, 0.6747993677990286, 0.029474856709341246, 0.004057969402423849, 0.015652167695063418, 0.0005797099146319785, 0.10376807471912415, 0.8672460322894399, 0.008115938804847699, 0.9429318392625495, 0.048355478936541005, 0.013940878251138331, 0.9828319167052523, 0.8331708916634621, 0.0005987373548557052, 0.14279885913308568, 0.4942576864333846, 0.06526237167927186, 0.19728395842495483, 0.09220555264777859, 0.007484216935696314, 0.9763886683854797, 0.800211837343509, 0.9286925117531936, 0.007385228721695376, 0.03507983642805304, 0.005538921541271532, 0.003692614360847688, 0.01846307180423844, 0.6270996473694159, 0.05490486182976861, 0.2201577302781898, 0.005382829591153785, 0.048983749279499444, 0.005921112550269164, 0.0376798071380765, 0.9132994217534203, 0.020446430816803696, 0.9650715345531344, 0.012267858490082217, 0.004089286163360739, 0.04506255059172775, 0.953823987524904, 0.005080088366526809, 0.0897482278086403, 0.0016933627888422696, 0.008466813944211348, 0.8940955525087184, 0.9867852321570836, 0.2619226496256425, 0.10028353435208084, 0.14962431483201838, 0.2616022549472013, 0.02643256097139511, 0.006087498890381905, 0.19383878045689748, 0.052686489810049565, 0.4775593595082033, 0.15636899382127012, 0.062265851593694944, 0.1572142316257094, 0.09072219100981797, 0.003099205282944092, 0.4090794019742912, 0.04192120146506821, 0.30338234425193916, 0.03596084106719122, 0.07072961005480703, 0.04053045070556358, 0.09834594656497045, 0.230727080800099, 0.042314260171517536, 0.14395425673215595, 0.08362784527141134, 0.03559544183347252, 0.0630425295122947, 0.4006988893944718, 0.06165906945191223, 0.05420331740210422, 0.0007455752049808008, 0.7163486569455534, 0.000894690245976961, 0.16283362476780688, 0.0032805309019155234, 0.058055052428549594, 0.02322202097141984, 0.9114643231282287, 0.5979900739585964, 0.009026265267299568, 0.20354228177760528, 0.00045131326336497843, 0.1611188350212973, 0.0230169764316139, 0.0049644458970147624, 0.49663380356225933, 0.0858665922046897, 0.025914692241955903, 0.09050802962115942, 0.013150739346664189, 0.28583518756425985, 0.002320718708234857, 0.19654539880507974, 0.0937248682430662, 0.07711539792151016, 0.040732748645720754, 0.41879593025066286, 0.061692318337208125, 0.11152072930187623, 0.05263815502826673, 0.05263815502826673, 0.8422104804522677, 0.05263815502826673, 0.004122414486817582, 0.9955630985664461, 0.11229054287386153, 0.03841518572000526, 0.026723607457394966, 0.767532841108065, 0.034432340377797355, 0.017858564598932213, 0.002569577640134131, 0.290108522419089, 0.001883821574149929, 0.015070572593199431, 0.6932463392871738, 0.020725553851303657, 0.04111410682697636, 0.04296761164294661, 0.050044630031196635, 0.014491037652131012, 0.5304393782431213, 0.30009927974936434, 0.9859379352554996, 0.21719372867401152, 0.7789016476585241, 0.8566932491274926, 0.8819727660832827, 0.046257312906465876, 0.023128656453232938, 0.030838208604310583, 0.015419104302155292, 0.02361392385157434, 0.3742449143749509, 0.014311469000954145, 0.23792817214086268, 0.00894466812559634, 0.3409707489477325, 0.9713152763505261, 0.008112796982520801, 0.981648434885017, 0.9264535655345864, 0.015502060703841983, 0.031004121407683966, 0.961127763638203, 0.8989984167278612, 0.6044537290409393, 0.1938437762546788, 0.01171035666320039, 0.1422683756316473, 0.006727226168221501, 0.038120948286588505, 0.0027407217722383893, 0.9763953327660163, 0.800233557538967, 0.953396419643459, 0.1193478398616285, 0.875217492318609, 0.9938010577994599, 0.03680210417782002, 0.007360420835564003, 0.9494942877877565, 0.9926792342913756, 0.9821386956758088, 0.0432631872832927, 0.014871720628631865, 0.7909051425226947, 0.05813490791192457, 0.07435860314315933, 0.018927644436440558, 0.041481286260830454, 0.9540695839991004, 0.004153081941283253, 0.0024918491647699516, 0.9086943287527757, 0.0024918491647699516, 0.07143300939007195, 0.0008306163882566505, 0.010798013047336456, 0.005186666483826995, 0.036306665386788964, 0.6989033086956876, 0.16856666072437734, 0.09076666346697242, 0.4290649986592484, 0.016238793052704946, 0.12233224099704391, 0.0014434482713515506, 0.1259408616754228, 0.002165172407027326, 0.30240241284814984, 0.9512067347977378, 0.9944621818376237, 0.00373857963096851, 0.028067247692866705, 0.0038816406383751826, 0.020602554157529818, 0.9142756642080623, 0.0011943509656539024, 0.02836583543428018, 0.003583052896961707, 0.0762975796604545, 0.08293215180484184, 0.7286971738585437, 0.035384384770065856, 0.05639386322729245, 0.014374906312839253, 0.005528810120322789, 0.07750457266691828, 0.28644634034318456, 0.16975575745683658, 0.2064525697220003, 0.098210173831949, 0.14037567857239408, 0.021233612852299265, 0.9763960236445778, 0.9400404975509362, 0.0024544138317256817, 0.0049088276634513634, 0.05154269046623932, 0.007968554712236727, 0.019921386780591816, 0.11288785842335364, 0.6959204448686741, 0.06773271505401218, 0.018593294328552362, 0.07835745467032781, 0.34919133425727844, 0.0339491574972354, 0.0347574707709791, 0.008083132737437, 0.07355650791067671, 0.025866024759798403, 0.47447989168755195, 0.07634506638339687, 0.020821381740926417, 0.9022598754401447, 0.04455805861854556, 0.07178798332987896, 0.029705372412363703, 0.07921432643296988, 0.769864235020426, 0.007426343103090926, 0.08943656621963848, 0.8128894186245677, 0.010769848288228719, 0.01030159401482747, 0.03933335896570488, 0.012642865381833714, 0.024817476490266176, 0.16302116763817703, 0.173161240266389, 0.06093793646762, 0.3121972361109108, 0.029250209504457603, 0.23692669698610658, 0.024570175983744384, 0.018145560443508138, 0.9163508023971609, 0.054436681330524414, 0.049610412306885544, 0.7370689828451568, 0.042523210548759044, 0.028348807032506026, 0.13111323252534038, 0.010630802637189761, 0.9720540822116901, 0.010042035018730168, 0.04184181257804237, 0.08870464266544982, 0.0066946900124867795, 0.0033473450062433898, 0.7648683339266146, 0.08368362515608474, 0.9614639991322756, 0.024036599978306893, 0.6431279661303608, 0.07649741477476514, 0.02840023782057149, 0.05634240728919828, 0.01923887078167746, 0.16719494845981603, 0.008703298686949327, 0.09056553340985363, 0.818740996601788, 0.003571822088907461, 0.005238672397064276, 0.05445044339978929, 0.01285855952006686, 0.014525409828223675, 0.08843698353043553, 0.09167924631302747, 0.2733739461953839, 0.1297758340084828, 0.32734055698457876, 0.04692748764277813, 0.04240538428811042, 0.9789142367392408, 0.10933723853657769, 0.018222873089429617, 0.8482747423129486, 0.017311729434958133, 0.0063780055813003654, 0.0009111436544714808, 0.08962803226837807, 0.10802536520767672, 0.21369209798723823, 0.06179616961661856, 0.057078904760388134, 0.0910432117252472, 0.37926809444092613, 0.032847353616582184, 0.10496871699212132, 0.2186848270669194, 0.20065448622303464, 0.07604876435143483, 0.2717047402415113, 0.094971696326205, 0.12565855064292294, 0.7567087015205485, 0.012309810995584144, 0.0023634837111521554, 0.04726967422304311, 0.03604312659507037, 0.019597219104969955, 0.0023265873870539386, 0.020648463060103706, 0.05961880179325718, 0.9169662539226335, 0.0002908234233817423, 0.031591753806349925, 0.18918878519909552, 0.051728482377572965, 0.5599698651782025, 0.007958228058088148, 0.04750820992252622, 0.1121386680912421, 0.9381562006726515, 0.03829208982337353, 0.12398920321235381, 0.290365708239371, 0.12627354881913208, 0.1224663061411683, 0.1333804018179978, 0.16079254909933702, 0.04289493417172527, 0.19043594215934573, 0.13811319567497105, 0.020740548155968347, 0.017912291589245392, 0.04195247240639052, 0.10700237344101853, 0.48363187290962556, 0.2857089733768764, 0.4197338073422166, 0.05427912831883403, 0.13476838366833793, 0.02621012703066986, 0.06524648643805049, 0.014127444356956802, 0.006425960269782813, 0.8675046364206797, 0.10281536431652501, 0.012851920539565626, 0.9867854184924535, 0.007294429373195851, 0.4981825097841907, 0.012157382288659752, 0.4184841147807546, 0.0018911483560137392, 0.045117396493470636, 0.016750171153264548, 0.005572694503156602, 0.011145389006313204, 0.03343616701893961, 0.8098982677920927, 0.014860518675084271, 0.12817197357260185, 0.1247441248281321, 0.02190164023700029, 0.015235923643130637, 0.8084561983136195, 0.006665716593869654, 0.02380613069239162, 0.06879234344946956, 0.8943004648431043, 0.01719808586236739, 0.02874919106769245, 0.963097900767697, 0.11336040650386191, 0.8632830956832561, 0.017440062539055678, 0.0043600156347639194, 0.9885649526977958, 0.9096228871423422, 0.012121519248674445, 0.9697215398939556, 0.9642161186553991, 0.009401094001004787, 0.9777137761044978, 0.009401094001004787, 0.04012623162730008, 0.572069923875697, 0.0775412313878907, 0.06723855029439472, 0.10844927466837859, 0.12092094125524212, 0.01301391296020543, 0.9821271880155109, 0.981436191506653, 0.058960306073662615, 0.28243888554641605, 0.019970426250756693, 0.6086225143087753, 0.029480153036831307, 0.10372498569247857, 0.059805397156023676, 0.0009344593305628699, 0.14203781824555622, 0.6550559907245718, 0.038312832553077665, 0.008595762913653169, 0.06017034039557218, 0.008595762913653169, 0.9197466317608891, 0.8422851759892729, 0.15339084156665225, 0.6435714511315002, 0.040496347536115224, 0.0603075103595385, 0.046468830446117826, 0.05040192894782686, 0.005535471965368268, 0.8878476922974825, 0.9764943657048497, 0.007187583217915156, 0.04791722145276771, 0.08345582736357043, 0.06349031842491722, 0.03513929573202965, 0.7566927887749568, 0.006388962860369028, 0.9912207789687777, 0.9821380196535545, 0.9096262375132362, 0.007054829821868973, 0.13233887665850763, 0.6641270832311137, 0.19631888504304348, 0.01734377922675699, 0.9712516366983913, 0.0432072299682611, 0.05946801544018732, 0.049246950286405126, 0.13148006538728915, 0.005575126447517562, 0.6118701276150523, 0.09895849444343671, 0.000867783072521976, 0.001301674608782964, 0.13277081009586233, 0.009545613797741735, 0.8560680010429293, 0.9764079996574385, 0.9565391490632813, 0.965565007537857, 0.06014588893416725, 0.3759419390494342, 0.08148020224348108, 0.26107413914109473, 0.1547641711251919, 0.05243178694661875, 0.014222875539542556, 0.04955924574234802, 0.03807341196515148, 0.1553778069304087, 0.5831187648182279, 0.0015952546912772966, 0.10613761212631614, 0.0661498945316319, 0.035414941854601714, 0.20613312310242535, 0.0009080754321692747, 0.09080754321692747, 0.01997765950772404, 0.5929732572065364, 0.053576450497987205, 0.9673333588040587, 0.9020005016286776, 0.9096215701979192, 0.008019602411153582, 0.05012251506970989, 0.05212741567249829, 0.7979504399097814, 0.04009801205576791, 0.0461127138641331, 0.004009801205576791, 0.9818080626295481, 0.8569694267808972, 0.007862104832852268, 0.11006946765993175, 0.015724209665704536, 0.9789921137527993, 0.03580733381023414, 0.15934263545554192, 0.010742200143070242, 0.7662769435390107, 0.028645867048187314, 0.001790366690511707, 0.01734560039551336, 0.9713536221487483, 0.514756145141068, 0.17965585979020235, 0.005263355267291084, 0.04070328073371772, 0.015439175450720514, 0.23650009667694605, 0.008070478076512996, 0.9631931378218365, 0.8422876049959959, 0.09650847422956758, 0.9007457594759641, 0.05669182905920936, 0.008589671069577176, 0.04638422377571675, 0.001717934213915435, 0.7593269225506223, 0.02061521056698522, 0.10822985547667241, 0.08793437193650731, 0.8793437193650732, 0.9993845195980435, 0.0004758973902847826, 0.0909013015579874, 0.8181117140218866, 0.10537690985876955, 0.256287052372563, 0.15143052231556514, 0.005724177819488716, 0.1959229953670456, 0.09210722491359116, 0.19332109635818712, 0.9804142320157914, 0.10943437698738309, 0.06253392970707605, 0.031266964853538026, 0.007816741213384507, 0.7816741213384507, 0.007816741213384507, 0.29686965922519254, 0.0562315789061646, 0.03803900926005253, 0.0016538699678283705, 0.10584767794101571, 0.4945071203806828, 0.007442414855227668, 0.015374557270044248, 0.07724777555192963, 0.4640491371141404, 0.03881138237681901, 0.0301866307375259, 0.05212349903746708, 0.3221157242675124, 0.003982912096204544, 0.1354190112709545, 0.023897472577227265, 0.8324286281067497, 0.7631481749638044, 0.055558864386101144, 0.05765542530633137, 0.009434524141036044, 0.07128307128782788, 0.0010482804601151159, 0.04088293794448952, 0.9657598679935154, 0.9744731550088838, 0.9757074946063684, 0.017651122545072753, 0.9708117399790015, 0.11724952065308013, 0.16076480666865625, 0.0024175158897542294, 0.6859701337177626, 0.016922611228279604, 0.008461305614139802, 0.008461305614139802, 0.9096228836148683, 0.9956238026387909, 0.04294258612149757, 0.9559393084437718, 0.9172691223798691, 0.0655192230271335, 0.9813757158970785, 0.005560487965391626, 0.693948898080875, 0.0011120975930783254, 0.003336292779234976, 0.2958179597588345, 0.2529344289234508, 0.03656365043961449, 0.02279851145058315, 0.05635103773634703, 0.02279851145058315, 0.5531865231216968, 0.055490716549532575, 0.0027326866740643094, 0.5228540503043045, 0.4422397934194074, 0.004554477790107182, 0.013663433370321547, 0.014574328928342983, 0.03041193535243494, 0.11600428948866935, 0.09280343159093549, 0.06584027241248801, 0.6245420125984578, 0.06740789794611868, 0.003135251067261334, 0.11787875894434223, 0.6483331741938823, 0.004312637522353984, 0.11931630478512689, 0.0028750916815693224, 0.10637839221806494, 0.15359338342758877, 0.6605628482918401, 0.02337290617376351, 0.06900572298920656, 0.027824888302099417, 0.0573192699023248, 0.008347466490629825, 0.9904271186294399, 0.9963250953065643, 0.9079671208000422, 0.974549377514138, 0.03548203354284777, 0.3864584820041836, 0.005026621418570101, 0.06771154734426782, 0.020993536512851595, 0.09816695946854549, 0.3861627983913265, 0.9896386527215542, 0.9423927992306079, 0.9090342613036303, 0.015472923596657537, 0.06575992528579452, 0.0038682308991643843, 0.010455212023861958, 0.013069015029827448, 0.21955945250110112, 0.0026138030059654894, 0.005227606011930979, 0.7501614627120955, 0.9862345881662054, 0.018900499960511637, 0.14091262797784593, 0.15763610700049757, 0.31913147839083783, 0.07688842130532744, 0.06531062813579937, 0.2211655361871388, 0.004183870145513642, 0.0034865584545947016, 0.0969263250377327, 0.01813010396389245, 0.07182310416465085, 0.02301128580032503, 0.782383717211051, 0.9949254624964649, 0.738074857043443, 0.11007241543124584, 0.017690209622878796, 0.04225994521021045, 0.039311576939730655, 0.019655788469865328, 0.03341484039877106, 0.9439339633896376, 0.02195195263696832, 0.9448582966415324, 0.005263834521679846, 0.005263834521679846, 0.044742593434278694, 0.015688234837327793, 0.026894116863990503, 0.2859741093204323, 0.03899646945278623, 0.2635623452671069, 0.06320117463037768, 0.3052482264062922, 0.028461511124765738, 0.014230755562382869, 0.03557688890595717, 0.03320509631222669, 0.8870504300551989, 0.9903159501719454, 0.9689597924106566, 0.020186662341888678, 0.9895348704998493, 0.006384095938708706, 0.5730568400804504, 0.1832449197931673, 0.01808651156400093, 0.008091334120737257, 0.02712976734600139, 0.17848531148685126, 0.011899020765790084, 0.11416305122642177, 0.14185366365155386, 0.23415570506866082, 0.13780532850168076, 0.07287003269771603, 0.18055574768434082, 0.11853525318828473, 0.005791439767646326, 0.07384085703749066, 0.21428327140291406, 0.6037575957771295, 0.07239299709557907, 0.02895719883823163, 0.693618867226281, 0.00956116233018683, 0.23294468222637005, 0.007822769179243771, 0.0173839315094306, 0.010430358905658361, 0.02781429041508896, 0.884375295559427, 0.17020008078703544, 0.7112682388445865, 0.046227182435984934, 0.017860502304812363, 0.014708648956904298, 0.038872857957532786, 0.09864086763796483, 0.04061682785092669, 0.10212231002518712, 0.0011604807957407628, 0.655671649593531, 0.0011604807957407628, 0.10096182922944635, 0.03550430468464136, 0.021302582810784815, 0.94441450461146, 0.8002133270832276, 0.9590507341910154, 0.9307848938871581, 0.06026664780564333, 0.006696294200627037, 0.9119942940626141, 0.010293389323505804, 0.018528100782310444, 0.05970165807633366, 0.17432051447465496, 0.05142455177002321, 0.6467291087009699, 0.06362698778324906, 0.03660730803967754, 0.01656044887509222, 0.010459230868479297, 0.17435850750385154, 0.825478558963547, 0.019024208589991248, 0.9426042398993282, 0.00045295734738074394, 0.03487771574831729, 0.0009059146947614879, 0.0018118293895229758, 0.8796546639864391, 0.1185350256435627, 0.09855530784038206, 0.03142343148533921, 0.7284522753419544, 0.03142343148533921, 0.01999672912703404, 0.015711715742669604, 0.07427356532898359, 0.16300205272507187, 0.006873580536599416, 0.7737687804057628, 0.049097003832852974, 0.0009819400766570595, 0.005891640459942357, 0.9238398992310185, 0.03732686461539469, 0.016797089076927608, 0.007465372923078938, 0.009331716153848672, 0.003732686461539469, 0.0018663432307697344, 0.8774651966880979, 0.018603502403281225, 0.006201167467760409, 0.0031005837338802045, 0.08991692828252593, 0.17727650769023814, 0.007821022398098742, 0.05996117171875702, 0.04171211945652663, 0.0052140149320658285, 0.7064990232949198, 0.054131509439487364, 0.7626174418092484, 0.003184206437616904, 0.03343416759497749, 0.14647349613037758, 0.9109296007794698, 0.00394341818519251, 0.01577367274077004, 0.03154734548154008, 0.0394341818519251, 0.001252755840562508, 0.0004175852801875027, 0.0008351705603750054, 0.0010439632004687568, 0.0004175852801875027, 0.9959408932471939, 0.9688256938058558, 0.7747638817580444, 0.002152121893772346, 0.12374700889190988, 0.04304243787544692, 0.051650925450536296, 0.004304243787544692, 0.2838324472432136, 0.0678248964840926, 0.07962053065523914, 0.13343811156109522, 0.03354383467419797, 0.3520259572951545, 0.049762831659524456, 0.9892643614924017, 0.13390216538329336, 0.10216239284799418, 0.06546328085405452, 0.06447141296232643, 0.07240635609615122, 0.5594134909346478, 0.001983735783456198, 0.05745180063869375, 0.0012767066808598612, 0.09511464772405966, 0.8356045226227791, 0.0038301200425795833, 0.007021886744729236, 0.9904224396717831, 0.0009848331846548275, 0.6682093157883005, 0.12113448171254378, 0.13492214629771138, 0.01575733095447724, 0.05318099197136068, 0.0054165825156015516, 0.018857950392439378, 0.15840678329649077, 0.18732230723156448, 0.624826756336158, 0.010057573542634334, 0.002715834888433231, 0.002172667910746585, 0.021726679107465847, 0.012492840486792863, 0.0002715834888433231, 0.006246420243396431, 0.9546159632842808, 0.0020633138517983794, 0.015474853888487846, 0.0010316569258991897, 0.0010316569258991897, 0.9811057365301294, 0.596091990488946, 0.1298319061031355, 0.027034407183429244, 0.10012743401270091, 0.03504460190444532, 0.012349050194899779, 0.09945991778594956, 0.9864865744053259, 0.007828685782736645, 0.5982420718974586, 0.08350598168252421, 0.09133466746526085, 0.1246065820418916, 0.05480080047915652, 0.03914342891368323, 0.13434763966783475, 0.003784440554023514, 0.001892220277011757, 0.11164099634369366, 0.0132455419390823, 0.7341814674805618, 0.9700826952883796, 0.3507414423443, 0.13364357786496622, 0.1093270607861878, 0.042602537922019804, 0.0044742391424952305, 0.3221452182596566, 0.037155638096373435, 0.09476848092011357, 0.17499215901315934, 0.30907706007519054, 0.2504433236785735, 0.05158859752725607, 0.08885965477161728, 0.03022591837500025, 0.022589416207009154, 0.2029152731698581, 0.02667887948586426, 0.425304181000931, 0.11216813564859718, 0.20564158202242816, 0.004868408665303697, 0.18991452549752758, 0.03938319653174535, 0.10152112883738801, 0.02100437148359752, 0.07088975375714163, 0.5277348335253876, 0.048135017983244315, 0.05827683231847359, 0.22133989197881795, 0.39364879522815094, 0.14709296618845497, 0.10030339408660359, 0.05687594692620259, 0.022414166276335995, 0.9500164841184209, 0.9527526050045958, 0.042660564403190854, 0.16947072213014244, 0.021599209683253448, 0.025752903853109882, 0.023260687351196022, 0.006645910671770292, 0.04236768053253561, 0.7111124418794212, 0.01902578970605924, 0.0062513309034194645, 0.0032615639496101556, 0.6327434062243701, 0.006794924895021157, 0.06332870002159718, 0.26880722884703695, 0.008033905604435664, 0.8033905604435664, 0.18477982890202027, 0.0015573285373846205, 0.15417552520107744, 0.0015573285373846205, 0.06229314149538482, 0.7786642686923103, 0.147599216587989, 0.33545276497270227, 0.08095593394674548, 0.11763210291709425, 0.07625959523712765, 0.21647885099571718, 0.025718045314573838, 0.02829929834857909, 0.11846217913358689, 0.4156048117936674, 0.11550062465524723, 0.22277470909288424, 0.0408036394793466, 0.05857296634938463, 0.15978563591571257, 0.8358017878668043, 0.25582200754129825, 0.034495456220500854, 0.0027781575479598, 0.28221450424691635, 0.00162059190297655, 0.41996481599992314, 0.0032411838059531, 0.9318619298761271, 0.08267511805142654, 0.1522070122074981, 0.2014941018150793, 0.1934385774921198, 0.12814643297971115, 0.19439252116194394, 0.047591189750116045, 0.03528158732823342, 0.007056317465646685, 0.9526028578623025, 0.9864869563869758, 0.030393834590051735, 0.06078766918010347, 0.011397687971269402, 0.8966181204065262, 0.10121838040041807, 0.8957826665437, 0.004411292882604692, 0.6594882859494016, 0.1477783115672572, 0.019115602491287003, 0.007352154804341154, 0.0007352154804341155, 0.1610121902150713, 0.9897201132624145, 0.027432128871355987, 0.9738405749331376, 0.04368566077379486, 0.6609357931000507, 0.03433997215054522, 0.10628004038997854, 0.028471749061527996, 0.07998170728734581, 0.046728443116248235, 0.0848323746212804, 0.4079980172324393, 0.13064854540885762, 0.10144212996762834, 0.11437321466679856, 0.13856326104369454, 0.022072023883066387, 0.034422965317474144, 0.04589728708996552, 0.03606215414211577, 0.819594412320813, 0.01147432177249138, 0.01147432177249138, 0.040979720616040646, 0.005915221992909382, 0.000845031713272769, 0.15041564496255286, 0.7917947153365845, 0.043941649090183985, 0.006760253706182152, 0.001690063426545538, 0.02605034260490357, 0.7028803837403944, 0.036729067606546026, 0.10994776952363712, 0.058421724224232266, 0.03888396727055459, 0.027103849107307756, 0.9679110021912534, 0.020307279724648516, 0.7330146931377935, 0.014449410573307599, 0.010544164472413653, 0.01288731213295002, 0.185108665182373, 0.023822001215453067, 0.01729826163916944, 0.7237369466452505, 0.008370126599598116, 0.18972286959089063, 0.0033480506398392462, 0.02957444731858001, 0.028458430438633595, 0.00023135415837043688, 0.00023135415837043688, 0.02961333227141592, 0.9615078821875357, 0.001850833266963495, 0.004858437325779175, 0.0013881249502226212, 0.9433073868932735, 0.024823878602454566, 0.024823878602454566, 0.2013886159433678, 0.044512934425250825, 0.023769042654260147, 0.6396033296055458, 0.07260362119846736, 0.00907545264980842, 0.00950761706170406, 0.10962180228459789, 0.8391737967993357, 0.003780062147744755, 0.04158068362519231, 0.05987524236029664, 0.3897647988261618, 0.02331680111146167, 0.4358226775648515, 0.014393087105840538, 0.04951221964409145, 0.027346865501097023, 0.012116893230579073, 0.008077928820386049, 0.11107152128030817, 0.014136375435675586, 0.03837016189683373, 0.8158708108589909, 0.2606405640174108, 0.2492742837820651, 0.18382018725438448, 0.1514850796883147, 0.025868086052855812, 0.08485516106732247, 0.04389735815030077, 0.05073279352560712, 0.9131902834609281, 0.9899433314700385, 0.9019875402954352, 0.9367960010034174, 0.9647017541934708, 0.975367416262223, 0.901984892010162, 0.9613554239606303, 0.02403388559901576, 0.9690663528649518, 0.15976042848405092, 0.14961171274018703, 0.011458227452749553, 0.6144883693945975, 0.012767739161635218, 0.04517815395655538, 0.006874936471649732, 0.13146272463623976, 0.05566268543124025, 0.06136193649928532, 0.0818792403442476, 0.029256155482631392, 0.6240679919509359, 0.016147878026127716, 0.7427413071065491, 0.011883860913704785, 0.14206615546837992, 0.006482105952929883, 0.02052666885094463, 0.06158000655283388, 0.014584738394092234, 0.9132984633507041, 0.007060344044178137, 0.2147658141810466, 0.3045799581848941, 0.16911986896519723, 0.2029438427582367, 0.09720287614310366, 0.004269045236014688, 0.07160344913225608, 0.2931954270126451, 0.19790030774929815, 0.23471487323181112, 0.0851667100994977, 0.09450246115487179, 0.022987085145779625, 0.23394800229113683, 0.016055255059195667, 0.005734019663998452, 0.6387697905694275, 0.004587215731198762, 0.05275298090878576, 0.047018961244787306, 0.0757204487150229, 0.7617477140731304, 0.005300431410051603, 0.03331699743461008, 0.08404969807367542, 0.03786022435751145, 0.001514408974300458, 0.21027104528636045, 0.1057576263274594, 0.3294039008258221, 0.0575445907958235, 0.16547958001826002, 0.10637973001173857, 0.025195199213306506, 0.07408365674739252, 0.7098015220797473, 0.007007913476104698, 0.01701921844196855, 0.1361537475357484, 0.028031653904418793, 0.028031653904418793, 0.9744016381283148, 0.9831240471914546, 0.01016546570689798, 0.04066186282759192, 0.9479296771682366, 0.006817250698425866, 0.18406576885749837, 0.0818070083811104, 0.7294458247315676, 0.10616863980482957, 0.8866516135051983, 0.0028694226974278264, 0.0028694226974278264, 0.05678313803804586, 0.020648413832016675, 0.04645893112203752, 0.005162103458004169, 0.8723954844027045, 0.22111051364832082, 0.005320841237526437, 0.20987762659132056, 0.007685659565315964, 0.13124741719231878, 0.4250760944201676, 0.014028766929157, 0.005455631583561055, 0.05533569177611928, 0.05143881207357567, 0.03818942108492739, 0.8347116322848415, 0.0007793759405087222, 0.8003093897844296, 0.2152483869591749, 0.031469062420932004, 0.06293812484186401, 0.01384638746521008, 0.061679362345026724, 0.5425266361368677, 0.07174946231972497, 0.031341878255692276, 0.13036887657420937, 0.006001636261728309, 0.14470611875500478, 0.04034433264828474, 0.5421478089761239, 0.1053620588170081, 0.002672834111585144, 0.6909276178447598, 0.1630428808066938, 0.14166020791401265, 0.0003677461672030728, 0.03162617037946426, 0.003677461672030728, 0.40930148409702, 0.24565443969165263, 0.07428472577502071, 0.23498980084276352, 0.9974038031642541, 0.2961611380447338, 0.15525256239382057, 0.061876021243913996, 0.13697101066266415, 0.05090709020522015, 0.06496982230610969, 0.23372260751678423, 0.8331827829549445, 0.1209344453978119, 0.5916851781729399, 0.0005957361842256744, 0.08757321908117413, 0.1315385494770289, 0.020135883026827794, 0.047420600264363684, 0.050788692984998655, 0.08102005785702167, 0.06650900271845063, 0.003023136487202301, 0.1686910159858884, 0.20859641761695877, 0.42202985361344125, 0.012451136621675482, 0.1322084324919724, 0.4086236654931681, 0.08730887921986989, 0.18344674622601875, 0.13613242706365195, 0.03984363718936154, 0.038352273514285364, 0.09460227466857056, 0.07159091055999933, 0.023011364108571217, 0.13806818465142728, 0.05752841027142804, 0.5778409209485661, 0.01694512698153717, 0.2651413986522875, 0.010964493929229933, 0.005980633052307237, 0.694750206243024, 0.006977405227691776, 0.9549337313670515, 0.07713927125827949, 0.916028846192069], \"Term\": [\"abomination\", \"achievement\", \"action\", \"action\", \"action\", \"action\", \"action\", \"advertise\", \"advertise\", \"africa\", \"africa\", \"africa\", \"alabama\", \"alabama\", \"american\", \"american\", \"american\", \"amidst\", \"anniversary\", \"anniversary\", \"anniversary\", \"apart\", \"apart\", \"apart\", \"apart\", \"apartheid\", \"arm\", \"arm\", \"arm\", \"arm\", \"arm\", \"arm\", \"asset\", \"award\", \"awareness\", \"away\", \"away\", \"away\", \"away\", \"away\", \"away\", \"away\", \"awhile\", \"awhile\", \"awhile\", \"awhile\", \"awhile\", \"awhile\", \"awhile\", \"babe\", \"babe\", \"babe\", \"babe\", \"babe\", \"babe\", \"babe\", \"baby\", \"baby\", \"baby\", \"baby\", \"baby\", \"baby\", \"baby\", \"backup\", \"badass\", \"ball\", \"ball\", \"ball\", \"ball\", \"bananas\", \"band\", \"band\", \"band\", \"basketball\", \"beat\", \"beat\", \"beat\", \"beat\", \"beat\", \"beat\", \"beat\", \"beaucoup\", \"beep\", \"believe\", \"believe\", \"believe\", \"believe\", \"believe\", \"believe\", \"believe\", \"bell\", \"bell\", \"belong\", \"belong\", \"belong\", \"belong\", \"belong\", \"belong\", \"belong\", \"better\", \"better\", \"better\", \"better\", \"better\", \"better\", \"better\", \"bitch\", \"bitch\", \"black\", \"black\", \"black\", \"black\", \"black\", \"black\", \"blah\", \"bleed\", \"bleed\", \"bleed\", \"bleed\", \"bleed\", \"bleed\", \"blind\", \"blind\", \"blind\", \"blind\", \"blind\", \"blind\", \"blind\", \"blood\", \"blood\", \"blood\", \"blood\", \"blue\", \"blue\", \"blue\", \"blue\", \"blue\", \"blue\", \"blue\", \"blunder\", \"blunder\", \"blunt\", \"blunt\", \"bollocks\", \"bouquet\", \"bouquet\", \"bouquet\", \"bout\", \"bout\", \"bout\", \"bout\", \"bout\", \"bout\", \"boys\", \"boys\", \"boys\", \"boys\", \"boys\", \"boys\", \"boys\", \"brave\", \"brave\", \"brave\", \"brave\", \"brave\", \"break\", \"break\", \"break\", \"break\", \"break\", \"break\", \"break\", \"breakaway\", \"breathe\", \"breathe\", \"breathe\", \"breathe\", \"breathe\", \"breathe\", \"bring\", \"bring\", \"bring\", \"bring\", \"bring\", \"bring\", \"bring\", \"bristol\", \"bros\", \"bruh\", \"bruh\", \"bucket\", \"bucket\", \"bucket\", \"bully\", \"bully\", \"bumper\", \"burn\", \"burn\", \"burn\", \"burn\", \"burn\", \"burn\", \"burn\", \"burner\", \"bury\", \"bury\", \"bury\", \"bury\", \"bury\", \"business\", \"business\", \"business\", \"business\", \"business\", \"carol\", \"cash\", \"cash\", \"cash\", \"catholic\", \"cause\", \"cause\", \"cause\", \"cause\", \"cause\", \"cause\", \"cause\", \"change\", \"change\", \"change\", \"change\", \"change\", \"change\", \"change\", \"charm\", \"charm\", \"charm\", \"charm\", \"charm\", \"charm\", \"check\", \"check\", \"check\", \"cheese\", \"cheese\", \"cheesecake\", \"chevrolet\", \"chicago\", \"chicago\", \"chicago\", \"chicken\", \"chicken\", \"chicken\", \"chickens\", \"choo\", \"christmas\", \"chump\", \"city\", \"city\", \"city\", \"city\", \"city\", \"city\", \"city\", \"climax\", \"close\", \"close\", \"close\", \"close\", \"close\", \"close\", \"close\", \"club\", \"club\", \"club\", \"cold\", \"cold\", \"cold\", \"cold\", \"cold\", \"cold\", \"cold\", \"collapse\", \"collapse\", \"come\", \"come\", \"come\", \"come\", \"come\", \"come\", \"come\", \"complaint\", \"condemn\", \"condemn\", \"condemn\", \"corona\", \"countless\", \"country\", \"country\", \"country\", \"country\", \"country\", \"crawl\", \"crawl\", \"crawl\", \"crawl\", \"crawl\", \"creepy\", \"crew\", \"crew\", \"crunchy\", \"cry\", \"cry\", \"cry\", \"cry\", \"cry\", \"cry\", \"curiosity\", \"damn\", \"damn\", \"damn\", \"damn\", \"damn\", \"damn\", \"damn\", \"dance\", \"dance\", \"dance\", \"dance\", \"dance\", \"dance\", \"dance\", \"dangerously\", \"dangerously\", \"darkness\", \"darkness\", \"darkness\", \"darkness\", \"darkness\", \"darling\", \"darling\", \"darling\", \"darling\", \"days\", \"days\", \"days\", \"days\", \"days\", \"days\", \"days\", \"dead\", \"dead\", \"dead\", \"dead\", \"dead\", \"dead\", \"deal\", \"deal\", \"deal\", \"deal\", \"deal\", \"deal\", \"deal\", \"dear\", \"dear\", \"dear\", \"dear\", \"dear\", \"dear\", \"dear\", \"death\", \"death\", \"death\", \"death\", \"death\", \"deep\", \"deep\", \"deep\", \"deep\", \"deep\", \"deep\", \"deep\", \"delegation\", \"delightful\", \"delightful\", \"demon\", \"demon\", \"demon\", \"demons\", \"demons\", \"demons\", \"demons\", \"dental\", \"department\", \"devil\", \"devil\", \"devil\", \"devil\", \"devil\", \"devil\", \"devil\", \"diamonds\", \"diamonds\", \"diamonds\", \"diamonds\", \"diamonds\", \"diamonds\", \"dickhead\", \"die\", \"die\", \"die\", \"die\", \"die\", \"die\", \"die\", \"digital\", \"dirty\", \"dirty\", \"dirty\", \"dirty\", \"disclose\", \"disco\", \"disneyland\", \"dj\", \"dogg\", \"domination\", \"dont\", \"dont\", \"dont\", \"dont\", \"dont\", \"dont\", \"dont\", \"doodle\", \"doodle\", \"doom\", \"doom\", \"doom\", \"doorstep\", \"doorstep\", \"dope\", \"dope\", \"dope\", \"dragons\", \"drama\", \"drama\", \"drama\", \"dream\", \"dream\", \"dream\", \"dream\", \"dream\", \"dream\", \"dream\", \"drop\", \"drop\", \"drop\", \"drop\", \"drop\", \"drop\", \"drop\", \"drug\", \"drug\", \"drug\", \"drug\", \"dynamic\", \"dynamic\", \"eachother\", \"earth\", \"earth\", \"earth\", \"earth\", \"earth\", \"earth\", \"earth\", \"easy\", \"easy\", \"easy\", \"easy\", \"easy\", \"easy\", \"easy\", \"elevate\", \"eliminate\", \"entrance\", \"entries\", \"errands\", \"error\", \"everybody\", \"everybody\", \"everybody\", \"everybody\", \"everybody\", \"everybody\", \"everybody\", \"everyday\", \"everyday\", \"everyday\", \"everyday\", \"everyday\", \"everyday\", \"everyday\", \"eye\", \"eye\", \"eye\", \"eye\", \"eye\", \"eye\", \"eye\", \"face\", \"face\", \"face\", \"face\", \"face\", \"face\", \"face\", \"fade\", \"fade\", \"fade\", \"fade\", \"fade\", \"fade\", \"fade\", \"fake\", \"fake\", \"fake\", \"fake\", \"fake\", \"fall\", \"fall\", \"fall\", \"fall\", \"fall\", \"fall\", \"fall\", \"fear\", \"fear\", \"fear\", \"fear\", \"fear\", \"fear\", \"fear\", \"feat\", \"feel\", \"feel\", \"feel\", \"feel\", \"feel\", \"feel\", \"feel\", \"female\", \"fight\", \"fight\", \"fight\", \"fight\", \"fight\", \"fight\", \"fight\", \"flex\", \"flex\", \"flood\", \"flood\", \"flood\", \"flood\", \"flood\", \"foggy\", \"follow\", \"follow\", \"follow\", \"follow\", \"follow\", \"follow\", \"follow\", \"fool\", \"fool\", \"fool\", \"fool\", \"fool\", \"fool\", \"fool\", \"forge\", \"forget\", \"forget\", \"forget\", \"forget\", \"forget\", \"forget\", \"forget\", \"forgive\", \"forgive\", \"forgive\", \"forgive\", \"forgive\", \"forgive\", \"freak\", \"freak\", \"freak\", \"freak\", \"friday\", \"friday\", \"friday\", \"friday\", \"friendships\", \"fuck\", \"fuck\", \"fuckin\", \"fuckin\", \"funky\", \"game\", \"game\", \"game\", \"game\", \"game\", \"game\", \"game\", \"garbage\", \"gasp\", \"get\", \"get\", \"get\", \"get\", \"get\", \"get\", \"get\", \"giants\", \"giants\", \"giggle\", \"girl\", \"girl\", \"girl\", \"girl\", \"girl\", \"girl\", \"girl\", \"girls\", \"girls\", \"girls\", \"girls\", \"girls\", \"girls\", \"give\", \"give\", \"give\", \"give\", \"give\", \"give\", \"give\", \"go\", \"go\", \"go\", \"go\", \"go\", \"go\", \"go\", \"godfather\", \"goin\", \"goin\", \"goin\", \"goin\", \"goin\", \"goin\", \"gonna\", \"gonna\", \"gonna\", \"gonna\", \"gonna\", \"gonna\", \"gonna\", \"good\", \"good\", \"good\", \"good\", \"good\", \"good\", \"good\", \"goodbye\", \"goodbye\", \"goodbye\", \"goodbye\", \"goodbye\", \"goodbye\", \"goodies\", \"goodies\", \"goodnight\", \"goodnight\", \"goooo\", \"gotta\", \"gotta\", \"gotta\", \"gotta\", \"gotta\", \"gotta\", \"gotta\", \"grams\", \"granola\", \"grave\", \"grave\", \"grave\", \"grave\", \"grave\", \"grave\", \"grind\", \"grind\", \"grind\", \"grind\", \"grind\", \"grind\", \"grind\", \"grinder\", \"groove\", \"groove\", \"groove\", \"groove\", \"gucci\", \"gucci\", \"guitar\", \"guitar\", \"guitar\", \"guitar\", \"guitar\", \"halloween\", \"hand\", \"hand\", \"hand\", \"hand\", \"hand\", \"hand\", \"hand\", \"hard\", \"hard\", \"hard\", \"hard\", \"hard\", \"hard\", \"hard\", \"head\", \"head\", \"head\", \"head\", \"head\", \"head\", \"head\", \"hear\", \"hear\", \"hear\", \"hear\", \"hear\", \"hear\", \"hear\", \"heart\", \"heart\", \"heart\", \"heart\", \"heart\", \"heart\", \"heart\", \"heartbreak\", \"heartbreak\", \"heartbreak\", \"hell\", \"hell\", \"hell\", \"hell\", \"hell\", \"hell\", \"hell\", \"hide\", \"hide\", \"hide\", \"hide\", \"hide\", \"hide\", \"hide\", \"high\", \"high\", \"high\", \"high\", \"high\", \"high\", \"high\", \"hmmmm\", \"hmmmm\", \"hmmmm\", \"hmmmm\", \"hoe\", \"hoe\", \"hold\", \"hold\", \"hold\", \"hold\", \"hold\", \"hold\", \"hold\", \"holy\", \"holy\", \"holy\", \"holy\", \"home\", \"home\", \"home\", \"home\", \"home\", \"home\", \"home\", \"honour\", \"hood\", \"hood\", \"hows\", \"human\", \"human\", \"human\", \"human\", \"human\", \"hurt\", \"hurt\", \"hurt\", \"hurt\", \"hurt\", \"hurt\", \"ideal\", \"imma\", \"imma\", \"indestructible\", \"indians\", \"indians\", \"indians\", \"indoor\", \"inside\", \"inside\", \"inside\", \"inside\", \"inside\", \"inside\", \"inside\", \"instagram\", \"interstellar\", \"irresistible\", \"isolation\", \"isolation\", \"jam\", \"jazz\", \"jazz\", \"jazz\", \"jingle\", \"joyful\", \"jump\", \"jump\", \"jump\", \"jump\", \"jump\", \"jump\", \"kentucky\", \"kentucky\", \"kick\", \"kick\", \"kick\", \"kick\", \"kick\", \"kick\", \"kick\", \"kid\", \"kid\", \"kid\", \"kid\", \"kid\", \"kill\", \"kill\", \"kill\", \"kill\", \"kill\", \"kill\", \"kill\", \"kindest\", \"kingdom\", \"kingdom\", \"kiss\", \"kiss\", \"kiss\", \"kiss\", \"kiss\", \"kiss\", \"kiss\", \"knock\", \"knock\", \"knock\", \"knock\", \"knock\", \"knock\", \"knock\", \"know\", \"know\", \"know\", \"know\", \"know\", \"know\", \"know\", \"kodak\", \"ladies\", \"ladies\", \"ladies\", \"ladies\", \"lady\", \"lady\", \"lady\", \"lady\", \"lady\", \"lady\", \"lady\", \"land\", \"land\", \"land\", \"land\", \"land\", \"land\", \"land\", \"large\", \"large\", \"large\", \"lean\", \"lean\", \"lean\", \"lean\", \"lean\", \"lean\", \"learn\", \"learn\", \"learn\", \"learn\", \"learn\", \"learn\", \"learn\", \"leave\", \"leave\", \"leave\", \"leave\", \"leave\", \"leave\", \"leave\", \"legend\", \"legend\", \"legend\", \"lesson\", \"lesson\", \"lesson\", \"lesson\", \"lesson\", \"lesson\", \"lest\", \"letter\", \"letter\", \"letter\", \"letter\", \"letter\", \"letter\", \"letter\", \"liars\", \"liars\", \"lie\", \"lie\", \"lie\", \"lie\", \"lie\", \"lie\", \"lie\", \"life\", \"life\", \"life\", \"life\", \"life\", \"life\", \"life\", \"like\", \"like\", \"like\", \"like\", \"like\", \"like\", \"like\", \"limb\", \"lips\", \"lips\", \"lips\", \"lips\", \"lips\", \"lips\", \"listen\", \"listen\", \"listen\", \"listen\", \"listen\", \"listen\", \"listen\", \"little\", \"little\", \"little\", \"little\", \"little\", \"little\", \"little\", \"live\", \"live\", \"live\", \"live\", \"live\", \"live\", \"live\", \"lonely\", \"lonely\", \"lonely\", \"lonely\", \"lonely\", \"long\", \"long\", \"long\", \"long\", \"long\", \"long\", \"long\", \"longest\", \"longest\", \"look\", \"look\", \"look\", \"look\", \"look\", \"look\", \"look\", \"lord\", \"lord\", \"lord\", \"lord\", \"lord\", \"lord\", \"lord\", \"lose\", \"lose\", \"lose\", \"lose\", \"lose\", \"lose\", \"lose\", \"loser\", \"loser\", \"loser\", \"loser\", \"louisiana\", \"love\", \"love\", \"love\", \"love\", \"love\", \"love\", \"love\", \"lovely\", \"lovely\", \"lovely\", \"lovely\", \"lovely\", \"lovely\", \"lover\", \"lover\", \"lover\", \"lover\", \"lover\", \"lover\", \"low\", \"low\", \"low\", \"lyrical\", \"lyrical\", \"main\", \"main\", \"main\", \"main\", \"man\", \"mancini\", \"mane\", \"mane\", \"massachusetts\", \"material\", \"material\", \"material\", \"matter\", \"matter\", \"matter\", \"matter\", \"matter\", \"matter\", \"matter\", \"meaningless\", \"member\", \"memories\", \"memories\", \"memories\", \"memories\", \"memories\", \"memory\", \"memory\", \"memory\", \"memory\", \"memory\", \"memory\", \"memphis\", \"memphis\", \"memphis\", \"memphis\", \"methuselah\", \"mind\", \"mind\", \"mind\", \"mind\", \"mind\", \"mind\", \"mind\", \"mindful\", \"miner\", \"miss\", \"miss\", \"miss\", \"miss\", \"miss\", \"miss\", \"miss\", \"mississippi\", \"mistletoe\", \"moist\", \"money\", \"money\", \"money\", \"money\", \"moody\", \"moody\", \"morning\", \"morning\", \"morning\", \"morning\", \"morning\", \"morning\", \"morning\", \"music\", \"music\", \"music\", \"music\", \"music\", \"nazi\", \"nazis\", \"necessities\", \"need\", \"need\", \"need\", \"need\", \"need\", \"need\", \"need\", \"night\", \"night\", \"night\", \"night\", \"night\", \"night\", \"night\", \"nights\", \"nights\", \"nights\", \"nights\", \"nights\", \"nights\", \"nights\", \"obama\", \"obligations\", \"onboard\", \"oooh\", \"oooh\", \"oooh\", \"oooh\", \"oooh\", \"oooh\", \"oooh\", \"oops\", \"ordinary\", \"ordinary\", \"ordinary\", \"ordinary\", \"outfit\", \"outta\", \"outta\", \"outta\", \"outta\", \"outta\", \"outta\", \"oxygen\", \"oxygen\", \"pain\", \"pain\", \"pain\", \"pain\", \"pain\", \"pain\", \"pain\", \"panorama\", \"pantomime\", \"papa\", \"papa\", \"paper\", \"paper\", \"paper\", \"paper\", \"paper\", \"paper\", \"paper\", \"para\", \"para\", \"party\", \"party\", \"pennsylvania\", \"pennsylvania\", \"people\", \"people\", \"people\", \"people\", \"people\", \"people\", \"people\", \"philadelphia\", \"photograph\", \"photograph\", \"photograph\", \"photograph\", \"photograph\", \"photograph\", \"piece\", \"piece\", \"piece\", \"piece\", \"piece\", \"piece\", \"piece\", \"play\", \"play\", \"play\", \"play\", \"play\", \"play\", \"play\", \"pop\", \"pop\", \"pop\", \"pop\", \"power\", \"power\", \"power\", \"power\", \"power\", \"power\", \"power\", \"prairie\", \"primitive\", \"prod\", \"project\", \"project\", \"promise\", \"promise\", \"promise\", \"promise\", \"promise\", \"promise\", \"promise\", \"prophetic\", \"pump\", \"pussy\", \"pussy\", \"quality\", \"quality\", \"radical\", \"radio\", \"radio\", \"radio\", \"radio\", \"radio\", \"rain\", \"rain\", \"rain\", \"rain\", \"rain\", \"rain\", \"rain\", \"ready\", \"ready\", \"ready\", \"ready\", \"ready\", \"ready\", \"real\", \"real\", \"real\", \"real\", \"real\", \"real\", \"real\", \"realize\", \"realize\", \"realize\", \"realize\", \"realize\", \"realize\", \"reason\", \"reason\", \"reason\", \"reason\", \"reason\", \"reason\", \"reason\", \"redneck\", \"reggae\", \"regulation\", \"remake\", \"remember\", \"remember\", \"remember\", \"remember\", \"remember\", \"remember\", \"remember\", \"remix\", \"removal\", \"reveal\", \"reveal\", \"reveal\", \"reveal\", \"rhythm\", \"rhythm\", \"rhythm\", \"rhythm\", \"rhythm\", \"rhythm\", \"riders\", \"right\", \"right\", \"right\", \"right\", \"right\", \"right\", \"right\", \"ring\", \"ring\", \"ring\", \"ring\", \"ring\", \"ring\", \"ring\", \"riot\", \"rise\", \"rise\", \"rise\", \"rise\", \"rise\", \"rise\", \"rise\", \"robot\", \"robot\", \"rockin\", \"rockin\", \"rockin\", \"rockin\", \"roll\", \"roll\", \"roll\", \"roll\", \"roll\", \"roll\", \"roll\", \"root\", \"root\", \"root\", \"root\", \"root\", \"rude\", \"sanctuary\", \"sanctuary\", \"saturday\", \"saturday\", \"save\", \"save\", \"save\", \"save\", \"save\", \"save\", \"save\", \"say\", \"say\", \"say\", \"say\", \"say\", \"say\", \"say\", \"school\", \"school\", \"school\", \"school\", \"school\", \"school\", \"scream\", \"scream\", \"scream\", \"scream\", \"scream\", \"scream\", \"scream\", \"scumbags\", \"search\", \"search\", \"search\", \"search\", \"search\", \"search\", \"sell\", \"sell\", \"sell\", \"sell\", \"sell\", \"sell\", \"sell\", \"september\", \"september\", \"september\", \"ser\", \"serenity\", \"sexy\", \"sexy\", \"sexy\", \"shadow\", \"shadow\", \"shadow\", \"shadow\", \"shake\", \"shake\", \"shake\", \"shake\", \"shake\", \"shake\", \"shake\", \"shit\", \"shit\", \"shoot\", \"shoot\", \"shoot\", \"shoot\", \"shoot\", \"shoot\", \"shots\", \"shots\", \"shout\", \"shout\", \"shout\", \"shout\", \"shout\", \"shout\", \"shout\", \"sick\", \"sick\", \"sick\", \"sick\", \"sick\", \"sick\", \"silence\", \"silence\", \"silence\", \"silence\", \"silence\", \"silence\", \"silence\", \"silent\", \"silent\", \"silent\", \"silent\", \"silent\", \"silver\", \"silver\", \"silver\", \"silver\", \"silver\", \"silver\", \"simple\", \"simple\", \"simple\", \"simple\", \"simple\", \"sin\", \"sin\", \"sin\", \"sin\", \"sin\", \"sing\", \"sing\", \"sing\", \"sing\", \"sing\", \"sing\", \"situations\", \"skin\", \"skin\", \"skin\", \"skin\", \"skin\", \"skin\", \"sleep\", \"sleep\", \"sleep\", \"sleep\", \"sleep\", \"sleep\", \"sleep\", \"sleigh\", \"slip\", \"slip\", \"slip\", \"slip\", \"slip\", \"slip\", \"slip\", \"smoke\", \"smoke\", \"smoke\", \"smoke\", \"smoke\", \"smoke\", \"snoop\", \"somebody\", \"somebody\", \"somebody\", \"somebody\", \"somebody\", \"somebody\", \"somebody\", \"someday\", \"someday\", \"someday\", \"someday\", \"someday\", \"song\", \"song\", \"song\", \"song\", \"song\", \"song\", \"song\", \"songs\", \"songs\", \"songs\", \"songs\", \"songs\", \"soul\", \"soul\", \"soul\", \"soul\", \"soul\", \"soul\", \"soul\", \"speakers\", \"spend\", \"spend\", \"spend\", \"spend\", \"spend\", \"spend\", \"spend\", \"spring\", \"spring\", \"spring\", \"spring\", \"spring\", \"spring\", \"stamina\", \"stand\", \"stand\", \"stand\", \"stand\", \"stand\", \"stand\", \"stand\", \"start\", \"start\", \"start\", \"start\", \"start\", \"start\", \"start\", \"stay\", \"stay\", \"stay\", \"stay\", \"stay\", \"stay\", \"stay\", \"steal\", \"steal\", \"steal\", \"steal\", \"steal\", \"steal\", \"steal\", \"stop\", \"stop\", \"stop\", \"stop\", \"stop\", \"stop\", \"stop\", \"strict\", \"suffocate\", \"suffocate\", \"summer\", \"summer\", \"summer\", \"summer\", \"summer\", \"summer\", \"summer\", \"sweet\", \"sweet\", \"sweet\", \"sweet\", \"sweet\", \"sweet\", \"sweet\", \"sweetheart\", \"sweetheart\", \"sweetheart\", \"swing\", \"swing\", \"swing\", \"swing\", \"swing\", \"take\", \"take\", \"take\", \"take\", \"take\", \"take\", \"take\", \"talk\", \"talk\", \"talk\", \"talk\", \"talk\", \"talk\", \"talk\", \"team\", \"team\", \"tear\", \"tear\", \"tear\", \"tear\", \"tear\", \"tear\", \"tear\", \"teenager\", \"tell\", \"tell\", \"tell\", \"tell\", \"tell\", \"tell\", \"tell\", \"tennessee\", \"tennessee\", \"tennessee\", \"terrorist\", \"texas\", \"texas\", \"texas\", \"texas\", \"thang\", \"thang\", \"thank\", \"thank\", \"thank\", \"thank\", \"thank\", \"thank\", \"thank\", \"thankful\", \"therapy\", \"therapy\", \"things\", \"things\", \"things\", \"things\", \"things\", \"things\", \"things\", \"think\", \"think\", \"think\", \"think\", \"think\", \"think\", \"think\", \"thrill\", \"thrill\", \"thrill\", \"thrill\", \"thrill\", \"thrill\", \"thrill\", \"tight\", \"tight\", \"tight\", \"tight\", \"tight\", \"tight\", \"tight\", \"time\", \"time\", \"time\", \"time\", \"time\", \"time\", \"time\", \"timer\", \"today\", \"today\", \"today\", \"today\", \"today\", \"today\", \"today\", \"tomorrow\", \"tomorrow\", \"tomorrow\", \"tomorrow\", \"tomorrow\", \"tomorrow\", \"tomorrow\", \"tonight\", \"tonight\", \"tonight\", \"tonight\", \"tonight\", \"tonight\", \"tonight\", \"torture\", \"torture\", \"torture\", \"touch\", \"touch\", \"touch\", \"touch\", \"touch\", \"touch\", \"touch\", \"trigger\", \"trigger\", \"trigger\", \"trigger\", \"true\", \"true\", \"true\", \"true\", \"true\", \"true\", \"true\", \"tune\", \"tune\", \"tune\", \"tune\", \"tune\", \"tune\", \"turn\", \"turn\", \"turn\", \"turn\", \"turn\", \"turn\", \"turn\", \"unbearable\", \"unbearable\", \"underwear\", \"unsung\", \"unwanted\", \"vacancy\", \"vampire\", \"variation\", \"victims\", \"victims\", \"virtual\", \"wait\", \"wait\", \"wait\", \"wait\", \"wait\", \"wait\", \"wait\", \"walk\", \"walk\", \"walk\", \"walk\", \"walk\", \"walk\", \"walk\", \"wall\", \"wall\", \"wall\", \"wall\", \"wall\", \"wall\", \"wall\", \"wallpaper\", \"wanna\", \"wanna\", \"wanna\", \"wanna\", \"wanna\", \"wanna\", \"wanna\", \"want\", \"want\", \"want\", \"want\", \"want\", \"want\", \"want\", \"warm\", \"warm\", \"warm\", \"warm\", \"warm\", \"warm\", \"warm\", \"waste\", \"waste\", \"waste\", \"waste\", \"waste\", \"waste\", \"waste\", \"watch\", \"watch\", \"watch\", \"watch\", \"watch\", \"watch\", \"watch\", \"ways\", \"ways\", \"ways\", \"ways\", \"ways\", \"ways\", \"ways\", \"weasel\", \"wednesday\", \"weed\", \"weed\", \"weed\", \"whatcha\", \"whatcha\", \"whatcha\", \"whatcha\", \"whip\", \"whip\", \"whip\", \"whip\", \"whistle\", \"whistle\", \"whistle\", \"whistle\", \"whistle\", \"white\", \"white\", \"white\", \"white\", \"white\", \"white\", \"whoa\", \"whoa\", \"whoa\", \"whoa\", \"whoa\", \"whoa\", \"whoa\", \"wildly\", \"window\", \"window\", \"window\", \"window\", \"window\", \"window\", \"window\", \"wish\", \"wish\", \"wish\", \"wish\", \"wish\", \"wish\", \"wish\", \"woah\", \"woah\", \"woah\", \"woah\", \"woman\", \"woman\", \"woman\", \"woman\", \"woman\", \"woman\", \"woman\", \"wonderland\", \"word\", \"word\", \"word\", \"word\", \"word\", \"word\", \"word\", \"workshop\", \"world\", \"world\", \"world\", \"world\", \"world\", \"world\", \"world\", \"write\", \"write\", \"write\", \"write\", \"write\", \"write\", \"write\", \"yeah\", \"yeah\", \"yeah\", \"yeah\", \"yeah\", \"yeah\", \"yeah\", \"year\", \"year\", \"year\", \"year\", \"year\", \"year\", \"year\", \"yesterday\", \"yesterday\", \"yesterday\", \"yesterday\", \"yesterday\", \"yesterday\", \"zimbabwe\", \"zoom\", \"zoom\"]}, \"R\": 30, \"lambda.step\": 0.01, \"plot.opts\": {\"xlab\": \"PC1\", \"ylab\": \"PC2\"}, \"topic.order\": [4, 7, 5, 2, 1, 3, 6]};\n",
       "\n",
       "function LDAvis_load_lib(url, callback){\n",
       "  var s = document.createElement('script');\n",
       "  s.src = url;\n",
       "  s.async = true;\n",
       "  s.onreadystatechange = s.onload = callback;\n",
       "  s.onerror = function(){console.warn(\"failed to load library \" + url);};\n",
       "  document.getElementsByTagName(\"head\")[0].appendChild(s);\n",
       "}\n",
       "\n",
       "if(typeof(LDAvis) !== \"undefined\"){\n",
       "   // already loaded: just create the visualization\n",
       "   !function(LDAvis){\n",
       "       new LDAvis(\"#\" + \"ldavis_el5206113664064484525719921\", ldavis_el5206113664064484525719921_data);\n",
       "   }(LDAvis);\n",
       "}else if(typeof define === \"function\" && define.amd){\n",
       "   // require.js is available: use it to load d3/LDAvis\n",
       "   require.config({paths: {d3: \"https://d3js.org/d3.v5\"}});\n",
       "   require([\"d3\"], function(d3){\n",
       "      window.d3 = d3;\n",
       "      LDAvis_load_lib(\"https://cdn.jsdelivr.net/gh/bmabey/pyLDAvis@3.3.1/pyLDAvis/js/ldavis.v3.0.0.js\", function(){\n",
       "        new LDAvis(\"#\" + \"ldavis_el5206113664064484525719921\", ldavis_el5206113664064484525719921_data);\n",
       "      });\n",
       "    });\n",
       "}else{\n",
       "    // require.js not available: dynamically load d3 & LDAvis\n",
       "    LDAvis_load_lib(\"https://d3js.org/d3.v5.js\", function(){\n",
       "         LDAvis_load_lib(\"https://cdn.jsdelivr.net/gh/bmabey/pyLDAvis@3.3.1/pyLDAvis/js/ldavis.v3.0.0.js\", function(){\n",
       "                 new LDAvis(\"#\" + \"ldavis_el5206113664064484525719921\", ldavis_el5206113664064484525719921_data);\n",
       "            })\n",
       "         });\n",
       "}\n",
       "</script>"
      ],
      "text/plain": [
       "PreparedData(topic_coordinates=              x         y  topics  cluster       Freq\n",
       "topic                                                \n",
       "3      0.015120 -0.052427       1        1  18.596575\n",
       "6      0.088468  0.049155       2        1  18.214618\n",
       "4     -0.133361  0.077057       3        1  15.798011\n",
       "1      0.159750  0.019479       4        1  13.777907\n",
       "0     -0.165052  0.111817       5        1  12.890782\n",
       "2      0.140547  0.001764       6        1  11.725987\n",
       "5     -0.105472 -0.206845       7        1   8.996119, topic_info=        Term          Freq         Total Category  logprob  loglift\n",
       "1311    away  13373.000000  13373.000000  Default  30.0000  30.0000\n",
       "689    heart  13412.000000  13412.000000  Default  29.0000  29.0000\n",
       "933     life  12598.000000  12598.000000  Default  28.0000  28.0000\n",
       "220     time  20882.000000  20882.000000  Default  27.0000  27.0000\n",
       "2934    baby  10861.000000  10861.000000  Default  26.0000  26.0000\n",
       "...      ...           ...           ...      ...      ...      ...\n",
       "87      long    929.709197   8293.303424   Topic7  -4.9071   0.2200\n",
       "524   people    742.687686   3843.346712   Topic7  -5.1317   0.7646\n",
       "64      like    994.093841  23440.419576   Topic7  -4.8402  -0.7520\n",
       "494     days    677.579670   3300.891118   Topic7  -5.2235   0.8250\n",
       "1650     say    732.019457   6175.378044   Topic7  -5.1462   0.2759\n",
       "\n",
       "[602 rows x 6 columns], token_table=       Topic      Freq         Term\n",
       "term                               \n",
       "12499      2  0.901980  abomination\n",
       "12836      6  0.888032  achievement\n",
       "3025       1  0.009881       action\n",
       "3025       2  0.052696       action\n",
       "3025       3  0.111979       action\n",
       "...      ...       ...          ...\n",
       "1020       6  0.694750    yesterday\n",
       "1020       7  0.006977    yesterday\n",
       "14131      7  0.954934     zimbabwe\n",
       "9730       5  0.077139         zoom\n",
       "9730       7  0.916029         zoom\n",
       "\n",
       "[1952 rows x 3 columns], R=30, lambda_step=0.01, plot_opts={'xlab': 'PC1', 'ylab': 'PC2'}, topic_order=[4, 7, 5, 2, 1, 3, 6])"
      ]
     },
     "execution_count": 19,
     "metadata": {},
     "output_type": "execute_result"
    }
   ],
   "source": [
    "# visualize the topics\n",
    "# Attention: the number of visualized topics is not the same as the genre above(should use the genre number)\n",
    "import pyLDAvis\n",
    "import pyLDAvis.sklearn\n",
    "pyLDAvis.enable_notebook()\n",
    "pyLDAvis.sklearn.prepare(lda, xtrain1, cv)"
   ]
  },
  {
   "cell_type": "code",
   "execution_count": 16,
   "metadata": {},
   "outputs": [
    {
     "data": {
      "text/html": [
       "<div>\n",
       "<style scoped>\n",
       "    .dataframe tbody tr th:only-of-type {\n",
       "        vertical-align: middle;\n",
       "    }\n",
       "\n",
       "    .dataframe tbody tr th {\n",
       "        vertical-align: top;\n",
       "    }\n",
       "\n",
       "    .dataframe thead th {\n",
       "        text-align: right;\n",
       "    }\n",
       "</style>\n",
       "<table border=\"1\" class=\"dataframe\">\n",
       "  <thead>\n",
       "    <tr style=\"text-align: right;\">\n",
       "      <th></th>\n",
       "      <th>lyrics</th>\n",
       "      <th>genre</th>\n",
       "      <th>topic</th>\n",
       "    </tr>\n",
       "  </thead>\n",
       "  <tbody>\n",
       "    <tr>\n",
       "      <th>12548</th>\n",
       "      <td>close nights morose beguine begin future look ...</td>\n",
       "      <td>blues</td>\n",
       "      <td>1</td>\n",
       "    </tr>\n",
       "    <tr>\n",
       "      <th>8688</th>\n",
       "      <td>struttin stuff struttin stuff struttin stuff s...</td>\n",
       "      <td>country</td>\n",
       "      <td>4</td>\n",
       "    </tr>\n",
       "    <tr>\n",
       "      <th>17255</th>\n",
       "      <td>remember remember remember remember moon look ...</td>\n",
       "      <td>jazz</td>\n",
       "      <td>5</td>\n",
       "    </tr>\n",
       "    <tr>\n",
       "      <th>3737</th>\n",
       "      <td>russia wiser goodbye travel world learn return...</td>\n",
       "      <td>pop</td>\n",
       "      <td>2</td>\n",
       "    </tr>\n",
       "    <tr>\n",
       "      <th>19343</th>\n",
       "      <td>good good good good good good good good good g...</td>\n",
       "      <td>jazz</td>\n",
       "      <td>2</td>\n",
       "    </tr>\n",
       "  </tbody>\n",
       "</table>\n",
       "</div>"
      ],
      "text/plain": [
       "                                                  lyrics    genre  topic\n",
       "12548  close nights morose beguine begin future look ...    blues      1\n",
       "8688   struttin stuff struttin stuff struttin stuff s...  country      4\n",
       "17255  remember remember remember remember moon look ...     jazz      5\n",
       "3737   russia wiser goodbye travel world learn return...      pop      2\n",
       "19343  good good good good good good good good good g...     jazz      2"
      ]
     },
     "execution_count": 16,
     "metadata": {},
     "output_type": "execute_result"
    }
   ],
   "source": [
    "# get topic distribution for each document\n",
    "# find the topic with the highest probability and assign it to the document\n",
    "topic_dist = lda.transform(xtrain1)\n",
    "topic_labels = topic_dist.argmax(axis=1)\n",
    "#put topic labels back to the original dataframe\n",
    "music_train['topic'] = topic_labels\n",
    "music_train.head()\n"
   ]
  },
  {
   "cell_type": "markdown",
   "metadata": {},
   "source": [
    "## Genre Mapping --- manually mapping based on percentage of overlap words"
   ]
  },
  {
   "cell_type": "code",
   "execution_count": 17,
   "metadata": {},
   "outputs": [],
   "source": [
    "# put top 50 words in each topic into a list\n",
    "top_k_per_topic = lda.components_.argsort(axis=1)[:, -50:]\n",
    "mapping_list = []\n",
    "for idx, topic in enumerate(top_k_per_topic):\n",
    "    mapping_list.append(encoder.decode(topic[::-1]))"
   ]
  },
  {
   "cell_type": "code",
   "execution_count": 18,
   "metadata": {},
   "outputs": [
    {
     "data": {
      "text/plain": [
       "['like fuck bitch shit money know yeah real cause smoke need wanna time tell world high look come think want girl feel right people damn life talk woman gotta fuckin roll stay work sell check hard drink city bout go watch face pussy fake catch game hoe live ride straight',\n",
       " 'heart baby hold night know long tonight right leave kiss like believe feel want come sweet time stay need eye go dream arm wait tell girl hand cause love true touch break close darling tear yeah promise little woman start apart fall wanna look dear light tight lips think till',\n",
       " 'away go good break know walk lonely home gonna feel leave come heart miss fool tell tear yeah stand wish little goodbye cry baby morning rain look cause think say like want whoa fade stay night take sleep hurt girl place time dream days hide belong memory yesterday wonder pain',\n",
       " 'fall feel come inside eye like head know dead cold blood black stand burn soul face leave hand fear hear lose fight pain lie death wall turn hell hide live save kill grind devil die light life follow tear break deep word mind wind world look call alive breathe speak',\n",
       " 'like yeah know better cause come gonna play want party shoot tell wanna gotta right head bout night say stop start talk little good think get everybody game kick baby watch girl hear look ready beat turn hand goin sound go drop sick work black feel damn throw time shake',\n",
       " 'sing song blue hear right come music home play remember hand go ring bring lord like sweet songs long summer kill word money listen people say white write roll days dance woman night call fight land time know little yeah guitar band moon sound swing head christmas black light year',\n",
       " 'time life live know world mind change come think want need things cause go dream look lose like feel give today love leave yeah learn hard forget long days take tell right somebody true wanna remember tomorrow turn better reason gonna believe ready thing forever matter grow make hurt years']"
      ]
     },
     "execution_count": 18,
     "metadata": {},
     "output_type": "execute_result"
    }
   ],
   "source": [
    "mapping_list"
   ]
  },
  {
   "cell_type": "code",
   "execution_count": 20,
   "metadata": {},
   "outputs": [],
   "source": [
    "genre0 = mapping_list[0].split()\n",
    "genre1 = mapping_list[1].split()\n",
    "genre2 = mapping_list[2].split()\n",
    "genre3 = mapping_list[3].split()\n",
    "genre4 = mapping_list[4].split()\n",
    "genre5 = mapping_list[5].split()\n",
    "genre6 = mapping_list[6].split()\n"
   ]
  },
  {
   "cell_type": "code",
   "execution_count": 21,
   "metadata": {},
   "outputs": [],
   "source": [
    "pop = music_train[music_train['genre'] == 'pop']\n",
    "country = music_train[music_train['genre'] == 'country']\n",
    "blues = music_train[music_train['genre'] == 'blues']\n",
    "jazz = music_train[music_train['genre'] == 'jazz']\n",
    "reggae = music_train[music_train['genre'] == 'reggae']\n",
    "rock = music_train[music_train['genre'] == 'rock']\n",
    "hiphop = music_train[music_train['genre'] == 'hip hop']"
   ]
  },
  {
   "cell_type": "code",
   "execution_count": 22,
   "metadata": {},
   "outputs": [],
   "source": [
    "def top_words(df):\n",
    "    count = df['lyrics'].str.split(expand=True).stack().value_counts()\n",
    "    return list(count.index)\n",
    "\n",
    "pop_words = top_words(pop)[:50]\n",
    "country_words = top_words(country)[:50]\n",
    "blues_words = top_words(blues)[:50]\n",
    "jazz_words = top_words(jazz)[:50]\n",
    "reggae_words = top_words(reggae)[:50]\n",
    "rock_words = top_words(rock)[:50]\n",
    "hiphop_words = top_words(hiphop)[:50]"
   ]
  },
  {
   "cell_type": "code",
   "execution_count": 23,
   "metadata": {},
   "outputs": [],
   "source": [
    "def compare_words(genre, topic):\n",
    "    compare = set(genre).intersection(set(topic))\n",
    "    return len(compare)"
   ]
  },
  {
   "cell_type": "code",
   "execution_count": 24,
   "metadata": {},
   "outputs": [
    {
     "name": "stdout",
     "output_type": "stream",
     "text": [
      "[21, 18, 21, 21, 23, 19, 29]\n",
      "[31, 30, 30, 32, 26, 27, 21]\n",
      "[27, 30, 28, 25, 23, 26, 19]\n",
      "[18, 19, 19, 17, 19, 22, 16]\n",
      "[27, 24, 27, 26, 27, 23, 31]\n",
      "[16, 18, 19, 17, 21, 15, 14]\n",
      "[29, 27, 27, 28, 25, 29, 23]\n"
     ]
    }
   ],
   "source": [
    "for i in range(7):\n",
    "    number = []\n",
    "    for j in [pop_words, country_words, blues_words, jazz_words, reggae_words, rock_words, hiphop_words]:\n",
    "        number.append(compare_words(j, mapping_list[i].split()))\n",
    "    print(number)"
   ]
  },
  {
   "cell_type": "markdown",
   "metadata": {},
   "source": [
    "> 0 ---> hiphop\n",
    "\n",
    "> 1 ---> jazz\n",
    "\n",
    "> 2 ---> country\n",
    "\n",
    "> 3 ---> rock\n",
    "\n",
    "> 4 ---> hiphop(more like 0) ---> reggae/blues/pop ---> blues\n",
    "\n",
    "> 5 ---> reggae\n",
    "\n",
    "> 6 ---> pop/rock ---> pop"
   ]
  },
  {
   "cell_type": "code",
   "execution_count": 26,
   "metadata": {},
   "outputs": [
    {
     "data": {
      "text/html": [
       "<div>\n",
       "<style scoped>\n",
       "    .dataframe tbody tr th:only-of-type {\n",
       "        vertical-align: middle;\n",
       "    }\n",
       "\n",
       "    .dataframe tbody tr th {\n",
       "        vertical-align: top;\n",
       "    }\n",
       "\n",
       "    .dataframe thead th {\n",
       "        text-align: right;\n",
       "    }\n",
       "</style>\n",
       "<table border=\"1\" class=\"dataframe\">\n",
       "  <thead>\n",
       "    <tr style=\"text-align: right;\">\n",
       "      <th></th>\n",
       "      <th>lyrics</th>\n",
       "      <th>genre</th>\n",
       "      <th>topic</th>\n",
       "      <th>genre_manual</th>\n",
       "    </tr>\n",
       "  </thead>\n",
       "  <tbody>\n",
       "    <tr>\n",
       "      <th>12548</th>\n",
       "      <td>close nights morose beguine begin future look ...</td>\n",
       "      <td>blues</td>\n",
       "      <td>1</td>\n",
       "      <td>4</td>\n",
       "    </tr>\n",
       "    <tr>\n",
       "      <th>8688</th>\n",
       "      <td>struttin stuff struttin stuff struttin stuff s...</td>\n",
       "      <td>country</td>\n",
       "      <td>4</td>\n",
       "      <td>2</td>\n",
       "    </tr>\n",
       "    <tr>\n",
       "      <th>17255</th>\n",
       "      <td>remember remember remember remember moon look ...</td>\n",
       "      <td>jazz</td>\n",
       "      <td>5</td>\n",
       "      <td>1</td>\n",
       "    </tr>\n",
       "    <tr>\n",
       "      <th>3737</th>\n",
       "      <td>russia wiser goodbye travel world learn return...</td>\n",
       "      <td>pop</td>\n",
       "      <td>2</td>\n",
       "      <td>6</td>\n",
       "    </tr>\n",
       "    <tr>\n",
       "      <th>19343</th>\n",
       "      <td>good good good good good good good good good g...</td>\n",
       "      <td>jazz</td>\n",
       "      <td>2</td>\n",
       "      <td>1</td>\n",
       "    </tr>\n",
       "  </tbody>\n",
       "</table>\n",
       "</div>"
      ],
      "text/plain": [
       "                                                  lyrics    genre  topic  \\\n",
       "12548  close nights morose beguine begin future look ...    blues      1   \n",
       "8688   struttin stuff struttin stuff struttin stuff s...  country      4   \n",
       "17255  remember remember remember remember moon look ...     jazz      5   \n",
       "3737   russia wiser goodbye travel world learn return...      pop      2   \n",
       "19343  good good good good good good good good good g...     jazz      2   \n",
       "\n",
       "       genre_manual  \n",
       "12548             4  \n",
       "8688              2  \n",
       "17255             1  \n",
       "3737              6  \n",
       "19343             1  "
      ]
     },
     "execution_count": 26,
     "metadata": {},
     "output_type": "execute_result"
    }
   ],
   "source": [
    "# put manually label back to the original dataframe\n",
    "music_train['genre_manual'] = music_train['genre'].map({'hip hop':0, 'jazz':1, 'country':2, 'rock':3, 'blues':4, 'reggae':5, 'pop':6})\n",
    "music_train.head()"
   ]
  },
  {
   "cell_type": "code",
   "execution_count": 27,
   "metadata": {},
   "outputs": [
    {
     "name": "stdout",
     "output_type": "stream",
     "text": [
      "pop correct:  0.2083628632175762\n",
      "country correct:  0.16496992133271635\n",
      "blues correct:  0.1370309951060359\n",
      "jazz correct:  0.16923570969813745\n",
      "reggae correct:  0.08875441250630359\n",
      "rock correct:  0.35015384615384615\n",
      "hiphop correct:  0.4688385269121813\n"
     ]
    }
   ],
   "source": [
    "def percentage(df):\n",
    "    count = 0\n",
    "    for i in range(len(df)):\n",
    "        if df.iloc[i,2] == df.iloc[i,3]:\n",
    "            count += 1\n",
    "    return count/len(df)\n",
    "\n",
    "pop = music_train[music_train['genre'] == 'pop']\n",
    "country = music_train[music_train['genre'] == 'country']\n",
    "blues = music_train[music_train['genre'] == 'blues']\n",
    "jazz = music_train[music_train['genre'] == 'jazz']\n",
    "reggae = music_train[music_train['genre'] == 'reggae']\n",
    "rock = music_train[music_train['genre'] == 'rock']\n",
    "hiphop = music_train[music_train['genre'] == 'hip hop']\n",
    "\n",
    "print(\"pop correct: \" , percentage(pop))\n",
    "print(\"country correct: \" ,percentage(country))\n",
    "print(\"blues correct: \" ,percentage(blues))\n",
    "print(\"jazz correct: \" ,percentage(jazz))\n",
    "print(\"reggae correct: \" ,percentage(reggae))\n",
    "print(\"rock correct: \" ,percentage(rock))\n",
    "print(\"hiphop correct: \" ,percentage(hiphop))"
   ]
  },
  {
   "cell_type": "markdown",
   "metadata": {},
   "source": [
    "## Generate Data"
   ]
  },
  {
   "cell_type": "code",
   "execution_count": 42,
   "metadata": {},
   "outputs": [
    {
     "data": {
      "text/plain": [
       "['know tell year high sense heel hoe get need money turn feel smash japan cheese master taste mama lock credit attend people life wheel urgency activist rain wife bitch bust',\n",
       " 'crook yeah like live step whoa care commercial maintain tell fridge shit proud fuck hold feature pose flow throw shit seat seat handle teacher school bitch nasty help choose solo',\n",
       " 'hear real hate smoke shorter money fuck brooklyn woman master constantly order hello catch grace smoke dash pull think come rubber life gold quickly order gate focus like reality wrong',\n",
       " 'drink television cook know world fake handle nicer hunger plastic pop chase film like slide bigger wanna cross foreign yeah thang brown caution shit honest career break shit cause vet',\n",
       " 'scenes dumb advice think real nerve fuck coat bold wanna chew hill highway fuck rise acid ball poker cause practice purpose like plug promote money give girl cake girl secure',\n",
       " 'fine little hear pop ride tell want shit fuck feel funny fee drill bout real strip smoke hardship serve real cause evil couple bitch topics thats right gas lemon hungry',\n",
       " 'position paper opinion dice girl cigar main need school play come best smoke bury best world fresh clover want easy cheese open house yeah snake continent fuck type work yeah']"
      ]
     },
     "execution_count": 42,
     "metadata": {},
     "output_type": "execute_result"
    }
   ],
   "source": [
    "# sample from topic\n",
    "def sample_from_topic(topic_idx: int, n_samples: int):\n",
    "    comp = lda.components_[topic_idx, :]\n",
    "    comp = comp / comp.sum()\n",
    "\n",
    "    return encoder.decode(\n",
    "        np.random.choice(np.arange(encoder.vocab_size), p=comp, size=n_samples)\n",
    "    )\n",
    "\n",
    "\n",
    "[sample_from_topic(0,30) for _ in range(7)]"
   ]
  },
  {
   "cell_type": "code",
   "execution_count": 43,
   "metadata": {},
   "outputs": [
    {
     "data": {
      "text/plain": [
       "{0: 'hip hop',\n",
       " 1: 'jazz',\n",
       " 2: 'country',\n",
       " 3: 'rock',\n",
       " 4: 'blues',\n",
       " 5: 'reggae',\n",
       " 6: 'pop'}"
      ]
     },
     "execution_count": 43,
     "metadata": {},
     "output_type": "execute_result"
    }
   ],
   "source": [
    "genre_mapper = {'hip hop':0, 'jazz':1, 'country':2, 'rock':3, 'blues':4, 'reggae':5, 'pop':6}\n",
    "genre_mapper = {v: k for k, v in genre_mapper.items()}\n",
    "genre_mapper"
   ]
  },
  {
   "cell_type": "code",
   "execution_count": 44,
   "metadata": {},
   "outputs": [
    {
     "data": {
      "text/plain": [
       "35"
      ]
     },
     "execution_count": 44,
     "metadata": {},
     "output_type": "execute_result"
    }
   ],
   "source": [
    "# get the first lyrics in music_train\n",
    "len(music_train.iloc[0,0].split())"
   ]
  },
  {
   "cell_type": "code",
   "execution_count": 45,
   "metadata": {},
   "outputs": [
    {
     "data": {
      "text/plain": [
       "array([ 35,  66,  74, ...,  51,  92, 127])"
      ]
     },
     "execution_count": 45,
     "metadata": {},
     "output_type": "execute_result"
    }
   ],
   "source": [
    "lyric_length_distribution = music_train['lyrics'].apply(lambda r: len(r.split())).values\n",
    "lyric_length_distribution"
   ]
  },
  {
   "cell_type": "code",
   "execution_count": 46,
   "metadata": {},
   "outputs": [],
   "source": [
    "# generate synthetic data based on topic distribution\n",
    "def generate_data(n_samples_per_genre):\n",
    "  lyric_length_distribution = music_train['lyrics'].apply(lambda r: len(r.split())).values\n",
    "  synthetic_data = []\n",
    "  for idx in range(7):\n",
    "      for _ in range(n_samples_per_genre):\n",
    "          synthetic_data.append((sample_from_topic(idx, np.random.choice(lyric_length_distribution)), genre_mapper[idx], idx))\n",
    "  return synthetic_data\n",
    "        "
   ]
  },
  {
   "cell_type": "markdown",
   "metadata": {},
   "source": [
    "> for each topic, generate 4000 data"
   ]
  },
  {
   "cell_type": "code",
   "execution_count": 74,
   "metadata": {},
   "outputs": [],
   "source": [
    "synthetic_df = pd.DataFrame(generate_data(4000), columns=['text', 'genre', 'lable'])"
   ]
  },
  {
   "cell_type": "code",
   "execution_count": 75,
   "metadata": {},
   "outputs": [],
   "source": [
    "#synthetic_df.to_csv('synthetic_data_final.csv', index=False)"
   ]
  },
  {
   "cell_type": "code",
   "execution_count": 76,
   "metadata": {},
   "outputs": [
    {
     "data": {
      "text/html": [
       "<div>\n",
       "<style scoped>\n",
       "    .dataframe tbody tr th:only-of-type {\n",
       "        vertical-align: middle;\n",
       "    }\n",
       "\n",
       "    .dataframe tbody tr th {\n",
       "        vertical-align: top;\n",
       "    }\n",
       "\n",
       "    .dataframe thead th {\n",
       "        text-align: right;\n",
       "    }\n",
       "</style>\n",
       "<table border=\"1\" class=\"dataframe\">\n",
       "  <thead>\n",
       "    <tr style=\"text-align: right;\">\n",
       "      <th></th>\n",
       "      <th>text</th>\n",
       "      <th>genre</th>\n",
       "      <th>lable</th>\n",
       "    </tr>\n",
       "  </thead>\n",
       "  <tbody>\n",
       "    <tr>\n",
       "      <th>0</th>\n",
       "      <td>bucket vibe hood coast like funny dont wanna s...</td>\n",
       "      <td>hip hop</td>\n",
       "      <td>0</td>\n",
       "    </tr>\n",
       "    <tr>\n",
       "      <th>1</th>\n",
       "      <td>movies machine phone undergo fuck girl wild ca...</td>\n",
       "      <td>hip hop</td>\n",
       "      <td>0</td>\n",
       "    </tr>\n",
       "    <tr>\n",
       "      <th>2</th>\n",
       "      <td>people check fool feel burn jewelry right slat...</td>\n",
       "      <td>hip hop</td>\n",
       "      <td>0</td>\n",
       "    </tr>\n",
       "    <tr>\n",
       "      <th>3</th>\n",
       "      <td>watch come feel empire government compilation ...</td>\n",
       "      <td>hip hop</td>\n",
       "      <td>0</td>\n",
       "    </tr>\n",
       "    <tr>\n",
       "      <th>4</th>\n",
       "      <td>chain like real world touch close bring today ...</td>\n",
       "      <td>hip hop</td>\n",
       "      <td>0</td>\n",
       "    </tr>\n",
       "  </tbody>\n",
       "</table>\n",
       "</div>"
      ],
      "text/plain": [
       "                                                text    genre  lable\n",
       "0  bucket vibe hood coast like funny dont wanna s...  hip hop      0\n",
       "1  movies machine phone undergo fuck girl wild ca...  hip hop      0\n",
       "2  people check fool feel burn jewelry right slat...  hip hop      0\n",
       "3  watch come feel empire government compilation ...  hip hop      0\n",
       "4  chain like real world touch close bring today ...  hip hop      0"
      ]
     },
     "execution_count": 76,
     "metadata": {},
     "output_type": "execute_result"
    }
   ],
   "source": [
    "#synthetic_df.head()"
   ]
  },
  {
   "cell_type": "code",
   "execution_count": 77,
   "metadata": {},
   "outputs": [
    {
     "data": {
      "text/html": [
       "<div>\n",
       "<style scoped>\n",
       "    .dataframe tbody tr th:only-of-type {\n",
       "        vertical-align: middle;\n",
       "    }\n",
       "\n",
       "    .dataframe tbody tr th {\n",
       "        vertical-align: top;\n",
       "    }\n",
       "\n",
       "    .dataframe thead th {\n",
       "        text-align: right;\n",
       "    }\n",
       "</style>\n",
       "<table border=\"1\" class=\"dataframe\">\n",
       "  <thead>\n",
       "    <tr style=\"text-align: right;\">\n",
       "      <th></th>\n",
       "      <th>text</th>\n",
       "      <th>genre</th>\n",
       "      <th>lable</th>\n",
       "    </tr>\n",
       "  </thead>\n",
       "  <tbody>\n",
       "    <tr>\n",
       "      <th>2427</th>\n",
       "      <td>live fuck white thousand bigger crush plot mon...</td>\n",
       "      <td>hip hop</td>\n",
       "      <td>0</td>\n",
       "    </tr>\n",
       "    <tr>\n",
       "      <th>25074</th>\n",
       "      <td>thy better roads learn happiness shoot relatio...</td>\n",
       "      <td>pop</td>\n",
       "      <td>6</td>\n",
       "    </tr>\n",
       "    <tr>\n",
       "      <th>16134</th>\n",
       "      <td>head pocket shoot girls hard turn plus beat so...</td>\n",
       "      <td>blues</td>\n",
       "      <td>4</td>\n",
       "    </tr>\n",
       "    <tr>\n",
       "      <th>6174</th>\n",
       "      <td>arm need come hold want heart know make cause ...</td>\n",
       "      <td>jazz</td>\n",
       "      <td>1</td>\n",
       "    </tr>\n",
       "    <tr>\n",
       "      <th>18195</th>\n",
       "      <td>teeth want friends ship drink bang dime sound ...</td>\n",
       "      <td>blues</td>\n",
       "      <td>4</td>\n",
       "    </tr>\n",
       "    <tr>\n",
       "      <th>18521</th>\n",
       "      <td>face brain need strap selfies close booze chic...</td>\n",
       "      <td>blues</td>\n",
       "      <td>4</td>\n",
       "    </tr>\n",
       "    <tr>\n",
       "      <th>20199</th>\n",
       "      <td>know garden hear redeem people eye culture pla...</td>\n",
       "      <td>reggae</td>\n",
       "      <td>5</td>\n",
       "    </tr>\n",
       "    <tr>\n",
       "      <th>15087</th>\n",
       "      <td>want banner touch mountains hate gold right de...</td>\n",
       "      <td>rock</td>\n",
       "      <td>3</td>\n",
       "    </tr>\n",
       "    <tr>\n",
       "      <th>14155</th>\n",
       "      <td>burn soul face taste eye speak body reach fall...</td>\n",
       "      <td>rock</td>\n",
       "      <td>3</td>\n",
       "    </tr>\n",
       "    <tr>\n",
       "      <th>8808</th>\n",
       "      <td>feel send away place trouble real yeah wanna m...</td>\n",
       "      <td>country</td>\n",
       "      <td>2</td>\n",
       "    </tr>\n",
       "  </tbody>\n",
       "</table>\n",
       "</div>"
      ],
      "text/plain": [
       "                                                    text    genre  lable\n",
       "2427   live fuck white thousand bigger crush plot mon...  hip hop      0\n",
       "25074  thy better roads learn happiness shoot relatio...      pop      6\n",
       "16134  head pocket shoot girls hard turn plus beat so...    blues      4\n",
       "6174   arm need come hold want heart know make cause ...     jazz      1\n",
       "18195  teeth want friends ship drink bang dime sound ...    blues      4\n",
       "18521  face brain need strap selfies close booze chic...    blues      4\n",
       "20199  know garden hear redeem people eye culture pla...   reggae      5\n",
       "15087  want banner touch mountains hate gold right de...     rock      3\n",
       "14155  burn soul face taste eye speak body reach fall...     rock      3\n",
       "8808   feel send away place trouble real yeah wanna m...  country      2"
      ]
     },
     "execution_count": 77,
     "metadata": {},
     "output_type": "execute_result"
    }
   ],
   "source": [
    "syn = pd.read_csv('synthetic_data_final.csv')\n",
    "syn.sample(10)"
   ]
  },
  {
   "cell_type": "code",
   "execution_count": 78,
   "metadata": {},
   "outputs": [],
   "source": [
    "syn_train, syn_test = train_test_split(syn, test_size=0.2, random_state=42)"
   ]
  },
  {
   "cell_type": "code",
   "execution_count": 79,
   "metadata": {},
   "outputs": [
    {
     "data": {
      "text/html": [
       "<div>\n",
       "<style scoped>\n",
       "    .dataframe tbody tr th:only-of-type {\n",
       "        vertical-align: middle;\n",
       "    }\n",
       "\n",
       "    .dataframe tbody tr th {\n",
       "        vertical-align: top;\n",
       "    }\n",
       "\n",
       "    .dataframe thead th {\n",
       "        text-align: right;\n",
       "    }\n",
       "</style>\n",
       "<table border=\"1\" class=\"dataframe\">\n",
       "  <thead>\n",
       "    <tr style=\"text-align: right;\">\n",
       "      <th></th>\n",
       "      <th>text</th>\n",
       "      <th>genre</th>\n",
       "      <th>lable</th>\n",
       "    </tr>\n",
       "  </thead>\n",
       "  <tbody>\n",
       "    <tr>\n",
       "      <th>3953</th>\n",
       "      <td>cause pull elevate project bitch response fire...</td>\n",
       "      <td>hip hop</td>\n",
       "      <td>0</td>\n",
       "    </tr>\n",
       "    <tr>\n",
       "      <th>7640</th>\n",
       "      <td>lose heart right true prayer heart star cause ...</td>\n",
       "      <td>jazz</td>\n",
       "      <td>1</td>\n",
       "    </tr>\n",
       "    <tr>\n",
       "      <th>2085</th>\n",
       "      <td>clear tall cruise bring hungry bitch throw tal...</td>\n",
       "      <td>hip hop</td>\n",
       "      <td>0</td>\n",
       "    </tr>\n",
       "    <tr>\n",
       "      <th>14263</th>\n",
       "      <td>nerve feel hand fault cold surely enter danger...</td>\n",
       "      <td>rock</td>\n",
       "      <td>3</td>\n",
       "    </tr>\n",
       "    <tr>\n",
       "      <th>6134</th>\n",
       "      <td>convergence begin leave come tonight close lea...</td>\n",
       "      <td>jazz</td>\n",
       "      <td>1</td>\n",
       "    </tr>\n",
       "    <tr>\n",
       "      <th>...</th>\n",
       "      <td>...</td>\n",
       "      <td>...</td>\n",
       "      <td>...</td>\n",
       "    </tr>\n",
       "    <tr>\n",
       "      <th>21575</th>\n",
       "      <td>song london remember book home roll coal borde...</td>\n",
       "      <td>reggae</td>\n",
       "      <td>5</td>\n",
       "    </tr>\n",
       "    <tr>\n",
       "      <th>5390</th>\n",
       "      <td>tire baby dark forever dream world crocodile l...</td>\n",
       "      <td>jazz</td>\n",
       "      <td>1</td>\n",
       "    </tr>\n",
       "    <tr>\n",
       "      <th>860</th>\n",
       "      <td>school tooth like life different cause heir lo...</td>\n",
       "      <td>hip hop</td>\n",
       "      <td>0</td>\n",
       "    </tr>\n",
       "    <tr>\n",
       "      <th>15795</th>\n",
       "      <td>hill head race bare useless course reckless ow...</td>\n",
       "      <td>rock</td>\n",
       "      <td>3</td>\n",
       "    </tr>\n",
       "    <tr>\n",
       "      <th>23654</th>\n",
       "      <td>sing dream lord sing listen makers play dine b...</td>\n",
       "      <td>reggae</td>\n",
       "      <td>5</td>\n",
       "    </tr>\n",
       "  </tbody>\n",
       "</table>\n",
       "<p>22400 rows × 3 columns</p>\n",
       "</div>"
      ],
      "text/plain": [
       "                                                    text    genre  lable\n",
       "3953   cause pull elevate project bitch response fire...  hip hop      0\n",
       "7640   lose heart right true prayer heart star cause ...     jazz      1\n",
       "2085   clear tall cruise bring hungry bitch throw tal...  hip hop      0\n",
       "14263  nerve feel hand fault cold surely enter danger...     rock      3\n",
       "6134   convergence begin leave come tonight close lea...     jazz      1\n",
       "...                                                  ...      ...    ...\n",
       "21575  song london remember book home roll coal borde...   reggae      5\n",
       "5390   tire baby dark forever dream world crocodile l...     jazz      1\n",
       "860    school tooth like life different cause heir lo...  hip hop      0\n",
       "15795  hill head race bare useless course reckless ow...     rock      3\n",
       "23654  sing dream lord sing listen makers play dine b...   reggae      5\n",
       "\n",
       "[22400 rows x 3 columns]"
      ]
     },
     "execution_count": 79,
     "metadata": {},
     "output_type": "execute_result"
    }
   ],
   "source": [
    "syn_train"
   ]
  },
  {
   "cell_type": "code",
   "execution_count": 80,
   "metadata": {},
   "outputs": [
    {
     "name": "stderr",
     "output_type": "stream",
     "text": [
      "/opt/miniconda3/lib/python3.10/site-packages/sklearn/feature_extraction/text.py:1330: UserWarning: Upper case characters found in vocabulary while 'lowercase' is True. These entries will not be matched with any documents\n",
      "  warnings.warn(\n"
     ]
    }
   ],
   "source": [
    "syn_train1 = cv.fit_transform(syn_train['text'].tolist())"
   ]
  },
  {
   "cell_type": "code",
   "execution_count": 81,
   "metadata": {},
   "outputs": [
    {
     "data": {
      "text/html": [
       "<div>\n",
       "<style scoped>\n",
       "    .dataframe tbody tr th:only-of-type {\n",
       "        vertical-align: middle;\n",
       "    }\n",
       "\n",
       "    .dataframe tbody tr th {\n",
       "        vertical-align: top;\n",
       "    }\n",
       "\n",
       "    .dataframe thead th {\n",
       "        text-align: right;\n",
       "    }\n",
       "</style>\n",
       "<table border=\"1\" class=\"dataframe\">\n",
       "  <thead>\n",
       "    <tr style=\"text-align: right;\">\n",
       "      <th></th>\n",
       "      <th>text</th>\n",
       "      <th>genre</th>\n",
       "      <th>lable</th>\n",
       "      <th>topic</th>\n",
       "    </tr>\n",
       "  </thead>\n",
       "  <tbody>\n",
       "    <tr>\n",
       "      <th>3953</th>\n",
       "      <td>cause pull elevate project bitch response fire...</td>\n",
       "      <td>hip hop</td>\n",
       "      <td>0</td>\n",
       "      <td>0</td>\n",
       "    </tr>\n",
       "    <tr>\n",
       "      <th>7640</th>\n",
       "      <td>lose heart right true prayer heart star cause ...</td>\n",
       "      <td>jazz</td>\n",
       "      <td>1</td>\n",
       "      <td>1</td>\n",
       "    </tr>\n",
       "    <tr>\n",
       "      <th>2085</th>\n",
       "      <td>clear tall cruise bring hungry bitch throw tal...</td>\n",
       "      <td>hip hop</td>\n",
       "      <td>0</td>\n",
       "      <td>0</td>\n",
       "    </tr>\n",
       "    <tr>\n",
       "      <th>14263</th>\n",
       "      <td>nerve feel hand fault cold surely enter danger...</td>\n",
       "      <td>rock</td>\n",
       "      <td>3</td>\n",
       "      <td>3</td>\n",
       "    </tr>\n",
       "    <tr>\n",
       "      <th>6134</th>\n",
       "      <td>convergence begin leave come tonight close lea...</td>\n",
       "      <td>jazz</td>\n",
       "      <td>1</td>\n",
       "      <td>1</td>\n",
       "    </tr>\n",
       "  </tbody>\n",
       "</table>\n",
       "</div>"
      ],
      "text/plain": [
       "                                                    text    genre  lable  \\\n",
       "3953   cause pull elevate project bitch response fire...  hip hop      0   \n",
       "7640   lose heart right true prayer heart star cause ...     jazz      1   \n",
       "2085   clear tall cruise bring hungry bitch throw tal...  hip hop      0   \n",
       "14263  nerve feel hand fault cold surely enter danger...     rock      3   \n",
       "6134   convergence begin leave come tonight close lea...     jazz      1   \n",
       "\n",
       "       topic  \n",
       "3953       0  \n",
       "7640       1  \n",
       "2085       0  \n",
       "14263      3  \n",
       "6134       1  "
      ]
     },
     "execution_count": 81,
     "metadata": {},
     "output_type": "execute_result"
    }
   ],
   "source": [
    "# get topic distribution for each document\n",
    "# find the topic with the highest probability\n",
    "# and assign it to the document\n",
    "topic_dist = lda.transform(syn_train1)\n",
    "topic_labels = topic_dist.argmax(axis=1)\n",
    "#put topic labels back to the original dataframe\n",
    "syn_train['topic'] = topic_labels\n",
    "syn_train.head()#get the topic distribution of the synthetic data\n"
   ]
  },
  {
   "cell_type": "code",
   "execution_count": 82,
   "metadata": {},
   "outputs": [
    {
     "name": "stdout",
     "output_type": "stream",
     "text": [
      "pop correct:  0.9993714644877436\n",
      "country correct:  0.9993753903810119\n",
      "blues correct:  0.9981544140264534\n",
      "jazz correct:  0.9993744135126681\n",
      "reggae correct:  0.9990536277602524\n",
      "rock correct:  0.9993728441517717\n",
      "hiphop correct:  0.9993767528825179\n"
     ]
    }
   ],
   "source": [
    "def percentage(df):\n",
    "    count = 0\n",
    "    for i in range(len(df)):\n",
    "        if df.iloc[i,2] == df.iloc[i,3]:\n",
    "            count += 1\n",
    "    return count/len(df)\n",
    "\n",
    "pop = syn_train[syn_train['genre'] == 'pop']\n",
    "country = syn_train[syn_train['genre'] == 'country']\n",
    "blues = syn_train[syn_train['genre'] == 'blues']\n",
    "jazz = syn_train[syn_train['genre'] == 'jazz']\n",
    "reggae = syn_train[syn_train['genre'] == 'reggae']\n",
    "rock = syn_train[syn_train['genre'] == 'rock']\n",
    "hiphop = syn_train[syn_train['genre'] == 'hip hop']\n",
    "\n",
    "print(\"pop correct: \" , percentage(pop))\n",
    "print(\"country correct: \" ,percentage(country))\n",
    "print(\"blues correct: \" ,percentage(blues))\n",
    "print(\"jazz correct: \" ,percentage(jazz))\n",
    "print(\"reggae correct: \" ,percentage(reggae))\n",
    "print(\"rock correct: \" ,percentage(rock))\n",
    "print(\"hiphop correct: \" ,percentage(hiphop))"
   ]
  },
  {
   "cell_type": "code",
   "execution_count": null,
   "metadata": {},
   "outputs": [],
   "source": []
  }
 ],
 "metadata": {
  "kernelspec": {
   "display_name": "Python 3.10.6 ('base')",
   "language": "python",
   "name": "python3"
  },
  "language_info": {
   "codemirror_mode": {
    "name": "ipython",
    "version": 3
   },
   "file_extension": ".py",
   "mimetype": "text/x-python",
   "name": "python",
   "nbconvert_exporter": "python",
   "pygments_lexer": "ipython3",
   "version": "3.10.6"
  },
  "orig_nbformat": 4,
  "vscode": {
   "interpreter": {
    "hash": "3d597f4c481aa0f25dceb95d2a0067e73c0966dcbd003d741d821a7208527ecf"
   }
  }
 },
 "nbformat": 4,
 "nbformat_minor": 2
}
